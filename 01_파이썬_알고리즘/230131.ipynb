{
 "cells": [
  {
   "cell_type": "markdown",
   "id": "76ef59bb-eff4-4b93-9e89-0372fa5baa15",
   "metadata": {},
   "source": [
    "## 자료구조 복습\n",
    "\n",
    "- heapq는 우선순위가 있는 큐이다.\n",
    "- array는 list, map은 dictionary이다."
   ]
  },
  {
   "cell_type": "markdown",
   "id": "6986c361-023b-477d-977c-f3cccf428816",
   "metadata": {},
   "source": [
    "- tree를 표현하는 방법에는 list, matrix 2가지가 있다.\n",
    "    - matrix 활용시 장점: 자료를 찾기 쉽다.\n",
    "    - list 활용시 장점: 자료 저장하기 위한 공간을 덜 사용한다."
   ]
  },
  {
   "cell_type": "markdown",
   "id": "b24cbaf2-b3ee-4f2e-902e-cbe7ce39c86c",
   "metadata": {},
   "source": [
    "<탐색>\n",
    "- 어떤 탐색으로 문제를 풀어야 하는지 잘 찾도록 노력하기!\n",
    "- 완전 탐색: 반드시 답을 찾을 수 있다. 시간복잡도 O(N^2)\n",
    "- 그리디: 미래를 생각하지 않고 매 순간마다 최선의 경우만 골라간다. 대표적인 ex) 잔돈을 거슬러 줄 때 큰 동전으로만 먼저 거슬러 준다."
   ]
  },
  {
   "cell_type": "markdown",
   "id": "a56fe27f-2ba8-4323-9194-fa36a41bae90",
   "metadata": {},
   "source": [
    "< Queue vs Stack >\n",
    "- DFS, BFS를 위해서 큐와 스택의 구조 잘 이해하기\n",
    "- 큐와 스택은 반대 개념이라고 생각하는게 가장 직관적인 이해!\n",
    "- DFS는 스택, BFS는 큐를 사용한다."
   ]
  },
  {
   "cell_type": "markdown",
   "id": "7d35a8f3-9bf3-4d10-9786-46f0dd53f796",
   "metadata": {},
   "source": [
    "< DFS >\n",
    "- 노드를 방문했는지 체크하는 리스트가 꼭 있어야 한다."
   ]
  },
  {
   "cell_type": "markdown",
   "id": "db09985f-443a-4cd0-ae01-fb9f43946327",
   "metadata": {},
   "source": [
    "230131"
   ]
  },
  {
   "cell_type": "markdown",
   "id": "ed409c39-acfa-4e03-b6cc-301b5bf3f7c8",
   "metadata": {},
   "source": [
    "# BFS\n",
    "- `가까운 노드`를 먼저 방문하면서 탐색하는 알고리즘\n",
    "- 최단 경로\n",
    "- DFS 같은 경우에는 운빨이 약간 작용해야 최단 경로를 빠르게 찾을 수 있다.(정한 방향이 맞는지 모르기 때문에)\n",
    "- 방문한 노드를 체크하기 위한 리스트가 필요한다.\n",
    "- 그래프를 인접 리스트로 표현 but 탐색을 위해 `큐`를 사용한다."
   ]
  },
  {
   "cell_type": "code",
   "execution_count": 7,
   "id": "b72c230b-1933-467e-8988-e88f37e3f8e5",
   "metadata": {},
   "outputs": [],
   "source": [
    "from collections import deque\n",
    "node_num = 13\n",
    "adj = [[0] * node_num for _ in range(node_num)]\n",
    "\n",
    "adj[0][1] = adj[0][7] = 1\n",
    "adj[1][2] = adj[1][5] = 1\n",
    "\n",
    "def bfs():\n",
    "    dq = deque()\n",
    "    dq.append(0)\n",
    "    while dq:\n",
    "        print(dq)\n",
    "        now = dq.popleft()\n",
    "        for next in range(node_num):\n",
    "            if adj[now][next]:\n",
    "                dq.append(next)"
   ]
  },
  {
   "cell_type": "code",
   "execution_count": 8,
   "id": "026294a7-62bb-424e-b530-538640df18f2",
   "metadata": {},
   "outputs": [
    {
     "name": "stdout",
     "output_type": "stream",
     "text": [
      "deque([0])\n",
      "deque([1, 7])\n",
      "deque([7, 2, 5])\n",
      "deque([2, 5])\n",
      "deque([5])\n"
     ]
    }
   ],
   "source": [
    "bfs()"
   ]
  },
  {
   "cell_type": "code",
   "execution_count": null,
   "id": "1c494894-72ec-40a8-8355-77e1b9d3d357",
   "metadata": {},
   "outputs": [],
   "source": []
  },
  {
   "cell_type": "code",
   "execution_count": 9,
   "id": "f1e4e38c-7317-4469-8181-4d88c2a06553",
   "metadata": {},
   "outputs": [],
   "source": [
    "from collections import deque\n",
    "node_num = 13\n",
    "adj = [[0] * node_num for _ in range(node_num)]\n",
    "\n",
    "adj[0][1] = adj[0][7] = 1\n",
    "adj[1][2] = adj[1][5] = 1\n",
    "adj[5][4] = adj[5][7] = 1\n",
    "\n",
    "def bfs():\n",
    "    dq = deque()\n",
    "    dq.append(0)\n",
    "    while dq:\n",
    "        print(dq)\n",
    "        now = dq.popleft()\n",
    "        for next in range(node_num):\n",
    "            if adj[now][next]:\n",
    "                dq.append(next)"
   ]
  },
  {
   "cell_type": "code",
   "execution_count": 10,
   "id": "316fe4ce-339d-46f2-bca2-d69224c08690",
   "metadata": {},
   "outputs": [
    {
     "name": "stdout",
     "output_type": "stream",
     "text": [
      "deque([0])\n",
      "deque([1, 7])\n",
      "deque([7, 2, 5])\n",
      "deque([2, 5])\n",
      "deque([5])\n",
      "deque([4, 7])\n",
      "deque([7])\n"
     ]
    }
   ],
   "source": [
    "bfs()"
   ]
  },
  {
   "cell_type": "markdown",
   "id": "d2cd7a7d-1d24-4013-8943-3176f02f25a9",
   "metadata": {},
   "source": [
    "## BFS Quiz"
   ]
  },
  {
   "cell_type": "markdown",
   "id": "eb538653-1b56-4e11-aee2-25ef3b7d5943",
   "metadata": {},
   "source": [
    "1. 현재 position이 (N,M)보다 크면 안된다.\n",
    "2. 1일때만 이동할 수 있다. (1=True)\n",
    "3. 이동할 수 있는 방향은 상하좌우(y축 한칸, x축 한칸)"
   ]
  },
  {
   "cell_type": "code",
   "execution_count": null,
   "id": "7835a3fc-25cc-403c-949e-43f0525392a3",
   "metadata": {},
   "outputs": [],
   "source": [
    "# 1. 좌표의 이동은 N,M을 넘을 수 없다.\n",
    "# 2. '1'인 위치에만 이동할 수 있다.\n",
    "# 3. 상하(Y)좌우(X)로 이동할 수 있다. > (1,0), (-1,0), (0,-1), (0,1)"
   ]
  },
  {
   "cell_type": "code",
   "execution_count": 5,
   "id": "629b421c-d6bd-4ac0-9d2b-61a13069d8d8",
   "metadata": {},
   "outputs": [
    {
     "name": "stdin",
     "output_type": "stream",
     "text": [
      " 4 6\n",
      " 101111\n",
      " 101010\n",
      " 101011\n",
      " 111011\n"
     ]
    },
    {
     "name": "stdout",
     "output_type": "stream",
     "text": [
      "0 0 1\n",
      "0 1 2\n",
      "0 2 3\n",
      "0 3 4\n",
      "1 3 5\n",
      "2 3 6\n",
      "2 2 7\n",
      "2 1 8\n",
      "2 0 9\n",
      "3 0 10\n",
      "4 0 11\n",
      "4 0 11\n",
      "4 1 12\n",
      "4 2 13\n",
      "4 2 13\n",
      "5 2 14\n",
      "15\n"
     ]
    }
   ],
   "source": [
    "from collections import deque\n",
    "\n",
    "# input부터 구현\n",
    "N, M = map(int, input().split())\n",
    "board = [input() for _ in range(N)] # int(input())하면 board[0][1] 이렇게 인덱싱x\n",
    "# (우,상,좌,하) 얼마나 변화했는지 \n",
    "dx = (1,0,-1,0) \n",
    "dy = (0,1,0,-1)\n",
    "\n",
    "# board size = (N,M) > (N,M) 넘어서는 안됨\n",
    "def is_valid_coord(y,x):\n",
    "    # 0 <= y < n\n",
    "    # 0 <= x < m\n",
    "    return (0 <= y < N) and (0 <= x < M) # 괄호를 꼭 해주자! \n",
    "\n",
    "def bfs():\n",
    "    chk = [[False] * M for _ in range(N)]\n",
    "    chk[0][0] = True # 시작점은 가니까!\n",
    "    dq = deque()\n",
    "    dq.append((0,0,1)) # (0,0)에서 시작. 이건 1번 간거야\n",
    "    while dq:\n",
    "        y, x, d = dq.popleft() # y, x, 이동횟수 > 갈 수 있는 동력원을 만듦\n",
    "        \n",
    "        # (N,.M)일때, 목적지에 도착했을 때, while문 멈추기\n",
    "        if y == N-1 and x == M-1:\n",
    "            return d\n",
    "        \n",
    "        nd = d + 1\n",
    "        # for문으로 갔는지 check해주기\n",
    "        # Move\n",
    "        for k in range(4): # 상하좌우. 4방향만 체크해주면 되니까! / ny,nx 현재 위치가 어딘지.. ?\n",
    "            ny = y + dy[k]\n",
    "            nx = x + dx[k]\n",
    "            if is_valid_coord(ny, nx) and board[ny][nx] == '1' and not chk[ny][nx]: # 얘가 True일때만 / and not chk[ny][nx] > 얘가 False일때\n",
    "                print(x, y, d)\n",
    "                chk[ny][nx] = True # 방문체크\n",
    "                dq.append((ny,nx,nd))\n",
    "print(bfs())"
   ]
  },
  {
   "cell_type": "markdown",
   "id": "5d7e6cf0-77c7-444d-bbd3-c1578fc58aac",
   "metadata": {},
   "source": [
    "- 그림으로 설명한거 O(핸드폰 사진)"
   ]
  },
  {
   "cell_type": "code",
   "execution_count": null,
   "id": "32259446-6da4-4f5a-8ae0-351ffb3e5e66",
   "metadata": {},
   "outputs": [],
   "source": []
  },
  {
   "cell_type": "markdown",
   "id": "a1fc4651-4b46-4493-a7a1-2e2a46a02976",
   "metadata": {},
   "source": [
    "- Data Job\n",
    "- data analyst, data engineer, data scientist\n",
    "- data analyst는 비즈니스적 성향이 더 강하고, data engineer는 개발 성향이 더 강하다.\n",
    "- 도메인 지식 중요!\n",
    "- 데이터 분석가: 1) 분석/시각화 2) 모델학습\n",
    "- ML/AI engineer: 1) 모델학습 2) 데이터정제 3) 분석/시각화 4) 서비스 배포\n",
    "- data scientist: 거의 다 잘함..\n",
    "- 이 수업 듣는 살마들 데이터 분석가 or ML/AI Engineer"
   ]
  },
  {
   "cell_type": "markdown",
   "id": "7bdd69b5-00f3-46eb-9bcc-cd15a5128003",
   "metadata": {},
   "source": [
    "# Binary Search(이진탐색)\n",
    "- `데이터가 정렬되어 있는 상태`에서 원하는 값을 찾아내는 알고리즘\n",
    "- 완전탐색보다 시간이 아무래도 덜 걸린다."
   ]
  },
  {
   "cell_type": "markdown",
   "id": "db06bc66-2565-456f-bdcf-ac3c0b77345a",
   "metadata": {},
   "source": [
    "## Binary Search Quiz(1)"
   ]
  },
  {
   "cell_type": "code",
   "execution_count": 17,
   "id": "ecd9d275-f7ea-4d70-aec9-f30d647c8b35",
   "metadata": {},
   "outputs": [
    {
     "name": "stdin",
     "output_type": "stream",
     "text": [
      " 4\n",
      " 120 110 140 150\n",
      " 485\n"
     ]
    },
    {
     "name": "stdout",
     "output_type": "stream",
     "text": [
      "low : 0, mid : 75, high : 150\n",
      "target : 300, total : 485\n",
      "low : 76, mid : 113, high : 150\n",
      "target : 449, total : 485\n",
      "low : 114, mid : 132, high : 150\n",
      "target : 494, total : 485\n",
      "low : 114, mid : 122, high : 131\n",
      "target : 474, total : 485\n",
      "low : 123, mid : 127, high : 131\n",
      "target : 484, total : 485\n",
      "low : 128, mid : 129, high : 131\n",
      "target : 488, total : 485\n",
      "low : 128, mid : 128, high : 128\n",
      "target : 486, total : 485\n",
      "127\n"
     ]
    }
   ],
   "source": [
    "N = int(input()) # 지방의 수\n",
    "req = list(map(int, input().split())) # 지방에서 요청한 금액\n",
    "M = int(input()) # 국가 총 예산\n",
    "\n",
    "low = 0\n",
    "high = max(req)\n",
    "mid = (low + high) // 2 # 상한액(target)\n",
    "\n",
    "while low <= high:\n",
    "    req_sum = sum(min(mid, r) for r in req)\n",
    "    # print(f'low : {low}, mid : {mid}, high : {high}')\n",
    "    # print(f'req_sum : {req_sum}, total : {M}')\n",
    "    if req_sum <= M:\n",
    "        low = mid + 1\n",
    "    else:\n",
    "        high = mid - 1\n",
    "    mid = (low + high) // 2\n",
    "print(mid)"
   ]
  },
  {
   "cell_type": "markdown",
   "id": "ddb613a9-e3c5-471b-9d21-6a47529e1f52",
   "metadata": {},
   "source": [
    "- 그림 있음(핸드폰 사진)"
   ]
  },
  {
   "cell_type": "markdown",
   "id": "6111af5e-6d11-4741-b192-88982030d59c",
   "metadata": {},
   "source": [
    "## Binary Search Quiz(2)"
   ]
  },
  {
   "cell_type": "markdown",
   "id": "2339138f-af28-40dd-ae6a-832b01d76cf8",
   "metadata": {},
   "source": [
    "- 문제 이해부터 잘 안됐음.."
   ]
  },
  {
   "cell_type": "markdown",
   "id": "ffb358b2-2af5-4b43-b912-db90e59651b1",
   "metadata": {},
   "source": [
    "- 밑에 있는 숫자들이(M_list) 있는지! N_list에 있는지"
   ]
  },
  {
   "cell_type": "markdown",
   "id": "4ebf4ef1-3280-4a08-93b9-e06370b11573",
   "metadata": {},
   "source": [
    "- 완전탐색으로 풀 수도 있지만 범위가 커질수록 이진탐색이 훨씬 빠름!"
   ]
  },
  {
   "cell_type": "code",
   "execution_count": 20,
   "id": "fab6cc82-f33a-453e-9f46-394daecfa983",
   "metadata": {},
   "outputs": [
    {
     "name": "stdin",
     "output_type": "stream",
     "text": [
      " 5\n",
      " 4 1 5 2 3\n",
      " 5\n",
      " 1 3 7 9 5\n"
     ]
    },
    {
     "name": "stdout",
     "output_type": "stream",
     "text": [
      "1\n",
      "1\n",
      "0\n",
      "0\n",
      "1\n"
     ]
    }
   ],
   "source": [
    "N = int(input())\n",
    "N_list = sorted(list(map(int, input().split())))\n",
    "\n",
    "M = int(input())\n",
    "M_list = list(map(int, input().split()))\n",
    "\n",
    "for target in M_list:\n",
    "    find = False         # find를 True로 바꿔주도록 로직을 짜면 됨\n",
    "    low = min(N_list)\n",
    "    high = max(N_list)\n",
    "    while low <= high:\n",
    "        mid = int((low + high) / 2) # BS(이진탐색): mid보다 위에 있냐, 아래있냐 따라서 설정\n",
    "        if mid > target:\n",
    "            high = mid - 1\n",
    "        elif mid < target:\n",
    "            low = mid + 1\n",
    "        else:\n",
    "            find = True\n",
    "            break\n",
    "    if find:\n",
    "        print(1)\n",
    "    else:\n",
    "        print(0)"
   ]
  },
  {
   "cell_type": "markdown",
   "id": "5a276add-2bfb-4160-8c93-ab9723aae4a6",
   "metadata": {},
   "source": [
    "# 동적계획법"
   ]
  },
  {
   "cell_type": "markdown",
   "id": "4de21875-3bc4-4f62-87fe-9e8e1671663b",
   "metadata": {},
   "source": [
    "- `Dynamic Programming` 동적계획법\n",
    "- `일반화` 시킬 수 있느냐, `함수`로 정의해서 문제를 어떻게 풀거냐!\n",
    "- 메모이제이션: 합배열 한거랑 비슷한 느낌. 캐싱(이미 계산 한거는 어디다 저장해서 저장된걸 그대로 쓰겠다는 것! ex.홈페이지 들어갈 때..)\n",
    "- DP테이블 한다 = 캐싱한다 ( 여러번 쓰이는 값, 계산을 DP테이블 만들어서 저장해줌!)"
   ]
  },
  {
   "cell_type": "markdown",
   "id": "825772a9-8b3c-4f5a-980a-8b7c162641c6",
   "metadata": {},
   "source": [
    "## Fibonacci number Quiz"
   ]
  },
  {
   "cell_type": "code",
   "execution_count": 33,
   "id": "ddb14742-7005-4440-8563-b0ef202a3024",
   "metadata": {},
   "outputs": [
    {
     "name": "stdin",
     "output_type": "stream",
     "text": [
      " 35\n"
     ]
    },
    {
     "name": "stdout",
     "output_type": "stream",
     "text": [
      "9227465\n"
     ]
    }
   ],
   "source": [
    "# 내 풀이\n",
    "# 수학적 일반화를 통해서만 품. 캐싱 활용x 저장할 리스트 만들어서 한거니까 캐싱한건가?!\n",
    "\n",
    "N = int(input())\n",
    "fibo_nums = []\n",
    "fibo_nums.append(0)\n",
    "fibo_nums.append(1)\n",
    "\n",
    "for i in range(N - 1):\n",
    "    num = fibo_nums[i] + fibo_nums[i+1]\n",
    "    fibo_nums.append(num)\n",
    "print(fibo_nums[-1])"
   ]
  },
  {
   "cell_type": "code",
   "execution_count": null,
   "id": "a7c0db4f-c33e-4b47-9bf2-f4b3c7cd74e7",
   "metadata": {},
   "outputs": [],
   "source": []
  },
  {
   "cell_type": "code",
   "execution_count": 32,
   "id": "f4b51529-d34e-45c2-a38e-9c5566f2e4c8",
   "metadata": {},
   "outputs": [
    {
     "name": "stdin",
     "output_type": "stream",
     "text": [
      " 35\n"
     ]
    },
    {
     "data": {
      "text/plain": [
       "9227465"
      ]
     },
     "execution_count": 32,
     "metadata": {},
     "output_type": "execute_result"
    }
   ],
   "source": [
    "# 강사님 풀이\n",
    "# 캐싱 활용x\n",
    "\n",
    "def f(n):\n",
    "    if n == 0:\n",
    "        return 0 \n",
    "    elif n == 1:\n",
    "        return 1\n",
    "    return f(n-1) + f(n-2)\n",
    "f(int(input()))"
   ]
  },
  {
   "cell_type": "code",
   "execution_count": 37,
   "id": "54931f52-4cb0-40cf-9559-966a3e8fcb23",
   "metadata": {},
   "outputs": [
    {
     "name": "stdin",
     "output_type": "stream",
     "text": [
      " 35\n"
     ]
    },
    {
     "data": {
      "text/plain": [
       "9227465"
      ]
     },
     "execution_count": 37,
     "metadata": {},
     "output_type": "execute_result"
    }
   ],
   "source": [
    "# Top - Down\n",
    "# 재귀함수\n",
    "# f(n) -> f(0)\n",
    "\n",
    "# cache를 저장할 공간(리스트) 만들기\n",
    "cache = [-1] * 91\n",
    "cache[0] = 0\n",
    "cache[1] = 1\n",
    "\n",
    "def f(n):\n",
    "    # cache를 계속 채워 나가면서 return해야 함\n",
    "    if cache[n] == -1:\n",
    "        cache[n] = f(n-1) + f(n-2)\n",
    "    return cache[n]\n",
    "f(int(input()))"
   ]
  },
  {
   "cell_type": "code",
   "execution_count": 36,
   "id": "8ce3440e-22ed-488b-9113-d97806c04e87",
   "metadata": {},
   "outputs": [
    {
     "name": "stdin",
     "output_type": "stream",
     "text": [
      " 35\n"
     ]
    },
    {
     "name": "stdout",
     "output_type": "stream",
     "text": [
      "9227465\n"
     ]
    }
   ],
   "source": [
    "# Bottom - Up\n",
    "# 반복문(for문)\n",
    "# f(0) -> f(n)\n",
    "\n",
    "N = int(input())\n",
    "cache = [-1] * 91\n",
    "cache[0] = 0\n",
    "cache[1] = 1\n",
    "\n",
    "for i in range(2, N + 1):\n",
    "    cache[i] = cache[i - 1] + cache[i - 2]\n",
    "print(cache[N])"
   ]
  },
  {
   "cell_type": "markdown",
   "id": "8ff46d15-17b0-4d9e-bb64-9e63eafa928b",
   "metadata": {},
   "source": [
    "- 연산횟수 비교해보기\n",
    "- global로 알아보기"
   ]
  },
  {
   "cell_type": "code",
   "execution_count": 37,
   "id": "482334e6-1a48-4b7e-be4e-0c7ea2c5e528",
   "metadata": {},
   "outputs": [
    {
     "name": "stdin",
     "output_type": "stream",
     "text": [
      " 35\n"
     ]
    },
    {
     "data": {
      "text/plain": [
       "9227465"
      ]
     },
     "execution_count": 37,
     "metadata": {},
     "output_type": "execute_result"
    }
   ],
   "source": [
    "# Top - Down\n",
    "\n",
    "cache = [-1] * 91\n",
    "cache[0] = 0\n",
    "cache[1] = 1\n",
    "\n",
    "def f(n):\n",
    "    if cache[n] == -1:\n",
    "        cache[n] = f(n-1) + f(n-2)\n",
    "    return cache[n]\n",
    "f(int(input()))"
   ]
  },
  {
   "cell_type": "code",
   "execution_count": 36,
   "id": "bca0d670-6b10-44f7-8dab-c7209a20b6fd",
   "metadata": {},
   "outputs": [
    {
     "name": "stdin",
     "output_type": "stream",
     "text": [
      " 35\n"
     ]
    },
    {
     "name": "stdout",
     "output_type": "stream",
     "text": [
      "9227465\n"
     ]
    }
   ],
   "source": [
    "# Bottom - Up\n",
    "# 반복문(for문)\n",
    "# f(0) -> f(n)\n",
    "\n",
    "N = int(input())\n",
    "cache = [-1] * 91\n",
    "cache[0] = 0\n",
    "cache[1] = 1\n",
    "\n",
    "for i in range(2, N + 1):\n",
    "    cache[i] = cache[i - 1] + cache[i - 2]\n",
    "print(cache[N])"
   ]
  },
  {
   "cell_type": "markdown",
   "id": "fc43d393-a590-484b-b06d-8669ad111c6d",
   "metadata": {},
   "source": [
    "## Combination\n",
    "- 순열: n개의 숫자 중 r개를 뽑아 `순서`를 고려해 나열할 경우의 수\n",
    "- 조합: n개의 숫자에서 r개를 뽑는 경우의 수( (1,2) = (2,1) > 이런 중복을 없애주기 위해 나눠줘야 함!)"
   ]
  },
  {
   "cell_type": "markdown",
   "id": "2bf0dc29-a6cc-4549-a032-b4e1e8a6221a",
   "metadata": {},
   "source": [
    "## Combination Quiz(1)"
   ]
  },
  {
   "cell_type": "code",
   "execution_count": 41,
   "id": "cd3b2670-cabd-4384-89f6-9d0326c37e52",
   "metadata": {},
   "outputs": [
    {
     "name": "stdin",
     "output_type": "stream",
     "text": [
      " 15 5\n"
     ]
    },
    {
     "name": "stdout",
     "output_type": "stream",
     "text": [
      "3003\n"
     ]
    }
   ],
   "source": [
    "# Top - Down(재귀)\n",
    "N, K = map(int, input().split())\n",
    "cache = [[-1] * 1001 for _ in range(1001)]\n",
    "\n",
    "def f(n, k):\n",
    "    # 없는 경우에만 cach 채워줌. > 연산횟수 훨씬 줄었다! (15,5 를 넣었을 때 6005번 > 101번)\n",
    "    if cache[n][k] != -1:\n",
    "        return cache[n][k]\n",
    "    \n",
    "    if k == 0 or k == n:\n",
    "        cache[n][k] = 1\n",
    "    else:\n",
    "        cache[n][k] = f(n-1, k-1) + f(n-1,k)\n",
    "        cache[n][k] %= 10007\n",
    "    return cache[n][k]\n",
    "print(f(N,K))"
   ]
  },
  {
   "cell_type": "code",
   "execution_count": 43,
   "id": "81f158a3-4796-4952-8e43-4e50a0b6c508",
   "metadata": {},
   "outputs": [
    {
     "name": "stdin",
     "output_type": "stream",
     "text": [
      " 15 5\n"
     ]
    },
    {
     "name": "stdout",
     "output_type": "stream",
     "text": [
      "3003\n"
     ]
    }
   ],
   "source": [
    "# Bottom - Up (반복문)\n",
    "N, K = map(int, input().split())\n",
    "cache = [[-1] * 1001 for _ in range(1001)]\n",
    "\n",
    "for n in range(1001):\n",
    "    cache[n][0] = cache[n][n] = 1\n",
    "    for k in range(1,n): # ex. 1,5 -> [1,2,3,4] >>>> n-1해줄 필요 없음(위에서 이미 처리함)\n",
    "        cache[n][k] = cache[n-1][k-1] + cache[n-1][k]\n",
    "        cache[n][k] %= 10007\n",
    "print(cache[N][K])"
   ]
  },
  {
   "cell_type": "markdown",
   "id": "054887a7-95a3-459b-b059-122906c911c8",
   "metadata": {},
   "source": [
    "## Combination Quiz(2)\n",
    "타일문제"
   ]
  },
  {
   "cell_type": "code",
   "execution_count": 3,
   "id": "6b8c420d-4bad-498d-80f9-ebc4b08febdb",
   "metadata": {},
   "outputs": [
    {
     "name": "stdin",
     "output_type": "stream",
     "text": [
      " 9\n"
     ]
    },
    {
     "name": "stdout",
     "output_type": "stream",
     "text": [
      "55\n"
     ]
    }
   ],
   "source": [
    "n = int(input())\n",
    "cache = [-1] * 1001 # 데이터를 담을 공간 만들어줌. 최대가 1000이니까 1001까지 하면 다 수용 가능\n",
    "cache[1] = 1\n",
    "cache[2] = 2\n",
    "\n",
    "# for문으로 일반화돌리기!\n",
    "for i in range(3, 1001):\n",
    "    cache[i] = (cache[i-1] + cache[i-2]) % 10007\n",
    "print(cache[n])"
   ]
  },
  {
   "cell_type": "markdown",
   "id": "79e34d85-1e65-4a72-b606-8a3f32e0170a",
   "metadata": {},
   "source": [
    "- 일반화 찾는게.. 어려워ㅜㅜㅜㅜㅜㅜㅜㅜㅜ"
   ]
  },
  {
   "cell_type": "markdown",
   "id": "1bb571fd-ab45-4821-a54e-a9caa1550868",
   "metadata": {},
   "source": [
    "## Combination Quiz(3)"
   ]
  },
  {
   "cell_type": "code",
   "execution_count": 7,
   "id": "8cb9db44-987d-4d02-8389-57882194792e",
   "metadata": {},
   "outputs": [
    {
     "name": "stdin",
     "output_type": "stream",
     "text": [
      " 30\n"
     ]
    },
    {
     "name": "stdout",
     "output_type": "stream",
     "text": [
      "365808847\n"
     ]
    }
   ],
   "source": [
    "cache = [[0] * 10 for _ in range(101)] # n x N / -1 로 하면 안됨!\n",
    "\n",
    "# 일반화\n",
    "# cache[n][d] = cache[n-1][d-1] + cache[n-1][d+1]\n",
    "\n",
    "for d in range(1, 10): # 길이가 1이고 마지막숫자가 1-9\n",
    "    cache[1][d] = 1\n",
    "    \n",
    "for n in range(2, 101):\n",
    "    for d in range(10):\n",
    "        if d == 0: # 0이 올때 cache[n-1][d+1] 얘만 적용 가능\n",
    "            cache[n][d] = cache[n-1][d+1]\n",
    "        elif d == 9: # 9가 올때 cache[n-1][d-1] 얘만 적용 가능\n",
    "            cache[n][d] = cache[n-1][d-1]\n",
    "        else:\n",
    "            cache[n][d] = cache[n-1][d-1] + cache[n-1][d+1]\n",
    "        cache[n][d] %= 1_000_000_000 # 이렇게 해도 int로 인식함\n",
    "        \n",
    "N = int(input())\n",
    "result = 0\n",
    "for d in range(10):\n",
    "    result += cache[N][d]\n",
    "    result %= 1_000_000_000\n",
    "print(result)"
   ]
  }
 ],
 "metadata": {
  "kernelspec": {
   "display_name": "Python 3 (ipykernel)",
   "language": "python",
   "name": "python3"
  },
  "language_info": {
   "codemirror_mode": {
    "name": "ipython",
    "version": 3
   },
   "file_extension": ".py",
   "mimetype": "text/x-python",
   "name": "python",
   "nbconvert_exporter": "python",
   "pygments_lexer": "ipython3",
   "version": "3.9.13"
  }
 },
 "nbformat": 4,
 "nbformat_minor": 5
}
