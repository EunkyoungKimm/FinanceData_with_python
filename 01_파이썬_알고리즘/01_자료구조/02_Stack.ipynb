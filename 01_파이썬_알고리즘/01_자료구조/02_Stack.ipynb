{
 "cells": [
  {
   "cell_type": "markdown",
   "id": "172d18d1-1071-4454-9e60-d8b8bc56966b",
   "metadata": {},
   "source": [
    "# Stack\n",
    "\n",
    "- 데이터를 `임시 저장`할 때 사용하는 자료구조\n",
    "- 데이터를 쌓아 가는 구조\n",
    "- 데이터 입력과 출력 순서는 `후입선출(LIFO)` 방식\n",
    "- 삽입/삭제: `O(1)`\n",
    "- 파이썬에서는 **append, pop**을 활용\n",
    "- `깊이 우선 탐색`(DFS: Depth First Search) / `백트래킹` 종류에서 효과적"
   ]
  },
  {
   "cell_type": "code",
   "execution_count": 2,
   "id": "783313c1-f836-4dd5-b642-4942c43307a1",
   "metadata": {},
   "outputs": [
    {
     "name": "stdout",
     "output_type": "stream",
     "text": [
      "789\n",
      "456\n",
      "123\n"
     ]
    }
   ],
   "source": [
    "# 스택 예시\n",
    "s = []\n",
    "s.append(123)\n",
    "s.append(456)\n",
    "s.append(789)\n",
    "# print(s)\n",
    "\n",
    "while len(s) > 0:\n",
    "    print(s[-1])\n",
    "    s.pop(-1)"
   ]
  },
  {
   "cell_type": "markdown",
   "id": "835866cc-6205-4c7d-a529-46c943cfed9c",
   "metadata": {},
   "source": [
    "## Array Quiz\n",
    "**Q. 올바른 괄호 문자열 VPS(Valid Parenthesis String)인지 판단해보시오.**"
   ]
  },
  {
   "cell_type": "markdown",
   "id": "55ed95a8-fc48-43c0-8d53-2da4503da1e5",
   "metadata": {},
   "source": [
    "<<<<문제 사진 캡쳐>>>>"
   ]
  },
  {
   "cell_type": "code",
   "execution_count": 3,
   "id": "ed519df0-7613-46a6-8f1c-32a44f87bddb",
   "metadata": {
    "collapsed": true,
    "jupyter": {
     "outputs_hidden": true
    },
    "tags": []
   },
   "outputs": [
    {
     "name": "stdin",
     "output_type": "stream",
     "text": [
      " 3\n",
      " ((\n"
     ]
    },
    {
     "name": "stdout",
     "output_type": "stream",
     "text": [
      "No\n"
     ]
    },
    {
     "name": "stdin",
     "output_type": "stream",
     "text": [
      " ))\n"
     ]
    },
    {
     "name": "stdout",
     "output_type": "stream",
     "text": [
      "No\n"
     ]
    },
    {
     "name": "stdin",
     "output_type": "stream",
     "text": [
      " ())(()\n"
     ]
    },
    {
     "name": "stdout",
     "output_type": "stream",
     "text": [
      "YES\n"
     ]
    }
   ],
   "source": [
    "# 내 풀이 - 틀렸다\n",
    "number = int(input())\n",
    "for i in range(number):\n",
    "    check_vps = list(input())\n",
    "    a = 0\n",
    "    b = 0\n",
    "    for i in range(len(check_vps)):\n",
    "        v = check_vps[-1]\n",
    "        check_vps.pop()\n",
    "        if v == '(':\n",
    "            a += 1\n",
    "        else:\n",
    "            b += 1\n",
    "    if a == b:\n",
    "        print('YES')\n",
    "    else:\n",
    "        print('No')"
   ]
  },
  {
   "cell_type": "markdown",
   "id": "60176aa6-280b-4779-97ad-de73de92ebc0",
   "metadata": {},
   "source": [
    "- **틀린 이유** : `(` 와 `)`의 개수만 같으면 답이 올바르게 나올다고 생각했다. 하지만 놓친 부분이 많이 있었다.\n",
    "    - "
   ]
  }
 ],
 "metadata": {
  "kernelspec": {
   "display_name": "Python 3 (ipykernel)",
   "language": "python",
   "name": "python3"
  },
  "language_info": {
   "codemirror_mode": {
    "name": "ipython",
    "version": 3
   },
   "file_extension": ".py",
   "mimetype": "text/x-python",
   "name": "python",
   "nbconvert_exporter": "python",
   "pygments_lexer": "ipython3",
   "version": "3.9.13"
  }
 },
 "nbformat": 4,
 "nbformat_minor": 5
}
