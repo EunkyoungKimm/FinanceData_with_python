{
 "cells": [
  {
   "cell_type": "markdown",
   "id": "1c04ae91-16bf-44c6-b2fb-e6a8dcf39537",
   "metadata": {},
   "source": [
    "# Array\n",
    "\n",
    "- 배열(Array): 묶음 단위로 값을 저장하는 자료구조\n",
    "- 각 원소는 `인덱스(index)` 를 부여 받는다. > 0, 1, 2 ... 순으로! 인덱스는 `0부터` 시작한다.\n",
    "- 파이썬에서 배열 원소의 자료형(type)은 int형, float형 등 어떤 것이라도 상관 없다.\n",
    "- 서로 다른 자료형을 같이 저장할 수 있다.\n",
    "- 파이썬에서는 대표적으로 `List 자료형`이 있다. \n",
    "- 장점\n",
    "    1. 인덱스를 활용해서 `바로 접근`이 가능하다. \n",
    "    2. 해당 위치에 바로 접근해서 탐색이 빠르다.\n",
    "- 단점\n",
    "    1. 삽입/삭제가 느리다.\n",
    "    - 중간에 값을 넣는 경우, 뒤에 있는 데이터들을 뒤로 미루어 줘야 한다.\n",
    "    - 중간에 값을 없애는 경우, 뒤에 있는 데이터들을 앞으로 한칸씩 이동시켜야 한다."
   ]
  },
  {
   "cell_type": "markdown",
   "id": "94bdb619-5fa1-4e71-8e2c-257619229d01",
   "metadata": {},
   "source": [
    "<<<<단점에 그림 그리기>>>>"
   ]
  },
  {
   "cell_type": "markdown",
   "id": "0fa4e5cf-d4b9-4083-b456-e5e5f37d536f",
   "metadata": {},
   "source": [
    "## Array Quiz\n",
    "**Q. N개의 길이를 가지는 숫자가 공백 없이 쓰여있다. 이 숫자를 모두 합해서 출력하는 프로그램을 작성하시오.**"
   ]
  },
  {
   "cell_type": "markdown",
   "id": "bc4cba9f-d1da-45b1-a2a3-6daf28d26014",
   "metadata": {},
   "source": [
    "<<<<문제 사진 캡쳐>>>>"
   ]
  },
  {
   "cell_type": "code",
   "execution_count": 2,
   "id": "23ddb436-cd0c-4b08-8a29-d737678b1d86",
   "metadata": {},
   "outputs": [
    {
     "name": "stdin",
     "output_type": "stream",
     "text": [
      " 12345\n"
     ]
    },
    {
     "name": "stdout",
     "output_type": "stream",
     "text": [
      "15\n"
     ]
    }
   ],
   "source": [
    "# 내 풀이\n",
    "\n",
    "numbers = list(map(int, input())) # 12345 -> [1,2,3,4,5]\n",
    "total = 0\n",
    "for number in numbers:\n",
    "    total += number\n",
    "\n",
    "print(total)"
   ]
  },
  {
   "cell_type": "code",
   "execution_count": 7,
   "id": "53b7df70-b120-4703-b6e9-be59f1f42ae2",
   "metadata": {},
   "outputs": [
    {
     "name": "stdout",
     "output_type": "stream",
     "text": [
      "['1', '2', '3', '4', '5']\n",
      "15\n"
     ]
    }
   ],
   "source": [
    "# 다른 풀이 - 동작 구상\n",
    "\n",
    "numbers = list('12345') # 리스트 형으로 나옴! 대신 string type임! 그래서 map쓰면 int로 다 형변환됨!\n",
    "print(numbers)\n",
    "\n",
    "total = 0\n",
    "for i in numbers:\n",
    "    total += int(i) # string type이므로 int로 형변환\n",
    "print(total)"
   ]
  },
  {
   "cell_type": "code",
   "execution_count": 6,
   "id": "d9eabd4e-d4cf-4325-925e-49b02d67bcc8",
   "metadata": {},
   "outputs": [
    {
     "name": "stdin",
     "output_type": "stream",
     "text": [
      " 12345\n"
     ]
    },
    {
     "name": "stdout",
     "output_type": "stream",
     "text": [
      "15\n"
     ]
    }
   ],
   "source": [
    "# 다른 풀이 - 동작 구상 후 input 넣어주기\n",
    "\n",
    "numbers = list(input()) # 리스트 형으로 나옴!\n",
    "\n",
    "total = 0\n",
    "for i in numbers:\n",
    "    total += int(i)\n",
    "print(total)"
   ]
  },
  {
   "cell_type": "markdown",
   "id": "187ba2bf-0246-47f9-b388-7076fe33ebbd",
   "metadata": {
    "tags": []
   },
   "source": [
    "# Prefix Array\n",
    "- `합배열(Prefix Array)`\n",
    "- **일정 구간의 배열의 합**을 구하려면 계산을 여러번 해야 한다. (for문 필요)\n",
    "    - 시간복잡도: O(N)\n",
    "- 합배열을 활용하면 한번만 계산하면 된다. (for문 필요x)\n",
    "    - 시간복잡도: 전처리를 통해 모든 부분합을 **`O(1)`** 에 바로 구할 수 있다.\n",
    "- 합배열을 활용해서 연산횟수를 줄일 수 있다.\n",
    "- 합배열로 한 번 계산된 것을 가져다가 쓰면 된다."
   ]
  },
  {
   "cell_type": "markdown",
   "id": "653146e7-2a64-44c9-bb5a-108b804fd39e",
   "metadata": {},
   "source": [
    "<<<<사진 캡쳐>>>>"
   ]
  },
  {
   "cell_type": "markdown",
   "id": "4a8ac0d9-26bc-4d5c-a0c6-aaad528811e5",
   "metadata": {},
   "source": [
    "## Prefix Array Quiz\n",
    "**Q. 합배열을 활용하여 수 N개의 더할 인덱스를 각각 입력으로 받고, 각 인덱스의 합을 계산하는 코드를 작성해보세요.**"
   ]
  },
  {
   "cell_type": "markdown",
   "id": "66b620b7-3668-4d71-afd2-cd98a8aaf35a",
   "metadata": {},
   "source": [
    "<<<<문제 사진 캡쳐>>>>"
   ]
  },
  {
   "cell_type": "code",
   "execution_count": 8,
   "id": "ff44106b-2121-4b67-8a71-bd84ffe97edb",
   "metadata": {},
   "outputs": [
    {
     "name": "stdin",
     "output_type": "stream",
     "text": [
      " 1 2 3 4 5\n",
      " 4 2\n"
     ]
    },
    {
     "name": "stdout",
     "output_type": "stream",
     "text": [
      "12\n"
     ]
    }
   ],
   "source": [
    "numbers = list(map(int, input().split()))\n",
    "start_idx, end_idx = map(int, input().split())\n",
    "\n",
    "prefix_num = list() # prefix_num = [] 이렇게 하심\n",
    "total = 0\n",
    "for number in numbers:\n",
    "    total += number\n",
    "    prefix_num.append(total)\n",
    "\n",
    "result = prefix_num[start_idx] - prefix_num[end_idx-1]\n",
    "print(result)"
   ]
  }
 ],
 "metadata": {
  "kernelspec": {
   "display_name": "Python 3 (ipykernel)",
   "language": "python",
   "name": "python3"
  },
  "language_info": {
   "codemirror_mode": {
    "name": "ipython",
    "version": 3
   },
   "file_extension": ".py",
   "mimetype": "text/x-python",
   "name": "python",
   "nbconvert_exporter": "python",
   "pygments_lexer": "ipython3",
   "version": "3.9.13"
  }
 },
 "nbformat": 4,
 "nbformat_minor": 5
}
