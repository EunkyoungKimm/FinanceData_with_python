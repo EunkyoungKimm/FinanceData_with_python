{
 "cells": [
  {
   "cell_type": "markdown",
   "id": "7e80464e-dee4-47c5-bd86-b59bc7d0a8c4",
   "metadata": {
    "tags": []
   },
   "source": [
    "# Selenium\n",
    "\n",
    "- 페이지 개수를 늘려가면.. 사실 requests, BS로도 가능\n",
    "- requests, bs가 못하는게 클릭하는거!(페이지 넘어가기)\n",
    "- `웹에서 활동할 수 있는 로봇`..을 설치해주면 됨!\n",
    "    - 구글 > 설정 > chrome 정보\n",
    "- 코랩보다는 주피터노트북이나 파이참, vsc로 하는게 good\n",
    "- chromedriver 경로: C:\\Users\\SBAUser\\Downloads\\chromedriver_win32 뒤에 chromedriver 추가하기!\n",
    "- 속성값이나 태그나 경로나 css나 그 안에 내용 등을 활용해서 웹상의 봇이 정보를 찾음!\n",
    "- 클릭할 수 있는 부분!!!!!!!!"
   ]
  },
  {
   "cell_type": "code",
   "execution_count": 5,
   "id": "a59cccfd-4430-4e58-8352-6448c325755e",
   "metadata": {
    "collapsed": true,
    "jupyter": {
     "outputs_hidden": true
    },
    "tags": []
   },
   "outputs": [
    {
     "name": "stdout",
     "output_type": "stream",
     "text": [
      "Collecting selenium\n",
      "  Using cached selenium-4.8.0-py3-none-any.whl (6.3 MB)\n",
      "Collecting trio-websocket~=0.9\n",
      "  Using cached trio_websocket-0.9.2-py3-none-any.whl (16 kB)\n",
      "Requirement already satisfied: certifi>=2021.10.8 in c:\\users\\sbauser\\anaconda3\\lib\\site-packages (from selenium) (2022.9.14)\n",
      "Collecting trio~=0.17\n",
      "  Using cached trio-0.22.0-py3-none-any.whl (384 kB)\n",
      "Requirement already satisfied: urllib3[socks]~=1.26 in c:\\users\\sbauser\\anaconda3\\lib\\site-packages (from selenium) (1.26.11)\n",
      "Requirement already satisfied: attrs>=19.2.0 in c:\\users\\sbauser\\anaconda3\\lib\\site-packages (from trio~=0.17->selenium) (21.4.0)\n",
      "Collecting exceptiongroup>=1.0.0rc9\n",
      "  Using cached exceptiongroup-1.1.0-py3-none-any.whl (14 kB)\n",
      "Collecting outcome\n",
      "  Using cached outcome-1.2.0-py2.py3-none-any.whl (9.7 kB)\n",
      "Collecting async-generator>=1.9\n",
      "  Using cached async_generator-1.10-py3-none-any.whl (18 kB)\n",
      "Requirement already satisfied: sortedcontainers in c:\\users\\sbauser\\anaconda3\\lib\\site-packages (from trio~=0.17->selenium) (2.4.0)\n",
      "Requirement already satisfied: sniffio in c:\\users\\sbauser\\anaconda3\\lib\\site-packages (from trio~=0.17->selenium) (1.2.0)\n",
      "Requirement already satisfied: idna in c:\\users\\sbauser\\anaconda3\\lib\\site-packages (from trio~=0.17->selenium) (3.3)\n",
      "Requirement already satisfied: cffi>=1.14 in c:\\users\\sbauser\\anaconda3\\lib\\site-packages (from trio~=0.17->selenium) (1.15.1)\n",
      "Collecting wsproto>=0.14\n",
      "  Using cached wsproto-1.2.0-py3-none-any.whl (24 kB)\n",
      "Requirement already satisfied: PySocks!=1.5.7,<2.0,>=1.5.6 in c:\\users\\sbauser\\anaconda3\\lib\\site-packages (from urllib3[socks]~=1.26->selenium) (1.7.1)\n",
      "Requirement already satisfied: pycparser in c:\\users\\sbauser\\anaconda3\\lib\\site-packages (from cffi>=1.14->trio~=0.17->selenium) (2.21)\n",
      "Collecting h11<1,>=0.9.0\n",
      "  Using cached h11-0.14.0-py3-none-any.whl (58 kB)\n",
      "Installing collected packages: outcome, h11, exceptiongroup, async-generator, wsproto, trio, trio-websocket, selenium\n",
      "Successfully installed async-generator-1.10 exceptiongroup-1.1.0 h11-0.14.0 outcome-1.2.0 selenium-4.8.0 trio-0.22.0 trio-websocket-0.9.2 wsproto-1.2.0\n",
      "Note: you may need to restart the kernel to use updated packages.\n"
     ]
    }
   ],
   "source": [
    "pip install selenium"
   ]
  },
  {
   "cell_type": "code",
   "execution_count": null,
   "id": "d8ab15b3-251e-40df-944e-4b1188f3a366",
   "metadata": {},
   "outputs": [],
   "source": [
    "# 별짓다해보기!ㅋㅋㅋ (느낌표 뺌.. 어디에 설치할지 커널을 못찾은 거 같음..)"
   ]
  },
  {
   "cell_type": "code",
   "execution_count": 4,
   "id": "a2325a50-89f7-42ce-a1b3-5fdbb68427ba",
   "metadata": {
    "collapsed": true,
    "jupyter": {
     "outputs_hidden": true
    },
    "tags": []
   },
   "outputs": [
    {
     "name": "stdout",
     "output_type": "stream",
     "text": [
      "Package                       Version\n",
      "----------------------------- --------------------\n",
      "alabaster                     0.7.12\n",
      "anaconda-client               1.11.0\n",
      "anaconda-navigator            2.3.1\n",
      "anaconda-project              0.11.1\n",
      "anyio                         3.5.0\n",
      "appdirs                       1.4.4\n",
      "argon2-cffi                   21.3.0\n",
      "argon2-cffi-bindings          21.2.0\n",
      "arrow                         1.2.2\n",
      "astroid                       2.11.7\n",
      "astropy                       5.1\n",
      "atomicwrites                  1.4.0\n",
      "attrs                         21.4.0\n",
      "Automat                       20.2.0\n",
      "autopep8                      1.6.0\n",
      "Babel                         2.9.1\n",
      "backcall                      0.2.0\n",
      "backports.functools-lru-cache 1.6.4\n",
      "backports.tempfile            1.0\n",
      "backports.weakref             1.0.post1\n",
      "bcrypt                        3.2.0\n",
      "beautifulsoup4                4.11.1\n",
      "binaryornot                   0.4.4\n",
      "bitarray                      2.5.1\n",
      "bkcharts                      0.2\n",
      "black                         22.6.0\n",
      "bleach                        4.1.0\n",
      "bokeh                         2.4.3\n",
      "boto3                         1.24.28\n",
      "botocore                      1.27.28\n",
      "Bottleneck                    1.3.5\n",
      "brotlipy                      0.7.0\n",
      "certifi                       2022.9.14\n",
      "cffi                          1.15.1\n",
      "chardet                       4.0.0\n",
      "charset-normalizer            2.0.4\n",
      "click                         8.0.4\n",
      "cloudpickle                   2.0.0\n",
      "clyent                        1.2.2\n",
      "colorama                      0.4.5\n",
      "colorcet                      3.0.0\n",
      "comtypes                      1.1.10\n",
      "conda                         22.11.1\n",
      "conda-build                   3.22.0\n",
      "conda-content-trust           0.1.3\n",
      "conda-pack                    0.6.0\n",
      "conda-package-handling        1.9.0\n",
      "conda-repo-cli                1.0.20\n",
      "conda-token                   0.4.0\n",
      "conda-verify                  3.4.2\n",
      "constantly                    15.1.0\n",
      "cookiecutter                  1.7.3\n",
      "cryptography                  37.0.1\n",
      "cssselect                     1.1.0\n",
      "cycler                        0.11.0\n",
      "Cython                        0.29.32\n",
      "cytoolz                       0.11.0\n",
      "daal4py                       2021.6.0\n",
      "dask                          2022.7.0\n",
      "datashader                    0.14.1\n",
      "datashape                     0.5.4\n",
      "debugpy                       1.5.1\n",
      "decorator                     5.1.1\n",
      "defusedxml                    0.7.1\n",
      "diff-match-patch              20200713\n",
      "dill                          0.3.4\n",
      "distributed                   2022.7.0\n",
      "docutils                      0.18.1\n",
      "entrypoints                   0.4\n",
      "et-xmlfile                    1.1.0\n",
      "fastjsonschema                2.16.2\n",
      "filelock                      3.6.0\n",
      "flake8                        4.0.1\n",
      "Flask                         1.1.2\n",
      "fonttools                     4.25.0\n",
      "fsspec                        2022.7.1\n",
      "future                        0.18.2\n",
      "gensim                        4.1.2\n",
      "glob2                         0.7\n",
      "greenlet                      1.1.1\n",
      "h5py                          3.7.0\n",
      "HeapDict                      1.0.1\n",
      "holoviews                     1.15.0\n",
      "hvplot                        0.8.0\n",
      "hyperlink                     21.0.0\n",
      "idna                          3.3\n",
      "imagecodecs                   2021.8.26\n",
      "imageio                       2.19.3\n",
      "imagesize                     1.4.1\n",
      "importlib-metadata            4.11.3\n",
      "incremental                   21.3.0\n",
      "inflection                    0.5.1\n",
      "iniconfig                     1.1.1\n",
      "intake                        0.6.5\n",
      "intervaltree                  3.1.0\n",
      "ipykernel                     6.15.2\n",
      "ipython                       7.31.1\n",
      "ipython-genutils              0.2.0\n",
      "ipywidgets                    7.6.5\n",
      "isort                         5.9.3\n",
      "itemadapter                   0.3.0\n",
      "itemloaders                   1.0.4\n",
      "itsdangerous                  2.0.1\n",
      "jdcal                         1.4.1\n",
      "jedi                          0.18.1\n",
      "jellyfish                     0.9.0\n",
      "Jinja2                        2.11.3\n",
      "jinja2-time                   0.2.0\n",
      "jmespath                      0.10.0\n",
      "joblib                        1.1.0\n",
      "json5                         0.9.6\n",
      "jsonschema                    4.16.0\n",
      "jupyter                       1.0.0\n",
      "jupyter_client                7.3.4\n",
      "jupyter-console               6.4.3\n",
      "jupyter_core                  4.11.1\n",
      "jupyter-server                1.18.1\n",
      "jupyterlab                    3.4.4\n",
      "jupyterlab-pygments           0.1.2\n",
      "jupyterlab-server             2.10.3\n",
      "jupyterlab-widgets            1.0.0\n",
      "keyring                       23.4.0\n",
      "kiwisolver                    1.4.2\n",
      "lazy-object-proxy             1.6.0\n",
      "libarchive-c                  2.9\n",
      "llvmlite                      0.38.0\n",
      "locket                        1.0.0\n",
      "lxml                          4.9.1\n",
      "lz4                           3.1.3\n",
      "Markdown                      3.3.4\n",
      "MarkupSafe                    2.0.1\n",
      "matplotlib                    3.5.2\n",
      "matplotlib-inline             0.1.6\n",
      "mccabe                        0.6.1\n",
      "menuinst                      1.4.19\n",
      "mistune                       0.8.4\n",
      "mkl-fft                       1.3.1\n",
      "mkl-random                    1.2.2\n",
      "mkl-service                   2.4.0\n",
      "mock                          4.0.3\n",
      "mpmath                        1.2.1\n",
      "msgpack                       1.0.3\n",
      "multipledispatch              0.6.0\n",
      "munkres                       1.1.4\n",
      "mypy-extensions               0.4.3\n",
      "navigator-updater             0.3.0\n",
      "nbclassic                     0.3.5\n",
      "nbclient                      0.5.13\n",
      "nbconvert                     6.4.4\n",
      "nbformat                      5.5.0\n",
      "nest-asyncio                  1.5.5\n",
      "networkx                      2.8.4\n",
      "nltk                          3.7\n",
      "nose                          1.3.7\n",
      "notebook                      6.4.12\n",
      "numba                         0.55.1\n",
      "numexpr                       2.8.3\n",
      "numpy                         1.21.5\n",
      "numpydoc                      1.4.0\n",
      "olefile                       0.46\n",
      "openpyxl                      3.0.10\n",
      "packaging                     21.3\n",
      "pandas                        1.4.4\n",
      "pandocfilters                 1.5.0\n",
      "panel                         0.13.1\n",
      "param                         1.12.0\n",
      "paramiko                      2.8.1\n",
      "parsel                        1.6.0\n",
      "parso                         0.8.3\n",
      "partd                         1.2.0\n",
      "pathlib                       1.0.1\n",
      "pathspec                      0.9.0\n",
      "patsy                         0.5.2\n",
      "pep8                          1.7.1\n",
      "pexpect                       4.8.0\n",
      "pickleshare                   0.7.5\n",
      "Pillow                        9.2.0\n",
      "pip                           22.2.2\n",
      "pkginfo                       1.8.2\n",
      "platformdirs                  2.5.2\n",
      "plotly                        5.9.0\n",
      "pluggy                        1.0.0\n",
      "poyo                          0.5.0\n",
      "prometheus-client             0.14.1\n",
      "prompt-toolkit                3.0.20\n",
      "Protego                       0.1.16\n",
      "psutil                        5.9.0\n",
      "ptyprocess                    0.7.0\n",
      "py                            1.11.0\n",
      "pyasn1                        0.4.8\n",
      "pyasn1-modules                0.2.8\n",
      "pycodestyle                   2.8.0\n",
      "pycosat                       0.6.3\n",
      "pycparser                     2.21\n",
      "pyct                          0.4.8\n",
      "pycurl                        7.45.1\n",
      "PyDispatcher                  2.0.5\n",
      "pydocstyle                    6.1.1\n",
      "pyerfa                        2.0.0\n",
      "pyflakes                      2.4.0\n",
      "Pygments                      2.11.2\n",
      "PyHamcrest                    2.0.2\n",
      "PyJWT                         2.4.0\n",
      "pylint                        2.14.5\n",
      "pyls-spyder                   0.4.0\n",
      "PyNaCl                        1.5.0\n",
      "pyodbc                        4.0.34\n",
      "pyOpenSSL                     22.0.0\n",
      "pyparsing                     3.0.9\n",
      "pyrsistent                    0.18.0\n",
      "PySocks                       1.7.1\n",
      "pytest                        7.1.2\n",
      "python-dateutil               2.8.2\n",
      "python-lsp-black              1.0.0\n",
      "python-lsp-jsonrpc            1.0.0\n",
      "python-lsp-server             1.3.3\n",
      "python-slugify                5.0.2\n",
      "python-snappy                 0.6.0\n",
      "pytz                          2022.1\n",
      "pyviz-comms                   2.0.2\n",
      "PyWavelets                    1.3.0\n",
      "pywin32                       302\n",
      "pywin32-ctypes                0.2.0\n",
      "pywinpty                      2.0.2\n",
      "PyYAML                        6.0\n",
      "pyzmq                         23.2.0\n",
      "QDarkStyle                    3.0.2\n",
      "qstylizer                     0.1.10\n",
      "QtAwesome                     1.0.3\n",
      "qtconsole                     5.2.2\n",
      "QtPy                          2.2.0\n",
      "queuelib                      1.5.0\n",
      "regex                         2022.7.9\n",
      "requests                      2.28.1\n",
      "requests-file                 1.5.1\n",
      "rope                          0.22.0\n",
      "Rtree                         0.9.7\n",
      "ruamel.yaml                   0.16.12\n",
      "ruamel.yaml.clib              0.2.6\n",
      "ruamel-yaml-conda             0.15.100\n",
      "s3transfer                    0.6.0\n",
      "scikit-image                  0.19.2\n",
      "scikit-learn                  1.0.2\n",
      "scikit-learn-intelex          2021.20221004.171935\n",
      "scipy                         1.9.1\n",
      "Scrapy                        2.6.2\n",
      "seaborn                       0.11.2\n",
      "Send2Trash                    1.8.0\n",
      "service-identity              18.1.0\n",
      "setuptools                    63.4.1\n",
      "sip                           4.19.13\n",
      "six                           1.16.0\n",
      "smart-open                    5.2.1\n",
      "sniffio                       1.2.0\n",
      "snowballstemmer               2.2.0\n",
      "sortedcollections             2.1.0\n",
      "sortedcontainers              2.4.0\n",
      "soupsieve                     2.3.1\n",
      "Sphinx                        5.0.2\n",
      "sphinxcontrib-applehelp       1.0.2\n",
      "sphinxcontrib-devhelp         1.0.2\n",
      "sphinxcontrib-htmlhelp        2.0.0\n",
      "sphinxcontrib-jsmath          1.0.1\n",
      "sphinxcontrib-qthelp          1.0.3\n",
      "sphinxcontrib-serializinghtml 1.1.5\n",
      "spyder                        5.2.2\n",
      "spyder-kernels                2.2.1\n",
      "SQLAlchemy                    1.4.39\n",
      "statsmodels                   0.13.2\n",
      "sympy                         1.10.1\n",
      "tables                        3.6.1\n",
      "tabulate                      0.8.10\n",
      "TBB                           0.2\n",
      "tblib                         1.7.0\n",
      "tenacity                      8.0.1\n",
      "terminado                     0.13.1\n",
      "testpath                      0.6.0\n",
      "text-unidecode                1.3\n",
      "textdistance                  4.2.1\n",
      "threadpoolctl                 2.2.0\n",
      "three-merge                   0.1.1\n",
      "tifffile                      2021.7.2\n",
      "tinycss                       0.4\n",
      "tldextract                    3.2.0\n",
      "toml                          0.10.2\n",
      "tomli                         2.0.1\n",
      "tomlkit                       0.11.1\n",
      "toolz                         0.11.2\n",
      "tornado                       6.1\n",
      "tqdm                          4.64.1\n",
      "traitlets                     5.1.1\n",
      "Twisted                       22.2.0\n",
      "twisted-iocpsupport           1.0.2\n",
      "typing_extensions             4.3.0\n",
      "ujson                         5.4.0\n",
      "Unidecode                     1.2.0\n",
      "urllib3                       1.26.11\n",
      "w3lib                         1.21.0\n",
      "watchdog                      2.1.6\n",
      "wcwidth                       0.2.5\n",
      "webencodings                  0.5.1\n",
      "websocket-client              0.58.0\n",
      "Werkzeug                      2.0.3\n",
      "wheel                         0.37.1\n",
      "widgetsnbextension            3.5.2\n",
      "win-inet-pton                 1.1.0\n",
      "win-unicode-console           0.5\n",
      "wincertstore                  0.2\n",
      "wrapt                         1.14.1\n",
      "xarray                        0.20.1\n",
      "xlrd                          2.0.1\n",
      "XlsxWriter                    3.0.3\n",
      "xlwings                       0.27.15\n",
      "yapf                          0.31.0\n",
      "zict                          2.1.0\n",
      "zipp                          3.8.0\n",
      "zope.interface                5.4.0\n",
      "Note: you may need to restart the kernel to use updated packages.\n"
     ]
    }
   ],
   "source": [
    "pip list"
   ]
  },
  {
   "cell_type": "code",
   "execution_count": 28,
   "id": "ae0bf061-aa58-43dc-bdbd-18a59ac8c05a",
   "metadata": {
    "tags": []
   },
   "outputs": [
    {
     "name": "stderr",
     "output_type": "stream",
     "text": [
      "C:\\Users\\SBAUser\\AppData\\Local\\Temp\\ipykernel_7632\\3135267537.py:2: DeprecationWarning: executable_path has been deprecated, please pass in a Service object\n",
      "  driver = webdriver.Chrome(\"C:/Users/SBAUser/Downloads/chromedriver_win32/chromedriver\")\n"
     ]
    }
   ],
   "source": [
    "from selenium import webdriver\n",
    "driver = webdriver.Chrome(\"C:/Users/SBAUser/Downloads/chromedriver_win32/chromedriver\")\n",
    "url = \"https://news.naver.com/main/main.naver?mode=LSD&mid=shm&sid1=101\"\n",
    "driver.get(url) # 웹페이지 열기\n",
    "driver.implicitly_wait(10) # 웹페이지가 열릴 때 까지 대기 > 열려야 정보를 가져올 수 있음(봇을 시켜서 웹페이지까지 열었음)"
   ]
  },
  {
   "cell_type": "code",
   "execution_count": null,
   "id": "4c1af377-7b63-426b-b007-5277bfeb6bda",
   "metadata": {},
   "outputs": [],
   "source": [
    "# driver.implicitly_wait(10) # 웹페이지가 열릴 때 까지 대기 >>>> 클릭하고 이거 넣어주는게 좋음!"
   ]
  },
  {
   "cell_type": "code",
   "execution_count": 29,
   "id": "1912a0c0-3807-4ee3-866b-3e08fcb11b67",
   "metadata": {},
   "outputs": [],
   "source": [
    "from selenium.webdriver.common.by import By"
   ]
  },
  {
   "cell_type": "code",
   "execution_count": 30,
   "id": "bece38a5-571a-4e00-a822-5d7464ac8575",
   "metadata": {},
   "outputs": [
    {
     "name": "stdout",
     "output_type": "stream",
     "text": [
      "24\n",
      "[<selenium.webdriver.remote.webelement.WebElement (session=\"4e1e99c79a7478c966900dab75de1aca\", element=\"086ad963-c20c-453c-89a7-10bac0f7e5f1\")>, <selenium.webdriver.remote.webelement.WebElement (session=\"4e1e99c79a7478c966900dab75de1aca\", element=\"85882959-75c1-4c80-8dfc-3de1a079776e\")>, <selenium.webdriver.remote.webelement.WebElement (session=\"4e1e99c79a7478c966900dab75de1aca\", element=\"1d7a38bf-73d5-40da-bc42-0e6a984800d9\")>, <selenium.webdriver.remote.webelement.WebElement (session=\"4e1e99c79a7478c966900dab75de1aca\", element=\"4bb538ef-7ed9-46d7-8a4a-16a558bdd4f2\")>, <selenium.webdriver.remote.webelement.WebElement (session=\"4e1e99c79a7478c966900dab75de1aca\", element=\"a88d0fb5-7fa4-48bc-a9b3-0a324394af14\")>, <selenium.webdriver.remote.webelement.WebElement (session=\"4e1e99c79a7478c966900dab75de1aca\", element=\"c7d7b56e-77c8-4424-9329-a2486c0c66ab\")>, <selenium.webdriver.remote.webelement.WebElement (session=\"4e1e99c79a7478c966900dab75de1aca\", element=\"1618613c-7305-441f-9f22-3ba70dad76b2\")>, <selenium.webdriver.remote.webelement.WebElement (session=\"4e1e99c79a7478c966900dab75de1aca\", element=\"acf29400-ce0d-4cc7-ae70-e3bb9a5a0040\")>, <selenium.webdriver.remote.webelement.WebElement (session=\"4e1e99c79a7478c966900dab75de1aca\", element=\"6f60c73b-03b9-44a5-b862-5226cd474c74\")>, <selenium.webdriver.remote.webelement.WebElement (session=\"4e1e99c79a7478c966900dab75de1aca\", element=\"500cfc51-e347-42c6-bf11-d8e3b2788612\")>, <selenium.webdriver.remote.webelement.WebElement (session=\"4e1e99c79a7478c966900dab75de1aca\", element=\"569905b0-c345-452e-aaed-c6ac73b065ed\")>, <selenium.webdriver.remote.webelement.WebElement (session=\"4e1e99c79a7478c966900dab75de1aca\", element=\"27ed400a-23cf-498c-90b0-3d7ff0604c00\")>, <selenium.webdriver.remote.webelement.WebElement (session=\"4e1e99c79a7478c966900dab75de1aca\", element=\"26c6722b-a98f-4441-ae3c-421e625514e8\")>, <selenium.webdriver.remote.webelement.WebElement (session=\"4e1e99c79a7478c966900dab75de1aca\", element=\"92e253ab-67be-4916-b343-90ad8a358d1d\")>, <selenium.webdriver.remote.webelement.WebElement (session=\"4e1e99c79a7478c966900dab75de1aca\", element=\"14845a95-6856-44d0-9999-2527c9b53f9c\")>, <selenium.webdriver.remote.webelement.WebElement (session=\"4e1e99c79a7478c966900dab75de1aca\", element=\"da71276f-9161-4596-9f1e-0ea37f5fa860\")>, <selenium.webdriver.remote.webelement.WebElement (session=\"4e1e99c79a7478c966900dab75de1aca\", element=\"fe72a89b-7a10-4e41-b66d-87bce7a9eda3\")>, <selenium.webdriver.remote.webelement.WebElement (session=\"4e1e99c79a7478c966900dab75de1aca\", element=\"3710b5f2-58d9-4494-9f9e-387faeafc569\")>, <selenium.webdriver.remote.webelement.WebElement (session=\"4e1e99c79a7478c966900dab75de1aca\", element=\"56cd8bf3-cde7-40a0-bb58-086b90346565\")>, <selenium.webdriver.remote.webelement.WebElement (session=\"4e1e99c79a7478c966900dab75de1aca\", element=\"481998e1-9618-474e-baa7-08432b17d578\")>, <selenium.webdriver.remote.webelement.WebElement (session=\"4e1e99c79a7478c966900dab75de1aca\", element=\"1f996058-266e-4d26-b377-339aae876b06\")>, <selenium.webdriver.remote.webelement.WebElement (session=\"4e1e99c79a7478c966900dab75de1aca\", element=\"5598e2e2-680a-4a5b-ae19-8e6384eda924\")>, <selenium.webdriver.remote.webelement.WebElement (session=\"4e1e99c79a7478c966900dab75de1aca\", element=\"3bd0421b-19c4-4404-b539-ca28244e7b87\")>, <selenium.webdriver.remote.webelement.WebElement (session=\"4e1e99c79a7478c966900dab75de1aca\", element=\"35b4c11b-542f-4459-bcf3-9e865bcc6347\")>]\n"
     ]
    }
   ],
   "source": [
    "elements = driver.find_elements(By.CLASS_NAME, \"cluster_head_sub_topic\") # driver에게 명령!\n",
    "print(len(elements))\n",
    "print(elements)"
   ]
  },
  {
   "cell_type": "code",
   "execution_count": 15,
   "id": "021e2588-1700-4de1-94bb-c21429475cba",
   "metadata": {},
   "outputs": [
    {
     "data": {
      "text/plain": [
       "[<selenium.webdriver.remote.webelement.WebElement (session=\"4a662d73cd7278bd8ad18260a4cf4aa9\", element=\"85980302-862d-47ed-ba3f-9f3b0c1ad9c9\")>]"
      ]
     },
     "execution_count": 15,
     "metadata": {},
     "output_type": "execute_result"
    }
   ],
   "source": [
    "elements = driver.find_elements(By.ID, \"gnb\") \n",
    "elements"
   ]
  },
  {
   "cell_type": "code",
   "execution_count": 16,
   "id": "4481cee6-6eef-42b8-97fb-34c6ca0c7555",
   "metadata": {},
   "outputs": [
    {
     "data": {
      "text/plain": [
       "[<selenium.webdriver.remote.webelement.WebElement (session=\"4a662d73cd7278bd8ad18260a4cf4aa9\", element=\"944798f3-e136-4968-9698-da7a4e0785cc\")>]"
      ]
     },
     "execution_count": 16,
     "metadata": {},
     "output_type": "execute_result"
    }
   ],
   "source": [
    "driver.find_elements(By.LINK_TEXT, \"정치\") # 클랙해서 들어갈 수 있는거 > link있는거 "
   ]
  },
  {
   "cell_type": "code",
   "execution_count": 17,
   "id": "96245bd2-f7be-4171-8aec-e3f6b3953103",
   "metadata": {},
   "outputs": [
    {
     "data": {
      "text/plain": [
       "[<selenium.webdriver.remote.webelement.WebElement (session=\"4a662d73cd7278bd8ad18260a4cf4aa9\", element=\"3a269980-6bef-43a6-ac1a-7688a316cda0\")>,\n",
       " <selenium.webdriver.remote.webelement.WebElement (session=\"4a662d73cd7278bd8ad18260a4cf4aa9\", element=\"3944add3-e569-4757-b3a9-a4b8cc1bf4fc\")>]"
      ]
     },
     "execution_count": 17,
     "metadata": {},
     "output_type": "execute_result"
    }
   ],
   "source": [
    "driver.find_elements(By.PARTIAL_LINK_TEXT, \"생활\") # 클랙해서 들어갈 수 있는거 > link있는거 "
   ]
  },
  {
   "cell_type": "code",
   "execution_count": 18,
   "id": "9a7017fd-6d24-42c9-ade3-47fd977c638b",
   "metadata": {},
   "outputs": [
    {
     "data": {
      "text/plain": [
       "[<selenium.webdriver.remote.webelement.WebElement (session=\"4a662d73cd7278bd8ad18260a4cf4aa9\", element=\"cd1bf710-e3d8-4543-85ba-974211df71a0\")>,\n",
       " <selenium.webdriver.remote.webelement.WebElement (session=\"4a662d73cd7278bd8ad18260a4cf4aa9\", element=\"c2977d40-2b15-4225-ab2a-fc089b29c10b\")>]"
      ]
     },
     "execution_count": 18,
     "metadata": {},
     "output_type": "execute_result"
    }
   ],
   "source": [
    "# 검색어 입력하는 부분.. 쿼리하는 부분(name=query >> 속성 값 활용해서 가져온거임)\n",
    "driver.find_elements(By.NAME, \"query\") # 클랙해서 들어갈 수 있는거 > link있는거 "
   ]
  },
  {
   "cell_type": "code",
   "execution_count": 19,
   "id": "5892ebea-0e1a-4d7e-92f7-b47c50c9a7e9",
   "metadata": {},
   "outputs": [
    {
     "data": {
      "text/plain": [
       "[<selenium.webdriver.remote.webelement.WebElement (session=\"4a662d73cd7278bd8ad18260a4cf4aa9\", element=\"037614b7-06ce-4a91-a29a-8886c385b0fa\")>,\n",
       " <selenium.webdriver.remote.webelement.WebElement (session=\"4a662d73cd7278bd8ad18260a4cf4aa9\", element=\"85df1601-6b5c-4644-8a5e-3b2a1fd9fd52\")>,\n",
       " <selenium.webdriver.remote.webelement.WebElement (session=\"4a662d73cd7278bd8ad18260a4cf4aa9\", element=\"fb4fc6ab-d128-47b8-9cb1-9c336d6bae8b\")>,\n",
       " <selenium.webdriver.remote.webelement.WebElement (session=\"4a662d73cd7278bd8ad18260a4cf4aa9\", element=\"6b85914e-b73a-4380-9dc6-224cea2b35d9\")>,\n",
       " <selenium.webdriver.remote.webelement.WebElement (session=\"4a662d73cd7278bd8ad18260a4cf4aa9\", element=\"cfda0645-3d1d-4059-94ea-bebee05f4b30\")>,\n",
       " <selenium.webdriver.remote.webelement.WebElement (session=\"4a662d73cd7278bd8ad18260a4cf4aa9\", element=\"e6ad80e8-1760-4632-b891-2807399022c2\")>,\n",
       " <selenium.webdriver.remote.webelement.WebElement (session=\"4a662d73cd7278bd8ad18260a4cf4aa9\", element=\"73783227-124c-434f-9f80-9051e1d96cdb\")>,\n",
       " <selenium.webdriver.remote.webelement.WebElement (session=\"4a662d73cd7278bd8ad18260a4cf4aa9\", element=\"961640a9-5ad5-4b30-bb7f-f42c0a098af5\")>,\n",
       " <selenium.webdriver.remote.webelement.WebElement (session=\"4a662d73cd7278bd8ad18260a4cf4aa9\", element=\"0b4c501e-0601-487f-be94-c125a4cd8345\")>,\n",
       " <selenium.webdriver.remote.webelement.WebElement (session=\"4a662d73cd7278bd8ad18260a4cf4aa9\", element=\"9fb32ab8-313c-4c01-a05b-4117c51059d4\")>,\n",
       " <selenium.webdriver.remote.webelement.WebElement (session=\"4a662d73cd7278bd8ad18260a4cf4aa9\", element=\"34ac1475-e89f-4997-a11d-4a522e8518ba\")>,\n",
       " <selenium.webdriver.remote.webelement.WebElement (session=\"4a662d73cd7278bd8ad18260a4cf4aa9\", element=\"ecca0495-1bcd-49eb-8d11-882cf6f1172c\")>,\n",
       " <selenium.webdriver.remote.webelement.WebElement (session=\"4a662d73cd7278bd8ad18260a4cf4aa9\", element=\"5da85b8d-f9e0-4996-8fb8-ea889c34da2d\")>,\n",
       " <selenium.webdriver.remote.webelement.WebElement (session=\"4a662d73cd7278bd8ad18260a4cf4aa9\", element=\"c28de7c1-fd6a-41a9-afc1-b56b6d657753\")>,\n",
       " <selenium.webdriver.remote.webelement.WebElement (session=\"4a662d73cd7278bd8ad18260a4cf4aa9\", element=\"d1564875-8546-4799-9398-a91633ed1402\")>,\n",
       " <selenium.webdriver.remote.webelement.WebElement (session=\"4a662d73cd7278bd8ad18260a4cf4aa9\", element=\"5dd045e0-caab-4dd4-8646-84f2cb01845a\")>,\n",
       " <selenium.webdriver.remote.webelement.WebElement (session=\"4a662d73cd7278bd8ad18260a4cf4aa9\", element=\"e5a4c8e8-cc08-44bf-89da-0b1259530da9\")>,\n",
       " <selenium.webdriver.remote.webelement.WebElement (session=\"4a662d73cd7278bd8ad18260a4cf4aa9\", element=\"d4939803-3bfe-4af7-ae88-4ccd15076889\")>,\n",
       " <selenium.webdriver.remote.webelement.WebElement (session=\"4a662d73cd7278bd8ad18260a4cf4aa9\", element=\"8bfa905a-a0fc-42ee-82ea-ce4e202b81c8\")>,\n",
       " <selenium.webdriver.remote.webelement.WebElement (session=\"4a662d73cd7278bd8ad18260a4cf4aa9\", element=\"e1d77607-24b3-4290-baf2-d12582a04562\")>,\n",
       " <selenium.webdriver.remote.webelement.WebElement (session=\"4a662d73cd7278bd8ad18260a4cf4aa9\", element=\"3bae449b-8a4e-4e55-a862-bb88e7e84c9a\")>,\n",
       " <selenium.webdriver.remote.webelement.WebElement (session=\"4a662d73cd7278bd8ad18260a4cf4aa9\", element=\"ba13ec3e-dc8e-4cc2-a62d-f6d73ef7ddfb\")>,\n",
       " <selenium.webdriver.remote.webelement.WebElement (session=\"4a662d73cd7278bd8ad18260a4cf4aa9\", element=\"78906003-997d-44c4-8324-e9948d6e5932\")>,\n",
       " <selenium.webdriver.remote.webelement.WebElement (session=\"4a662d73cd7278bd8ad18260a4cf4aa9\", element=\"3bd59b04-1850-4319-8d14-624164b80a58\")>,\n",
       " <selenium.webdriver.remote.webelement.WebElement (session=\"4a662d73cd7278bd8ad18260a4cf4aa9\", element=\"184d2bf9-a177-47db-9411-d73814d0a0f8\")>]"
      ]
     },
     "execution_count": 19,
     "metadata": {},
     "output_type": "execute_result"
    }
   ],
   "source": [
    "driver.find_elements(By.TAG_NAME, \"strong\") # 태그명으로 가져오기"
   ]
  },
  {
   "cell_type": "code",
   "execution_count": 20,
   "id": "996b6082-a03b-4971-8f5b-9fdfea059a59",
   "metadata": {},
   "outputs": [
    {
     "data": {
      "text/plain": [
       "[<selenium.webdriver.remote.webelement.WebElement (session=\"4a662d73cd7278bd8ad18260a4cf4aa9\", element=\"332f9b66-e01a-4780-9650-e8f3151c60ce\")>]"
      ]
     },
     "execution_count": 20,
     "metadata": {},
     "output_type": "execute_result"
    }
   ],
   "source": [
    "driver.find_elements(By.CSS_SELECTOR, \"#lnb > ul > li:nth-child(12) > a > span\") # 개발자도구 가져올 부분 html > 오른쪽 클릭 > copy > copy selector"
   ]
  },
  {
   "cell_type": "code",
   "execution_count": 21,
   "id": "c196c504-af1e-4091-b13a-4950b783f81e",
   "metadata": {},
   "outputs": [
    {
     "data": {
      "text/plain": [
       "[<selenium.webdriver.remote.webelement.WebElement (session=\"4a662d73cd7278bd8ad18260a4cf4aa9\", element=\"332f9b66-e01a-4780-9650-e8f3151c60ce\")>]"
      ]
     },
     "execution_count": 21,
     "metadata": {},
     "output_type": "execute_result"
    }
   ],
   "source": [
    "driver.find_elements(By.XPATH, '//*[@id=\"lnb\"]/ul/li[12]/a/span') # COPY XPATH"
   ]
  },
  {
   "cell_type": "code",
   "execution_count": null,
   "id": "5c1ec82c-b8c8-4f75-82d5-0faa89d5f240",
   "metadata": {},
   "outputs": [],
   "source": []
  },
  {
   "cell_type": "code",
   "execution_count": null,
   "id": "76a93d89-94f0-4c11-bc47-409a0223fd1a",
   "metadata": {},
   "outputs": [],
   "source": []
  },
  {
   "cell_type": "code",
   "execution_count": 34,
   "id": "af6905ae-18cb-42c4-b810-09a893c24bad",
   "metadata": {},
   "outputs": [
    {
     "data": {
      "text/plain": [
       "[<selenium.webdriver.remote.webelement.WebElement (session=\"4e1e99c79a7478c966900dab75de1aca\", element=\"f5c9d708-a2af-405b-ba5a-ed3ebf338418\")>]"
      ]
     },
     "execution_count": 34,
     "metadata": {},
     "output_type": "execute_result"
    }
   ],
   "source": [
    "article = driver.find_elements(By.XPATH, '//*[@id=\"main_content\"]/div/div[2]/div[1]/div[1]/div[2]/ul/li[1]/div[2]/a')\n",
    "article"
   ]
  },
  {
   "cell_type": "code",
   "execution_count": 35,
   "id": "e46b5d72-5bcf-4212-969c-e56f5658f9ba",
   "metadata": {},
   "outputs": [],
   "source": [
    "article[0].click() # 클릭해! (그럼 우리가 원하는거 클릭됨!)"
   ]
  },
  {
   "cell_type": "code",
   "execution_count": 41,
   "id": "15cb6b6e-5cf3-4ff6-b80c-67bb5b899793",
   "metadata": {},
   "outputs": [
    {
     "data": {
      "text/plain": [
       "<selenium.webdriver.remote.webelement.WebElement (session=\"4e1e99c79a7478c966900dab75de1aca\", element=\"b7025027-70f5-4019-89af-9d45f95668db\")>"
      ]
     },
     "execution_count": 41,
     "metadata": {},
     "output_type": "execute_result"
    }
   ],
   "source": [
    "headline = driver.find_element(By.CLASS_NAME, 'media_end_head_headline') # elements > 리스트로 나옴(그러면 아래서 headline[0]이렇게 해야 됨. element로 하면 리스트로 안 나옴.\n",
    "headline"
   ]
  },
  {
   "cell_type": "code",
   "execution_count": 42,
   "id": "11c5aa37-fc3e-4e47-8cf9-fde26a62d66d",
   "metadata": {},
   "outputs": [
    {
     "data": {
      "text/plain": [
       "\"서울시, '주택 실거래 가격지수' 시범운영…시차 15일로 단축\""
      ]
     },
     "execution_count": 42,
     "metadata": {},
     "output_type": "execute_result"
    }
   ],
   "source": [
    "headline.text # selenium 객체에 있는 txt 내용 가져올 수 있음 / (아래)클래스와 html 소스코드도 가져올 수 있음"
   ]
  },
  {
   "cell_type": "code",
   "execution_count": 43,
   "id": "a87e29c8-a1c9-4460-be1e-684809d28b43",
   "metadata": {},
   "outputs": [
    {
     "data": {
      "text/plain": [
       "'media_end_head_headline'"
      ]
     },
     "execution_count": 43,
     "metadata": {},
     "output_type": "execute_result"
    }
   ],
   "source": [
    "headline.get_attribute('class') "
   ]
  },
  {
   "cell_type": "code",
   "execution_count": 47,
   "id": "cfa4df6a-b14e-4ece-a941-97a7aec997ae",
   "metadata": {},
   "outputs": [
    {
     "data": {
      "text/plain": [
       "\"<span>서울시, '주택 실거래 가격지수' 시범운영…시차 15일로 단축</span>\""
      ]
     },
     "execution_count": 47,
     "metadata": {},
     "output_type": "execute_result"
    }
   ],
   "source": [
    "headline.get_attribute('innerHTML')"
   ]
  },
  {
   "cell_type": "code",
   "execution_count": 49,
   "id": "cb708438-b90b-4be7-9a8f-fcea00550c60",
   "metadata": {},
   "outputs": [],
   "source": [
    "driver.back()"
   ]
  },
  {
   "cell_type": "code",
   "execution_count": 50,
   "id": "835e65b6-84bf-466d-93c6-39fd4c76140a",
   "metadata": {},
   "outputs": [
    {
     "data": {
      "text/plain": [
       "'https://news.naver.com/main/main.naver?mode=LSD&mid=shm&sid1=101'"
      ]
     },
     "execution_count": 50,
     "metadata": {},
     "output_type": "execute_result"
    }
   ],
   "source": [
    "driver.current_url"
   ]
  },
  {
   "cell_type": "code",
   "execution_count": null,
   "id": "5862711c-b0bb-4cf8-8ec7-38c4327eef3f",
   "metadata": {},
   "outputs": [],
   "source": []
  },
  {
   "cell_type": "markdown",
   "id": "c9717605-e1e3-442f-a347-5b35b78f3ceb",
   "metadata": {},
   "source": [
    "## 실습\n",
    "- 테마별 종목명 리스트 가져오기(테마별 기업목록 가져오기)\n",
    "- https://finance.naver.com/sise/theme.naver?&page=1"
   ]
  },
  {
   "cell_type": "code",
   "execution_count": 29,
   "id": "cfda39c1-f54b-4443-9947-af74949e15a3",
   "metadata": {},
   "outputs": [],
   "source": [
    "# 강사님 코드"
   ]
  },
  {
   "cell_type": "code",
   "execution_count": 121,
   "id": "8b35ad3b-7a65-495b-9498-30346399eb85",
   "metadata": {},
   "outputs": [
    {
     "name": "stderr",
     "output_type": "stream",
     "text": [
      "C:\\Users\\SBAUser\\AppData\\Local\\Temp\\ipykernel_7632\\328622009.py:2: DeprecationWarning: executable_path has been deprecated, please pass in a Service object\n",
      "  driver = webdriver.Chrome(\"C:/Users/SBAUser/Downloads/chromedriver_win32/chromedriver\")\n"
     ]
    }
   ],
   "source": [
    "from selenium import webdriver\n",
    "driver = webdriver.Chrome(\"C:/Users/SBAUser/Downloads/chromedriver_win32/chromedriver\")\n",
    "url = \"https://finance.naver.com/sise/theme.naver?&page=1\"\n",
    "driver.get(url) \n",
    "driver.implicitly_wait(10) "
   ]
  },
  {
   "cell_type": "code",
   "execution_count": 122,
   "id": "a29ab557-bd27-4a6f-8a9a-5ed838f36754",
   "metadata": {},
   "outputs": [],
   "source": [
    "from selenium.webdriver.common.by import By\n",
    "elements = driver.find_elements(By.CLASS_NAME, \"col_type1\") # elements니까 list로 가져옴"
   ]
  },
  {
   "cell_type": "code",
   "execution_count": 123,
   "id": "12030f89-d3fa-41c4-89ff-8ce5ae0c8c45",
   "metadata": {},
   "outputs": [
    {
     "name": "stdout",
     "output_type": "stream",
     "text": [
      "테마명\n",
      "애플페이\n",
      "요소수 관련주\n",
      "콜드체인(저온 유통)\n",
      "희귀금속(희토류 등)\n",
      "코로나19(카모스타트)\n",
      "여행\n",
      "수산\n",
      "면세점\n",
      "2022 상반기 신규상장\n",
      "폐기물처리\n",
      "모바일솔루션(스마트폰)\n",
      "소모성자재구매대행(MRO)\n",
      "아스콘(아스팔트 콘크리트)\n",
      "골판지 제조\n",
      "사료\n",
      "항공/저가 항공사(LCC)\n",
      "코로나19(화이자)\n",
      "리튬 관련주\n",
      "철강 중소형\n",
      "전자파\n",
      "구제역/광우병 수혜\n",
      "태풍 및 장마\n",
      "카지노\n",
      "비료\n",
      "스포츠행사 수혜(올림픽, 월드컵 등)\n",
      "코로나19(나파모스타트)\n",
      "2차전지(소재/부품)\n",
      "제4이동통신\n",
      "온실가스(탄소배출권)\n",
      "CCTV＆DVR\n",
      "니켈 관련주\n",
      "비철금속\n",
      "북한 광물자원개발\n",
      "아프리카 돼지열병(ASF)\n",
      "제지\n",
      "주류업(주정, 에탄올 등)\n",
      "화학섬유\n",
      "육계\n",
      "생명보험\n",
      "강관업체(Steel pipe)\n"
     ]
    }
   ],
   "source": [
    "for element in elements:\n",
    "    sector_name = element.text\n",
    "    print(sector_name)"
   ]
  },
  {
   "cell_type": "code",
   "execution_count": 124,
   "id": "703faad7-a48c-4b3c-bf04-9194f6316290",
   "metadata": {},
   "outputs": [],
   "source": [
    "elements[1].click() # 애플페이 클릭"
   ]
  },
  {
   "cell_type": "code",
   "execution_count": 128,
   "id": "fb866464-0f6e-411c-a52e-7d639704d715",
   "metadata": {},
   "outputs": [
    {
     "name": "stdout",
     "output_type": "stream",
     "text": [
      "['하인크코리아', '이루온', '한국정보통신', 'NICE', '셀피글로벌', 'KG이니시스', '나이스정보통신']\n"
     ]
    }
   ],
   "source": [
    "stock_list = []\n",
    "elements_details = driver.find_elements(By.CLASS_NAME, \"name_area\")\n",
    "for detail in elements_details:\n",
    "    stock_name = detail.text.split(' ')[0] # 뒤에 잡다한것 없애기 > split\n",
    "    stock_list.append(stock_name)"
   ]
  },
  {
   "cell_type": "markdown",
   "id": "81449e92-f004-4318-b730-91bff8400524",
   "metadata": {},
   "source": [
    "## 1차 정리"
   ]
  },
  {
   "cell_type": "code",
   "execution_count": 135,
   "id": "ad27f1a0-e202-440e-bc53-9dfa48b4dd21",
   "metadata": {
    "collapsed": true,
    "jupyter": {
     "outputs_hidden": true
    },
    "tags": []
   },
   "outputs": [
    {
     "name": "stderr",
     "output_type": "stream",
     "text": [
      "C:\\Users\\SBAUser\\AppData\\Local\\Temp\\ipykernel_7632\\3152970496.py:2: DeprecationWarning: executable_path has been deprecated, please pass in a Service object\n",
      "  driver = webdriver.Chrome(\"C:/Users/SBAUser/Downloads/chromedriver_win32/chromedriver\")\n"
     ]
    },
    {
     "name": "stdout",
     "output_type": "stream",
     "text": [
      "애플페이\n"
     ]
    },
    {
     "ename": "StaleElementReferenceException",
     "evalue": "Message: stale element reference: element is not attached to the page document\n  (Session info: chrome=109.0.5414.120)\nStacktrace:\nBacktrace:\n\t(No symbol) [0x010B6643]\n\t(No symbol) [0x0104BE21]\n\t(No symbol) [0x00F4DA9D]\n\t(No symbol) [0x00F509E4]\n\t(No symbol) [0x00F508AD]\n\t(No symbol) [0x00F50B30]\n\t(No symbol) [0x00F7C7C0]\n\t(No symbol) [0x00F9FD7C]\n\t(No symbol) [0x00F7641F]\n\t(No symbol) [0x00FA00D4]\n\t(No symbol) [0x00FB6B09]\n\t(No symbol) [0x00F9FB76]\n\t(No symbol) [0x00F749C1]\n\t(No symbol) [0x00F75E5D]\n\tGetHandleVerifier [0x0132A142+2497106]\n\tGetHandleVerifier [0x013585D3+2686691]\n\tGetHandleVerifier [0x0135BB9C+2700460]\n\tGetHandleVerifier [0x01163B10+635936]\n\t(No symbol) [0x01054A1F]\n\t(No symbol) [0x0105A418]\n\t(No symbol) [0x0105A505]\n\t(No symbol) [0x0106508B]\n\tBaseThreadInitThunk [0x751C6BD9+25]\n\tRtlGetFullPathName_UEx [0x770F8FD2+1218]\n\tRtlGetFullPathName_UEx [0x770F8F9D+1165]\n",
     "output_type": "error",
     "traceback": [
      "\u001b[1;31m---------------------------------------------------------------------------\u001b[0m",
      "\u001b[1;31mStaleElementReferenceException\u001b[0m            Traceback (most recent call last)",
      "\u001b[1;32m~\\AppData\\Local\\Temp\\ipykernel_7632\\3152970496.py\u001b[0m in \u001b[0;36m<module>\u001b[1;34m\u001b[0m\n\u001b[0;32m     11\u001b[0m \u001b[0mresult\u001b[0m \u001b[1;33m=\u001b[0m \u001b[1;33m{\u001b[0m\u001b[1;33m}\u001b[0m\u001b[1;33m\u001b[0m\u001b[1;33m\u001b[0m\u001b[0m\n\u001b[0;32m     12\u001b[0m \u001b[1;32mfor\u001b[0m \u001b[0melement\u001b[0m \u001b[1;32min\u001b[0m \u001b[0melements\u001b[0m\u001b[1;33m[\u001b[0m\u001b[1;36m1\u001b[0m\u001b[1;33m:\u001b[0m\u001b[1;33m]\u001b[0m\u001b[1;33m:\u001b[0m\u001b[1;33m\u001b[0m\u001b[1;33m\u001b[0m\u001b[0m\n\u001b[1;32m---> 13\u001b[1;33m     \u001b[0msector_name\u001b[0m \u001b[1;33m=\u001b[0m \u001b[0melement\u001b[0m\u001b[1;33m.\u001b[0m\u001b[0mtext\u001b[0m\u001b[1;33m\u001b[0m\u001b[1;33m\u001b[0m\u001b[0m\n\u001b[0m\u001b[0;32m     14\u001b[0m     \u001b[0melement\u001b[0m\u001b[1;33m.\u001b[0m\u001b[0mclick\u001b[0m\u001b[1;33m(\u001b[0m\u001b[1;33m)\u001b[0m \u001b[1;31m# 섹터 클릭\u001b[0m\u001b[1;33m\u001b[0m\u001b[1;33m\u001b[0m\u001b[0m\n\u001b[0;32m     15\u001b[0m     \u001b[0mdriver\u001b[0m\u001b[1;33m.\u001b[0m\u001b[0mimplicitly_wait\u001b[0m\u001b[1;33m(\u001b[0m\u001b[1;36m10\u001b[0m\u001b[1;33m)\u001b[0m \u001b[1;31m# 웹페이지가 열릴 때 까지 대기\u001b[0m\u001b[1;33m\u001b[0m\u001b[1;33m\u001b[0m\u001b[0m\n",
      "\u001b[1;32m~\\anaconda3\\lib\\site-packages\\selenium\\webdriver\\remote\\webelement.py\u001b[0m in \u001b[0;36mtext\u001b[1;34m(self)\u001b[0m\n\u001b[0;32m     87\u001b[0m     \u001b[1;32mdef\u001b[0m \u001b[0mtext\u001b[0m\u001b[1;33m(\u001b[0m\u001b[0mself\u001b[0m\u001b[1;33m)\u001b[0m \u001b[1;33m->\u001b[0m \u001b[0mstr\u001b[0m\u001b[1;33m:\u001b[0m\u001b[1;33m\u001b[0m\u001b[1;33m\u001b[0m\u001b[0m\n\u001b[0;32m     88\u001b[0m         \u001b[1;34m\"\"\"The text of the element.\"\"\"\u001b[0m\u001b[1;33m\u001b[0m\u001b[1;33m\u001b[0m\u001b[0m\n\u001b[1;32m---> 89\u001b[1;33m         \u001b[1;32mreturn\u001b[0m \u001b[0mself\u001b[0m\u001b[1;33m.\u001b[0m\u001b[0m_execute\u001b[0m\u001b[1;33m(\u001b[0m\u001b[0mCommand\u001b[0m\u001b[1;33m.\u001b[0m\u001b[0mGET_ELEMENT_TEXT\u001b[0m\u001b[1;33m)\u001b[0m\u001b[1;33m[\u001b[0m\u001b[1;34m\"value\"\u001b[0m\u001b[1;33m]\u001b[0m\u001b[1;33m\u001b[0m\u001b[1;33m\u001b[0m\u001b[0m\n\u001b[0m\u001b[0;32m     90\u001b[0m \u001b[1;33m\u001b[0m\u001b[0m\n\u001b[0;32m     91\u001b[0m     \u001b[1;32mdef\u001b[0m \u001b[0mclick\u001b[0m\u001b[1;33m(\u001b[0m\u001b[0mself\u001b[0m\u001b[1;33m)\u001b[0m \u001b[1;33m->\u001b[0m \u001b[1;32mNone\u001b[0m\u001b[1;33m:\u001b[0m\u001b[1;33m\u001b[0m\u001b[1;33m\u001b[0m\u001b[0m\n",
      "\u001b[1;32m~\\anaconda3\\lib\\site-packages\\selenium\\webdriver\\remote\\webelement.py\u001b[0m in \u001b[0;36m_execute\u001b[1;34m(self, command, params)\u001b[0m\n\u001b[0;32m    401\u001b[0m             \u001b[0mparams\u001b[0m \u001b[1;33m=\u001b[0m \u001b[1;33m{\u001b[0m\u001b[1;33m}\u001b[0m\u001b[1;33m\u001b[0m\u001b[1;33m\u001b[0m\u001b[0m\n\u001b[0;32m    402\u001b[0m         \u001b[0mparams\u001b[0m\u001b[1;33m[\u001b[0m\u001b[1;34m\"id\"\u001b[0m\u001b[1;33m]\u001b[0m \u001b[1;33m=\u001b[0m \u001b[0mself\u001b[0m\u001b[1;33m.\u001b[0m\u001b[0m_id\u001b[0m\u001b[1;33m\u001b[0m\u001b[1;33m\u001b[0m\u001b[0m\n\u001b[1;32m--> 403\u001b[1;33m         \u001b[1;32mreturn\u001b[0m \u001b[0mself\u001b[0m\u001b[1;33m.\u001b[0m\u001b[0m_parent\u001b[0m\u001b[1;33m.\u001b[0m\u001b[0mexecute\u001b[0m\u001b[1;33m(\u001b[0m\u001b[0mcommand\u001b[0m\u001b[1;33m,\u001b[0m \u001b[0mparams\u001b[0m\u001b[1;33m)\u001b[0m\u001b[1;33m\u001b[0m\u001b[1;33m\u001b[0m\u001b[0m\n\u001b[0m\u001b[0;32m    404\u001b[0m \u001b[1;33m\u001b[0m\u001b[0m\n\u001b[0;32m    405\u001b[0m     \u001b[1;32mdef\u001b[0m \u001b[0mfind_element\u001b[0m\u001b[1;33m(\u001b[0m\u001b[0mself\u001b[0m\u001b[1;33m,\u001b[0m \u001b[0mby\u001b[0m\u001b[1;33m=\u001b[0m\u001b[0mBy\u001b[0m\u001b[1;33m.\u001b[0m\u001b[0mID\u001b[0m\u001b[1;33m,\u001b[0m \u001b[0mvalue\u001b[0m\u001b[1;33m=\u001b[0m\u001b[1;32mNone\u001b[0m\u001b[1;33m)\u001b[0m \u001b[1;33m->\u001b[0m \u001b[0mWebElement\u001b[0m\u001b[1;33m:\u001b[0m\u001b[1;33m\u001b[0m\u001b[1;33m\u001b[0m\u001b[0m\n",
      "\u001b[1;32m~\\anaconda3\\lib\\site-packages\\selenium\\webdriver\\remote\\webdriver.py\u001b[0m in \u001b[0;36mexecute\u001b[1;34m(self, driver_command, params)\u001b[0m\n\u001b[0;32m    438\u001b[0m         \u001b[0mresponse\u001b[0m \u001b[1;33m=\u001b[0m \u001b[0mself\u001b[0m\u001b[1;33m.\u001b[0m\u001b[0mcommand_executor\u001b[0m\u001b[1;33m.\u001b[0m\u001b[0mexecute\u001b[0m\u001b[1;33m(\u001b[0m\u001b[0mdriver_command\u001b[0m\u001b[1;33m,\u001b[0m \u001b[0mparams\u001b[0m\u001b[1;33m)\u001b[0m\u001b[1;33m\u001b[0m\u001b[1;33m\u001b[0m\u001b[0m\n\u001b[0;32m    439\u001b[0m         \u001b[1;32mif\u001b[0m \u001b[0mresponse\u001b[0m\u001b[1;33m:\u001b[0m\u001b[1;33m\u001b[0m\u001b[1;33m\u001b[0m\u001b[0m\n\u001b[1;32m--> 440\u001b[1;33m             \u001b[0mself\u001b[0m\u001b[1;33m.\u001b[0m\u001b[0merror_handler\u001b[0m\u001b[1;33m.\u001b[0m\u001b[0mcheck_response\u001b[0m\u001b[1;33m(\u001b[0m\u001b[0mresponse\u001b[0m\u001b[1;33m)\u001b[0m\u001b[1;33m\u001b[0m\u001b[1;33m\u001b[0m\u001b[0m\n\u001b[0m\u001b[0;32m    441\u001b[0m             \u001b[0mresponse\u001b[0m\u001b[1;33m[\u001b[0m\u001b[1;34m\"value\"\u001b[0m\u001b[1;33m]\u001b[0m \u001b[1;33m=\u001b[0m \u001b[0mself\u001b[0m\u001b[1;33m.\u001b[0m\u001b[0m_unwrap_value\u001b[0m\u001b[1;33m(\u001b[0m\u001b[0mresponse\u001b[0m\u001b[1;33m.\u001b[0m\u001b[0mget\u001b[0m\u001b[1;33m(\u001b[0m\u001b[1;34m\"value\"\u001b[0m\u001b[1;33m,\u001b[0m \u001b[1;32mNone\u001b[0m\u001b[1;33m)\u001b[0m\u001b[1;33m)\u001b[0m\u001b[1;33m\u001b[0m\u001b[1;33m\u001b[0m\u001b[0m\n\u001b[0;32m    442\u001b[0m             \u001b[1;32mreturn\u001b[0m \u001b[0mresponse\u001b[0m\u001b[1;33m\u001b[0m\u001b[1;33m\u001b[0m\u001b[0m\n",
      "\u001b[1;32m~\\anaconda3\\lib\\site-packages\\selenium\\webdriver\\remote\\errorhandler.py\u001b[0m in \u001b[0;36mcheck_response\u001b[1;34m(self, response)\u001b[0m\n\u001b[0;32m    243\u001b[0m                 \u001b[0malert_text\u001b[0m \u001b[1;33m=\u001b[0m \u001b[0mvalue\u001b[0m\u001b[1;33m[\u001b[0m\u001b[1;34m\"alert\"\u001b[0m\u001b[1;33m]\u001b[0m\u001b[1;33m.\u001b[0m\u001b[0mget\u001b[0m\u001b[1;33m(\u001b[0m\u001b[1;34m\"text\"\u001b[0m\u001b[1;33m)\u001b[0m\u001b[1;33m\u001b[0m\u001b[1;33m\u001b[0m\u001b[0m\n\u001b[0;32m    244\u001b[0m             \u001b[1;32mraise\u001b[0m \u001b[0mexception_class\u001b[0m\u001b[1;33m(\u001b[0m\u001b[0mmessage\u001b[0m\u001b[1;33m,\u001b[0m \u001b[0mscreen\u001b[0m\u001b[1;33m,\u001b[0m \u001b[0mstacktrace\u001b[0m\u001b[1;33m,\u001b[0m \u001b[0malert_text\u001b[0m\u001b[1;33m)\u001b[0m  \u001b[1;31m# type: ignore[call-arg]  # mypy is not smart enough here\u001b[0m\u001b[1;33m\u001b[0m\u001b[1;33m\u001b[0m\u001b[0m\n\u001b[1;32m--> 245\u001b[1;33m         \u001b[1;32mraise\u001b[0m \u001b[0mexception_class\u001b[0m\u001b[1;33m(\u001b[0m\u001b[0mmessage\u001b[0m\u001b[1;33m,\u001b[0m \u001b[0mscreen\u001b[0m\u001b[1;33m,\u001b[0m \u001b[0mstacktrace\u001b[0m\u001b[1;33m)\u001b[0m\u001b[1;33m\u001b[0m\u001b[1;33m\u001b[0m\u001b[0m\n\u001b[0m",
      "\u001b[1;31mStaleElementReferenceException\u001b[0m: Message: stale element reference: element is not attached to the page document\n  (Session info: chrome=109.0.5414.120)\nStacktrace:\nBacktrace:\n\t(No symbol) [0x010B6643]\n\t(No symbol) [0x0104BE21]\n\t(No symbol) [0x00F4DA9D]\n\t(No symbol) [0x00F509E4]\n\t(No symbol) [0x00F508AD]\n\t(No symbol) [0x00F50B30]\n\t(No symbol) [0x00F7C7C0]\n\t(No symbol) [0x00F9FD7C]\n\t(No symbol) [0x00F7641F]\n\t(No symbol) [0x00FA00D4]\n\t(No symbol) [0x00FB6B09]\n\t(No symbol) [0x00F9FB76]\n\t(No symbol) [0x00F749C1]\n\t(No symbol) [0x00F75E5D]\n\tGetHandleVerifier [0x0132A142+2497106]\n\tGetHandleVerifier [0x013585D3+2686691]\n\tGetHandleVerifier [0x0135BB9C+2700460]\n\tGetHandleVerifier [0x01163B10+635936]\n\t(No symbol) [0x01054A1F]\n\t(No symbol) [0x0105A418]\n\t(No symbol) [0x0105A505]\n\t(No symbol) [0x0106508B]\n\tBaseThreadInitThunk [0x751C6BD9+25]\n\tRtlGetFullPathName_UEx [0x770F8FD2+1218]\n\tRtlGetFullPathName_UEx [0x770F8F9D+1165]\n"
     ]
    }
   ],
   "source": [
    "from selenium import webdriver\n",
    "driver = webdriver.Chrome(\"C:/Users/SBAUser/Downloads/chromedriver_win32/chromedriver\")\n",
    "url = \"https://finance.naver.com/sise/theme.naver?&page=1\"\n",
    "driver.get(url) \n",
    "driver.implicitly_wait(10) # 웹페이지가 열릴 때 까지 대기\n",
    "\n",
    "# 테마목록 가져오기\n",
    "from selenium.webdriver.common.by import By\n",
    "total_sector_count = len(driver.find_elements(By.CLASS_NAME, \"col_type1\")) # index로 가지고 오기 위해서 개수 세기\n",
    "driver.implicitly_wait(10)\n",
    "\n",
    "for element_idx in range(1,total_sector_count): \n",
    "    element = driver.find_elements(By.CLASS_NAME, \"col_type1\")[element_idx]\n",
    "    driver.implicitly_wait(10) # 페이지가 전부 로딩될때까지 최대 10초 기다리기\n",
    "\n",
    "    theme = element.find_element(By.TAG_NAME, 'a')\n",
    "    theme_name = theme.text # 테마 이름 저장\n",
    "    theme.click()\n",
    "    driver.implicitly_wait(10) # 페이지가 전부 로딩될때까지 최대 10초 기다리기\n",
    "    theme_stork_names = driver.find_elements(By.CLASS_NAME, 'name_area')\n",
    "    # theme_stork_names_list = []\n",
    "    # for theme_stork in theme_stork_names:\n",
    "    #   detail_element = theme_stork.find_element(By.TAG_NAME, 'a').text\n",
    "    #   theme_stork_names_list.append(detail_element)\n",
    "    theme_stork_names_list = [theme_stork.find_element(By.TAG_NAME, 'a').text for theme_stork in theme_stork_names] # list comprehension (=위 4줄)\n",
    "    # driver.implicitly_wait(10)\n",
    "    driver.back()\n",
    "    driver.implicitly_wait(10)\n",
    "    print(theme_name)\n",
    "    print(theme_stork_names_list)"
   ]
  },
  {
   "cell_type": "markdown",
   "id": "899f57f6-87ee-47df-92d5-589bcd53478c",
   "metadata": {},
   "source": [
    "- 함수로 만들어보자!!!"
   ]
  },
  {
   "cell_type": "code",
   "execution_count": 3,
   "id": "89729d27-bc01-405f-ac7b-abba11fc9533",
   "metadata": {},
   "outputs": [
    {
     "name": "stdout",
     "output_type": "stream",
     "text": [
      "Collecting selenium\n",
      "  Downloading selenium-4.8.0-py3-none-any.whl (6.3 MB)\n",
      "     ---------------------------------------- 6.3/6.3 MB 5.7 MB/s eta 0:00:00\n",
      "Collecting trio-websocket~=0.9\n",
      "  Downloading trio_websocket-0.9.2-py3-none-any.whl (16 kB)\n",
      "Requirement already satisfied: urllib3[socks]~=1.26 in c:\\users\\user\\.venv\\second_day\\lib\\site-packages (from selenium) (1.26.12)\n",
      "Requirement already satisfied: certifi>=2021.10.8 in c:\\users\\user\\.venv\\second_day\\lib\\site-packages (from selenium) (2022.9.24)\n",
      "Collecting trio~=0.17\n",
      "  Downloading trio-0.22.0-py3-none-any.whl (384 kB)\n",
      "     -------------------------------------- 384.9/384.9 kB 4.0 MB/s eta 0:00:00\n",
      "Collecting sortedcontainers\n",
      "  Downloading sortedcontainers-2.4.0-py2.py3-none-any.whl (29 kB)\n",
      "Collecting exceptiongroup>=1.0.0rc9\n",
      "  Downloading exceptiongroup-1.1.0-py3-none-any.whl (14 kB)\n",
      "Collecting outcome\n",
      "  Downloading outcome-1.2.0-py2.py3-none-any.whl (9.7 kB)\n",
      "Collecting async-generator>=1.9\n",
      "  Downloading async_generator-1.10-py3-none-any.whl (18 kB)\n",
      "Requirement already satisfied: sniffio in c:\\users\\user\\.venv\\second_day\\lib\\site-packages (from trio~=0.17->selenium) (1.3.0)\n",
      "Requirement already satisfied: idna in c:\\users\\user\\.venv\\second_day\\lib\\site-packages (from trio~=0.17->selenium) (3.4)\n",
      "Requirement already satisfied: attrs>=19.2.0 in c:\\users\\user\\.venv\\second_day\\lib\\site-packages (from trio~=0.17->selenium) (22.1.0)\n",
      "Requirement already satisfied: cffi>=1.14 in c:\\users\\user\\.venv\\second_day\\lib\\site-packages (from trio~=0.17->selenium) (1.15.1)\n",
      "Collecting wsproto>=0.14\n",
      "  Downloading wsproto-1.2.0-py3-none-any.whl (24 kB)\n",
      "Collecting PySocks!=1.5.7,<2.0,>=1.5.6\n",
      "  Downloading PySocks-1.7.1-py3-none-any.whl (16 kB)\n",
      "Requirement already satisfied: pycparser in c:\\users\\user\\.venv\\second_day\\lib\\site-packages (from cffi>=1.14->trio~=0.17->selenium) (2.21)\n",
      "Collecting h11<1,>=0.9.0\n",
      "  Downloading h11-0.14.0-py3-none-any.whl (58 kB)\n",
      "     ---------------------------------------- 58.3/58.3 kB 1.0 MB/s eta 0:00:00\n",
      "Installing collected packages: sortedcontainers, PySocks, outcome, h11, exceptiongroup, async-generator, wsproto, trio, trio-websocket, selenium\n",
      "Successfully installed PySocks-1.7.1 async-generator-1.10 exceptiongroup-1.1.0 h11-0.14.0 outcome-1.2.0 selenium-4.8.0 sortedcontainers-2.4.0 trio-0.22.0 trio-websocket-0.9.2 wsproto-1.2.0\n"
     ]
    },
    {
     "name": "stderr",
     "output_type": "stream",
     "text": [
      "\n",
      "[notice] A new release of pip available: 22.3.1 -> 23.0\n",
      "[notice] To update, run: python.exe -m pip install --upgrade pip\n"
     ]
    },
    {
     "name": "stdout",
     "output_type": "stream",
     "text": [
      "Requirement already satisfied: selenium in c:\\users\\user\\.venv\\second_day\\lib\\site-packages (4.8.0)"
     ]
    },
    {
     "name": "stderr",
     "output_type": "stream",
     "text": [
      "\n",
      "[notice] A new release of pip available: 22.3.1 -> 23.0\n",
      "[notice] To update, run: python.exe -m pip install --upgrade pip\n"
     ]
    },
    {
     "name": "stdout",
     "output_type": "stream",
     "text": [
      "\n",
      "Requirement already satisfied: trio~=0.17 in c:\\users\\user\\.venv\\second_day\\lib\\site-packages (from selenium) (0.22.0)\n",
      "Requirement already satisfied: certifi>=2021.10.8 in c:\\users\\user\\.venv\\second_day\\lib\\site-packages (from selenium) (2022.9.24)\n",
      "Requirement already satisfied: trio-websocket~=0.9 in c:\\users\\user\\.venv\\second_day\\lib\\site-packages (from selenium) (0.9.2)\n",
      "Requirement already satisfied: urllib3[socks]~=1.26 in c:\\users\\user\\.venv\\second_day\\lib\\site-packages (from selenium) (1.26.12)\n",
      "Requirement already satisfied: sortedcontainers in c:\\users\\user\\.venv\\second_day\\lib\\site-packages (from trio~=0.17->selenium) (2.4.0)\n",
      "Requirement already satisfied: sniffio in c:\\users\\user\\.venv\\second_day\\lib\\site-packages (from trio~=0.17->selenium) (1.3.0)\n",
      "Requirement already satisfied: cffi>=1.14 in c:\\users\\user\\.venv\\second_day\\lib\\site-packages (from trio~=0.17->selenium) (1.15.1)\n",
      "Requirement already satisfied: idna in c:\\users\\user\\.venv\\second_day\\lib\\site-packages (from trio~=0.17->selenium) (3.4)\n",
      "Requirement already satisfied: exceptiongroup>=1.0.0rc9 in c:\\users\\user\\.venv\\second_day\\lib\\site-packages (from trio~=0.17->selenium) (1.1.0)\n",
      "Requirement already satisfied: attrs>=19.2.0 in c:\\users\\user\\.venv\\second_day\\lib\\site-packages (from trio~=0.17->selenium) (22.1.0)\n",
      "Requirement already satisfied: outcome in c:\\users\\user\\.venv\\second_day\\lib\\site-packages (from trio~=0.17->selenium) (1.2.0)\n",
      "Requirement already satisfied: async-generator>=1.9 in c:\\users\\user\\.venv\\second_day\\lib\\site-packages (from trio~=0.17->selenium) (1.10)\n",
      "Requirement already satisfied: wsproto>=0.14 in c:\\users\\user\\.venv\\second_day\\lib\\site-packages (from trio-websocket~=0.9->selenium) (1.2.0)\n",
      "Requirement already satisfied: PySocks!=1.5.7,<2.0,>=1.5.6 in c:\\users\\user\\.venv\\second_day\\lib\\site-packages (from urllib3[socks]~=1.26->selenium) (1.7.1)\n",
      "Requirement already satisfied: pycparser in c:\\users\\user\\.venv\\second_day\\lib\\site-packages (from cffi>=1.14->trio~=0.17->selenium) (2.21)\n",
      "Requirement already satisfied: h11<1,>=0.9.0 in c:\\users\\user\\.venv\\second_day\\lib\\site-packages (from wsproto>=0.14->trio-websocket~=0.9->selenium) (0.14.0)\n"
     ]
    }
   ],
   "source": [
    "!pip install selenium"
   ]
  },
  {
   "cell_type": "code",
   "execution_count": 6,
   "id": "e65918de-6d82-445c-96d5-8206b6bd6136",
   "metadata": {},
   "outputs": [],
   "source": [
    "def get_page_data(dict, driver):\n",
    "    total_sector_count = len(driver.find_elements(By.CLASS_NAME, \"col_type1\")) # index로 가지고 오기 위해서 개수 세기\n",
    "    driver.implicitly_wait(10)\n",
    "\n",
    "    for element_idx in range(1,total_sector_count): \n",
    "        element = driver.find_elements(By.CLASS_NAME, \"col_type1\")[element_idx]\n",
    "        driver.implicitly_wait(10) # 페이지가 전부 로딩될때까지 최대 10초 기다리기\n",
    "\n",
    "        theme = element.find_element(By.TAG_NAME, 'a')\n",
    "        theme_name = theme.text # 테마 이름 저장\n",
    "        theme.click()\n",
    "        driver.implicitly_wait(10) # 페이지가 전부 로딩될때까지 최대 10초 기다리기\n",
    "        theme_stork_names = driver.find_elements(By.CLASS_NAME, 'name_area')\n",
    "        theme_stork_names_list = [theme_stork.find_element(By.TAG_NAME, 'a').text for theme_stork in theme_stork_names] # list comprehension (=위 4줄)\n",
    "        # driver.implicitly_wait(10)\n",
    "        driver.back()\n",
    "        driver.implicitly_wait(10)\n",
    "        print(theme_name, theme_stork_names_list)\n",
    "        dict[theme_name] = theme_stork_names_list"
   ]
  },
  {
   "cell_type": "code",
   "execution_count": 7,
   "id": "f771cee2-826e-463d-8aa4-edd61993b0b1",
   "metadata": {
    "collapsed": true,
    "jupyter": {
     "outputs_hidden": true
    },
    "tags": []
   },
   "outputs": [
    {
     "name": "stderr",
     "output_type": "stream",
     "text": [
      "C:\\Users\\User\\AppData\\Local\\Temp\\ipykernel_32280\\1825686770.py:2: DeprecationWarning: executable_path has been deprecated, please pass in a Service object\n",
      "  driver = webdriver.Chrome(\"C:/Users/SBAUser/Downloads/chromedriver_win32/chromedriver\")\n"
     ]
    },
    {
     "name": "stdout",
     "output_type": "stream",
     "text": [
      "2023 상반기 신규상장 ['스튜디오미르', '오브젠', '한주라이트메탈', '삼기이브이', '티이엠씨', '미래반도체']\n",
      "SNS(소셜네트워크서비스) ['유엔젤', '인포뱅크', '카카오', 'NAVER', 'NHN벅스', '가비아', '아프리카TV', '젬백스링크', '이루온', '갤럭시아머니트리']\n"
     ]
    },
    {
     "ename": "KeyboardInterrupt",
     "evalue": "",
     "output_type": "error",
     "traceback": [
      "\u001b[1;31m---------------------------------------------------------------------------\u001b[0m",
      "\u001b[1;31mKeyboardInterrupt\u001b[0m                         Traceback (most recent call last)",
      "Cell \u001b[1;32mIn [7], line 10\u001b[0m\n\u001b[0;32m      8\u001b[0m \u001b[38;5;66;03m# 테마목록 가져오기\u001b[39;00m\n\u001b[0;32m      9\u001b[0m \u001b[38;5;28;01mfrom\u001b[39;00m \u001b[38;5;21;01mselenium\u001b[39;00m\u001b[38;5;21;01m.\u001b[39;00m\u001b[38;5;21;01mwebdriver\u001b[39;00m\u001b[38;5;21;01m.\u001b[39;00m\u001b[38;5;21;01mcommon\u001b[39;00m\u001b[38;5;21;01m.\u001b[39;00m\u001b[38;5;21;01mby\u001b[39;00m \u001b[38;5;28;01mimport\u001b[39;00m By\n\u001b[1;32m---> 10\u001b[0m \u001b[43mget_page_data\u001b[49m\u001b[43m(\u001b[49m\u001b[43mresult\u001b[49m\u001b[43m,\u001b[49m\u001b[43m \u001b[49m\u001b[43mdriver\u001b[49m\u001b[43m)\u001b[49m\n",
      "Cell \u001b[1;32mIn [6], line 14\u001b[0m, in \u001b[0;36mget_page_data\u001b[1;34m(dict, driver)\u001b[0m\n\u001b[0;32m     12\u001b[0m driver\u001b[38;5;241m.\u001b[39mimplicitly_wait(\u001b[38;5;241m10\u001b[39m) \u001b[38;5;66;03m# 페이지가 전부 로딩될때까지 최대 10초 기다리기\u001b[39;00m\n\u001b[0;32m     13\u001b[0m theme_stork_names \u001b[38;5;241m=\u001b[39m driver\u001b[38;5;241m.\u001b[39mfind_elements(By\u001b[38;5;241m.\u001b[39mCLASS_NAME, \u001b[38;5;124m'\u001b[39m\u001b[38;5;124mname_area\u001b[39m\u001b[38;5;124m'\u001b[39m)\n\u001b[1;32m---> 14\u001b[0m theme_stork_names_list \u001b[38;5;241m=\u001b[39m [theme_stork\u001b[38;5;241m.\u001b[39mfind_element(By\u001b[38;5;241m.\u001b[39mTAG_NAME, \u001b[38;5;124m'\u001b[39m\u001b[38;5;124ma\u001b[39m\u001b[38;5;124m'\u001b[39m)\u001b[38;5;241m.\u001b[39mtext \u001b[38;5;28;01mfor\u001b[39;00m theme_stork \u001b[38;5;129;01min\u001b[39;00m theme_stork_names] \u001b[38;5;66;03m# list comprehension (=위 4줄)\u001b[39;00m\n\u001b[0;32m     15\u001b[0m \u001b[38;5;66;03m# driver.implicitly_wait(10)\u001b[39;00m\n\u001b[0;32m     16\u001b[0m driver\u001b[38;5;241m.\u001b[39mback()\n",
      "Cell \u001b[1;32mIn [6], line 14\u001b[0m, in \u001b[0;36m<listcomp>\u001b[1;34m(.0)\u001b[0m\n\u001b[0;32m     12\u001b[0m driver\u001b[38;5;241m.\u001b[39mimplicitly_wait(\u001b[38;5;241m10\u001b[39m) \u001b[38;5;66;03m# 페이지가 전부 로딩될때까지 최대 10초 기다리기\u001b[39;00m\n\u001b[0;32m     13\u001b[0m theme_stork_names \u001b[38;5;241m=\u001b[39m driver\u001b[38;5;241m.\u001b[39mfind_elements(By\u001b[38;5;241m.\u001b[39mCLASS_NAME, \u001b[38;5;124m'\u001b[39m\u001b[38;5;124mname_area\u001b[39m\u001b[38;5;124m'\u001b[39m)\n\u001b[1;32m---> 14\u001b[0m theme_stork_names_list \u001b[38;5;241m=\u001b[39m [\u001b[43mtheme_stork\u001b[49m\u001b[38;5;241;43m.\u001b[39;49m\u001b[43mfind_element\u001b[49m\u001b[43m(\u001b[49m\u001b[43mBy\u001b[49m\u001b[38;5;241;43m.\u001b[39;49m\u001b[43mTAG_NAME\u001b[49m\u001b[43m,\u001b[49m\u001b[43m \u001b[49m\u001b[38;5;124;43m'\u001b[39;49m\u001b[38;5;124;43ma\u001b[39;49m\u001b[38;5;124;43m'\u001b[39;49m\u001b[43m)\u001b[49m\u001b[38;5;241m.\u001b[39mtext \u001b[38;5;28;01mfor\u001b[39;00m theme_stork \u001b[38;5;129;01min\u001b[39;00m theme_stork_names] \u001b[38;5;66;03m# list comprehension (=위 4줄)\u001b[39;00m\n\u001b[0;32m     15\u001b[0m \u001b[38;5;66;03m# driver.implicitly_wait(10)\u001b[39;00m\n\u001b[0;32m     16\u001b[0m driver\u001b[38;5;241m.\u001b[39mback()\n",
      "File \u001b[1;32m~\\.venv\\Second_Day\\lib\\site-packages\\selenium\\webdriver\\remote\\webelement.py:425\u001b[0m, in \u001b[0;36mWebElement.find_element\u001b[1;34m(self, by, value)\u001b[0m\n\u001b[0;32m    422\u001b[0m     by \u001b[38;5;241m=\u001b[39m By\u001b[38;5;241m.\u001b[39mCSS_SELECTOR\n\u001b[0;32m    423\u001b[0m     value \u001b[38;5;241m=\u001b[39m \u001b[38;5;124mf\u001b[39m\u001b[38;5;124m'\u001b[39m\u001b[38;5;124m[name=\u001b[39m\u001b[38;5;124m\"\u001b[39m\u001b[38;5;132;01m{\u001b[39;00mvalue\u001b[38;5;132;01m}\u001b[39;00m\u001b[38;5;124m\"\u001b[39m\u001b[38;5;124m]\u001b[39m\u001b[38;5;124m'\u001b[39m\n\u001b[1;32m--> 425\u001b[0m \u001b[38;5;28;01mreturn\u001b[39;00m \u001b[38;5;28;43mself\u001b[39;49m\u001b[38;5;241;43m.\u001b[39;49m\u001b[43m_execute\u001b[49m\u001b[43m(\u001b[49m\u001b[43mCommand\u001b[49m\u001b[38;5;241;43m.\u001b[39;49m\u001b[43mFIND_CHILD_ELEMENT\u001b[49m\u001b[43m,\u001b[49m\u001b[43m \u001b[49m\u001b[43m{\u001b[49m\u001b[38;5;124;43m\"\u001b[39;49m\u001b[38;5;124;43musing\u001b[39;49m\u001b[38;5;124;43m\"\u001b[39;49m\u001b[43m:\u001b[49m\u001b[43m \u001b[49m\u001b[43mby\u001b[49m\u001b[43m,\u001b[49m\u001b[43m \u001b[49m\u001b[38;5;124;43m\"\u001b[39;49m\u001b[38;5;124;43mvalue\u001b[39;49m\u001b[38;5;124;43m\"\u001b[39;49m\u001b[43m:\u001b[49m\u001b[43m \u001b[49m\u001b[43mvalue\u001b[49m\u001b[43m}\u001b[49m\u001b[43m)\u001b[49m[\u001b[38;5;124m\"\u001b[39m\u001b[38;5;124mvalue\u001b[39m\u001b[38;5;124m\"\u001b[39m]\n",
      "File \u001b[1;32m~\\.venv\\Second_Day\\lib\\site-packages\\selenium\\webdriver\\remote\\webelement.py:403\u001b[0m, in \u001b[0;36mWebElement._execute\u001b[1;34m(self, command, params)\u001b[0m\n\u001b[0;32m    401\u001b[0m     params \u001b[38;5;241m=\u001b[39m {}\n\u001b[0;32m    402\u001b[0m params[\u001b[38;5;124m\"\u001b[39m\u001b[38;5;124mid\u001b[39m\u001b[38;5;124m\"\u001b[39m] \u001b[38;5;241m=\u001b[39m \u001b[38;5;28mself\u001b[39m\u001b[38;5;241m.\u001b[39m_id\n\u001b[1;32m--> 403\u001b[0m \u001b[38;5;28;01mreturn\u001b[39;00m \u001b[38;5;28;43mself\u001b[39;49m\u001b[38;5;241;43m.\u001b[39;49m\u001b[43m_parent\u001b[49m\u001b[38;5;241;43m.\u001b[39;49m\u001b[43mexecute\u001b[49m\u001b[43m(\u001b[49m\u001b[43mcommand\u001b[49m\u001b[43m,\u001b[49m\u001b[43m \u001b[49m\u001b[43mparams\u001b[49m\u001b[43m)\u001b[49m\n",
      "File \u001b[1;32m~\\.venv\\Second_Day\\lib\\site-packages\\selenium\\webdriver\\remote\\webdriver.py:438\u001b[0m, in \u001b[0;36mWebDriver.execute\u001b[1;34m(self, driver_command, params)\u001b[0m\n\u001b[0;32m    435\u001b[0m     \u001b[38;5;28;01melif\u001b[39;00m \u001b[38;5;124m\"\u001b[39m\u001b[38;5;124msessionId\u001b[39m\u001b[38;5;124m\"\u001b[39m \u001b[38;5;129;01mnot\u001b[39;00m \u001b[38;5;129;01min\u001b[39;00m params:\n\u001b[0;32m    436\u001b[0m         params[\u001b[38;5;124m\"\u001b[39m\u001b[38;5;124msessionId\u001b[39m\u001b[38;5;124m\"\u001b[39m] \u001b[38;5;241m=\u001b[39m \u001b[38;5;28mself\u001b[39m\u001b[38;5;241m.\u001b[39msession_id\n\u001b[1;32m--> 438\u001b[0m response \u001b[38;5;241m=\u001b[39m \u001b[38;5;28;43mself\u001b[39;49m\u001b[38;5;241;43m.\u001b[39;49m\u001b[43mcommand_executor\u001b[49m\u001b[38;5;241;43m.\u001b[39;49m\u001b[43mexecute\u001b[49m\u001b[43m(\u001b[49m\u001b[43mdriver_command\u001b[49m\u001b[43m,\u001b[49m\u001b[43m \u001b[49m\u001b[43mparams\u001b[49m\u001b[43m)\u001b[49m\n\u001b[0;32m    439\u001b[0m \u001b[38;5;28;01mif\u001b[39;00m response:\n\u001b[0;32m    440\u001b[0m     \u001b[38;5;28mself\u001b[39m\u001b[38;5;241m.\u001b[39merror_handler\u001b[38;5;241m.\u001b[39mcheck_response(response)\n",
      "File \u001b[1;32m~\\.venv\\Second_Day\\lib\\site-packages\\selenium\\webdriver\\remote\\remote_connection.py:290\u001b[0m, in \u001b[0;36mRemoteConnection.execute\u001b[1;34m(self, command, params)\u001b[0m\n\u001b[0;32m    288\u001b[0m data \u001b[38;5;241m=\u001b[39m utils\u001b[38;5;241m.\u001b[39mdump_json(params)\n\u001b[0;32m    289\u001b[0m url \u001b[38;5;241m=\u001b[39m \u001b[38;5;124mf\u001b[39m\u001b[38;5;124m\"\u001b[39m\u001b[38;5;132;01m{\u001b[39;00m\u001b[38;5;28mself\u001b[39m\u001b[38;5;241m.\u001b[39m_url\u001b[38;5;132;01m}\u001b[39;00m\u001b[38;5;132;01m{\u001b[39;00mpath\u001b[38;5;132;01m}\u001b[39;00m\u001b[38;5;124m\"\u001b[39m\n\u001b[1;32m--> 290\u001b[0m \u001b[38;5;28;01mreturn\u001b[39;00m \u001b[38;5;28;43mself\u001b[39;49m\u001b[38;5;241;43m.\u001b[39;49m\u001b[43m_request\u001b[49m\u001b[43m(\u001b[49m\u001b[43mcommand_info\u001b[49m\u001b[43m[\u001b[49m\u001b[38;5;241;43m0\u001b[39;49m\u001b[43m]\u001b[49m\u001b[43m,\u001b[49m\u001b[43m \u001b[49m\u001b[43murl\u001b[49m\u001b[43m,\u001b[49m\u001b[43m \u001b[49m\u001b[43mbody\u001b[49m\u001b[38;5;241;43m=\u001b[39;49m\u001b[43mdata\u001b[49m\u001b[43m)\u001b[49m\n",
      "File \u001b[1;32m~\\.venv\\Second_Day\\lib\\site-packages\\selenium\\webdriver\\remote\\remote_connection.py:311\u001b[0m, in \u001b[0;36mRemoteConnection._request\u001b[1;34m(self, method, url, body)\u001b[0m\n\u001b[0;32m    308\u001b[0m     body \u001b[38;5;241m=\u001b[39m \u001b[38;5;28;01mNone\u001b[39;00m\n\u001b[0;32m    310\u001b[0m \u001b[38;5;28;01mif\u001b[39;00m \u001b[38;5;28mself\u001b[39m\u001b[38;5;241m.\u001b[39mkeep_alive:\n\u001b[1;32m--> 311\u001b[0m     response \u001b[38;5;241m=\u001b[39m \u001b[38;5;28;43mself\u001b[39;49m\u001b[38;5;241;43m.\u001b[39;49m\u001b[43m_conn\u001b[49m\u001b[38;5;241;43m.\u001b[39;49m\u001b[43mrequest\u001b[49m\u001b[43m(\u001b[49m\u001b[43mmethod\u001b[49m\u001b[43m,\u001b[49m\u001b[43m \u001b[49m\u001b[43murl\u001b[49m\u001b[43m,\u001b[49m\u001b[43m \u001b[49m\u001b[43mbody\u001b[49m\u001b[38;5;241;43m=\u001b[39;49m\u001b[43mbody\u001b[49m\u001b[43m,\u001b[49m\u001b[43m \u001b[49m\u001b[43mheaders\u001b[49m\u001b[38;5;241;43m=\u001b[39;49m\u001b[43mheaders\u001b[49m\u001b[43m)\u001b[49m\n\u001b[0;32m    312\u001b[0m     statuscode \u001b[38;5;241m=\u001b[39m response\u001b[38;5;241m.\u001b[39mstatus\n\u001b[0;32m    313\u001b[0m \u001b[38;5;28;01melse\u001b[39;00m:\n",
      "File \u001b[1;32m~\\.venv\\Second_Day\\lib\\site-packages\\urllib3\\request.py:78\u001b[0m, in \u001b[0;36mRequestMethods.request\u001b[1;34m(self, method, url, fields, headers, **urlopen_kw)\u001b[0m\n\u001b[0;32m     74\u001b[0m     \u001b[38;5;28;01mreturn\u001b[39;00m \u001b[38;5;28mself\u001b[39m\u001b[38;5;241m.\u001b[39mrequest_encode_url(\n\u001b[0;32m     75\u001b[0m         method, url, fields\u001b[38;5;241m=\u001b[39mfields, headers\u001b[38;5;241m=\u001b[39mheaders, \u001b[38;5;241m*\u001b[39m\u001b[38;5;241m*\u001b[39murlopen_kw\n\u001b[0;32m     76\u001b[0m     )\n\u001b[0;32m     77\u001b[0m \u001b[38;5;28;01melse\u001b[39;00m:\n\u001b[1;32m---> 78\u001b[0m     \u001b[38;5;28;01mreturn\u001b[39;00m \u001b[38;5;28mself\u001b[39m\u001b[38;5;241m.\u001b[39mrequest_encode_body(\n\u001b[0;32m     79\u001b[0m         method, url, fields\u001b[38;5;241m=\u001b[39mfields, headers\u001b[38;5;241m=\u001b[39mheaders, \u001b[38;5;241m*\u001b[39m\u001b[38;5;241m*\u001b[39murlopen_kw\n\u001b[0;32m     80\u001b[0m     )\n",
      "File \u001b[1;32m~\\.venv\\Second_Day\\lib\\site-packages\\urllib3\\request.py:170\u001b[0m, in \u001b[0;36mRequestMethods.request_encode_body\u001b[1;34m(self, method, url, fields, headers, encode_multipart, multipart_boundary, **urlopen_kw)\u001b[0m\n\u001b[0;32m    167\u001b[0m extra_kw[\u001b[38;5;124m\"\u001b[39m\u001b[38;5;124mheaders\u001b[39m\u001b[38;5;124m\"\u001b[39m]\u001b[38;5;241m.\u001b[39mupdate(headers)\n\u001b[0;32m    168\u001b[0m extra_kw\u001b[38;5;241m.\u001b[39mupdate(urlopen_kw)\n\u001b[1;32m--> 170\u001b[0m \u001b[38;5;28;01mreturn\u001b[39;00m \u001b[38;5;28mself\u001b[39m\u001b[38;5;241m.\u001b[39murlopen(method, url, \u001b[38;5;241m*\u001b[39m\u001b[38;5;241m*\u001b[39mextra_kw)\n",
      "File \u001b[1;32m~\\.venv\\Second_Day\\lib\\site-packages\\urllib3\\poolmanager.py:376\u001b[0m, in \u001b[0;36mPoolManager.urlopen\u001b[1;34m(self, method, url, redirect, **kw)\u001b[0m\n\u001b[0;32m    374\u001b[0m     response \u001b[38;5;241m=\u001b[39m conn\u001b[38;5;241m.\u001b[39murlopen(method, url, \u001b[38;5;241m*\u001b[39m\u001b[38;5;241m*\u001b[39mkw)\n\u001b[0;32m    375\u001b[0m \u001b[38;5;28;01melse\u001b[39;00m:\n\u001b[1;32m--> 376\u001b[0m     response \u001b[38;5;241m=\u001b[39m conn\u001b[38;5;241m.\u001b[39murlopen(method, u\u001b[38;5;241m.\u001b[39mrequest_uri, \u001b[38;5;241m*\u001b[39m\u001b[38;5;241m*\u001b[39mkw)\n\u001b[0;32m    378\u001b[0m redirect_location \u001b[38;5;241m=\u001b[39m redirect \u001b[38;5;129;01mand\u001b[39;00m response\u001b[38;5;241m.\u001b[39mget_redirect_location()\n\u001b[0;32m    379\u001b[0m \u001b[38;5;28;01mif\u001b[39;00m \u001b[38;5;129;01mnot\u001b[39;00m redirect_location:\n",
      "File \u001b[1;32m~\\.venv\\Second_Day\\lib\\site-packages\\urllib3\\connectionpool.py:703\u001b[0m, in \u001b[0;36mHTTPConnectionPool.urlopen\u001b[1;34m(self, method, url, body, headers, retries, redirect, assert_same_host, timeout, pool_timeout, release_conn, chunked, body_pos, **response_kw)\u001b[0m\n\u001b[0;32m    700\u001b[0m     \u001b[38;5;28mself\u001b[39m\u001b[38;5;241m.\u001b[39m_prepare_proxy(conn)\n\u001b[0;32m    702\u001b[0m \u001b[38;5;66;03m# Make the request on the httplib connection object.\u001b[39;00m\n\u001b[1;32m--> 703\u001b[0m httplib_response \u001b[38;5;241m=\u001b[39m \u001b[38;5;28;43mself\u001b[39;49m\u001b[38;5;241;43m.\u001b[39;49m\u001b[43m_make_request\u001b[49m\u001b[43m(\u001b[49m\n\u001b[0;32m    704\u001b[0m \u001b[43m    \u001b[49m\u001b[43mconn\u001b[49m\u001b[43m,\u001b[49m\n\u001b[0;32m    705\u001b[0m \u001b[43m    \u001b[49m\u001b[43mmethod\u001b[49m\u001b[43m,\u001b[49m\n\u001b[0;32m    706\u001b[0m \u001b[43m    \u001b[49m\u001b[43murl\u001b[49m\u001b[43m,\u001b[49m\n\u001b[0;32m    707\u001b[0m \u001b[43m    \u001b[49m\u001b[43mtimeout\u001b[49m\u001b[38;5;241;43m=\u001b[39;49m\u001b[43mtimeout_obj\u001b[49m\u001b[43m,\u001b[49m\n\u001b[0;32m    708\u001b[0m \u001b[43m    \u001b[49m\u001b[43mbody\u001b[49m\u001b[38;5;241;43m=\u001b[39;49m\u001b[43mbody\u001b[49m\u001b[43m,\u001b[49m\n\u001b[0;32m    709\u001b[0m \u001b[43m    \u001b[49m\u001b[43mheaders\u001b[49m\u001b[38;5;241;43m=\u001b[39;49m\u001b[43mheaders\u001b[49m\u001b[43m,\u001b[49m\n\u001b[0;32m    710\u001b[0m \u001b[43m    \u001b[49m\u001b[43mchunked\u001b[49m\u001b[38;5;241;43m=\u001b[39;49m\u001b[43mchunked\u001b[49m\u001b[43m,\u001b[49m\n\u001b[0;32m    711\u001b[0m \u001b[43m\u001b[49m\u001b[43m)\u001b[49m\n\u001b[0;32m    713\u001b[0m \u001b[38;5;66;03m# If we're going to release the connection in ``finally:``, then\u001b[39;00m\n\u001b[0;32m    714\u001b[0m \u001b[38;5;66;03m# the response doesn't need to know about the connection. Otherwise\u001b[39;00m\n\u001b[0;32m    715\u001b[0m \u001b[38;5;66;03m# it will also try to release it and we'll have a double-release\u001b[39;00m\n\u001b[0;32m    716\u001b[0m \u001b[38;5;66;03m# mess.\u001b[39;00m\n\u001b[0;32m    717\u001b[0m response_conn \u001b[38;5;241m=\u001b[39m conn \u001b[38;5;28;01mif\u001b[39;00m \u001b[38;5;129;01mnot\u001b[39;00m release_conn \u001b[38;5;28;01melse\u001b[39;00m \u001b[38;5;28;01mNone\u001b[39;00m\n",
      "File \u001b[1;32m~\\.venv\\Second_Day\\lib\\site-packages\\urllib3\\connectionpool.py:449\u001b[0m, in \u001b[0;36mHTTPConnectionPool._make_request\u001b[1;34m(self, conn, method, url, timeout, chunked, **httplib_request_kw)\u001b[0m\n\u001b[0;32m    444\u001b[0m             httplib_response \u001b[38;5;241m=\u001b[39m conn\u001b[38;5;241m.\u001b[39mgetresponse()\n\u001b[0;32m    445\u001b[0m         \u001b[38;5;28;01mexcept\u001b[39;00m \u001b[38;5;167;01mBaseException\u001b[39;00m \u001b[38;5;28;01mas\u001b[39;00m e:\n\u001b[0;32m    446\u001b[0m             \u001b[38;5;66;03m# Remove the TypeError from the exception chain in\u001b[39;00m\n\u001b[0;32m    447\u001b[0m             \u001b[38;5;66;03m# Python 3 (including for exceptions like SystemExit).\u001b[39;00m\n\u001b[0;32m    448\u001b[0m             \u001b[38;5;66;03m# Otherwise it looks like a bug in the code.\u001b[39;00m\n\u001b[1;32m--> 449\u001b[0m             \u001b[43msix\u001b[49m\u001b[38;5;241;43m.\u001b[39;49m\u001b[43mraise_from\u001b[49m\u001b[43m(\u001b[49m\u001b[43me\u001b[49m\u001b[43m,\u001b[49m\u001b[43m \u001b[49m\u001b[38;5;28;43;01mNone\u001b[39;49;00m\u001b[43m)\u001b[49m\n\u001b[0;32m    450\u001b[0m \u001b[38;5;28;01mexcept\u001b[39;00m (SocketTimeout, BaseSSLError, SocketError) \u001b[38;5;28;01mas\u001b[39;00m e:\n\u001b[0;32m    451\u001b[0m     \u001b[38;5;28mself\u001b[39m\u001b[38;5;241m.\u001b[39m_raise_timeout(err\u001b[38;5;241m=\u001b[39me, url\u001b[38;5;241m=\u001b[39murl, timeout_value\u001b[38;5;241m=\u001b[39mread_timeout)\n",
      "File \u001b[1;32m<string>:3\u001b[0m, in \u001b[0;36mraise_from\u001b[1;34m(value, from_value)\u001b[0m\n",
      "File \u001b[1;32m~\\.venv\\Second_Day\\lib\\site-packages\\urllib3\\connectionpool.py:444\u001b[0m, in \u001b[0;36mHTTPConnectionPool._make_request\u001b[1;34m(self, conn, method, url, timeout, chunked, **httplib_request_kw)\u001b[0m\n\u001b[0;32m    441\u001b[0m \u001b[38;5;28;01mexcept\u001b[39;00m \u001b[38;5;167;01mTypeError\u001b[39;00m:\n\u001b[0;32m    442\u001b[0m     \u001b[38;5;66;03m# Python 3\u001b[39;00m\n\u001b[0;32m    443\u001b[0m     \u001b[38;5;28;01mtry\u001b[39;00m:\n\u001b[1;32m--> 444\u001b[0m         httplib_response \u001b[38;5;241m=\u001b[39m \u001b[43mconn\u001b[49m\u001b[38;5;241;43m.\u001b[39;49m\u001b[43mgetresponse\u001b[49m\u001b[43m(\u001b[49m\u001b[43m)\u001b[49m\n\u001b[0;32m    445\u001b[0m     \u001b[38;5;28;01mexcept\u001b[39;00m \u001b[38;5;167;01mBaseException\u001b[39;00m \u001b[38;5;28;01mas\u001b[39;00m e:\n\u001b[0;32m    446\u001b[0m         \u001b[38;5;66;03m# Remove the TypeError from the exception chain in\u001b[39;00m\n\u001b[0;32m    447\u001b[0m         \u001b[38;5;66;03m# Python 3 (including for exceptions like SystemExit).\u001b[39;00m\n\u001b[0;32m    448\u001b[0m         \u001b[38;5;66;03m# Otherwise it looks like a bug in the code.\u001b[39;00m\n\u001b[0;32m    449\u001b[0m         six\u001b[38;5;241m.\u001b[39mraise_from(e, \u001b[38;5;28;01mNone\u001b[39;00m)\n",
      "File \u001b[1;32m~\\.pyenv\\pyenv-win\\versions\\3.9.13\\lib\\http\\client.py:1377\u001b[0m, in \u001b[0;36mHTTPConnection.getresponse\u001b[1;34m(self)\u001b[0m\n\u001b[0;32m   1375\u001b[0m \u001b[38;5;28;01mtry\u001b[39;00m:\n\u001b[0;32m   1376\u001b[0m     \u001b[38;5;28;01mtry\u001b[39;00m:\n\u001b[1;32m-> 1377\u001b[0m         \u001b[43mresponse\u001b[49m\u001b[38;5;241;43m.\u001b[39;49m\u001b[43mbegin\u001b[49m\u001b[43m(\u001b[49m\u001b[43m)\u001b[49m\n\u001b[0;32m   1378\u001b[0m     \u001b[38;5;28;01mexcept\u001b[39;00m \u001b[38;5;167;01mConnectionError\u001b[39;00m:\n\u001b[0;32m   1379\u001b[0m         \u001b[38;5;28mself\u001b[39m\u001b[38;5;241m.\u001b[39mclose()\n",
      "File \u001b[1;32m~\\.pyenv\\pyenv-win\\versions\\3.9.13\\lib\\http\\client.py:320\u001b[0m, in \u001b[0;36mHTTPResponse.begin\u001b[1;34m(self)\u001b[0m\n\u001b[0;32m    318\u001b[0m \u001b[38;5;66;03m# read until we get a non-100 response\u001b[39;00m\n\u001b[0;32m    319\u001b[0m \u001b[38;5;28;01mwhile\u001b[39;00m \u001b[38;5;28;01mTrue\u001b[39;00m:\n\u001b[1;32m--> 320\u001b[0m     version, status, reason \u001b[38;5;241m=\u001b[39m \u001b[38;5;28;43mself\u001b[39;49m\u001b[38;5;241;43m.\u001b[39;49m\u001b[43m_read_status\u001b[49m\u001b[43m(\u001b[49m\u001b[43m)\u001b[49m\n\u001b[0;32m    321\u001b[0m     \u001b[38;5;28;01mif\u001b[39;00m status \u001b[38;5;241m!=\u001b[39m CONTINUE:\n\u001b[0;32m    322\u001b[0m         \u001b[38;5;28;01mbreak\u001b[39;00m\n",
      "File \u001b[1;32m~\\.pyenv\\pyenv-win\\versions\\3.9.13\\lib\\http\\client.py:281\u001b[0m, in \u001b[0;36mHTTPResponse._read_status\u001b[1;34m(self)\u001b[0m\n\u001b[0;32m    280\u001b[0m \u001b[38;5;28;01mdef\u001b[39;00m \u001b[38;5;21m_read_status\u001b[39m(\u001b[38;5;28mself\u001b[39m):\n\u001b[1;32m--> 281\u001b[0m     line \u001b[38;5;241m=\u001b[39m \u001b[38;5;28mstr\u001b[39m(\u001b[38;5;28;43mself\u001b[39;49m\u001b[38;5;241;43m.\u001b[39;49m\u001b[43mfp\u001b[49m\u001b[38;5;241;43m.\u001b[39;49m\u001b[43mreadline\u001b[49m\u001b[43m(\u001b[49m\u001b[43m_MAXLINE\u001b[49m\u001b[43m \u001b[49m\u001b[38;5;241;43m+\u001b[39;49m\u001b[43m \u001b[49m\u001b[38;5;241;43m1\u001b[39;49m\u001b[43m)\u001b[49m, \u001b[38;5;124m\"\u001b[39m\u001b[38;5;124miso-8859-1\u001b[39m\u001b[38;5;124m\"\u001b[39m)\n\u001b[0;32m    282\u001b[0m     \u001b[38;5;28;01mif\u001b[39;00m \u001b[38;5;28mlen\u001b[39m(line) \u001b[38;5;241m>\u001b[39m _MAXLINE:\n\u001b[0;32m    283\u001b[0m         \u001b[38;5;28;01mraise\u001b[39;00m LineTooLong(\u001b[38;5;124m\"\u001b[39m\u001b[38;5;124mstatus line\u001b[39m\u001b[38;5;124m\"\u001b[39m)\n",
      "File \u001b[1;32m~\\.pyenv\\pyenv-win\\versions\\3.9.13\\lib\\socket.py:704\u001b[0m, in \u001b[0;36mSocketIO.readinto\u001b[1;34m(self, b)\u001b[0m\n\u001b[0;32m    702\u001b[0m \u001b[38;5;28;01mwhile\u001b[39;00m \u001b[38;5;28;01mTrue\u001b[39;00m:\n\u001b[0;32m    703\u001b[0m     \u001b[38;5;28;01mtry\u001b[39;00m:\n\u001b[1;32m--> 704\u001b[0m         \u001b[38;5;28;01mreturn\u001b[39;00m \u001b[38;5;28;43mself\u001b[39;49m\u001b[38;5;241;43m.\u001b[39;49m\u001b[43m_sock\u001b[49m\u001b[38;5;241;43m.\u001b[39;49m\u001b[43mrecv_into\u001b[49m\u001b[43m(\u001b[49m\u001b[43mb\u001b[49m\u001b[43m)\u001b[49m\n\u001b[0;32m    705\u001b[0m     \u001b[38;5;28;01mexcept\u001b[39;00m timeout:\n\u001b[0;32m    706\u001b[0m         \u001b[38;5;28mself\u001b[39m\u001b[38;5;241m.\u001b[39m_timeout_occurred \u001b[38;5;241m=\u001b[39m \u001b[38;5;28;01mTrue\u001b[39;00m\n",
      "\u001b[1;31mKeyboardInterrupt\u001b[0m: "
     ]
    }
   ],
   "source": [
    "from selenium import webdriver\n",
    "driver = webdriver.Chrome(\"C:/Users/SBAUser/Downloads/chromedriver_win32/chromedriver\")\n",
    "url = \"https://finance.naver.com/sise/theme.naver?&page=1\"\n",
    "driver.get(url) \n",
    "driver.implicitly_wait(10) # 웹페이지가 열릴 때 까지 대기\n",
    "\n",
    "result = {}\n",
    "# 테마목록 가져오기\n",
    "from selenium.webdriver.common.by import By\n",
    "get_page_data(result, driver)\n",
    "        "
   ]
  },
  {
   "cell_type": "markdown",
   "id": "c4378685-7765-44a4-bd87-00c9d1469e9a",
   "metadata": {},
   "source": [
    "- 위에) 1페이지거 다 가져옴"
   ]
  },
  {
   "cell_type": "code",
   "execution_count": 8,
   "id": "a4c2aef3-3675-4215-a329-c7efef814758",
   "metadata": {
    "tags": []
   },
   "outputs": [
    {
     "name": "stderr",
     "output_type": "stream",
     "text": [
      "C:\\Users\\User\\AppData\\Local\\Temp\\ipykernel_32280\\856150795.py:2: DeprecationWarning: executable_path has been deprecated, please pass in a Service object\n",
      "  driver = webdriver.Chrome(\"C:/Users/SBAUser/Downloads/chromedriver_win32/chromedriver\")\n"
     ]
    }
   ],
   "source": [
    "from selenium import webdriver\n",
    "driver = webdriver.Chrome(\"C:/Users/SBAUser/Downloads/chromedriver_win32/chromedriver\")\n",
    "url = \"https://finance.naver.com/sise/theme.naver?&page=1\"\n",
    "driver.get(url) \n",
    "driver.implicitly_wait(10) # 웹페이지가 열릴 때 까지 대기\n",
    "\n",
    "result = {}\n",
    "# 테마목록 가져오기\n",
    "from selenium.webdriver.common.by import By\n",
    "# 각 페이지별로 get_page_data 반복실행\n",
    "# 어디까지 실행할 것인가? -> 마지막 페이지까지 실행(어디까지 가야되는지 알려줘야 하기 때문에 마지막 페이지 필요!)\n",
    "page_btn_object = driver.find_element(By.CLASS_NAME, 'Nnavi').find_elements(By.TAG_NAME, 'a')\n",
    "last_page = int(driver.find_element(By.CLASS_NAME, 'Nnavi').find_elements(By.TAG_NAME, 'a')[-2].text)\n",
    "\n",
    "for page in range(last_page):\n",
    "    driver.find_element(By.CLASS_NAME, 'Nnavi').find_elements(By.TAG_NAME, 'a')[page].click() # 시작페이지로 돌아갑니다\n",
    "    driver.implicitly_wait(10) # 웹페이지가 열릴 때 까지 대기\n",
    "    driver.find_element(By.CLASS_NAME, 'Nnavi').find_elements(By.TAG_NAME, 'a')[0].click() # 페이지를 들린다\n",
    "    driver.implicitly_wait(10) # 웹페이지가 열릴 때 까지 대기\n",
    "    get_page_data(result, driver)\n",
    "        \n",
    "# 2페이지로 갈때 '맨앞'이라는 요소가 추가되서 2페이지를 2번 들림..\n",
    "# 심플한 방법 : 갔다가 첫페이지 갔다가 첫페이지..."
   ]
  },
  {
   "cell_type": "code",
   "execution_count": 10,
   "id": "8372a6f9-8190-41d9-b83e-0faa53aa05b9",
   "metadata": {},
   "outputs": [
    {
     "data": {
      "text/plain": [
       "'맨뒤'"
      ]
     },
     "execution_count": 10,
     "metadata": {},
     "output_type": "execute_result"
    }
   ],
   "source": [
    "last_page[-1].text"
   ]
  },
  {
   "cell_type": "code",
   "execution_count": 11,
   "id": "eaf88d35-9fab-4582-82a3-b566c1d788bf",
   "metadata": {},
   "outputs": [
    {
     "data": {
      "text/plain": [
       "'7'"
      ]
     },
     "execution_count": 11,
     "metadata": {},
     "output_type": "execute_result"
    }
   ],
   "source": [
    "last_page[-2].text"
   ]
  },
  {
   "cell_type": "code",
   "execution_count": 12,
   "id": "8fe1dd94-92f0-458e-8b8a-9b67cdc2ce20",
   "metadata": {},
   "outputs": [
    {
     "data": {
      "text/plain": [
       "'1'"
      ]
     },
     "execution_count": 12,
     "metadata": {},
     "output_type": "execute_result"
    }
   ],
   "source": [
    "last_page[0].text"
   ]
  },
  {
   "cell_type": "code",
   "execution_count": null,
   "id": "a1f92e65-9bda-4e77-b260-973713b87962",
   "metadata": {},
   "outputs": [],
   "source": []
  },
  {
   "cell_type": "code",
   "execution_count": null,
   "id": "6f744ce9-1877-4ce4-aed8-d1b0866e0019",
   "metadata": {},
   "outputs": [],
   "source": [
    "import pandas as pd\n",
    "df = pd.DataFrame.from_dict(result, orient='index').T"
   ]
  },
  {
   "cell_type": "code",
   "execution_count": null,
   "id": "2b5e2ae0-9fa3-429d-9f00-bf79996ed6be",
   "metadata": {},
   "outputs": [],
   "source": [
    "df"
   ]
  },
  {
   "cell_type": "code",
   "execution_count": null,
   "id": "2ec0e559-9a44-4b11-8152-ec3498eaf06d",
   "metadata": {},
   "outputs": [],
   "source": [
    "df['면세점']"
   ]
  },
  {
   "cell_type": "code",
   "execution_count": null,
   "id": "7acde2d7-6f46-457f-8341-06a76a85abf7",
   "metadata": {},
   "outputs": [],
   "source": [
    "df['면세점'].values"
   ]
  },
  {
   "cell_type": "code",
   "execution_count": null,
   "id": "fc1282f9-e5d4-4413-aef6-592b3fcc3d21",
   "metadata": {},
   "outputs": [],
   "source": [
    "df['면세점'].dropna().values"
   ]
  },
  {
   "cell_type": "code",
   "execution_count": null,
   "id": "738a669a-729f-4095-8f48-230c46ebb9cd",
   "metadata": {},
   "outputs": [],
   "source": [
    "df.to_csv('섹터별_종목리스트.csv')"
   ]
  },
  {
   "cell_type": "code",
   "execution_count": null,
   "id": "18efd239-e382-4c28-87d8-f291ea181dda",
   "metadata": {},
   "outputs": [],
   "source": []
  },
  {
   "cell_type": "code",
   "execution_count": null,
   "id": "7fa5a8a4-058c-4f72-b38e-c12233d7e12f",
   "metadata": {},
   "outputs": [],
   "source": [
    "# 전폴더에서 element가져왔던 코드보기!\n",
    "# element 하나씩 가져와서 하는 방법 > 클릭 하고 다시 돌아올 때마다 element가 변해서 잘 안됨(애플페이..이런것들이..계속 변함) >> index는 변함없으니까 index 활용하기\n",
    "# 하나씩 접속해서 리스트 가져오기\n",
    "result = {}"
   ]
  }
 ],
 "metadata": {
  "kernelspec": {
   "display_name": "Python 3 (ipykernel)",
   "language": "python",
   "name": "python3"
  },
  "language_info": {
   "codemirror_mode": {
    "name": "ipython",
    "version": 3
   },
   "file_extension": ".py",
   "mimetype": "text/x-python",
   "name": "python",
   "nbconvert_exporter": "python",
   "pygments_lexer": "ipython3",
   "version": "3.9.13"
  }
 },
 "nbformat": 4,
 "nbformat_minor": 5
}
