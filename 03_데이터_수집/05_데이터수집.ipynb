{
 "cells": [
  {
   "cell_type": "markdown",
   "id": "d3b5f46c-edee-4e7c-b7e6-d0f15b18e99f",
   "metadata": {},
   "source": [
    "# 금융데이터 수집"
   ]
  },
  {
   "cell_type": "markdown",
   "id": "f6d7290e-f075-4b96-b616-d73cf148864b",
   "metadata": {},
   "source": [
    "## 데이터 분석 Process\n",
    "- 총 5개 단계\n",
    "- 우리에게 중요한건 4단계(가운데 데이터 관리는 이번 수업에선x)\n",
    "- 데이터 기획 너무 중요!!! > 내가 해결하고자 하는 문제가 뭔지를 꼭 알고 해야함! 문제정의!\n",
    "    - 도메인 지식 필요\n",
    "    - \n",
    "- 데이터 관리: 우리는 csv, 엑셀파일 정도 / sql사용해서 db에 넣기, 보안 필요한 개인정보 같은건 어떻게 저장하는지..\n",
    "- 데이터 시각화 중요하다!!!!(데이터를 다른 사람이 잘 볼 수 있게.. 잘 보여주는 것도 중요하다 > 비즈니스의 의사결정에 많은 역할을 하니까)(내가 보기 좋은게 아니라 보는 사람들이 보기 좋고, 이해하기 쉽게!)"
   ]
  },
  {
   "cell_type": "markdown",
   "id": "3ea57908-1d96-4420-add6-541846a3c315",
   "metadata": {},
   "source": [
    "차이점\n",
    "- financedatareader는 개인이 만든.. api... 언제까지 쓸수있을지..\n",
    "- opendart는 국가에서 하는 것.. 근데 인증키가 필요함"
   ]
  },
  {
   "cell_type": "markdown",
   "id": "2eac8cde-ddbd-4a5a-b1f7-2252f9e8c635",
   "metadata": {},
   "source": [
    "금융에서 보는 인공지능\n",
    "- 우크라이나 전쟁.. 이런것도 어떻게 보면 noise! 변동성.,,"
   ]
  },
  {
   "cell_type": "markdown",
   "id": "7aa8c804-6854-4c7b-a69b-eaa4cbb42e96",
   "metadata": {},
   "source": [
    "## 데이터 수집이 필요한 이유?\n",
    "- 데이터를 활용하려면 데이터를 수집해야 함\n",
    "- 웹상의정보(sns, 고객 리뷰 등)는 크롤링이 필요!"
   ]
  },
  {
   "cell_type": "markdown",
   "id": "9fbf32aa-6e63-4717-b48d-e1d5a35b62aa",
   "metadata": {},
   "source": [
    "# Web Crawling\n",
    "- 웹 크롤링: 웹 페이지 소스 수집\n",
    "- 파싱: 수집한 소스에서 데이터만 추출\n",
    "- 우리가 말하는 웹 크롤링 = 웹 크롤링 + 파싱 >> 웹 상의 페이지 소스를 가져와 필요한 부분만 추출"
   ]
  },
  {
   "cell_type": "markdown",
   "id": "ba5e9344-ab4a-4eac-a22e-eae527e79794",
   "metadata": {},
   "source": [
    "## Web Crawling Process\n",
    "- 웹페이지 분석: 웹페이지는 html로 이루어져 있음(개발자도구에서 보기), html만 해석할 수 있으면 정보를 가져올 수 있다! 웹페이지 구조가 어떻게 되어있는지 파악하기 / 어떤 정보를 가져올지\n",
    "- 웹페이지 소스 수집: requests / selenium 모듈\n",
    "- 필요한 부분 저장: beautiful soup 데이터 가져오기, pandas 데이터 저장\n",
    "- 다음 URL 이동: 다음 페이지 url이동해서 다음 페이지 분석하고 정보 가져오기"
   ]
  },
  {
   "cell_type": "markdown",
   "id": "cac32228-6ab0-4901-8447-c8a4d7ee9e56",
   "metadata": {},
   "source": [
    "## 크롤링 가능 여부\n",
    "- robots.txt 활용하기\n",
    "- 홈 URL에 /robots.txt 치면 나옴 > disallow는 하지 말라는 것!"
   ]
  }
 ],
 "metadata": {
  "kernelspec": {
   "display_name": "Python 3 (ipykernel)",
   "language": "python",
   "name": "python3"
  },
  "language_info": {
   "codemirror_mode": {
    "name": "ipython",
    "version": 3
   },
   "file_extension": ".py",
   "mimetype": "text/x-python",
   "name": "python",
   "nbconvert_exporter": "python",
   "pygments_lexer": "ipython3",
   "version": "3.9.13"
  }
 },
 "nbformat": 4,
 "nbformat_minor": 5
}
