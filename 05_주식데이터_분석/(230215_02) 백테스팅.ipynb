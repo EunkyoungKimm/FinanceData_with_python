{
 "cells": [
  {
   "cell_type": "code",
   "execution_count": null,
   "metadata": {
    "id": "0c79aBQvqt1z"
   },
   "outputs": [],
   "source": [
    "!pip install finance-datareader"
   ]
  },
  {
   "cell_type": "code",
   "execution_count": null,
   "metadata": {
    "colab": {
     "base_uri": "https://localhost:8080/",
     "height": 237
    },
    "executionInfo": {
     "elapsed": 560,
     "status": "ok",
     "timestamp": 1676441648646,
     "user": {
      "displayName": "최진영",
      "userId": "04611147725648038476"
     },
     "user_tz": -540
    },
    "id": "IgXtAXhas9ty",
    "outputId": "72187689-6838-42ab-995b-fc8f8139d132"
   },
   "outputs": [
    {
     "data": {
      "text/html": [
       "\n",
       "  <div id=\"df-217d6477-68db-4991-9ec9-f5bcbfb1968c\">\n",
       "    <div class=\"colab-df-container\">\n",
       "      <div>\n",
       "<style scoped>\n",
       "    .dataframe tbody tr th:only-of-type {\n",
       "        vertical-align: middle;\n",
       "    }\n",
       "\n",
       "    .dataframe tbody tr th {\n",
       "        vertical-align: top;\n",
       "    }\n",
       "\n",
       "    .dataframe thead th {\n",
       "        text-align: right;\n",
       "    }\n",
       "</style>\n",
       "<table border=\"1\" class=\"dataframe\">\n",
       "  <thead>\n",
       "    <tr style=\"text-align: right;\">\n",
       "      <th></th>\n",
       "      <th>Open</th>\n",
       "      <th>High</th>\n",
       "      <th>Low</th>\n",
       "      <th>Close</th>\n",
       "      <th>Volume</th>\n",
       "      <th>Change</th>\n",
       "    </tr>\n",
       "    <tr>\n",
       "      <th>Date</th>\n",
       "      <th></th>\n",
       "      <th></th>\n",
       "      <th></th>\n",
       "      <th></th>\n",
       "      <th></th>\n",
       "      <th></th>\n",
       "    </tr>\n",
       "  </thead>\n",
       "  <tbody>\n",
       "    <tr>\n",
       "      <th>2011-05-13</th>\n",
       "      <td>6161</td>\n",
       "      <td>6161</td>\n",
       "      <td>5241</td>\n",
       "      <td>5242</td>\n",
       "      <td>428994</td>\n",
       "      <td>NaN</td>\n",
       "    </tr>\n",
       "    <tr>\n",
       "      <th>2011-05-16</th>\n",
       "      <td>4464</td>\n",
       "      <td>4464</td>\n",
       "      <td>4464</td>\n",
       "      <td>4465</td>\n",
       "      <td>487412</td>\n",
       "      <td>-0.148226</td>\n",
       "    </tr>\n",
       "    <tr>\n",
       "      <th>2011-05-17</th>\n",
       "      <td>3938</td>\n",
       "      <td>4056</td>\n",
       "      <td>3796</td>\n",
       "      <td>3796</td>\n",
       "      <td>12268654</td>\n",
       "      <td>-0.149832</td>\n",
       "    </tr>\n",
       "    <tr>\n",
       "      <th>2011-05-18</th>\n",
       "      <td>3881</td>\n",
       "      <td>3895</td>\n",
       "      <td>3706</td>\n",
       "      <td>3730</td>\n",
       "      <td>6188170</td>\n",
       "      <td>-0.017387</td>\n",
       "    </tr>\n",
       "    <tr>\n",
       "      <th>2011-05-19</th>\n",
       "      <td>3739</td>\n",
       "      <td>3763</td>\n",
       "      <td>3194</td>\n",
       "      <td>3280</td>\n",
       "      <td>6181312</td>\n",
       "      <td>-0.120643</td>\n",
       "    </tr>\n",
       "  </tbody>\n",
       "</table>\n",
       "</div>\n",
       "      <button class=\"colab-df-convert\" onclick=\"convertToInteractive('df-217d6477-68db-4991-9ec9-f5bcbfb1968c')\"\n",
       "              title=\"Convert this dataframe to an interactive table.\"\n",
       "              style=\"display:none;\">\n",
       "        \n",
       "  <svg xmlns=\"http://www.w3.org/2000/svg\" height=\"24px\"viewBox=\"0 0 24 24\"\n",
       "       width=\"24px\">\n",
       "    <path d=\"M0 0h24v24H0V0z\" fill=\"none\"/>\n",
       "    <path d=\"M18.56 5.44l.94 2.06.94-2.06 2.06-.94-2.06-.94-.94-2.06-.94 2.06-2.06.94zm-11 1L8.5 8.5l.94-2.06 2.06-.94-2.06-.94L8.5 2.5l-.94 2.06-2.06.94zm10 10l.94 2.06.94-2.06 2.06-.94-2.06-.94-.94-2.06-.94 2.06-2.06.94z\"/><path d=\"M17.41 7.96l-1.37-1.37c-.4-.4-.92-.59-1.43-.59-.52 0-1.04.2-1.43.59L10.3 9.45l-7.72 7.72c-.78.78-.78 2.05 0 2.83L4 21.41c.39.39.9.59 1.41.59.51 0 1.02-.2 1.41-.59l7.78-7.78 2.81-2.81c.8-.78.8-2.07 0-2.86zM5.41 20L4 18.59l7.72-7.72 1.47 1.35L5.41 20z\"/>\n",
       "  </svg>\n",
       "      </button>\n",
       "      \n",
       "  <style>\n",
       "    .colab-df-container {\n",
       "      display:flex;\n",
       "      flex-wrap:wrap;\n",
       "      gap: 12px;\n",
       "    }\n",
       "\n",
       "    .colab-df-convert {\n",
       "      background-color: #E8F0FE;\n",
       "      border: none;\n",
       "      border-radius: 50%;\n",
       "      cursor: pointer;\n",
       "      display: none;\n",
       "      fill: #1967D2;\n",
       "      height: 32px;\n",
       "      padding: 0 0 0 0;\n",
       "      width: 32px;\n",
       "    }\n",
       "\n",
       "    .colab-df-convert:hover {\n",
       "      background-color: #E2EBFA;\n",
       "      box-shadow: 0px 1px 2px rgba(60, 64, 67, 0.3), 0px 1px 3px 1px rgba(60, 64, 67, 0.15);\n",
       "      fill: #174EA6;\n",
       "    }\n",
       "\n",
       "    [theme=dark] .colab-df-convert {\n",
       "      background-color: #3B4455;\n",
       "      fill: #D2E3FC;\n",
       "    }\n",
       "\n",
       "    [theme=dark] .colab-df-convert:hover {\n",
       "      background-color: #434B5C;\n",
       "      box-shadow: 0px 1px 3px 1px rgba(0, 0, 0, 0.15);\n",
       "      filter: drop-shadow(0px 1px 2px rgba(0, 0, 0, 0.3));\n",
       "      fill: #FFFFFF;\n",
       "    }\n",
       "  </style>\n",
       "\n",
       "      <script>\n",
       "        const buttonEl =\n",
       "          document.querySelector('#df-217d6477-68db-4991-9ec9-f5bcbfb1968c button.colab-df-convert');\n",
       "        buttonEl.style.display =\n",
       "          google.colab.kernel.accessAllowed ? 'block' : 'none';\n",
       "\n",
       "        async function convertToInteractive(key) {\n",
       "          const element = document.querySelector('#df-217d6477-68db-4991-9ec9-f5bcbfb1968c');\n",
       "          const dataTable =\n",
       "            await google.colab.kernel.invokeFunction('convertToInteractive',\n",
       "                                                     [key], {});\n",
       "          if (!dataTable) return;\n",
       "\n",
       "          const docLinkHtml = 'Like what you see? Visit the ' +\n",
       "            '<a target=\"_blank\" href=https://colab.research.google.com/notebooks/data_table.ipynb>data table notebook</a>'\n",
       "            + ' to learn more about interactive tables.';\n",
       "          element.innerHTML = '';\n",
       "          dataTable['output_type'] = 'display_data';\n",
       "          await google.colab.output.renderOutput(dataTable, element);\n",
       "          const docLink = document.createElement('div');\n",
       "          docLink.innerHTML = docLinkHtml;\n",
       "          element.appendChild(docLink);\n",
       "        }\n",
       "      </script>\n",
       "    </div>\n",
       "  </div>\n",
       "  "
      ],
      "text/plain": [
       "            Open  High   Low  Close    Volume    Change\n",
       "Date                                                   \n",
       "2011-05-13  6161  6161  5241   5242    428994       NaN\n",
       "2011-05-16  4464  4464  4464   4465    487412 -0.148226\n",
       "2011-05-17  3938  4056  3796   3796  12268654 -0.149832\n",
       "2011-05-18  3881  3895  3706   3730   6188170 -0.017387\n",
       "2011-05-19  3739  3763  3194   3280   6181312 -0.120643"
      ]
     },
     "execution_count": 3,
     "metadata": {},
     "output_type": "execute_result"
    }
   ],
   "source": [
    "import FinanceDataReader as fdr\n",
    "df = fdr.DataReader('138040', '2003')\n",
    "df.head()"
   ]
  },
  {
   "cell_type": "code",
   "execution_count": null,
   "metadata": {
    "colab": {
     "base_uri": "https://localhost:8080/",
     "height": 384
    },
    "executionInfo": {
     "elapsed": 801,
     "status": "ok",
     "timestamp": 1676441692553,
     "user": {
      "displayName": "최진영",
      "userId": "04611147725648038476"
     },
     "user_tz": -540
    },
    "id": "0TTULkt7tf0e",
    "outputId": "540e1ef4-af50-4f65-f717-fc52f83a7431"
   },
   "outputs": [
    {
     "data": {
      "text/plain": [
       "<matplotlib.axes._subplots.AxesSubplot at 0x7f0e9ad3ba00>"
      ]
     },
     "execution_count": 4,
     "metadata": {},
     "output_type": "execute_result"
    },
    {
     "data": {
      "image/png": "[encoded data removed]",
      "text/plain": [
       "<Figure size 864x432 with 1 Axes>"
      ]
     },
     "metadata": {
      "needs_background": "light"
     },
     "output_type": "display_data"
    }
   ],
   "source": [
    "df['Close'].plot(figsize = (12,6))"
   ]
  },
  {
   "cell_type": "code",
   "execution_count": null,
   "metadata": {
    "colab": {
     "base_uri": "https://localhost:8080/",
     "height": 237
    },
    "executionInfo": {
     "elapsed": 7,
     "status": "ok",
     "timestamp": 1676441739633,
     "user": {
      "displayName": "최진영",
      "userId": "04611147725648038476"
     },
     "user_tz": -540
    },
    "id": "JJarddQitleC",
    "outputId": "615fd9d8-cfbd-4a29-dc6c-fdc8faba003e"
   },
   "outputs": [
    {
     "data": {
      "text/html": [
       "\n",
       "  <div id=\"df-ec71af99-43b4-4b6c-8dc3-755b55537166\">\n",
       "    <div class=\"colab-df-container\">\n",
       "      <div>\n",
       "<style scoped>\n",
       "    .dataframe tbody tr th:only-of-type {\n",
       "        vertical-align: middle;\n",
       "    }\n",
       "\n",
       "    .dataframe tbody tr th {\n",
       "        vertical-align: top;\n",
       "    }\n",
       "\n",
       "    .dataframe thead th {\n",
       "        text-align: right;\n",
       "    }\n",
       "</style>\n",
       "<table border=\"1\" class=\"dataframe\">\n",
       "  <thead>\n",
       "    <tr style=\"text-align: right;\">\n",
       "      <th></th>\n",
       "      <th>Open</th>\n",
       "      <th>High</th>\n",
       "      <th>Low</th>\n",
       "      <th>Close</th>\n",
       "      <th>Volume</th>\n",
       "      <th>Change</th>\n",
       "      <th>cum_ror</th>\n",
       "    </tr>\n",
       "    <tr>\n",
       "      <th>Date</th>\n",
       "      <th></th>\n",
       "      <th></th>\n",
       "      <th></th>\n",
       "      <th></th>\n",
       "      <th></th>\n",
       "      <th></th>\n",
       "      <th></th>\n",
       "    </tr>\n",
       "  </thead>\n",
       "  <tbody>\n",
       "    <tr>\n",
       "      <th>2011-05-13</th>\n",
       "      <td>6161</td>\n",
       "      <td>6161</td>\n",
       "      <td>5241</td>\n",
       "      <td>5242</td>\n",
       "      <td>428994</td>\n",
       "      <td>NaN</td>\n",
       "      <td>NaN</td>\n",
       "    </tr>\n",
       "    <tr>\n",
       "      <th>2011-05-16</th>\n",
       "      <td>4464</td>\n",
       "      <td>4464</td>\n",
       "      <td>4464</td>\n",
       "      <td>4465</td>\n",
       "      <td>487412</td>\n",
       "      <td>-0.148226</td>\n",
       "      <td>-0.148226</td>\n",
       "    </tr>\n",
       "    <tr>\n",
       "      <th>2011-05-17</th>\n",
       "      <td>3938</td>\n",
       "      <td>4056</td>\n",
       "      <td>3796</td>\n",
       "      <td>3796</td>\n",
       "      <td>12268654</td>\n",
       "      <td>-0.149832</td>\n",
       "      <td>-0.275849</td>\n",
       "    </tr>\n",
       "    <tr>\n",
       "      <th>2011-05-18</th>\n",
       "      <td>3881</td>\n",
       "      <td>3895</td>\n",
       "      <td>3706</td>\n",
       "      <td>3730</td>\n",
       "      <td>6188170</td>\n",
       "      <td>-0.017387</td>\n",
       "      <td>-0.288440</td>\n",
       "    </tr>\n",
       "    <tr>\n",
       "      <th>2011-05-19</th>\n",
       "      <td>3739</td>\n",
       "      <td>3763</td>\n",
       "      <td>3194</td>\n",
       "      <td>3280</td>\n",
       "      <td>6181312</td>\n",
       "      <td>-0.120643</td>\n",
       "      <td>-0.374285</td>\n",
       "    </tr>\n",
       "  </tbody>\n",
       "</table>\n",
       "</div>\n",
       "      <button class=\"colab-df-convert\" onclick=\"convertToInteractive('df-ec71af99-43b4-4b6c-8dc3-755b55537166')\"\n",
       "              title=\"Convert this dataframe to an interactive table.\"\n",
       "              style=\"display:none;\">\n",
       "        \n",
       "  <svg xmlns=\"http://www.w3.org/2000/svg\" height=\"24px\"viewBox=\"0 0 24 24\"\n",
       "       width=\"24px\">\n",
       "    <path d=\"M0 0h24v24H0V0z\" fill=\"none\"/>\n",
       "    <path d=\"M18.56 5.44l.94 2.06.94-2.06 2.06-.94-2.06-.94-.94-2.06-.94 2.06-2.06.94zm-11 1L8.5 8.5l.94-2.06 2.06-.94-2.06-.94L8.5 2.5l-.94 2.06-2.06.94zm10 10l.94 2.06.94-2.06 2.06-.94-2.06-.94-.94-2.06-.94 2.06-2.06.94z\"/><path d=\"M17.41 7.96l-1.37-1.37c-.4-.4-.92-.59-1.43-.59-.52 0-1.04.2-1.43.59L10.3 9.45l-7.72 7.72c-.78.78-.78 2.05 0 2.83L4 21.41c.39.39.9.59 1.41.59.51 0 1.02-.2 1.41-.59l7.78-7.78 2.81-2.81c.8-.78.8-2.07 0-2.86zM5.41 20L4 18.59l7.72-7.72 1.47 1.35L5.41 20z\"/>\n",
       "  </svg>\n",
       "      </button>\n",
       "      \n",
       "  <style>\n",
       "    .colab-df-container {\n",
       "      display:flex;\n",
       "      flex-wrap:wrap;\n",
       "      gap: 12px;\n",
       "    }\n",
       "\n",
       "    .colab-df-convert {\n",
       "      background-color: #E8F0FE;\n",
       "      border: none;\n",
       "      border-radius: 50%;\n",
       "      cursor: pointer;\n",
       "      display: none;\n",
       "      fill: #1967D2;\n",
       "      height: 32px;\n",
       "      padding: 0 0 0 0;\n",
       "      width: 32px;\n",
       "    }\n",
       "\n",
       "    .colab-df-convert:hover {\n",
       "      background-color: #E2EBFA;\n",
       "      box-shadow: 0px 1px 2px rgba(60, 64, 67, 0.3), 0px 1px 3px 1px rgba(60, 64, 67, 0.15);\n",
       "      fill: #174EA6;\n",
       "    }\n",
       "\n",
       "    [theme=dark] .colab-df-convert {\n",
       "      background-color: #3B4455;\n",
       "      fill: #D2E3FC;\n",
       "    }\n",
       "\n",
       "    [theme=dark] .colab-df-convert:hover {\n",
       "      background-color: #434B5C;\n",
       "      box-shadow: 0px 1px 3px 1px rgba(0, 0, 0, 0.15);\n",
       "      filter: drop-shadow(0px 1px 2px rgba(0, 0, 0, 0.3));\n",
       "      fill: #FFFFFF;\n",
       "    }\n",
       "  </style>\n",
       "\n",
       "      <script>\n",
       "        const buttonEl =\n",
       "          document.querySelector('#df-ec71af99-43b4-4b6c-8dc3-755b55537166 button.colab-df-convert');\n",
       "        buttonEl.style.display =\n",
       "          google.colab.kernel.accessAllowed ? 'block' : 'none';\n",
       "\n",
       "        async function convertToInteractive(key) {\n",
       "          const element = document.querySelector('#df-ec71af99-43b4-4b6c-8dc3-755b55537166');\n",
       "          const dataTable =\n",
       "            await google.colab.kernel.invokeFunction('convertToInteractive',\n",
       "                                                     [key], {});\n",
       "          if (!dataTable) return;\n",
       "\n",
       "          const docLinkHtml = 'Like what you see? Visit the ' +\n",
       "            '<a target=\"_blank\" href=https://colab.research.google.com/notebooks/data_table.ipynb>data table notebook</a>'\n",
       "            + ' to learn more about interactive tables.';\n",
       "          element.innerHTML = '';\n",
       "          dataTable['output_type'] = 'display_data';\n",
       "          await google.colab.output.renderOutput(dataTable, element);\n",
       "          const docLink = document.createElement('div');\n",
       "          docLink.innerHTML = docLinkHtml;\n",
       "          element.appendChild(docLink);\n",
       "        }\n",
       "      </script>\n",
       "    </div>\n",
       "  </div>\n",
       "  "
      ],
      "text/plain": [
       "            Open  High   Low  Close    Volume    Change   cum_ror\n",
       "Date                                                             \n",
       "2011-05-13  6161  6161  5241   5242    428994       NaN       NaN\n",
       "2011-05-16  4464  4464  4464   4465    487412 -0.148226 -0.148226\n",
       "2011-05-17  3938  4056  3796   3796  12268654 -0.149832 -0.275849\n",
       "2011-05-18  3881  3895  3706   3730   6188170 -0.017387 -0.288440\n",
       "2011-05-19  3739  3763  3194   3280   6181312 -0.120643 -0.374285"
      ]
     },
     "execution_count": 5,
     "metadata": {},
     "output_type": "execute_result"
    }
   ],
   "source": [
    "df['cum_ror'] = (1 + df['Change']).cumprod() - 1\n",
    "df.head()"
   ]
  },
  {
   "cell_type": "markdown",
   "metadata": {
    "id": "xhLkk6KDt0eu"
   },
   "source": [
    "# 성과분석\n",
    "- 연평균 복리 수익률(CAGR)\n",
    "- 최대 낙폭(MDD)\n",
    "- 변동성 (Valaility)\n",
    "- 샤프 지수(Sharpe ratio)"
   ]
  },
  {
   "cell_type": "markdown",
   "metadata": {
    "id": "XwiRY3M8uWGr"
   },
   "source": [
    "### 01. 연평균 복리 수익률"
   ]
  },
  {
   "cell_type": "code",
   "execution_count": null,
   "metadata": {
    "colab": {
     "base_uri": "https://localhost:8080/"
    },
    "executionInfo": {
     "elapsed": 5,
     "status": "ok",
     "timestamp": 1676442174477,
     "user": {
      "displayName": "최진영",
      "userId": "04611147725648038476"
     },
     "user_tz": -540
    },
    "id": "kCux19oluBrx",
    "outputId": "914feed8-0b67-4fe9-fd3d-a35343091484"
   },
   "outputs": [
    {
     "data": {
      "text/plain": [
       "0.19387972197559877"
      ]
     },
     "execution_count": 15,
     "metadata": {},
     "output_type": "execute_result"
    }
   ],
   "source": [
    "# (1 + 누적수익률)**(1/투자년도) - 1\n",
    "# CAGR = (1 + 누적수익률)**(1/투자년도) - 1\n",
    "\n",
    "누적수익률 = df['cum_ror'].iloc[-1]\n",
    "start_date = df.index[0]\n",
    "end_date = df.index[-1]\n",
    "투자년도 = (end_date - start_date).days / 365\n",
    "CAGR = (1 + 누적수익률)**(1/투자년도) - 1\n",
    "CAGR"
   ]
  },
  {
   "cell_type": "markdown",
   "metadata": {
    "id": "JI2iwbQpvl-Q"
   },
   "source": [
    "### MDD"
   ]
  },
  {
   "cell_type": "code",
   "execution_count": null,
   "metadata": {
    "colab": {
     "base_uri": "https://localhost:8080/",
     "height": 384
    },
    "executionInfo": {
     "elapsed": 696,
     "status": "ok",
     "timestamp": 1676442421107,
     "user": {
      "displayName": "최진영",
      "userId": "04611147725648038476"
     },
     "user_tz": -540
    },
    "id": "Rdfefft1vngF",
    "outputId": "af674368-f325-4d49-d783-b12f5f2edbc1"
   },
   "outputs": [
    {
     "data": {
      "text/plain": [
       "<matplotlib.axes._subplots.AxesSubplot at 0x7f0e9a62a760>"
      ]
     },
     "execution_count": 17,
     "metadata": {},
     "output_type": "execute_result"
    },
    {
     "data": {
      "image/png": "[encoded data removed]",
      "text/plain": [
       "<Figure size 864x432 with 1 Axes>"
      ]
     },
     "metadata": {
      "needs_background": "light"
     },
     "output_type": "display_data"
    }
   ],
   "source": [
    "df['cum_max'] = df['Close'].cummax()\n",
    "df['cum_max'].plot(figsize = (12,6))"
   ]
  },
  {
   "cell_type": "code",
   "execution_count": null,
   "metadata": {
    "colab": {
     "base_uri": "https://localhost:8080/",
     "height": 237
    },
    "executionInfo": {
     "elapsed": 9,
     "status": "ok",
     "timestamp": 1676442627191,
     "user": {
      "displayName": "최진영",
      "userId": "04611147725648038476"
     },
     "user_tz": -540
    },
    "id": "Rx9Hp87dw2y6",
    "outputId": "0de279c0-0523-404a-bd78-4302788cb2b8"
   },
   "outputs": [
    {
     "data": {
      "text/html": [
       "\n",
       "  <div id=\"df-f92b9c85-7130-4ce8-99ee-04da762f438a\">\n",
       "    <div class=\"colab-df-container\">\n",
       "      <div>\n",
       "<style scoped>\n",
       "    .dataframe tbody tr th:only-of-type {\n",
       "        vertical-align: middle;\n",
       "    }\n",
       "\n",
       "    .dataframe tbody tr th {\n",
       "        vertical-align: top;\n",
       "    }\n",
       "\n",
       "    .dataframe thead th {\n",
       "        text-align: right;\n",
       "    }\n",
       "</style>\n",
       "<table border=\"1\" class=\"dataframe\">\n",
       "  <thead>\n",
       "    <tr style=\"text-align: right;\">\n",
       "      <th></th>\n",
       "      <th>Open</th>\n",
       "      <th>High</th>\n",
       "      <th>Low</th>\n",
       "      <th>Close</th>\n",
       "      <th>Volume</th>\n",
       "      <th>Change</th>\n",
       "      <th>cum_ror</th>\n",
       "      <th>cum_max</th>\n",
       "      <th>최대값에서하락률</th>\n",
       "    </tr>\n",
       "    <tr>\n",
       "      <th>Date</th>\n",
       "      <th></th>\n",
       "      <th></th>\n",
       "      <th></th>\n",
       "      <th></th>\n",
       "      <th></th>\n",
       "      <th></th>\n",
       "      <th></th>\n",
       "      <th></th>\n",
       "      <th></th>\n",
       "    </tr>\n",
       "  </thead>\n",
       "  <tbody>\n",
       "    <tr>\n",
       "      <th>2011-05-13</th>\n",
       "      <td>6161</td>\n",
       "      <td>6161</td>\n",
       "      <td>5241</td>\n",
       "      <td>5242</td>\n",
       "      <td>428994</td>\n",
       "      <td>NaN</td>\n",
       "      <td>NaN</td>\n",
       "      <td>5242</td>\n",
       "      <td>0.000000</td>\n",
       "    </tr>\n",
       "    <tr>\n",
       "      <th>2011-05-16</th>\n",
       "      <td>4464</td>\n",
       "      <td>4464</td>\n",
       "      <td>4464</td>\n",
       "      <td>4465</td>\n",
       "      <td>487412</td>\n",
       "      <td>-0.148226</td>\n",
       "      <td>-0.148226</td>\n",
       "      <td>5242</td>\n",
       "      <td>-0.148226</td>\n",
       "    </tr>\n",
       "    <tr>\n",
       "      <th>2011-05-17</th>\n",
       "      <td>3938</td>\n",
       "      <td>4056</td>\n",
       "      <td>3796</td>\n",
       "      <td>3796</td>\n",
       "      <td>12268654</td>\n",
       "      <td>-0.149832</td>\n",
       "      <td>-0.275849</td>\n",
       "      <td>5242</td>\n",
       "      <td>-0.275849</td>\n",
       "    </tr>\n",
       "    <tr>\n",
       "      <th>2011-05-18</th>\n",
       "      <td>3881</td>\n",
       "      <td>3895</td>\n",
       "      <td>3706</td>\n",
       "      <td>3730</td>\n",
       "      <td>6188170</td>\n",
       "      <td>-0.017387</td>\n",
       "      <td>-0.288440</td>\n",
       "      <td>5242</td>\n",
       "      <td>-0.288440</td>\n",
       "    </tr>\n",
       "    <tr>\n",
       "      <th>2011-05-19</th>\n",
       "      <td>3739</td>\n",
       "      <td>3763</td>\n",
       "      <td>3194</td>\n",
       "      <td>3280</td>\n",
       "      <td>6181312</td>\n",
       "      <td>-0.120643</td>\n",
       "      <td>-0.374285</td>\n",
       "      <td>5242</td>\n",
       "      <td>-0.374285</td>\n",
       "    </tr>\n",
       "  </tbody>\n",
       "</table>\n",
       "</div>\n",
       "      <button class=\"colab-df-convert\" onclick=\"convertToInteractive('df-f92b9c85-7130-4ce8-99ee-04da762f438a')\"\n",
       "              title=\"Convert this dataframe to an interactive table.\"\n",
       "              style=\"display:none;\">\n",
       "        \n",
       "  <svg xmlns=\"http://www.w3.org/2000/svg\" height=\"24px\"viewBox=\"0 0 24 24\"\n",
       "       width=\"24px\">\n",
       "    <path d=\"M0 0h24v24H0V0z\" fill=\"none\"/>\n",
       "    <path d=\"M18.56 5.44l.94 2.06.94-2.06 2.06-.94-2.06-.94-.94-2.06-.94 2.06-2.06.94zm-11 1L8.5 8.5l.94-2.06 2.06-.94-2.06-.94L8.5 2.5l-.94 2.06-2.06.94zm10 10l.94 2.06.94-2.06 2.06-.94-2.06-.94-.94-2.06-.94 2.06-2.06.94z\"/><path d=\"M17.41 7.96l-1.37-1.37c-.4-.4-.92-.59-1.43-.59-.52 0-1.04.2-1.43.59L10.3 9.45l-7.72 7.72c-.78.78-.78 2.05 0 2.83L4 21.41c.39.39.9.59 1.41.59.51 0 1.02-.2 1.41-.59l7.78-7.78 2.81-2.81c.8-.78.8-2.07 0-2.86zM5.41 20L4 18.59l7.72-7.72 1.47 1.35L5.41 20z\"/>\n",
       "  </svg>\n",
       "      </button>\n",
       "      \n",
       "  <style>\n",
       "    .colab-df-container {\n",
       "      display:flex;\n",
       "      flex-wrap:wrap;\n",
       "      gap: 12px;\n",
       "    }\n",
       "\n",
       "    .colab-df-convert {\n",
       "      background-color: #E8F0FE;\n",
       "      border: none;\n",
       "      border-radius: 50%;\n",
       "      cursor: pointer;\n",
       "      display: none;\n",
       "      fill: #1967D2;\n",
       "      height: 32px;\n",
       "      padding: 0 0 0 0;\n",
       "      width: 32px;\n",
       "    }\n",
       "\n",
       "    .colab-df-convert:hover {\n",
       "      background-color: #E2EBFA;\n",
       "      box-shadow: 0px 1px 2px rgba(60, 64, 67, 0.3), 0px 1px 3px 1px rgba(60, 64, 67, 0.15);\n",
       "      fill: #174EA6;\n",
       "    }\n",
       "\n",
       "    [theme=dark] .colab-df-convert {\n",
       "      background-color: #3B4455;\n",
       "      fill: #D2E3FC;\n",
       "    }\n",
       "\n",
       "    [theme=dark] .colab-df-convert:hover {\n",
       "      background-color: #434B5C;\n",
       "      box-shadow: 0px 1px 3px 1px rgba(0, 0, 0, 0.15);\n",
       "      filter: drop-shadow(0px 1px 2px rgba(0, 0, 0, 0.3));\n",
       "      fill: #FFFFFF;\n",
       "    }\n",
       "  </style>\n",
       "\n",
       "      <script>\n",
       "        const buttonEl =\n",
       "          document.querySelector('#df-f92b9c85-7130-4ce8-99ee-04da762f438a button.colab-df-convert');\n",
       "        buttonEl.style.display =\n",
       "          google.colab.kernel.accessAllowed ? 'block' : 'none';\n",
       "\n",
       "        async function convertToInteractive(key) {\n",
       "          const element = document.querySelector('#df-f92b9c85-7130-4ce8-99ee-04da762f438a');\n",
       "          const dataTable =\n",
       "            await google.colab.kernel.invokeFunction('convertToInteractive',\n",
       "                                                     [key], {});\n",
       "          if (!dataTable) return;\n",
       "\n",
       "          const docLinkHtml = 'Like what you see? Visit the ' +\n",
       "            '<a target=\"_blank\" href=https://colab.research.google.com/notebooks/data_table.ipynb>data table notebook</a>'\n",
       "            + ' to learn more about interactive tables.';\n",
       "          element.innerHTML = '';\n",
       "          dataTable['output_type'] = 'display_data';\n",
       "          await google.colab.output.renderOutput(dataTable, element);\n",
       "          const docLink = document.createElement('div');\n",
       "          docLink.innerHTML = docLinkHtml;\n",
       "          element.appendChild(docLink);\n",
       "        }\n",
       "      </script>\n",
       "    </div>\n",
       "  </div>\n",
       "  "
      ],
      "text/plain": [
       "            Open  High   Low  Close    Volume    Change   cum_ror  cum_max  \\\n",
       "Date                                                                         \n",
       "2011-05-13  6161  6161  5241   5242    428994       NaN       NaN     5242   \n",
       "2011-05-16  4464  4464  4464   4465    487412 -0.148226 -0.148226     5242   \n",
       "2011-05-17  3938  4056  3796   3796  12268654 -0.149832 -0.275849     5242   \n",
       "2011-05-18  3881  3895  3706   3730   6188170 -0.017387 -0.288440     5242   \n",
       "2011-05-19  3739  3763  3194   3280   6181312 -0.120643 -0.374285     5242   \n",
       "\n",
       "            최대값에서하락률  \n",
       "Date                  \n",
       "2011-05-13  0.000000  \n",
       "2011-05-16 -0.148226  \n",
       "2011-05-17 -0.275849  \n",
       "2011-05-18 -0.288440  \n",
       "2011-05-19 -0.374285  "
      ]
     },
     "execution_count": 18,
     "metadata": {},
     "output_type": "execute_result"
    }
   ],
   "source": [
    "df['최대값에서하락률'] = (df['Close'] / df['cum_max']) - 1\n",
    "df.head()"
   ]
  },
  {
   "cell_type": "code",
   "execution_count": null,
   "metadata": {
    "colab": {
     "base_uri": "https://localhost:8080/",
     "height": 384
    },
    "executionInfo": {
     "elapsed": 854,
     "status": "ok",
     "timestamp": 1676442683589,
     "user": {
      "displayName": "최진영",
      "userId": "04611147725648038476"
     },
     "user_tz": -540
    },
    "id": "18HLSU7sxSj_",
    "outputId": "f06d085c-a6ac-4fdf-8e24-d67af223c2e8"
   },
   "outputs": [
    {
     "data": {
      "text/plain": [
       "<matplotlib.axes._subplots.AxesSubplot at 0x7f0e9a3c0a60>"
      ]
     },
     "execution_count": 19,
     "metadata": {},
     "output_type": "execute_result"
    },
    {
     "data": {
      "image/png": "[encoded data removed]",
      "text/plain": [
       "<Figure size 864x432 with 1 Axes>"
      ]
     },
     "metadata": {
      "needs_background": "light"
     },
     "output_type": "display_data"
    }
   ],
   "source": [
    "df['최대값에서하락률'].plot(figsize = (12,6))"
   ]
  },
  {
   "cell_type": "code",
   "execution_count": null,
   "metadata": {
    "colab": {
     "base_uri": "https://localhost:8080/",
     "height": 384
    },
    "executionInfo": {
     "elapsed": 675,
     "status": "ok",
     "timestamp": 1676442773190,
     "user": {
      "displayName": "최진영",
      "userId": "04611147725648038476"
     },
     "user_tz": -540
    },
    "id": "QgiecyAdxgMG",
    "outputId": "52aebcad-0ad2-4c5f-ab38-40506b54ee7f"
   },
   "outputs": [
    {
     "data": {
      "text/plain": [
       "<matplotlib.axes._subplots.AxesSubplot at 0x7f0e9a30bc40>"
      ]
     },
     "execution_count": 20,
     "metadata": {},
     "output_type": "execute_result"
    },
    {
     "data": {
      "image/png": "[encoded data removed]",
      "text/plain": [
       "<Figure size 864x432 with 1 Axes>"
      ]
     },
     "metadata": {
      "needs_background": "light"
     },
     "output_type": "display_data"
    }
   ],
   "source": [
    "df['MDD'] = df['최대값에서하락률'].cummin()\n",
    "df['MDD'].plot(figsize = (12,6))"
   ]
  },
  {
   "cell_type": "code",
   "execution_count": null,
   "metadata": {
    "colab": {
     "base_uri": "https://localhost:8080/"
    },
    "executionInfo": {
     "elapsed": 4,
     "status": "ok",
     "timestamp": 1676443636758,
     "user": {
      "displayName": "최진영",
      "userId": "04611147725648038476"
     },
     "user_tz": -540
    },
    "id": "cla4ZivExv2F",
    "outputId": "0cc210a0-418f-4425-cb30-1177a0ced45d"
   },
   "outputs": [
    {
     "data": {
      "text/plain": [
       "-0.653179190751445"
      ]
     },
     "execution_count": 39,
     "metadata": {},
     "output_type": "execute_result"
    }
   ],
   "source": [
    "MDD = df['MDD'].iloc[-1]\n",
    "MDD"
   ]
  },
  {
   "cell_type": "markdown",
   "metadata": {
    "id": "hGb4zY5xy073"
   },
   "source": [
    "### 변동성"
   ]
  },
  {
   "cell_type": "code",
   "execution_count": 1,
   "metadata": {
    "colab": {
     "base_uri": "https://localhost:8080/",
     "height": 183
    },
    "executionInfo": {
     "elapsed": 1115,
     "status": "error",
     "timestamp": 1676510251106,
     "user": {
      "displayName": "최진영",
      "userId": "04611147725648038476"
     },
     "user_tz": -540
    },
    "id": "PGWFAO9Wy26Y",
    "outputId": "19802600-a665-4245-db60-4cc71b615666"
   },
   "outputs": [
    {
     "ename": "NameError",
     "evalue": "ignored",
     "output_type": "error",
     "traceback": [
      "\u001b[0;31m---------------------------------------------------------------------------\u001b[0m",
      "\u001b[0;31mNameError\u001b[0m                                 Traceback (most recent call last)",
      "\u001b[0;32m<ipython-input-1-4e4e62ed9693>\u001b[0m in \u001b[0;36m<module>\u001b[0;34m\u001b[0m\n\u001b[0;32m----> 1\u001b[0;31m \u001b[0mstd\u001b[0m \u001b[0;34m=\u001b[0m \u001b[0mdf\u001b[0m\u001b[0;34m[\u001b[0m\u001b[0;34m'Change'\u001b[0m\u001b[0;34m]\u001b[0m\u001b[0;34m.\u001b[0m\u001b[0mstd\u001b[0m\u001b[0;34m(\u001b[0m\u001b[0;34m)\u001b[0m\u001b[0;34m\u001b[0m\u001b[0;34m\u001b[0m\u001b[0m\n\u001b[0m\u001b[1;32m      2\u001b[0m \u001b[0mstd\u001b[0m\u001b[0;34m\u001b[0m\u001b[0;34m\u001b[0m\u001b[0m\n",
      "\u001b[0;31mNameError\u001b[0m: name 'df' is not defined"
     ]
    }
   ],
   "source": [
    "std = df['Change'].std()\n",
    "std"
   ]
  },
  {
   "cell_type": "code",
   "execution_count": null,
   "metadata": {
    "executionInfo": {
     "elapsed": 4,
     "status": "aborted",
     "timestamp": 1676510251107,
     "user": {
      "displayName": "최진영",
      "userId": "04611147725648038476"
     },
     "user_tz": -540
    },
    "id": "X5cQAewazCi2"
   },
   "outputs": [],
   "source": [
    "import numpy as np\n",
    "VOL = std * np.sqrt(252)\n",
    "VOL"
   ]
  },
  {
   "cell_type": "markdown",
   "metadata": {
    "id": "fF30xfo4zSCg"
   },
   "source": [
    "### 샤프 지수\n",
    "“샤프비율(Sharp Ratio) = (포트폴리오 기대수익률 – 무위험이자률) / 변동성(리스크)”\n",
    "- 샤프 비율이 높을 수록 더 적은 위험으로 더 높은 수익률을 낼 수 있다.\n",
    "- 샤프비율이 0이상이여야 투자대상, 1이상 경우 괜찮은 투자\n",
    "\n"
   ]
  },
  {
   "cell_type": "code",
   "execution_count": null,
   "metadata": {
    "id": "8-Zf4GeozT_9"
   },
   "outputs": [],
   "source": [
    "# Sharp Ratio = (포트폴리오 기대수익률 – 무위험이자률) / 변동성(리스크)"
   ]
  },
  {
   "cell_type": "code",
   "execution_count": null,
   "metadata": {
    "id": "Hdr7-FK0z-lU"
   },
   "outputs": [],
   "source": [
    "무위험이자율 = 0.035"
   ]
  },
  {
   "cell_type": "code",
   "execution_count": null,
   "metadata": {
    "colab": {
     "base_uri": "https://localhost:8080/"
    },
    "executionInfo": {
     "elapsed": 8,
     "status": "ok",
     "timestamp": 1676443458289,
     "user": {
      "displayName": "최진영",
      "userId": "04611147725648038476"
     },
     "user_tz": -540
    },
    "id": "txRL8vD30IZD",
    "outputId": "8019f908-e2b9-4446-a6fd-bbdf5f7c2a6c"
   },
   "outputs": [
    {
     "data": {
      "text/plain": [
       "0.4363877945476945"
      ]
     },
     "execution_count": 27,
     "metadata": {},
     "output_type": "execute_result"
    }
   ],
   "source": [
    "Sharp_Ratio = (CAGR - 무위험이자율) / VOL\n",
    "Sharp_Ratio"
   ]
  },
  {
   "cell_type": "code",
   "execution_count": null,
   "metadata": {
    "colab": {
     "base_uri": "https://localhost:8080/"
    },
    "executionInfo": {
     "elapsed": 5,
     "status": "ok",
     "timestamp": 1676443667582,
     "user": {
      "displayName": "최진영",
      "userId": "04611147725648038476"
     },
     "user_tz": -540
    },
    "id": "Ty10UC6-0Zyt",
    "outputId": "a74d05d0-450f-49df-8cda-d9755febf237"
   },
   "outputs": [
    {
     "name": "stdout",
     "output_type": "stream",
     "text": [
      "연복리수익률 : 19.39%\n",
      "샤프지수 : 0.44\n",
      "변동성 : 36.41%\n",
      "최대하락률 : 65.32%\n"
     ]
    }
   ],
   "source": [
    "print(f'연복리수익률 : {round(CAGR * 100, 2)}%')\n",
    "print(f'샤프지수 : {round(Sharp_Ratio, 2)}')\n",
    "print(f'변동성 : {round(VOL * 100, 2)}%')\n",
    "print(f'최대하락률 : {round(abs(MDD) * 100, 2)}%')"
   ]
  }
 ],
 "metadata": {
  "colab": {
   "authorship_tag": "ABX9TyMecl1DM9vln324VPpiCrWa",
   "collapsed_sections": [
    "XwiRY3M8uWGr",
    "JI2iwbQpvl-Q"
   ],
   "provenance": []
  },
  "kernelspec": {
   "display_name": "Python 3 (ipykernel)",
   "language": "python",
   "name": "python3"
  },
  "language_info": {
   "codemirror_mode": {
    "name": "ipython",
    "version": 3
   },
   "file_extension": ".py",
   "mimetype": "text/x-python",
   "name": "python",
   "nbconvert_exporter": "python",
   "pygments_lexer": "ipython3",
   "version": "3.9.13"
  }
 },
 "nbformat": 4,
 "nbformat_minor": 4
}
