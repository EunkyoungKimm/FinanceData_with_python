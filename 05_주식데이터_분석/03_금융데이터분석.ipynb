{
 "cells": [
  {
   "cell_type": "markdown",
   "id": "f857e7e7-fd3c-4156-8282-ceb26f18b207",
   "metadata": {},
   "source": [
    "# 금융데이터 분석"
   ]
  },
  {
   "cell_type": "markdown",
   "id": "dcc75c97-a1eb-40d4-aefb-5f64ca22178a",
   "metadata": {},
   "source": [
    "## Financial Analysis(재무분석)\n",
    "- 데이터를 구할 수 없어서 이런 내용은 deep하게 다루기 힘듦.."
   ]
  }
 ],
 "metadata": {
  "kernelspec": {
   "display_name": "Python 3 (ipykernel)",
   "language": "python",
   "name": "python3"
  },
  "language_info": {
   "codemirror_mode": {
    "name": "ipython",
    "version": 3
   },
   "file_extension": ".py",
   "mimetype": "text/x-python",
   "name": "python",
   "nbconvert_exporter": "python",
   "pygments_lexer": "ipython3",
   "version": "3.9.13"
  }
 },
 "nbformat": 4,
 "nbformat_minor": 5
}
