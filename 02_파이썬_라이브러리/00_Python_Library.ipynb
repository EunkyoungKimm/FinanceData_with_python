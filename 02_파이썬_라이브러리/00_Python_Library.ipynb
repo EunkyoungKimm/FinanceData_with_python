{
 "cells": [
  {
   "cell_type": "markdown",
   "id": "64d480c7-d40f-432e-846a-fe7c8f6be74e",
   "metadata": {},
   "source": [
    "- 데이터분석 & 인공지능에 대해서 배울거임\n",
    "- 데이터분석: `통계, 도메인 지식, 코딩`이 필요한 능력\n",
    "- 인공지능: `코딩, 수학` + 통계, 도메인\n",
    "\n",
    "- 현재 우리나라 교육은 데이터분석 잘하는 사람이 데이터분석을 가르친다기 보다는 컴공과가 코딩, 수학 잘하는 사람이 통계를 가르침.."
   ]
  },
  {
   "cell_type": "markdown",
   "id": "9e0c1b9d-b2de-4314-b55f-e91e2a90aef4",
   "metadata": {},
   "source": [
    "# 파이썬 라이브러리\n",
    "## 대표적인 데이터 분석, 머신러닝 라이브러리\n",
    "- 데이터 핸들링: numpy\n",
    "- 데이터 분석: pandas\n",
    "- 데이터 시각화: matplotlib, seaborn, plotly\n",
    "- 머신러닝: scikit-learn\n",
    "- 딥러닝: tensorflow, PyTorch"
   ]
  }
 ],
 "metadata": {
  "kernelspec": {
   "display_name": "Python 3 (ipykernel)",
   "language": "python",
   "name": "python3"
  },
  "language_info": {
   "codemirror_mode": {
    "name": "ipython",
    "version": 3
   },
   "file_extension": ".py",
   "mimetype": "text/x-python",
   "name": "python",
   "nbconvert_exporter": "python",
   "pygments_lexer": "ipython3",
   "version": "3.9.13"
  }
 },
 "nbformat": 4,
 "nbformat_minor": 5
}
