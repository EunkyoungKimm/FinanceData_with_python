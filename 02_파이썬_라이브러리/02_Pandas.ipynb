{
 "cells": [
  {
   "cell_type": "markdown",
   "id": "1bc1fdc2-b7ff-4d68-9a4a-af7abd8542a4",
   "metadata": {},
   "source": [
    "# Pandas\n",
    "- 판다스는 2가지 데이터 자료 유형이 있다.\n",
    "- 데이터 자료 유형: \n",
    "    - `Series` : column 하나\n",
    "    - `DataFrame` : column, row가 있는 데이터(엑셀과 비슷) / 시리즈가 모여서 데이터프레임이 됨\n",
    "- 사진 하나 있으면 좋을듯"
   ]
  },
  {
   "cell_type": "markdown",
   "id": "4765fdea-42ef-4aae-b342-3b999cc7d593",
   "metadata": {},
   "source": [
    "## Series"
   ]
  },
  {
   "cell_type": "code",
   "execution_count": 2,
   "id": "a1536200-ef18-479c-be16-a989c485858a",
   "metadata": {},
   "outputs": [],
   "source": [
    "import pandas as pd"
   ]
  },
  {
   "cell_type": "code",
   "execution_count": 2,
   "id": "6ba9a1e1-d42c-4cc1-8592-909d538aa81b",
   "metadata": {},
   "outputs": [
    {
     "data": {
      "text/plain": [
       "DatetimeIndex(['2022-01-31', '2022-02-28', '2022-03-31', '2022-04-30',\n",
       "               '2022-05-31', '2022-06-30', '2022-07-31', '2022-08-31',\n",
       "               '2022-09-30', '2022-10-31', '2022-11-30', '2022-12-31'],\n",
       "              dtype='datetime64[ns]', freq='M')"
      ]
     },
     "execution_count": 2,
     "metadata": {},
     "output_type": "execute_result"
    }
   ],
   "source": [
    "pd.date_range('2022-01-01', '2023-01-01', freq = 'M') # (시작, 끝, freq(주기)) / M = 월말"
   ]
  },
  {
   "cell_type": "code",
   "execution_count": 3,
   "id": "46b98e4e-58d4-49a1-9e63-9cb7681318a5",
   "metadata": {},
   "outputs": [
    {
     "data": {
      "text/plain": [
       "DatetimeIndex(['2022-01-01', '2022-02-01', '2022-03-01', '2022-04-01',\n",
       "               '2022-05-01', '2022-06-01', '2022-07-01', '2022-08-01',\n",
       "               '2022-09-01', '2022-10-01', '2022-11-01', '2022-12-01',\n",
       "               '2023-01-01'],\n",
       "              dtype='datetime64[ns]', freq='MS')"
      ]
     },
     "execution_count": 3,
     "metadata": {},
     "output_type": "execute_result"
    }
   ],
   "source": [
    "pd.date_range('2022-01-01', '2023-01-01', freq = 'MS') # MS = 월초(1일)"
   ]
  },
  {
   "cell_type": "code",
   "execution_count": 4,
   "id": "f8de71e2-8296-442a-ad88-c4c9abe97970",
   "metadata": {},
   "outputs": [
    {
     "data": {
      "text/plain": [
       "DatetimeIndex(['2023-01-01', '2023-01-02', '2023-01-03'], dtype='datetime64[ns]', freq='D')"
      ]
     },
     "execution_count": 4,
     "metadata": {},
     "output_type": "execute_result"
    }
   ],
   "source": [
    "prices = [1000, 1010, 1020]\n",
    "dates = pd.date_range('2023-01-01', periods = 3) # periods(몇개)\n",
    "dates"
   ]
  },
  {
   "cell_type": "code",
   "execution_count": 6,
   "id": "262bb0fa-4bf2-49b3-a2e2-ce8e6d85cf22",
   "metadata": {},
   "outputs": [
    {
     "data": {
      "text/plain": [
       "2023-01-01    1000\n",
       "2023-01-02    1010\n",
       "2023-01-03    1020\n",
       "Freq: D, dtype: int64"
      ]
     },
     "execution_count": 6,
     "metadata": {},
     "output_type": "execute_result"
    }
   ],
   "source": [
    "# Series 데이터 만들기\n",
    "Series1 = pd.Series(prices, index = dates) # (value, 내가 활용할 인덱스)\n",
    "Series1"
   ]
  },
  {
   "cell_type": "code",
   "execution_count": 7,
   "id": "7da1b2c8-7221-4162-8df4-c57166dc204a",
   "metadata": {},
   "outputs": [
    {
     "data": {
      "text/plain": [
       "2023-01-01    1000\n",
       "2023-01-02    1010\n",
       "2023-01-03    1020\n",
       "2023-01-04    1030\n",
       "Freq: D, dtype: int64"
      ]
     },
     "execution_count": 7,
     "metadata": {},
     "output_type": "execute_result"
    }
   ],
   "source": [
    "# 값 추가\n",
    "Series1['2023-01-04'] = 1030\n",
    "Series1"
   ]
  },
  {
   "cell_type": "code",
   "execution_count": 8,
   "id": "ac1fdb56-0d6a-4c95-a302-9f3a2f90dc82",
   "metadata": {},
   "outputs": [
    {
     "data": {
      "text/plain": [
       "2023-01-02    1010\n",
       "2023-01-03    1020\n",
       "Freq: D, dtype: int64"
      ]
     },
     "execution_count": 8,
     "metadata": {},
     "output_type": "execute_result"
    }
   ],
   "source": [
    "# 원하는 데이터만 boolean 추출하기\n",
    "Series1[1:3]"
   ]
  },
  {
   "cell_type": "code",
   "execution_count": 9,
   "id": "8abfce60-2b5d-4501-aaa1-616bddebfa01",
   "metadata": {},
   "outputs": [
    {
     "data": {
      "text/plain": [
       "1020"
      ]
     },
     "execution_count": 9,
     "metadata": {},
     "output_type": "execute_result"
    }
   ],
   "source": [
    "Series1[2]"
   ]
  },
  {
   "cell_type": "code",
   "execution_count": 11,
   "id": "382b9daf-7d5b-4a61-b839-8add16427d34",
   "metadata": {},
   "outputs": [
    {
     "data": {
      "text/plain": [
       "1010"
      ]
     },
     "execution_count": 11,
     "metadata": {},
     "output_type": "execute_result"
    }
   ],
   "source": [
    "Series1['2023-01-02'] # 딕셔너리와 비슷"
   ]
  },
  {
   "cell_type": "code",
   "execution_count": null,
   "id": "5a1d5618-4fdb-46e4-bdb2-4773a7b4b2b4",
   "metadata": {},
   "outputs": [],
   "source": []
  },
  {
   "cell_type": "code",
   "execution_count": 12,
   "id": "cfd923ec-b5c1-4465-8e3b-90f3e79fee81",
   "metadata": {},
   "outputs": [
    {
     "data": {
      "text/plain": [
       "0    1000\n",
       "1    1010\n",
       "2    1020\n",
       "dtype: int64"
      ]
     },
     "execution_count": 12,
     "metadata": {},
     "output_type": "execute_result"
    }
   ],
   "source": [
    "# 인덱스 없이 series 만들기 > 0부터 차례로 값이 들어간다\n",
    "Series2 = pd.Series(prices)\n",
    "Series2"
   ]
  },
  {
   "cell_type": "code",
   "execution_count": 13,
   "id": "84bb533b-cb96-41fb-ae68-c30b499fab99",
   "metadata": {},
   "outputs": [
    {
     "data": {
      "text/plain": [
       "0    1000\n",
       "1    1010\n",
       "2    1020\n",
       "3    1030\n",
       "dtype: int64"
      ]
     },
     "execution_count": 13,
     "metadata": {},
     "output_type": "execute_result"
    }
   ],
   "source": [
    "Series2[3] = 1030\n",
    "Series2"
   ]
  },
  {
   "cell_type": "code",
   "execution_count": null,
   "id": "61b8a52e-69a5-425a-8ee4-8d1e57d5dbbb",
   "metadata": {},
   "outputs": [],
   "source": [
    "# 시리즈에서 다룰 시계열 데이터.. data_range!!는 기억하기!!"
   ]
  },
  {
   "cell_type": "markdown",
   "id": "5211dedf-bd99-4e1f-b836-947834b560e3",
   "metadata": {},
   "source": [
    "## DataFrame"
   ]
  },
  {
   "cell_type": "code",
   "execution_count": 1,
   "id": "2590f088-3ac5-476a-920f-ab0a3bbacf71",
   "metadata": {
    "collapsed": true,
    "jupyter": {
     "outputs_hidden": true
    },
    "tags": []
   },
   "outputs": [
    {
     "ename": "NameError",
     "evalue": "name 'pd' is not defined",
     "output_type": "error",
     "traceback": [
      "\u001b[1;31m---------------------------------------------------------------------------\u001b[0m",
      "\u001b[1;31mNameError\u001b[0m                                 Traceback (most recent call last)",
      "Cell \u001b[1;32mIn [1], line 11\u001b[0m\n\u001b[0;32m      4\u001b[0m prices \u001b[38;5;241m=\u001b[39m {\n\u001b[0;32m      5\u001b[0m     \u001b[38;5;124m\"\u001b[39m\u001b[38;5;124mA텔레콤\u001b[39m\u001b[38;5;124m\"\u001b[39m : [\u001b[38;5;241m48000\u001b[39m, \u001b[38;5;241m48500\u001b[39m, \u001b[38;5;241m49000\u001b[39m],\n\u001b[0;32m      6\u001b[0m     \u001b[38;5;124m\"\u001b[39m\u001b[38;5;124mB전자\u001b[39m\u001b[38;5;124m\"\u001b[39m : [\u001b[38;5;241m60000\u001b[39m, \u001b[38;5;241m61000\u001b[39m, \u001b[38;5;241m62000\u001b[39m],\n\u001b[0;32m      7\u001b[0m     \u001b[38;5;124m\"\u001b[39m\u001b[38;5;124mC은행\u001b[39m\u001b[38;5;124m\"\u001b[39m : [\u001b[38;5;241m54000\u001b[39m, \u001b[38;5;241m55000\u001b[39m, \u001b[38;5;241m56000\u001b[39m]\n\u001b[0;32m      8\u001b[0m }\n\u001b[0;32m     10\u001b[0m \u001b[38;5;66;03m# 인덱스x\u001b[39;00m\n\u001b[1;32m---> 11\u001b[0m df1 \u001b[38;5;241m=\u001b[39m \u001b[43mpd\u001b[49m\u001b[38;5;241m.\u001b[39mDataFrame(prices)\n\u001b[0;32m     12\u001b[0m df1\n",
      "\u001b[1;31mNameError\u001b[0m: name 'pd' is not defined"
     ]
    }
   ],
   "source": [
    "# 딕셔너리 활용해서 df 만들기 > key값이 column, 리스트의 찻번째 요소가 0번째 row.\n",
    "# 원소 개수, 사이즈가 같아야 df를 만들 수 있다.\n",
    "# value 길이가 크기, 길이가 같아야 한다.\n",
    "prices = {\n",
    "    \"A텔레콤\" : [48000, 48500, 49000],\n",
    "    \"B전자\" : [60000, 61000, 62000],\n",
    "    \"C은행\" : [54000, 55000, 56000]\n",
    "}\n",
    "\n",
    "# 인덱스x\n",
    "df1 = pd.DataFrame(prices)\n",
    "df1"
   ]
  },
  {
   "cell_type": "code",
   "execution_count": 17,
   "id": "1cb3bd30-c116-4550-89cf-df9be92bc1cf",
   "metadata": {},
   "outputs": [
    {
     "data": {
      "text/plain": [
       "DatetimeIndex(['2023-01-02', '2023-01-03', '2023-01-04'], dtype='datetime64[ns]', freq='D')"
      ]
     },
     "execution_count": 17,
     "metadata": {},
     "output_type": "execute_result"
    }
   ],
   "source": [
    "dates = pd.date_range('2023-01-02', periods = 3)\n",
    "dates"
   ]
  },
  {
   "cell_type": "code",
   "execution_count": 18,
   "id": "eaf0d3b8-9aab-4441-898c-b1c71f7f3da8",
   "metadata": {},
   "outputs": [
    {
     "data": {
      "text/html": [
       "<div>\n",
       "<style scoped>\n",
       "    .dataframe tbody tr th:only-of-type {\n",
       "        vertical-align: middle;\n",
       "    }\n",
       "\n",
       "    .dataframe tbody tr th {\n",
       "        vertical-align: top;\n",
       "    }\n",
       "\n",
       "    .dataframe thead th {\n",
       "        text-align: right;\n",
       "    }\n",
       "</style>\n",
       "<table border=\"1\" class=\"dataframe\">\n",
       "  <thead>\n",
       "    <tr style=\"text-align: right;\">\n",
       "      <th></th>\n",
       "      <th>A텔레콤</th>\n",
       "      <th>B전자</th>\n",
       "      <th>C은행</th>\n",
       "    </tr>\n",
       "  </thead>\n",
       "  <tbody>\n",
       "    <tr>\n",
       "      <th>2023-01-02</th>\n",
       "      <td>48000</td>\n",
       "      <td>60000</td>\n",
       "      <td>54000</td>\n",
       "    </tr>\n",
       "    <tr>\n",
       "      <th>2023-01-03</th>\n",
       "      <td>48500</td>\n",
       "      <td>61000</td>\n",
       "      <td>55000</td>\n",
       "    </tr>\n",
       "    <tr>\n",
       "      <th>2023-01-04</th>\n",
       "      <td>49000</td>\n",
       "      <td>62000</td>\n",
       "      <td>56000</td>\n",
       "    </tr>\n",
       "  </tbody>\n",
       "</table>\n",
       "</div>"
      ],
      "text/plain": [
       "             A텔레콤    B전자    C은행\n",
       "2023-01-02  48000  60000  54000\n",
       "2023-01-03  48500  61000  55000\n",
       "2023-01-04  49000  62000  56000"
      ]
     },
     "execution_count": 18,
     "metadata": {},
     "output_type": "execute_result"
    }
   ],
   "source": [
    "# 인덱스 O\n",
    "df2 = pd.DataFrame(prices, index = dates)\n",
    "df2"
   ]
  },
  {
   "cell_type": "markdown",
   "id": "202eed89-de89-4957-b037-4cc0aca3089a",
   "metadata": {},
   "source": [
    "## 데이터 선택\n",
    "- iloc: **데이터 순서(번호)** 로 데이터를 가져온다.\n",
    "- loc: **index**, **column**으로 데이터를 가져온다."
   ]
  },
  {
   "cell_type": "code",
   "execution_count": 19,
   "id": "542ebef6-1591-4710-acd2-d23ddb0b55b9",
   "metadata": {},
   "outputs": [
    {
     "data": {
      "text/html": [
       "<div>\n",
       "<style scoped>\n",
       "    .dataframe tbody tr th:only-of-type {\n",
       "        vertical-align: middle;\n",
       "    }\n",
       "\n",
       "    .dataframe tbody tr th {\n",
       "        vertical-align: top;\n",
       "    }\n",
       "\n",
       "    .dataframe thead th {\n",
       "        text-align: right;\n",
       "    }\n",
       "</style>\n",
       "<table border=\"1\" class=\"dataframe\">\n",
       "  <thead>\n",
       "    <tr style=\"text-align: right;\">\n",
       "      <th></th>\n",
       "      <th>A텔레콤</th>\n",
       "      <th>B전자</th>\n",
       "      <th>C은행</th>\n",
       "    </tr>\n",
       "  </thead>\n",
       "  <tbody>\n",
       "    <tr>\n",
       "      <th>2023-01-02</th>\n",
       "      <td>48000</td>\n",
       "      <td>60000</td>\n",
       "      <td>54000</td>\n",
       "    </tr>\n",
       "    <tr>\n",
       "      <th>2023-01-03</th>\n",
       "      <td>48500</td>\n",
       "      <td>61000</td>\n",
       "      <td>55000</td>\n",
       "    </tr>\n",
       "    <tr>\n",
       "      <th>2023-01-04</th>\n",
       "      <td>49000</td>\n",
       "      <td>62000</td>\n",
       "      <td>56000</td>\n",
       "    </tr>\n",
       "  </tbody>\n",
       "</table>\n",
       "</div>"
      ],
      "text/plain": [
       "             A텔레콤    B전자    C은행\n",
       "2023-01-02  48000  60000  54000\n",
       "2023-01-03  48500  61000  55000\n",
       "2023-01-04  49000  62000  56000"
      ]
     },
     "execution_count": 19,
     "metadata": {},
     "output_type": "execute_result"
    }
   ],
   "source": [
    "df2"
   ]
  },
  {
   "cell_type": "code",
   "execution_count": 20,
   "id": "79f0e8f8-cf8c-4582-9714-78588909e27e",
   "metadata": {},
   "outputs": [
    {
     "data": {
      "text/plain": [
       "A텔레콤    48000\n",
       "B전자     60000\n",
       "C은행     54000\n",
       "Name: 2023-01-02 00:00:00, dtype: int64"
      ]
     },
     "execution_count": 20,
     "metadata": {},
     "output_type": "execute_result"
    }
   ],
   "source": [
    "df2.iloc[0] # row"
   ]
  },
  {
   "cell_type": "code",
   "execution_count": 21,
   "id": "a61aad66-3720-49b6-80cc-e139b3dfb963",
   "metadata": {},
   "outputs": [
    {
     "data": {
      "text/plain": [
       "2023-01-02    48000\n",
       "2023-01-03    48500\n",
       "2023-01-04    49000\n",
       "Freq: D, Name: A텔레콤, dtype: int64"
      ]
     },
     "execution_count": 21,
     "metadata": {},
     "output_type": "execute_result"
    }
   ],
   "source": [
    "df2.iloc[:, 0] # column"
   ]
  },
  {
   "cell_type": "code",
   "execution_count": 22,
   "id": "4d31e400-89d4-4345-b119-2a858121bb98",
   "metadata": {},
   "outputs": [
    {
     "data": {
      "text/plain": [
       "48000"
      ]
     },
     "execution_count": 22,
     "metadata": {},
     "output_type": "execute_result"
    }
   ],
   "source": [
    "df2.iloc[0, 0]"
   ]
  },
  {
   "cell_type": "code",
   "execution_count": null,
   "id": "8bb63df7-1f4e-467b-b981-3a80f12f9c58",
   "metadata": {},
   "outputs": [],
   "source": []
  },
  {
   "cell_type": "code",
   "execution_count": 23,
   "id": "1b0be45d-e686-49f5-b382-52c2efefed9c",
   "metadata": {
    "collapsed": true,
    "jupyter": {
     "outputs_hidden": true
    },
    "tags": []
   },
   "outputs": [
    {
     "ename": "KeyError",
     "evalue": "0",
     "output_type": "error",
     "traceback": [
      "\u001b[1;31m---------------------------------------------------------------------------\u001b[0m",
      "\u001b[1;31mKeyError\u001b[0m                                  Traceback (most recent call last)",
      "\u001b[1;32m~\\anaconda3\\lib\\site-packages\\pandas\\core\\indexes\\base.py\u001b[0m in \u001b[0;36mget_loc\u001b[1;34m(self, key, method, tolerance)\u001b[0m\n\u001b[0;32m   3628\u001b[0m             \u001b[1;32mtry\u001b[0m\u001b[1;33m:\u001b[0m\u001b[1;33m\u001b[0m\u001b[1;33m\u001b[0m\u001b[0m\n\u001b[1;32m-> 3629\u001b[1;33m                 \u001b[1;32mreturn\u001b[0m \u001b[0mself\u001b[0m\u001b[1;33m.\u001b[0m\u001b[0m_engine\u001b[0m\u001b[1;33m.\u001b[0m\u001b[0mget_loc\u001b[0m\u001b[1;33m(\u001b[0m\u001b[0mcasted_key\u001b[0m\u001b[1;33m)\u001b[0m\u001b[1;33m\u001b[0m\u001b[1;33m\u001b[0m\u001b[0m\n\u001b[0m\u001b[0;32m   3630\u001b[0m             \u001b[1;32mexcept\u001b[0m \u001b[0mKeyError\u001b[0m \u001b[1;32mas\u001b[0m \u001b[0merr\u001b[0m\u001b[1;33m:\u001b[0m\u001b[1;33m\u001b[0m\u001b[1;33m\u001b[0m\u001b[0m\n",
      "\u001b[1;32m~\\anaconda3\\lib\\site-packages\\pandas\\_libs\\index.pyx\u001b[0m in \u001b[0;36mpandas._libs.index.IndexEngine.get_loc\u001b[1;34m()\u001b[0m\n",
      "\u001b[1;32m~\\anaconda3\\lib\\site-packages\\pandas\\_libs\\index.pyx\u001b[0m in \u001b[0;36mpandas._libs.index.IndexEngine.get_loc\u001b[1;34m()\u001b[0m\n",
      "\u001b[1;32mpandas\\_libs\\hashtable_class_helper.pxi\u001b[0m in \u001b[0;36mpandas._libs.hashtable.PyObjectHashTable.get_item\u001b[1;34m()\u001b[0m\n",
      "\u001b[1;32mpandas\\_libs\\hashtable_class_helper.pxi\u001b[0m in \u001b[0;36mpandas._libs.hashtable.PyObjectHashTable.get_item\u001b[1;34m()\u001b[0m\n",
      "\u001b[1;31mKeyError\u001b[0m: 0",
      "\nThe above exception was the direct cause of the following exception:\n",
      "\u001b[1;31mKeyError\u001b[0m                                  Traceback (most recent call last)",
      "\u001b[1;32m~\\AppData\\Local\\Temp\\ipykernel_14576\\3813120588.py\u001b[0m in \u001b[0;36m<module>\u001b[1;34m\u001b[0m\n\u001b[1;32m----> 1\u001b[1;33m \u001b[0mdf2\u001b[0m\u001b[1;33m.\u001b[0m\u001b[0mloc\u001b[0m\u001b[1;33m[\u001b[0m\u001b[1;36m0\u001b[0m\u001b[1;33m,\u001b[0m\u001b[1;36m0\u001b[0m\u001b[1;33m]\u001b[0m\u001b[1;33m\u001b[0m\u001b[1;33m\u001b[0m\u001b[0m\n\u001b[0m",
      "\u001b[1;32m~\\anaconda3\\lib\\site-packages\\pandas\\core\\indexing.py\u001b[0m in \u001b[0;36m__getitem__\u001b[1;34m(self, key)\u001b[0m\n\u001b[0;32m    958\u001b[0m             \u001b[0mkey\u001b[0m \u001b[1;33m=\u001b[0m \u001b[0mtuple\u001b[0m\u001b[1;33m(\u001b[0m\u001b[0mcom\u001b[0m\u001b[1;33m.\u001b[0m\u001b[0mapply_if_callable\u001b[0m\u001b[1;33m(\u001b[0m\u001b[0mx\u001b[0m\u001b[1;33m,\u001b[0m \u001b[0mself\u001b[0m\u001b[1;33m.\u001b[0m\u001b[0mobj\u001b[0m\u001b[1;33m)\u001b[0m \u001b[1;32mfor\u001b[0m \u001b[0mx\u001b[0m \u001b[1;32min\u001b[0m \u001b[0mkey\u001b[0m\u001b[1;33m)\u001b[0m\u001b[1;33m\u001b[0m\u001b[1;33m\u001b[0m\u001b[0m\n\u001b[0;32m    959\u001b[0m             \u001b[1;32mif\u001b[0m \u001b[0mself\u001b[0m\u001b[1;33m.\u001b[0m\u001b[0m_is_scalar_access\u001b[0m\u001b[1;33m(\u001b[0m\u001b[0mkey\u001b[0m\u001b[1;33m)\u001b[0m\u001b[1;33m:\u001b[0m\u001b[1;33m\u001b[0m\u001b[1;33m\u001b[0m\u001b[0m\n\u001b[1;32m--> 960\u001b[1;33m                 \u001b[1;32mreturn\u001b[0m \u001b[0mself\u001b[0m\u001b[1;33m.\u001b[0m\u001b[0mobj\u001b[0m\u001b[1;33m.\u001b[0m\u001b[0m_get_value\u001b[0m\u001b[1;33m(\u001b[0m\u001b[1;33m*\u001b[0m\u001b[0mkey\u001b[0m\u001b[1;33m,\u001b[0m \u001b[0mtakeable\u001b[0m\u001b[1;33m=\u001b[0m\u001b[0mself\u001b[0m\u001b[1;33m.\u001b[0m\u001b[0m_takeable\u001b[0m\u001b[1;33m)\u001b[0m\u001b[1;33m\u001b[0m\u001b[1;33m\u001b[0m\u001b[0m\n\u001b[0m\u001b[0;32m    961\u001b[0m             \u001b[1;32mreturn\u001b[0m \u001b[0mself\u001b[0m\u001b[1;33m.\u001b[0m\u001b[0m_getitem_tuple\u001b[0m\u001b[1;33m(\u001b[0m\u001b[0mkey\u001b[0m\u001b[1;33m)\u001b[0m\u001b[1;33m\u001b[0m\u001b[1;33m\u001b[0m\u001b[0m\n\u001b[0;32m    962\u001b[0m         \u001b[1;32melse\u001b[0m\u001b[1;33m:\u001b[0m\u001b[1;33m\u001b[0m\u001b[1;33m\u001b[0m\u001b[0m\n",
      "\u001b[1;32m~\\anaconda3\\lib\\site-packages\\pandas\\core\\frame.py\u001b[0m in \u001b[0;36m_get_value\u001b[1;34m(self, index, col, takeable)\u001b[0m\n\u001b[0;32m   3613\u001b[0m             \u001b[1;32mreturn\u001b[0m \u001b[0mseries\u001b[0m\u001b[1;33m.\u001b[0m\u001b[0m_values\u001b[0m\u001b[1;33m[\u001b[0m\u001b[0mindex\u001b[0m\u001b[1;33m]\u001b[0m\u001b[1;33m\u001b[0m\u001b[1;33m\u001b[0m\u001b[0m\n\u001b[0;32m   3614\u001b[0m \u001b[1;33m\u001b[0m\u001b[0m\n\u001b[1;32m-> 3615\u001b[1;33m         \u001b[0mseries\u001b[0m \u001b[1;33m=\u001b[0m \u001b[0mself\u001b[0m\u001b[1;33m.\u001b[0m\u001b[0m_get_item_cache\u001b[0m\u001b[1;33m(\u001b[0m\u001b[0mcol\u001b[0m\u001b[1;33m)\u001b[0m\u001b[1;33m\u001b[0m\u001b[1;33m\u001b[0m\u001b[0m\n\u001b[0m\u001b[0;32m   3616\u001b[0m         \u001b[0mengine\u001b[0m \u001b[1;33m=\u001b[0m \u001b[0mself\u001b[0m\u001b[1;33m.\u001b[0m\u001b[0mindex\u001b[0m\u001b[1;33m.\u001b[0m\u001b[0m_engine\u001b[0m\u001b[1;33m\u001b[0m\u001b[1;33m\u001b[0m\u001b[0m\n\u001b[0;32m   3617\u001b[0m \u001b[1;33m\u001b[0m\u001b[0m\n",
      "\u001b[1;32m~\\anaconda3\\lib\\site-packages\\pandas\\core\\frame.py\u001b[0m in \u001b[0;36m_get_item_cache\u001b[1;34m(self, item)\u001b[0m\n\u001b[0;32m   3929\u001b[0m             \u001b[1;31m#  pending resolution of GH#33047\u001b[0m\u001b[1;33m\u001b[0m\u001b[1;33m\u001b[0m\u001b[0m\n\u001b[0;32m   3930\u001b[0m \u001b[1;33m\u001b[0m\u001b[0m\n\u001b[1;32m-> 3931\u001b[1;33m             \u001b[0mloc\u001b[0m \u001b[1;33m=\u001b[0m \u001b[0mself\u001b[0m\u001b[1;33m.\u001b[0m\u001b[0mcolumns\u001b[0m\u001b[1;33m.\u001b[0m\u001b[0mget_loc\u001b[0m\u001b[1;33m(\u001b[0m\u001b[0mitem\u001b[0m\u001b[1;33m)\u001b[0m\u001b[1;33m\u001b[0m\u001b[1;33m\u001b[0m\u001b[0m\n\u001b[0m\u001b[0;32m   3932\u001b[0m             \u001b[0mres\u001b[0m \u001b[1;33m=\u001b[0m \u001b[0mself\u001b[0m\u001b[1;33m.\u001b[0m\u001b[0m_ixs\u001b[0m\u001b[1;33m(\u001b[0m\u001b[0mloc\u001b[0m\u001b[1;33m,\u001b[0m \u001b[0maxis\u001b[0m\u001b[1;33m=\u001b[0m\u001b[1;36m1\u001b[0m\u001b[1;33m)\u001b[0m\u001b[1;33m\u001b[0m\u001b[1;33m\u001b[0m\u001b[0m\n\u001b[0;32m   3933\u001b[0m \u001b[1;33m\u001b[0m\u001b[0m\n",
      "\u001b[1;32m~\\anaconda3\\lib\\site-packages\\pandas\\core\\indexes\\base.py\u001b[0m in \u001b[0;36mget_loc\u001b[1;34m(self, key, method, tolerance)\u001b[0m\n\u001b[0;32m   3629\u001b[0m                 \u001b[1;32mreturn\u001b[0m \u001b[0mself\u001b[0m\u001b[1;33m.\u001b[0m\u001b[0m_engine\u001b[0m\u001b[1;33m.\u001b[0m\u001b[0mget_loc\u001b[0m\u001b[1;33m(\u001b[0m\u001b[0mcasted_key\u001b[0m\u001b[1;33m)\u001b[0m\u001b[1;33m\u001b[0m\u001b[1;33m\u001b[0m\u001b[0m\n\u001b[0;32m   3630\u001b[0m             \u001b[1;32mexcept\u001b[0m \u001b[0mKeyError\u001b[0m \u001b[1;32mas\u001b[0m \u001b[0merr\u001b[0m\u001b[1;33m:\u001b[0m\u001b[1;33m\u001b[0m\u001b[1;33m\u001b[0m\u001b[0m\n\u001b[1;32m-> 3631\u001b[1;33m                 \u001b[1;32mraise\u001b[0m \u001b[0mKeyError\u001b[0m\u001b[1;33m(\u001b[0m\u001b[0mkey\u001b[0m\u001b[1;33m)\u001b[0m \u001b[1;32mfrom\u001b[0m \u001b[0merr\u001b[0m\u001b[1;33m\u001b[0m\u001b[1;33m\u001b[0m\u001b[0m\n\u001b[0m\u001b[0;32m   3632\u001b[0m             \u001b[1;32mexcept\u001b[0m \u001b[0mTypeError\u001b[0m\u001b[1;33m:\u001b[0m\u001b[1;33m\u001b[0m\u001b[1;33m\u001b[0m\u001b[0m\n\u001b[0;32m   3633\u001b[0m                 \u001b[1;31m# If we have a listlike key, _check_indexing_error will raise\u001b[0m\u001b[1;33m\u001b[0m\u001b[1;33m\u001b[0m\u001b[0m\n",
      "\u001b[1;31mKeyError\u001b[0m: 0"
     ]
    }
   ],
   "source": [
    "df2.loc[0,0] # error"
   ]
  },
  {
   "cell_type": "code",
   "execution_count": 24,
   "id": "03bef7fb-5cfe-4ea8-afc8-a4e1a0949205",
   "metadata": {},
   "outputs": [
    {
     "data": {
      "text/plain": [
       "48000"
      ]
     },
     "execution_count": 24,
     "metadata": {},
     "output_type": "execute_result"
    }
   ],
   "source": [
    "df2.loc['2023-01-02', 'A텔레콤']"
   ]
  },
  {
   "cell_type": "code",
   "execution_count": 26,
   "id": "93f1a1cb-d81c-4945-a0ce-b47075a19152",
   "metadata": {},
   "outputs": [
    {
     "data": {
      "text/plain": [
       "A텔레콤    48000\n",
       "B전자     60000\n",
       "C은행     54000\n",
       "Name: 2023-01-02 00:00:00, dtype: int64"
      ]
     },
     "execution_count": 26,
     "metadata": {},
     "output_type": "execute_result"
    }
   ],
   "source": [
    "df2.loc['2023-01-02']"
   ]
  },
  {
   "cell_type": "code",
   "execution_count": 25,
   "id": "5143a1d9-e45f-4d79-9a5e-0409034564b0",
   "metadata": {},
   "outputs": [
    {
     "data": {
      "text/plain": [
       "2023-01-02    48000\n",
       "2023-01-03    48500\n",
       "2023-01-04    49000\n",
       "Freq: D, Name: A텔레콤, dtype: int64"
      ]
     },
     "execution_count": 25,
     "metadata": {},
     "output_type": "execute_result"
    }
   ],
   "source": [
    "df2.loc[:, 'A텔레콤']"
   ]
  },
  {
   "cell_type": "code",
   "execution_count": 27,
   "id": "1dae4965-1448-4009-b536-26ab0a6c6d06",
   "metadata": {},
   "outputs": [
    {
     "data": {
      "text/plain": [
       "2023-01-02    48000\n",
       "2023-01-03    48500\n",
       "2023-01-04    49000\n",
       "Freq: D, Name: A텔레콤, dtype: int64"
      ]
     },
     "execution_count": 27,
     "metadata": {},
     "output_type": "execute_result"
    }
   ],
   "source": [
    "# column 가져오기1\n",
    "df2['A텔레콤']"
   ]
  },
  {
   "cell_type": "code",
   "execution_count": 28,
   "id": "1afe5ca9-b73b-4532-8ec3-7795dbe2bdeb",
   "metadata": {},
   "outputs": [
    {
     "data": {
      "text/plain": [
       "2023-01-02    48000\n",
       "2023-01-03    48500\n",
       "2023-01-04    49000\n",
       "Freq: D, Name: A텔레콤, dtype: int64"
      ]
     },
     "execution_count": 28,
     "metadata": {},
     "output_type": "execute_result"
    }
   ],
   "source": [
    "# column 가져오기2\n",
    "df2.A텔레콤"
   ]
  },
  {
   "cell_type": "code",
   "execution_count": null,
   "id": "d57fccd9-502b-43bf-aa24-930b5333c556",
   "metadata": {},
   "outputs": [],
   "source": []
  },
  {
   "cell_type": "code",
   "execution_count": 29,
   "id": "8b584e1e-765d-4fbe-b091-39ffb1c5818e",
   "metadata": {},
   "outputs": [
    {
     "data": {
      "text/plain": [
       "48500"
      ]
     },
     "execution_count": 29,
     "metadata": {},
     "output_type": "execute_result"
    }
   ],
   "source": [
    "df2['A텔레콤']['2023-01-03']"
   ]
  },
  {
   "cell_type": "code",
   "execution_count": 30,
   "id": "c934f8c6-91fc-4ef4-a61e-65156fbd02c4",
   "metadata": {},
   "outputs": [
    {
     "data": {
      "text/plain": [
       "48500"
      ]
     },
     "execution_count": 30,
     "metadata": {},
     "output_type": "execute_result"
    }
   ],
   "source": [
    "df2.loc[:,'A텔레콤']['2023-01-03']"
   ]
  },
  {
   "cell_type": "code",
   "execution_count": null,
   "id": "c649879b-7bf6-4753-b213-8de005dbf36a",
   "metadata": {},
   "outputs": [],
   "source": []
  },
  {
   "cell_type": "code",
   "execution_count": null,
   "id": "3b6d08fc-45fe-442b-8a1b-fad1d13ef097",
   "metadata": {},
   "outputs": [],
   "source": [
    "# 데이터 추가하기"
   ]
  },
  {
   "cell_type": "code",
   "execution_count": 31,
   "id": "b1cbeee8-fa8b-4cc4-8acc-331ad304b4ea",
   "metadata": {},
   "outputs": [
    {
     "data": {
      "text/html": [
       "<div>\n",
       "<style scoped>\n",
       "    .dataframe tbody tr th:only-of-type {\n",
       "        vertical-align: middle;\n",
       "    }\n",
       "\n",
       "    .dataframe tbody tr th {\n",
       "        vertical-align: top;\n",
       "    }\n",
       "\n",
       "    .dataframe thead th {\n",
       "        text-align: right;\n",
       "    }\n",
       "</style>\n",
       "<table border=\"1\" class=\"dataframe\">\n",
       "  <thead>\n",
       "    <tr style=\"text-align: right;\">\n",
       "      <th></th>\n",
       "      <th>A텔레콤</th>\n",
       "      <th>B전자</th>\n",
       "      <th>C은행</th>\n",
       "      <th>D철강</th>\n",
       "    </tr>\n",
       "  </thead>\n",
       "  <tbody>\n",
       "    <tr>\n",
       "      <th>2023-01-02</th>\n",
       "      <td>48000</td>\n",
       "      <td>60000</td>\n",
       "      <td>54000</td>\n",
       "      <td>5000</td>\n",
       "    </tr>\n",
       "    <tr>\n",
       "      <th>2023-01-03</th>\n",
       "      <td>48500</td>\n",
       "      <td>61000</td>\n",
       "      <td>55000</td>\n",
       "      <td>5100</td>\n",
       "    </tr>\n",
       "    <tr>\n",
       "      <th>2023-01-04</th>\n",
       "      <td>49000</td>\n",
       "      <td>62000</td>\n",
       "      <td>56000</td>\n",
       "      <td>5200</td>\n",
       "    </tr>\n",
       "  </tbody>\n",
       "</table>\n",
       "</div>"
      ],
      "text/plain": [
       "             A텔레콤    B전자    C은행   D철강\n",
       "2023-01-02  48000  60000  54000  5000\n",
       "2023-01-03  48500  61000  55000  5100\n",
       "2023-01-04  49000  62000  56000  5200"
      ]
     },
     "execution_count": 31,
     "metadata": {},
     "output_type": "execute_result"
    }
   ],
   "source": [
    "df2['D철강'] = [5000, 5100, 5200]\n",
    "df2"
   ]
  },
  {
   "cell_type": "markdown",
   "id": "e220c18a-2bac-427a-ad36-f4a685a7305d",
   "metadata": {},
   "source": [
    "### [실습] \n",
    "**Q1. 2023년 1월 3일 ~ 2023년 1월 4일까지의 'B전자', 'C은행' 데이터를 가져와주세요.(iloc,loc 각각 활용)**"
   ]
  },
  {
   "cell_type": "code",
   "execution_count": 32,
   "id": "1f33a343-22f8-4b1c-ae35-43b469004030",
   "metadata": {},
   "outputs": [
    {
     "data": {
      "text/html": [
       "<div>\n",
       "<style scoped>\n",
       "    .dataframe tbody tr th:only-of-type {\n",
       "        vertical-align: middle;\n",
       "    }\n",
       "\n",
       "    .dataframe tbody tr th {\n",
       "        vertical-align: top;\n",
       "    }\n",
       "\n",
       "    .dataframe thead th {\n",
       "        text-align: right;\n",
       "    }\n",
       "</style>\n",
       "<table border=\"1\" class=\"dataframe\">\n",
       "  <thead>\n",
       "    <tr style=\"text-align: right;\">\n",
       "      <th></th>\n",
       "      <th>A텔레콤</th>\n",
       "      <th>B전자</th>\n",
       "      <th>C은행</th>\n",
       "      <th>D철강</th>\n",
       "    </tr>\n",
       "  </thead>\n",
       "  <tbody>\n",
       "    <tr>\n",
       "      <th>2023-01-02</th>\n",
       "      <td>48000</td>\n",
       "      <td>60000</td>\n",
       "      <td>54000</td>\n",
       "      <td>5000</td>\n",
       "    </tr>\n",
       "    <tr>\n",
       "      <th>2023-01-03</th>\n",
       "      <td>48500</td>\n",
       "      <td>61000</td>\n",
       "      <td>55000</td>\n",
       "      <td>5100</td>\n",
       "    </tr>\n",
       "    <tr>\n",
       "      <th>2023-01-04</th>\n",
       "      <td>49000</td>\n",
       "      <td>62000</td>\n",
       "      <td>56000</td>\n",
       "      <td>5200</td>\n",
       "    </tr>\n",
       "  </tbody>\n",
       "</table>\n",
       "</div>"
      ],
      "text/plain": [
       "             A텔레콤    B전자    C은행   D철강\n",
       "2023-01-02  48000  60000  54000  5000\n",
       "2023-01-03  48500  61000  55000  5100\n",
       "2023-01-04  49000  62000  56000  5200"
      ]
     },
     "execution_count": 32,
     "metadata": {},
     "output_type": "execute_result"
    }
   ],
   "source": [
    "df2"
   ]
  },
  {
   "cell_type": "code",
   "execution_count": 33,
   "id": "8cfa0fa8-43d1-493d-b8ef-e7ad70f6b64c",
   "metadata": {},
   "outputs": [
    {
     "data": {
      "text/html": [
       "<div>\n",
       "<style scoped>\n",
       "    .dataframe tbody tr th:only-of-type {\n",
       "        vertical-align: middle;\n",
       "    }\n",
       "\n",
       "    .dataframe tbody tr th {\n",
       "        vertical-align: top;\n",
       "    }\n",
       "\n",
       "    .dataframe thead th {\n",
       "        text-align: right;\n",
       "    }\n",
       "</style>\n",
       "<table border=\"1\" class=\"dataframe\">\n",
       "  <thead>\n",
       "    <tr style=\"text-align: right;\">\n",
       "      <th></th>\n",
       "      <th>B전자</th>\n",
       "      <th>C은행</th>\n",
       "    </tr>\n",
       "  </thead>\n",
       "  <tbody>\n",
       "    <tr>\n",
       "      <th>2023-01-03</th>\n",
       "      <td>61000</td>\n",
       "      <td>55000</td>\n",
       "    </tr>\n",
       "    <tr>\n",
       "      <th>2023-01-04</th>\n",
       "      <td>62000</td>\n",
       "      <td>56000</td>\n",
       "    </tr>\n",
       "  </tbody>\n",
       "</table>\n",
       "</div>"
      ],
      "text/plain": [
       "              B전자    C은행\n",
       "2023-01-03  61000  55000\n",
       "2023-01-04  62000  56000"
      ]
     },
     "execution_count": 33,
     "metadata": {},
     "output_type": "execute_result"
    }
   ],
   "source": [
    "df2.iloc[1:,1:3]"
   ]
  },
  {
   "cell_type": "code",
   "execution_count": 35,
   "id": "091c6277-c027-4edb-aa8e-2e348ad1ae1d",
   "metadata": {},
   "outputs": [
    {
     "data": {
      "text/html": [
       "<div>\n",
       "<style scoped>\n",
       "    .dataframe tbody tr th:only-of-type {\n",
       "        vertical-align: middle;\n",
       "    }\n",
       "\n",
       "    .dataframe tbody tr th {\n",
       "        vertical-align: top;\n",
       "    }\n",
       "\n",
       "    .dataframe thead th {\n",
       "        text-align: right;\n",
       "    }\n",
       "</style>\n",
       "<table border=\"1\" class=\"dataframe\">\n",
       "  <thead>\n",
       "    <tr style=\"text-align: right;\">\n",
       "      <th></th>\n",
       "      <th>B전자</th>\n",
       "      <th>C은행</th>\n",
       "    </tr>\n",
       "  </thead>\n",
       "  <tbody>\n",
       "    <tr>\n",
       "      <th>2023-01-03</th>\n",
       "      <td>61000</td>\n",
       "      <td>55000</td>\n",
       "    </tr>\n",
       "    <tr>\n",
       "      <th>2023-01-04</th>\n",
       "      <td>62000</td>\n",
       "      <td>56000</td>\n",
       "    </tr>\n",
       "  </tbody>\n",
       "</table>\n",
       "</div>"
      ],
      "text/plain": [
       "              B전자    C은행\n",
       "2023-01-03  61000  55000\n",
       "2023-01-04  62000  56000"
      ]
     },
     "execution_count": 35,
     "metadata": {},
     "output_type": "execute_result"
    }
   ],
   "source": [
    "df2.loc['2023-01-03':, 'B전자':'C은행'] # loc는 뒤에 범위도 다 포함됨('D철강'(x))"
   ]
  },
  {
   "cell_type": "markdown",
   "id": "b2ff287f-97e2-4182-b7f0-e18cadb82682",
   "metadata": {},
   "source": [
    "### [실습]\n",
    "**Q2. 데이터 61000원 가져오기(iloc, loc 각각 활용).**"
   ]
  },
  {
   "cell_type": "code",
   "execution_count": 36,
   "id": "c58c56e0-1ac2-425b-a10c-87b225f8a174",
   "metadata": {},
   "outputs": [
    {
     "data": {
      "text/html": [
       "<div>\n",
       "<style scoped>\n",
       "    .dataframe tbody tr th:only-of-type {\n",
       "        vertical-align: middle;\n",
       "    }\n",
       "\n",
       "    .dataframe tbody tr th {\n",
       "        vertical-align: top;\n",
       "    }\n",
       "\n",
       "    .dataframe thead th {\n",
       "        text-align: right;\n",
       "    }\n",
       "</style>\n",
       "<table border=\"1\" class=\"dataframe\">\n",
       "  <thead>\n",
       "    <tr style=\"text-align: right;\">\n",
       "      <th></th>\n",
       "      <th>A텔레콤</th>\n",
       "      <th>B전자</th>\n",
       "      <th>C은행</th>\n",
       "      <th>D철강</th>\n",
       "    </tr>\n",
       "  </thead>\n",
       "  <tbody>\n",
       "    <tr>\n",
       "      <th>2023-01-02</th>\n",
       "      <td>48000</td>\n",
       "      <td>60000</td>\n",
       "      <td>54000</td>\n",
       "      <td>5000</td>\n",
       "    </tr>\n",
       "    <tr>\n",
       "      <th>2023-01-03</th>\n",
       "      <td>48500</td>\n",
       "      <td>61000</td>\n",
       "      <td>55000</td>\n",
       "      <td>5100</td>\n",
       "    </tr>\n",
       "    <tr>\n",
       "      <th>2023-01-04</th>\n",
       "      <td>49000</td>\n",
       "      <td>62000</td>\n",
       "      <td>56000</td>\n",
       "      <td>5200</td>\n",
       "    </tr>\n",
       "  </tbody>\n",
       "</table>\n",
       "</div>"
      ],
      "text/plain": [
       "             A텔레콤    B전자    C은행   D철강\n",
       "2023-01-02  48000  60000  54000  5000\n",
       "2023-01-03  48500  61000  55000  5100\n",
       "2023-01-04  49000  62000  56000  5200"
      ]
     },
     "execution_count": 36,
     "metadata": {},
     "output_type": "execute_result"
    }
   ],
   "source": [
    "df2"
   ]
  },
  {
   "cell_type": "code",
   "execution_count": 38,
   "id": "290bd6fb-95a5-4ef9-885f-9f3ae66c2de6",
   "metadata": {},
   "outputs": [
    {
     "data": {
      "text/plain": [
       "61000"
      ]
     },
     "execution_count": 38,
     "metadata": {},
     "output_type": "execute_result"
    }
   ],
   "source": [
    "df2.iloc[1,1]"
   ]
  },
  {
   "cell_type": "code",
   "execution_count": 39,
   "id": "50490d30-280d-4c85-a94e-fd7ed67b9182",
   "metadata": {},
   "outputs": [
    {
     "data": {
      "text/plain": [
       "61000"
      ]
     },
     "execution_count": 39,
     "metadata": {},
     "output_type": "execute_result"
    }
   ],
   "source": [
    "df2.loc['2023-01-03', 'B전자']"
   ]
  },
  {
   "cell_type": "markdown",
   "id": "e771ce05-890c-447b-865b-d698c168b4c9",
   "metadata": {},
   "source": [
    "## 데이터프레임 확장\n",
    "- concat: 그냥 가져다 붙이는 것 (index, columns 완전히 같은 경우에 사용) ex. 1분기data, 2분기data => 같은 모양 다른 데이터\n",
    "- merge: 공통된 칼럼이나 인덱스가 있는 경우 결합\n",
    "- 둘의 차이 알기!"
   ]
  },
  {
   "cell_type": "code",
   "execution_count": 54,
   "id": "25760400-4204-4d1a-a4c2-e2a1223e8ae9",
   "metadata": {
    "tags": []
   },
   "outputs": [
    {
     "data": {
      "text/plain": [
       "0    3000\n",
       "1    3100\n",
       "2    3200\n",
       "Name: F화학, dtype: int64"
      ]
     },
     "execution_count": 54,
     "metadata": {},
     "output_type": "execute_result"
    }
   ],
   "source": [
    "s1 = pd.Series([3000, 3100, 3200])\n",
    "s1.name = 'F화학' # 시리즈 이름 = 컬럼 이름\n",
    "s1"
   ]
  },
  {
   "cell_type": "code",
   "execution_count": 55,
   "id": "1c0a101e-068d-48b3-b3c3-5634556836fa",
   "metadata": {},
   "outputs": [
    {
     "data": {
      "text/html": [
       "<div>\n",
       "<style scoped>\n",
       "    .dataframe tbody tr th:only-of-type {\n",
       "        vertical-align: middle;\n",
       "    }\n",
       "\n",
       "    .dataframe tbody tr th {\n",
       "        vertical-align: top;\n",
       "    }\n",
       "\n",
       "    .dataframe thead th {\n",
       "        text-align: right;\n",
       "    }\n",
       "</style>\n",
       "<table border=\"1\" class=\"dataframe\">\n",
       "  <thead>\n",
       "    <tr style=\"text-align: right;\">\n",
       "      <th></th>\n",
       "      <th>A텔레콤</th>\n",
       "      <th>B전자</th>\n",
       "      <th>C은행</th>\n",
       "      <th>D철강</th>\n",
       "    </tr>\n",
       "  </thead>\n",
       "  <tbody>\n",
       "    <tr>\n",
       "      <th>2023-01-02</th>\n",
       "      <td>48000</td>\n",
       "      <td>60000</td>\n",
       "      <td>54000</td>\n",
       "      <td>5000</td>\n",
       "    </tr>\n",
       "    <tr>\n",
       "      <th>2023-01-03</th>\n",
       "      <td>48500</td>\n",
       "      <td>61000</td>\n",
       "      <td>55000</td>\n",
       "      <td>5100</td>\n",
       "    </tr>\n",
       "    <tr>\n",
       "      <th>2023-01-04</th>\n",
       "      <td>49000</td>\n",
       "      <td>62000</td>\n",
       "      <td>56000</td>\n",
       "      <td>5200</td>\n",
       "    </tr>\n",
       "  </tbody>\n",
       "</table>\n",
       "</div>"
      ],
      "text/plain": [
       "             A텔레콤    B전자    C은행   D철강\n",
       "2023-01-02  48000  60000  54000  5000\n",
       "2023-01-03  48500  61000  55000  5100\n",
       "2023-01-04  49000  62000  56000  5200"
      ]
     },
     "execution_count": 55,
     "metadata": {},
     "output_type": "execute_result"
    }
   ],
   "source": [
    "df2"
   ]
  },
  {
   "cell_type": "code",
   "execution_count": 57,
   "id": "3bf6251c-65f8-435f-93a2-e57315ee8afb",
   "metadata": {},
   "outputs": [
    {
     "data": {
      "text/html": [
       "<div>\n",
       "<style scoped>\n",
       "    .dataframe tbody tr th:only-of-type {\n",
       "        vertical-align: middle;\n",
       "    }\n",
       "\n",
       "    .dataframe tbody tr th {\n",
       "        vertical-align: top;\n",
       "    }\n",
       "\n",
       "    .dataframe thead th {\n",
       "        text-align: right;\n",
       "    }\n",
       "</style>\n",
       "<table border=\"1\" class=\"dataframe\">\n",
       "  <thead>\n",
       "    <tr style=\"text-align: right;\">\n",
       "      <th></th>\n",
       "      <th>A텔레콤</th>\n",
       "      <th>B전자</th>\n",
       "      <th>C은행</th>\n",
       "      <th>D철강</th>\n",
       "      <th>F화학</th>\n",
       "    </tr>\n",
       "  </thead>\n",
       "  <tbody>\n",
       "    <tr>\n",
       "      <th>2023-01-02 00:00:00</th>\n",
       "      <td>48000.0</td>\n",
       "      <td>60000.0</td>\n",
       "      <td>54000.0</td>\n",
       "      <td>5000.0</td>\n",
       "      <td>NaN</td>\n",
       "    </tr>\n",
       "    <tr>\n",
       "      <th>2023-01-03 00:00:00</th>\n",
       "      <td>48500.0</td>\n",
       "      <td>61000.0</td>\n",
       "      <td>55000.0</td>\n",
       "      <td>5100.0</td>\n",
       "      <td>NaN</td>\n",
       "    </tr>\n",
       "    <tr>\n",
       "      <th>2023-01-04 00:00:00</th>\n",
       "      <td>49000.0</td>\n",
       "      <td>62000.0</td>\n",
       "      <td>56000.0</td>\n",
       "      <td>5200.0</td>\n",
       "      <td>NaN</td>\n",
       "    </tr>\n",
       "    <tr>\n",
       "      <th>0</th>\n",
       "      <td>NaN</td>\n",
       "      <td>NaN</td>\n",
       "      <td>NaN</td>\n",
       "      <td>NaN</td>\n",
       "      <td>3000.0</td>\n",
       "    </tr>\n",
       "    <tr>\n",
       "      <th>1</th>\n",
       "      <td>NaN</td>\n",
       "      <td>NaN</td>\n",
       "      <td>NaN</td>\n",
       "      <td>NaN</td>\n",
       "      <td>3100.0</td>\n",
       "    </tr>\n",
       "    <tr>\n",
       "      <th>2</th>\n",
       "      <td>NaN</td>\n",
       "      <td>NaN</td>\n",
       "      <td>NaN</td>\n",
       "      <td>NaN</td>\n",
       "      <td>3200.0</td>\n",
       "    </tr>\n",
       "  </tbody>\n",
       "</table>\n",
       "</div>"
      ],
      "text/plain": [
       "                        A텔레콤      B전자      C은행     D철강     F화학\n",
       "2023-01-02 00:00:00  48000.0  60000.0  54000.0  5000.0     NaN\n",
       "2023-01-03 00:00:00  48500.0  61000.0  55000.0  5100.0     NaN\n",
       "2023-01-04 00:00:00  49000.0  62000.0  56000.0  5200.0     NaN\n",
       "0                        NaN      NaN      NaN     NaN  3000.0\n",
       "1                        NaN      NaN      NaN     NaN  3100.0\n",
       "2                        NaN      NaN      NaN     NaN  3200.0"
      ]
     },
     "execution_count": 57,
     "metadata": {},
     "output_type": "execute_result"
    }
   ],
   "source": [
    "# 잘못된 예\n",
    "pd.concat([df2, s1], axis = 1)"
   ]
  },
  {
   "cell_type": "code",
   "execution_count": null,
   "id": "26aa593d-725e-452b-86f2-d1b5979c3aa6",
   "metadata": {},
   "outputs": [],
   "source": [
    "# concat으로 데이터 합쳐주려면 index가 같아야 함"
   ]
  },
  {
   "cell_type": "code",
   "execution_count": 63,
   "id": "00ca86c0-418c-42ca-aa31-120212554fc1",
   "metadata": {
    "tags": []
   },
   "outputs": [
    {
     "data": {
      "text/plain": [
       "2023-01-02    3000\n",
       "2023-01-03    3100\n",
       "2023-01-04    3200\n",
       "Freq: D, Name: F화학, dtype: int64"
      ]
     },
     "execution_count": 63,
     "metadata": {},
     "output_type": "execute_result"
    }
   ],
   "source": [
    "dates = pd.date_range('2023-01-02', periods = 3)\n",
    "s1 = pd.Series([3000, 3100, 3200], index = dates)\n",
    "s1.name = 'F화학' # 시리즈 이름 = 컬럼 이름\n",
    "s1"
   ]
  },
  {
   "cell_type": "code",
   "execution_count": 64,
   "id": "9f1bf2b0-d82d-490d-a5cf-420de4936e20",
   "metadata": {},
   "outputs": [
    {
     "data": {
      "text/html": [
       "<div>\n",
       "<style scoped>\n",
       "    .dataframe tbody tr th:only-of-type {\n",
       "        vertical-align: middle;\n",
       "    }\n",
       "\n",
       "    .dataframe tbody tr th {\n",
       "        vertical-align: top;\n",
       "    }\n",
       "\n",
       "    .dataframe thead th {\n",
       "        text-align: right;\n",
       "    }\n",
       "</style>\n",
       "<table border=\"1\" class=\"dataframe\">\n",
       "  <thead>\n",
       "    <tr style=\"text-align: right;\">\n",
       "      <th></th>\n",
       "      <th>A텔레콤</th>\n",
       "      <th>B전자</th>\n",
       "      <th>C은행</th>\n",
       "      <th>D철강</th>\n",
       "    </tr>\n",
       "  </thead>\n",
       "  <tbody>\n",
       "    <tr>\n",
       "      <th>2023-01-02</th>\n",
       "      <td>48000</td>\n",
       "      <td>60000</td>\n",
       "      <td>54000</td>\n",
       "      <td>5000</td>\n",
       "    </tr>\n",
       "    <tr>\n",
       "      <th>2023-01-03</th>\n",
       "      <td>48500</td>\n",
       "      <td>61000</td>\n",
       "      <td>55000</td>\n",
       "      <td>5100</td>\n",
       "    </tr>\n",
       "    <tr>\n",
       "      <th>2023-01-04</th>\n",
       "      <td>49000</td>\n",
       "      <td>62000</td>\n",
       "      <td>56000</td>\n",
       "      <td>5200</td>\n",
       "    </tr>\n",
       "  </tbody>\n",
       "</table>\n",
       "</div>"
      ],
      "text/plain": [
       "             A텔레콤    B전자    C은행   D철강\n",
       "2023-01-02  48000  60000  54000  5000\n",
       "2023-01-03  48500  61000  55000  5100\n",
       "2023-01-04  49000  62000  56000  5200"
      ]
     },
     "execution_count": 64,
     "metadata": {},
     "output_type": "execute_result"
    }
   ],
   "source": [
    "df2"
   ]
  },
  {
   "cell_type": "code",
   "execution_count": 65,
   "id": "0fda1e34-b9b9-43e4-9b75-6e5fc24265e1",
   "metadata": {},
   "outputs": [
    {
     "data": {
      "text/html": [
       "<div>\n",
       "<style scoped>\n",
       "    .dataframe tbody tr th:only-of-type {\n",
       "        vertical-align: middle;\n",
       "    }\n",
       "\n",
       "    .dataframe tbody tr th {\n",
       "        vertical-align: top;\n",
       "    }\n",
       "\n",
       "    .dataframe thead th {\n",
       "        text-align: right;\n",
       "    }\n",
       "</style>\n",
       "<table border=\"1\" class=\"dataframe\">\n",
       "  <thead>\n",
       "    <tr style=\"text-align: right;\">\n",
       "      <th></th>\n",
       "      <th>A텔레콤</th>\n",
       "      <th>B전자</th>\n",
       "      <th>C은행</th>\n",
       "      <th>D철강</th>\n",
       "      <th>F화학</th>\n",
       "    </tr>\n",
       "  </thead>\n",
       "  <tbody>\n",
       "    <tr>\n",
       "      <th>2023-01-02</th>\n",
       "      <td>48000</td>\n",
       "      <td>60000</td>\n",
       "      <td>54000</td>\n",
       "      <td>5000</td>\n",
       "      <td>3000</td>\n",
       "    </tr>\n",
       "    <tr>\n",
       "      <th>2023-01-03</th>\n",
       "      <td>48500</td>\n",
       "      <td>61000</td>\n",
       "      <td>55000</td>\n",
       "      <td>5100</td>\n",
       "      <td>3100</td>\n",
       "    </tr>\n",
       "    <tr>\n",
       "      <th>2023-01-04</th>\n",
       "      <td>49000</td>\n",
       "      <td>62000</td>\n",
       "      <td>56000</td>\n",
       "      <td>5200</td>\n",
       "      <td>3200</td>\n",
       "    </tr>\n",
       "  </tbody>\n",
       "</table>\n",
       "</div>"
      ],
      "text/plain": [
       "             A텔레콤    B전자    C은행   D철강   F화학\n",
       "2023-01-02  48000  60000  54000  5000  3000\n",
       "2023-01-03  48500  61000  55000  5100  3100\n",
       "2023-01-04  49000  62000  56000  5200  3200"
      ]
     },
     "execution_count": 65,
     "metadata": {},
     "output_type": "execute_result"
    }
   ],
   "source": [
    "concat_df2 = pd.concat([df2, s1], axis = 1) # df+df, df+series 다 가능하다 / 축의 방향\n",
    "concat_df2"
   ]
  },
  {
   "cell_type": "code",
   "execution_count": 66,
   "id": "dab8b6c8-4ce0-4aed-bb68-f5572751bc48",
   "metadata": {},
   "outputs": [
    {
     "data": {
      "text/html": [
       "<div>\n",
       "<style scoped>\n",
       "    .dataframe tbody tr th:only-of-type {\n",
       "        vertical-align: middle;\n",
       "    }\n",
       "\n",
       "    .dataframe tbody tr th {\n",
       "        vertical-align: top;\n",
       "    }\n",
       "\n",
       "    .dataframe thead th {\n",
       "        text-align: right;\n",
       "    }\n",
       "</style>\n",
       "<table border=\"1\" class=\"dataframe\">\n",
       "  <thead>\n",
       "    <tr style=\"text-align: right;\">\n",
       "      <th></th>\n",
       "      <th>A텔레콤</th>\n",
       "      <th>B전자</th>\n",
       "      <th>C은행</th>\n",
       "      <th>D철강</th>\n",
       "      <th>F화학</th>\n",
       "      <th>F화학_add_500</th>\n",
       "    </tr>\n",
       "  </thead>\n",
       "  <tbody>\n",
       "    <tr>\n",
       "      <th>2023-01-02</th>\n",
       "      <td>48000</td>\n",
       "      <td>60000</td>\n",
       "      <td>54000</td>\n",
       "      <td>5000</td>\n",
       "      <td>3000</td>\n",
       "      <td>3500</td>\n",
       "    </tr>\n",
       "    <tr>\n",
       "      <th>2023-01-03</th>\n",
       "      <td>48500</td>\n",
       "      <td>61000</td>\n",
       "      <td>55000</td>\n",
       "      <td>5100</td>\n",
       "      <td>3100</td>\n",
       "      <td>3600</td>\n",
       "    </tr>\n",
       "    <tr>\n",
       "      <th>2023-01-04</th>\n",
       "      <td>49000</td>\n",
       "      <td>62000</td>\n",
       "      <td>56000</td>\n",
       "      <td>5200</td>\n",
       "      <td>3200</td>\n",
       "      <td>3700</td>\n",
       "    </tr>\n",
       "  </tbody>\n",
       "</table>\n",
       "</div>"
      ],
      "text/plain": [
       "             A텔레콤    B전자    C은행   D철강   F화학  F화학_add_500\n",
       "2023-01-02  48000  60000  54000  5000  3000         3500\n",
       "2023-01-03  48500  61000  55000  5100  3100         3600\n",
       "2023-01-04  49000  62000  56000  5200  3200         3700"
      ]
     },
     "execution_count": 66,
     "metadata": {},
     "output_type": "execute_result"
    }
   ],
   "source": [
    "concat_df2['F화학_add_500'] = concat_df2['F화학'] + 500\n",
    "concat_df2.head()"
   ]
  },
  {
   "cell_type": "code",
   "execution_count": 67,
   "id": "a65d3fa9-c03f-4f60-a447-e674440abace",
   "metadata": {},
   "outputs": [],
   "source": [
    "# index 방향으로 데이터 추가하기"
   ]
  },
  {
   "cell_type": "code",
   "execution_count": 68,
   "id": "f9e8dcbf-5729-433c-ab25-6ad87240d4c2",
   "metadata": {},
   "outputs": [
    {
     "data": {
      "text/html": [
       "<div>\n",
       "<style scoped>\n",
       "    .dataframe tbody tr th:only-of-type {\n",
       "        vertical-align: middle;\n",
       "    }\n",
       "\n",
       "    .dataframe tbody tr th {\n",
       "        vertical-align: top;\n",
       "    }\n",
       "\n",
       "    .dataframe thead th {\n",
       "        text-align: right;\n",
       "    }\n",
       "</style>\n",
       "<table border=\"1\" class=\"dataframe\">\n",
       "  <thead>\n",
       "    <tr style=\"text-align: right;\">\n",
       "      <th></th>\n",
       "      <th>A텔레콤</th>\n",
       "      <th>B전자</th>\n",
       "      <th>C은행</th>\n",
       "      <th>D철강</th>\n",
       "      <th>F화학</th>\n",
       "      <th>F화학_add_500</th>\n",
       "    </tr>\n",
       "  </thead>\n",
       "  <tbody>\n",
       "    <tr>\n",
       "      <th>2023-01-02</th>\n",
       "      <td>48000.0</td>\n",
       "      <td>60000.0</td>\n",
       "      <td>54000.0</td>\n",
       "      <td>5000.0</td>\n",
       "      <td>3000.0</td>\n",
       "      <td>3500.0</td>\n",
       "    </tr>\n",
       "    <tr>\n",
       "      <th>2023-01-03</th>\n",
       "      <td>48500.0</td>\n",
       "      <td>61000.0</td>\n",
       "      <td>55000.0</td>\n",
       "      <td>5100.0</td>\n",
       "      <td>3100.0</td>\n",
       "      <td>3600.0</td>\n",
       "    </tr>\n",
       "    <tr>\n",
       "      <th>2023-01-04</th>\n",
       "      <td>49000.0</td>\n",
       "      <td>62000.0</td>\n",
       "      <td>56000.0</td>\n",
       "      <td>5200.0</td>\n",
       "      <td>3200.0</td>\n",
       "      <td>3700.0</td>\n",
       "    </tr>\n",
       "    <tr>\n",
       "      <th>2023-01-06</th>\n",
       "      <td>50000.0</td>\n",
       "      <td>63000.0</td>\n",
       "      <td>57000.0</td>\n",
       "      <td>5300.0</td>\n",
       "      <td>3300.0</td>\n",
       "      <td>3800.0</td>\n",
       "    </tr>\n",
       "  </tbody>\n",
       "</table>\n",
       "</div>"
      ],
      "text/plain": [
       "               A텔레콤      B전자      C은행     D철강     F화학  F화학_add_500\n",
       "2023-01-02  48000.0  60000.0  54000.0  5000.0  3000.0       3500.0\n",
       "2023-01-03  48500.0  61000.0  55000.0  5100.0  3100.0       3600.0\n",
       "2023-01-04  49000.0  62000.0  56000.0  5200.0  3200.0       3700.0\n",
       "2023-01-06  50000.0  63000.0  57000.0  5300.0  3300.0       3800.0"
      ]
     },
     "execution_count": 68,
     "metadata": {},
     "output_type": "execute_result"
    }
   ],
   "source": [
    "concat_df2.loc['2023-01-06', :] = [50000, 63000, 57000, 5300, 3300, 3800]\n",
    "concat_df2"
   ]
  },
  {
   "cell_type": "code",
   "execution_count": 70,
   "id": "0386fe32-7450-4593-a0f2-160e574387d6",
   "metadata": {},
   "outputs": [
    {
     "data": {
      "text/html": [
       "<div>\n",
       "<style scoped>\n",
       "    .dataframe tbody tr th:only-of-type {\n",
       "        vertical-align: middle;\n",
       "    }\n",
       "\n",
       "    .dataframe tbody tr th {\n",
       "        vertical-align: top;\n",
       "    }\n",
       "\n",
       "    .dataframe thead th {\n",
       "        text-align: right;\n",
       "    }\n",
       "</style>\n",
       "<table border=\"1\" class=\"dataframe\">\n",
       "  <thead>\n",
       "    <tr style=\"text-align: right;\">\n",
       "      <th></th>\n",
       "      <th>A텔레콤</th>\n",
       "      <th>B전자</th>\n",
       "      <th>C은행</th>\n",
       "      <th>D철강</th>\n",
       "      <th>F화학</th>\n",
       "      <th>F화학_add_500</th>\n",
       "    </tr>\n",
       "  </thead>\n",
       "  <tbody>\n",
       "    <tr>\n",
       "      <th>2023-01-02</th>\n",
       "      <td>48000.0</td>\n",
       "      <td>60000.0</td>\n",
       "      <td>54000.0</td>\n",
       "      <td>5000.0</td>\n",
       "      <td>3000.0</td>\n",
       "      <td>3500.0</td>\n",
       "    </tr>\n",
       "    <tr>\n",
       "      <th>2023-01-03</th>\n",
       "      <td>48500.0</td>\n",
       "      <td>61000.0</td>\n",
       "      <td>55000.0</td>\n",
       "      <td>5100.0</td>\n",
       "      <td>3100.0</td>\n",
       "      <td>3600.0</td>\n",
       "    </tr>\n",
       "    <tr>\n",
       "      <th>2023-01-04</th>\n",
       "      <td>49000.0</td>\n",
       "      <td>62000.0</td>\n",
       "      <td>56000.0</td>\n",
       "      <td>5200.0</td>\n",
       "      <td>3200.0</td>\n",
       "      <td>3700.0</td>\n",
       "    </tr>\n",
       "    <tr>\n",
       "      <th>2023-01-06</th>\n",
       "      <td>50000.0</td>\n",
       "      <td>63000.0</td>\n",
       "      <td>57000.0</td>\n",
       "      <td>5300.0</td>\n",
       "      <td>3300.0</td>\n",
       "      <td>3800.0</td>\n",
       "    </tr>\n",
       "    <tr>\n",
       "      <th>2023-01-05</th>\n",
       "      <td>49950.0</td>\n",
       "      <td>62950.0</td>\n",
       "      <td>56950.0</td>\n",
       "      <td>5250.0</td>\n",
       "      <td>3250.0</td>\n",
       "      <td>3750.0</td>\n",
       "    </tr>\n",
       "  </tbody>\n",
       "</table>\n",
       "</div>"
      ],
      "text/plain": [
       "               A텔레콤      B전자      C은행     D철강     F화학  F화학_add_500\n",
       "2023-01-02  48000.0  60000.0  54000.0  5000.0  3000.0       3500.0\n",
       "2023-01-03  48500.0  61000.0  55000.0  5100.0  3100.0       3600.0\n",
       "2023-01-04  49000.0  62000.0  56000.0  5200.0  3200.0       3700.0\n",
       "2023-01-06  50000.0  63000.0  57000.0  5300.0  3300.0       3800.0\n",
       "2023-01-05  49950.0  62950.0  56950.0  5250.0  3250.0       3750.0"
      ]
     },
     "execution_count": 70,
     "metadata": {},
     "output_type": "execute_result"
    }
   ],
   "source": [
    "concat_df2.loc['2023-01-05', :] = concat_df2.loc['2023-01-06', :] - 50 \n",
    "concat_df2.head()"
   ]
  },
  {
   "cell_type": "code",
   "execution_count": 73,
   "id": "9a2fd39a-5ca1-4244-a589-6cd5deec831d",
   "metadata": {},
   "outputs": [
    {
     "name": "stdout",
     "output_type": "stream",
     "text": [
      "<class 'str'>\n",
      "<class 'pandas._libs.tslibs.timestamps.Timestamp'>\n"
     ]
    }
   ],
   "source": [
    "# 만약 잘 추가가 안될 때 - datetime으로 형변환 해주기(안전하게 양쪽 다!)\n",
    "print(type('2023-01-05'))\n",
    "print(type(pd.to_datetime('2023-01-05')))"
   ]
  },
  {
   "cell_type": "code",
   "execution_count": 74,
   "id": "b2290fdb-8dda-4b64-813a-503f11e8fd55",
   "metadata": {},
   "outputs": [
    {
     "data": {
      "text/html": [
       "<div>\n",
       "<style scoped>\n",
       "    .dataframe tbody tr th:only-of-type {\n",
       "        vertical-align: middle;\n",
       "    }\n",
       "\n",
       "    .dataframe tbody tr th {\n",
       "        vertical-align: top;\n",
       "    }\n",
       "\n",
       "    .dataframe thead th {\n",
       "        text-align: right;\n",
       "    }\n",
       "</style>\n",
       "<table border=\"1\" class=\"dataframe\">\n",
       "  <thead>\n",
       "    <tr style=\"text-align: right;\">\n",
       "      <th></th>\n",
       "      <th>A텔레콤</th>\n",
       "      <th>B전자</th>\n",
       "      <th>C은행</th>\n",
       "      <th>D철강</th>\n",
       "      <th>F화학</th>\n",
       "      <th>F화학_add_500</th>\n",
       "    </tr>\n",
       "  </thead>\n",
       "  <tbody>\n",
       "    <tr>\n",
       "      <th>2023-01-02</th>\n",
       "      <td>48000.0</td>\n",
       "      <td>60000.0</td>\n",
       "      <td>54000.0</td>\n",
       "      <td>5000.0</td>\n",
       "      <td>3000.0</td>\n",
       "      <td>3500.0</td>\n",
       "    </tr>\n",
       "    <tr>\n",
       "      <th>2023-01-03</th>\n",
       "      <td>48500.0</td>\n",
       "      <td>61000.0</td>\n",
       "      <td>55000.0</td>\n",
       "      <td>5100.0</td>\n",
       "      <td>3100.0</td>\n",
       "      <td>3600.0</td>\n",
       "    </tr>\n",
       "    <tr>\n",
       "      <th>2023-01-04</th>\n",
       "      <td>49000.0</td>\n",
       "      <td>62000.0</td>\n",
       "      <td>56000.0</td>\n",
       "      <td>5200.0</td>\n",
       "      <td>3200.0</td>\n",
       "      <td>3700.0</td>\n",
       "    </tr>\n",
       "    <tr>\n",
       "      <th>2023-01-05</th>\n",
       "      <td>49950.0</td>\n",
       "      <td>62950.0</td>\n",
       "      <td>56950.0</td>\n",
       "      <td>5250.0</td>\n",
       "      <td>3250.0</td>\n",
       "      <td>3750.0</td>\n",
       "    </tr>\n",
       "    <tr>\n",
       "      <th>2023-01-06</th>\n",
       "      <td>50000.0</td>\n",
       "      <td>63000.0</td>\n",
       "      <td>57000.0</td>\n",
       "      <td>5300.0</td>\n",
       "      <td>3300.0</td>\n",
       "      <td>3800.0</td>\n",
       "    </tr>\n",
       "  </tbody>\n",
       "</table>\n",
       "</div>"
      ],
      "text/plain": [
       "               A텔레콤      B전자      C은행     D철강     F화학  F화학_add_500\n",
       "2023-01-02  48000.0  60000.0  54000.0  5000.0  3000.0       3500.0\n",
       "2023-01-03  48500.0  61000.0  55000.0  5100.0  3100.0       3600.0\n",
       "2023-01-04  49000.0  62000.0  56000.0  5200.0  3200.0       3700.0\n",
       "2023-01-05  49950.0  62950.0  56950.0  5250.0  3250.0       3750.0\n",
       "2023-01-06  50000.0  63000.0  57000.0  5300.0  3300.0       3800.0"
      ]
     },
     "execution_count": 74,
     "metadata": {},
     "output_type": "execute_result"
    }
   ],
   "source": [
    "concat_df2.sort_index()"
   ]
  },
  {
   "cell_type": "code",
   "execution_count": 78,
   "id": "e79854cb-2e80-43b4-9a42-2613f256fea8",
   "metadata": {},
   "outputs": [
    {
     "data": {
      "text/html": [
       "<div>\n",
       "<style scoped>\n",
       "    .dataframe tbody tr th:only-of-type {\n",
       "        vertical-align: middle;\n",
       "    }\n",
       "\n",
       "    .dataframe tbody tr th {\n",
       "        vertical-align: top;\n",
       "    }\n",
       "\n",
       "    .dataframe thead th {\n",
       "        text-align: right;\n",
       "    }\n",
       "</style>\n",
       "<table border=\"1\" class=\"dataframe\">\n",
       "  <thead>\n",
       "    <tr style=\"text-align: right;\">\n",
       "      <th></th>\n",
       "      <th>A텔레콤</th>\n",
       "      <th>B전자</th>\n",
       "      <th>C은행</th>\n",
       "      <th>D철강</th>\n",
       "      <th>F화학</th>\n",
       "      <th>F화학_add_500</th>\n",
       "    </tr>\n",
       "  </thead>\n",
       "  <tbody>\n",
       "    <tr>\n",
       "      <th>2023-01-02</th>\n",
       "      <td>48000.0</td>\n",
       "      <td>60000.0</td>\n",
       "      <td>54000.0</td>\n",
       "      <td>5000.0</td>\n",
       "      <td>3000.0</td>\n",
       "      <td>3500.0</td>\n",
       "    </tr>\n",
       "    <tr>\n",
       "      <th>2023-01-03</th>\n",
       "      <td>48500.0</td>\n",
       "      <td>61000.0</td>\n",
       "      <td>55000.0</td>\n",
       "      <td>5100.0</td>\n",
       "      <td>3100.0</td>\n",
       "      <td>3600.0</td>\n",
       "    </tr>\n",
       "    <tr>\n",
       "      <th>2023-01-04</th>\n",
       "      <td>49000.0</td>\n",
       "      <td>62000.0</td>\n",
       "      <td>56000.0</td>\n",
       "      <td>5200.0</td>\n",
       "      <td>3200.0</td>\n",
       "      <td>3700.0</td>\n",
       "    </tr>\n",
       "    <tr>\n",
       "      <th>2023-01-05</th>\n",
       "      <td>49950.0</td>\n",
       "      <td>62950.0</td>\n",
       "      <td>56950.0</td>\n",
       "      <td>5250.0</td>\n",
       "      <td>3250.0</td>\n",
       "      <td>3750.0</td>\n",
       "    </tr>\n",
       "    <tr>\n",
       "      <th>2023-01-06</th>\n",
       "      <td>50000.0</td>\n",
       "      <td>63000.0</td>\n",
       "      <td>57000.0</td>\n",
       "      <td>5300.0</td>\n",
       "      <td>3300.0</td>\n",
       "      <td>3800.0</td>\n",
       "    </tr>\n",
       "  </tbody>\n",
       "</table>\n",
       "</div>"
      ],
      "text/plain": [
       "               A텔레콤      B전자      C은행     D철강     F화학  F화학_add_500\n",
       "2023-01-02  48000.0  60000.0  54000.0  5000.0  3000.0       3500.0\n",
       "2023-01-03  48500.0  61000.0  55000.0  5100.0  3100.0       3600.0\n",
       "2023-01-04  49000.0  62000.0  56000.0  5200.0  3200.0       3700.0\n",
       "2023-01-05  49950.0  62950.0  56950.0  5250.0  3250.0       3750.0\n",
       "2023-01-06  50000.0  63000.0  57000.0  5300.0  3300.0       3800.0"
      ]
     },
     "execution_count": 78,
     "metadata": {},
     "output_type": "execute_result"
    }
   ],
   "source": [
    "# 특정 columns 기준으로 sort > 이걸 훨씬 많이 씀\n",
    "concat_df2.sort_values(by = 'B전자')"
   ]
  },
  {
   "cell_type": "code",
   "execution_count": 79,
   "id": "625f64f4-1441-4496-8381-ed5745cc009d",
   "metadata": {},
   "outputs": [
    {
     "data": {
      "text/html": [
       "<div>\n",
       "<style scoped>\n",
       "    .dataframe tbody tr th:only-of-type {\n",
       "        vertical-align: middle;\n",
       "    }\n",
       "\n",
       "    .dataframe tbody tr th {\n",
       "        vertical-align: top;\n",
       "    }\n",
       "\n",
       "    .dataframe thead th {\n",
       "        text-align: right;\n",
       "    }\n",
       "</style>\n",
       "<table border=\"1\" class=\"dataframe\">\n",
       "  <thead>\n",
       "    <tr style=\"text-align: right;\">\n",
       "      <th></th>\n",
       "      <th>A텔레콤</th>\n",
       "      <th>B전자</th>\n",
       "      <th>C은행</th>\n",
       "      <th>D철강</th>\n",
       "      <th>F화학</th>\n",
       "      <th>F화학_add_500</th>\n",
       "    </tr>\n",
       "  </thead>\n",
       "  <tbody>\n",
       "    <tr>\n",
       "      <th>2023-01-06</th>\n",
       "      <td>50000.0</td>\n",
       "      <td>63000.0</td>\n",
       "      <td>57000.0</td>\n",
       "      <td>5300.0</td>\n",
       "      <td>3300.0</td>\n",
       "      <td>3800.0</td>\n",
       "    </tr>\n",
       "    <tr>\n",
       "      <th>2023-01-05</th>\n",
       "      <td>49950.0</td>\n",
       "      <td>62950.0</td>\n",
       "      <td>56950.0</td>\n",
       "      <td>5250.0</td>\n",
       "      <td>3250.0</td>\n",
       "      <td>3750.0</td>\n",
       "    </tr>\n",
       "    <tr>\n",
       "      <th>2023-01-04</th>\n",
       "      <td>49000.0</td>\n",
       "      <td>62000.0</td>\n",
       "      <td>56000.0</td>\n",
       "      <td>5200.0</td>\n",
       "      <td>3200.0</td>\n",
       "      <td>3700.0</td>\n",
       "    </tr>\n",
       "    <tr>\n",
       "      <th>2023-01-03</th>\n",
       "      <td>48500.0</td>\n",
       "      <td>61000.0</td>\n",
       "      <td>55000.0</td>\n",
       "      <td>5100.0</td>\n",
       "      <td>3100.0</td>\n",
       "      <td>3600.0</td>\n",
       "    </tr>\n",
       "    <tr>\n",
       "      <th>2023-01-02</th>\n",
       "      <td>48000.0</td>\n",
       "      <td>60000.0</td>\n",
       "      <td>54000.0</td>\n",
       "      <td>5000.0</td>\n",
       "      <td>3000.0</td>\n",
       "      <td>3500.0</td>\n",
       "    </tr>\n",
       "  </tbody>\n",
       "</table>\n",
       "</div>"
      ],
      "text/plain": [
       "               A텔레콤      B전자      C은행     D철강     F화학  F화학_add_500\n",
       "2023-01-06  50000.0  63000.0  57000.0  5300.0  3300.0       3800.0\n",
       "2023-01-05  49950.0  62950.0  56950.0  5250.0  3250.0       3750.0\n",
       "2023-01-04  49000.0  62000.0  56000.0  5200.0  3200.0       3700.0\n",
       "2023-01-03  48500.0  61000.0  55000.0  5100.0  3100.0       3600.0\n",
       "2023-01-02  48000.0  60000.0  54000.0  5000.0  3000.0       3500.0"
      ]
     },
     "execution_count": 79,
     "metadata": {},
     "output_type": "execute_result"
    }
   ],
   "source": [
    "# 내림차순\n",
    "concat_df2.sort_values(by = 'B전자', ascending = False)"
   ]
  },
  {
   "cell_type": "markdown",
   "id": "22395bf6-0042-47c0-bc3e-8900df561ccd",
   "metadata": {},
   "source": [
    "## 데이터 삭제"
   ]
  },
  {
   "cell_type": "code",
   "execution_count": 80,
   "id": "04250403-c9aa-43b3-94ff-b79be686000e",
   "metadata": {},
   "outputs": [
    {
     "data": {
      "text/html": [
       "<div>\n",
       "<style scoped>\n",
       "    .dataframe tbody tr th:only-of-type {\n",
       "        vertical-align: middle;\n",
       "    }\n",
       "\n",
       "    .dataframe tbody tr th {\n",
       "        vertical-align: top;\n",
       "    }\n",
       "\n",
       "    .dataframe thead th {\n",
       "        text-align: right;\n",
       "    }\n",
       "</style>\n",
       "<table border=\"1\" class=\"dataframe\">\n",
       "  <thead>\n",
       "    <tr style=\"text-align: right;\">\n",
       "      <th></th>\n",
       "      <th>A텔레콤</th>\n",
       "      <th>B전자</th>\n",
       "      <th>C은행</th>\n",
       "      <th>D철강</th>\n",
       "      <th>F화학</th>\n",
       "      <th>F화학_add_500</th>\n",
       "    </tr>\n",
       "  </thead>\n",
       "  <tbody>\n",
       "    <tr>\n",
       "      <th>2023-01-02</th>\n",
       "      <td>48000.0</td>\n",
       "      <td>60000.0</td>\n",
       "      <td>54000.0</td>\n",
       "      <td>5000.0</td>\n",
       "      <td>3000.0</td>\n",
       "      <td>3500.0</td>\n",
       "    </tr>\n",
       "    <tr>\n",
       "      <th>2023-01-03</th>\n",
       "      <td>48500.0</td>\n",
       "      <td>61000.0</td>\n",
       "      <td>55000.0</td>\n",
       "      <td>5100.0</td>\n",
       "      <td>3100.0</td>\n",
       "      <td>3600.0</td>\n",
       "    </tr>\n",
       "    <tr>\n",
       "      <th>2023-01-06</th>\n",
       "      <td>50000.0</td>\n",
       "      <td>63000.0</td>\n",
       "      <td>57000.0</td>\n",
       "      <td>5300.0</td>\n",
       "      <td>3300.0</td>\n",
       "      <td>3800.0</td>\n",
       "    </tr>\n",
       "    <tr>\n",
       "      <th>2023-01-05</th>\n",
       "      <td>49950.0</td>\n",
       "      <td>62950.0</td>\n",
       "      <td>56950.0</td>\n",
       "      <td>5250.0</td>\n",
       "      <td>3250.0</td>\n",
       "      <td>3750.0</td>\n",
       "    </tr>\n",
       "  </tbody>\n",
       "</table>\n",
       "</div>"
      ],
      "text/plain": [
       "               A텔레콤      B전자      C은행     D철강     F화학  F화학_add_500\n",
       "2023-01-02  48000.0  60000.0  54000.0  5000.0  3000.0       3500.0\n",
       "2023-01-03  48500.0  61000.0  55000.0  5100.0  3100.0       3600.0\n",
       "2023-01-06  50000.0  63000.0  57000.0  5300.0  3300.0       3800.0\n",
       "2023-01-05  49950.0  62950.0  56950.0  5250.0  3250.0       3750.0"
      ]
     },
     "execution_count": 80,
     "metadata": {},
     "output_type": "execute_result"
    }
   ],
   "source": [
    "concat_df2.drop('2023-01-04') # drop()에 index나 column을 넣어주면 됨"
   ]
  },
  {
   "cell_type": "code",
   "execution_count": 84,
   "id": "0c72d086-5d54-4eb8-a9f2-8c5c9dff8432",
   "metadata": {},
   "outputs": [
    {
     "data": {
      "text/html": [
       "<div>\n",
       "<style scoped>\n",
       "    .dataframe tbody tr th:only-of-type {\n",
       "        vertical-align: middle;\n",
       "    }\n",
       "\n",
       "    .dataframe tbody tr th {\n",
       "        vertical-align: top;\n",
       "    }\n",
       "\n",
       "    .dataframe thead th {\n",
       "        text-align: right;\n",
       "    }\n",
       "</style>\n",
       "<table border=\"1\" class=\"dataframe\">\n",
       "  <thead>\n",
       "    <tr style=\"text-align: right;\">\n",
       "      <th></th>\n",
       "      <th>A텔레콤</th>\n",
       "      <th>B전자</th>\n",
       "      <th>C은행</th>\n",
       "      <th>D철강</th>\n",
       "      <th>F화학</th>\n",
       "      <th>F화학_add_500</th>\n",
       "    </tr>\n",
       "  </thead>\n",
       "  <tbody>\n",
       "    <tr>\n",
       "      <th>2023-01-02</th>\n",
       "      <td>48000.0</td>\n",
       "      <td>60000.0</td>\n",
       "      <td>54000.0</td>\n",
       "      <td>5000.0</td>\n",
       "      <td>3000.0</td>\n",
       "      <td>3500.0</td>\n",
       "    </tr>\n",
       "    <tr>\n",
       "      <th>2023-01-03</th>\n",
       "      <td>48500.0</td>\n",
       "      <td>61000.0</td>\n",
       "      <td>55000.0</td>\n",
       "      <td>5100.0</td>\n",
       "      <td>3100.0</td>\n",
       "      <td>3600.0</td>\n",
       "    </tr>\n",
       "    <tr>\n",
       "      <th>2023-01-06</th>\n",
       "      <td>50000.0</td>\n",
       "      <td>63000.0</td>\n",
       "      <td>57000.0</td>\n",
       "      <td>5300.0</td>\n",
       "      <td>3300.0</td>\n",
       "      <td>3800.0</td>\n",
       "    </tr>\n",
       "    <tr>\n",
       "      <th>2023-01-05</th>\n",
       "      <td>49950.0</td>\n",
       "      <td>62950.0</td>\n",
       "      <td>56950.0</td>\n",
       "      <td>5250.0</td>\n",
       "      <td>3250.0</td>\n",
       "      <td>3750.0</td>\n",
       "    </tr>\n",
       "  </tbody>\n",
       "</table>\n",
       "</div>"
      ],
      "text/plain": [
       "               A텔레콤      B전자      C은행     D철강     F화학  F화학_add_500\n",
       "2023-01-02  48000.0  60000.0  54000.0  5000.0  3000.0       3500.0\n",
       "2023-01-03  48500.0  61000.0  55000.0  5100.0  3100.0       3600.0\n",
       "2023-01-06  50000.0  63000.0  57000.0  5300.0  3300.0       3800.0\n",
       "2023-01-05  49950.0  62950.0  56950.0  5250.0  3250.0       3750.0"
      ]
     },
     "execution_count": 84,
     "metadata": {},
     "output_type": "execute_result"
    }
   ],
   "source": [
    "concat_df2"
   ]
  },
  {
   "cell_type": "code",
   "execution_count": 83,
   "id": "c216c88f-c139-40c4-b098-ebb9f60450db",
   "metadata": {
    "collapsed": true,
    "jupyter": {
     "outputs_hidden": true
    },
    "tags": []
   },
   "outputs": [
    {
     "ename": "KeyError",
     "evalue": "\"['2023-01-04'] not found in axis\"",
     "output_type": "error",
     "traceback": [
      "\u001b[1;31m---------------------------------------------------------------------------\u001b[0m",
      "\u001b[1;31mKeyError\u001b[0m                                  Traceback (most recent call last)",
      "\u001b[1;32m~\\AppData\\Local\\Temp\\ipykernel_14576\\813295262.py\u001b[0m in \u001b[0;36m<module>\u001b[1;34m\u001b[0m\n\u001b[1;32m----> 1\u001b[1;33m \u001b[0mconcat_df2\u001b[0m\u001b[1;33m.\u001b[0m\u001b[0mdrop\u001b[0m\u001b[1;33m(\u001b[0m\u001b[1;34m'2023-01-04'\u001b[0m\u001b[1;33m,\u001b[0m \u001b[0minplace\u001b[0m \u001b[1;33m=\u001b[0m \u001b[1;32mTrue\u001b[0m\u001b[1;33m)\u001b[0m\u001b[1;33m\u001b[0m\u001b[1;33m\u001b[0m\u001b[0m\n\u001b[0m\u001b[0;32m      2\u001b[0m \u001b[0mconcat_df2\u001b[0m\u001b[1;33m\u001b[0m\u001b[1;33m\u001b[0m\u001b[0m\n",
      "\u001b[1;32m~\\anaconda3\\lib\\site-packages\\pandas\\util\\_decorators.py\u001b[0m in \u001b[0;36mwrapper\u001b[1;34m(*args, **kwargs)\u001b[0m\n\u001b[0;32m    309\u001b[0m                     \u001b[0mstacklevel\u001b[0m\u001b[1;33m=\u001b[0m\u001b[0mstacklevel\u001b[0m\u001b[1;33m,\u001b[0m\u001b[1;33m\u001b[0m\u001b[1;33m\u001b[0m\u001b[0m\n\u001b[0;32m    310\u001b[0m                 )\n\u001b[1;32m--> 311\u001b[1;33m             \u001b[1;32mreturn\u001b[0m \u001b[0mfunc\u001b[0m\u001b[1;33m(\u001b[0m\u001b[1;33m*\u001b[0m\u001b[0margs\u001b[0m\u001b[1;33m,\u001b[0m \u001b[1;33m**\u001b[0m\u001b[0mkwargs\u001b[0m\u001b[1;33m)\u001b[0m\u001b[1;33m\u001b[0m\u001b[1;33m\u001b[0m\u001b[0m\n\u001b[0m\u001b[0;32m    312\u001b[0m \u001b[1;33m\u001b[0m\u001b[0m\n\u001b[0;32m    313\u001b[0m         \u001b[1;32mreturn\u001b[0m \u001b[0mwrapper\u001b[0m\u001b[1;33m\u001b[0m\u001b[1;33m\u001b[0m\u001b[0m\n",
      "\u001b[1;32m~\\anaconda3\\lib\\site-packages\\pandas\\core\\frame.py\u001b[0m in \u001b[0;36mdrop\u001b[1;34m(self, labels, axis, index, columns, level, inplace, errors)\u001b[0m\n\u001b[0;32m   4955\u001b[0m                 \u001b[0mweight\u001b[0m  \u001b[1;36m1.0\u001b[0m     \u001b[1;36m0.8\u001b[0m\u001b[1;33m\u001b[0m\u001b[1;33m\u001b[0m\u001b[0m\n\u001b[0;32m   4956\u001b[0m         \"\"\"\n\u001b[1;32m-> 4957\u001b[1;33m         return super().drop(\n\u001b[0m\u001b[0;32m   4958\u001b[0m             \u001b[0mlabels\u001b[0m\u001b[1;33m=\u001b[0m\u001b[0mlabels\u001b[0m\u001b[1;33m,\u001b[0m\u001b[1;33m\u001b[0m\u001b[1;33m\u001b[0m\u001b[0m\n\u001b[0;32m   4959\u001b[0m             \u001b[0maxis\u001b[0m\u001b[1;33m=\u001b[0m\u001b[0maxis\u001b[0m\u001b[1;33m,\u001b[0m\u001b[1;33m\u001b[0m\u001b[1;33m\u001b[0m\u001b[0m\n",
      "\u001b[1;32m~\\anaconda3\\lib\\site-packages\\pandas\\core\\generic.py\u001b[0m in \u001b[0;36mdrop\u001b[1;34m(self, labels, axis, index, columns, level, inplace, errors)\u001b[0m\n\u001b[0;32m   4265\u001b[0m         \u001b[1;32mfor\u001b[0m \u001b[0maxis\u001b[0m\u001b[1;33m,\u001b[0m \u001b[0mlabels\u001b[0m \u001b[1;32min\u001b[0m \u001b[0maxes\u001b[0m\u001b[1;33m.\u001b[0m\u001b[0mitems\u001b[0m\u001b[1;33m(\u001b[0m\u001b[1;33m)\u001b[0m\u001b[1;33m:\u001b[0m\u001b[1;33m\u001b[0m\u001b[1;33m\u001b[0m\u001b[0m\n\u001b[0;32m   4266\u001b[0m             \u001b[1;32mif\u001b[0m \u001b[0mlabels\u001b[0m \u001b[1;32mis\u001b[0m \u001b[1;32mnot\u001b[0m \u001b[1;32mNone\u001b[0m\u001b[1;33m:\u001b[0m\u001b[1;33m\u001b[0m\u001b[1;33m\u001b[0m\u001b[0m\n\u001b[1;32m-> 4267\u001b[1;33m                 \u001b[0mobj\u001b[0m \u001b[1;33m=\u001b[0m \u001b[0mobj\u001b[0m\u001b[1;33m.\u001b[0m\u001b[0m_drop_axis\u001b[0m\u001b[1;33m(\u001b[0m\u001b[0mlabels\u001b[0m\u001b[1;33m,\u001b[0m \u001b[0maxis\u001b[0m\u001b[1;33m,\u001b[0m \u001b[0mlevel\u001b[0m\u001b[1;33m=\u001b[0m\u001b[0mlevel\u001b[0m\u001b[1;33m,\u001b[0m \u001b[0merrors\u001b[0m\u001b[1;33m=\u001b[0m\u001b[0merrors\u001b[0m\u001b[1;33m)\u001b[0m\u001b[1;33m\u001b[0m\u001b[1;33m\u001b[0m\u001b[0m\n\u001b[0m\u001b[0;32m   4268\u001b[0m \u001b[1;33m\u001b[0m\u001b[0m\n\u001b[0;32m   4269\u001b[0m         \u001b[1;32mif\u001b[0m \u001b[0minplace\u001b[0m\u001b[1;33m:\u001b[0m\u001b[1;33m\u001b[0m\u001b[1;33m\u001b[0m\u001b[0m\n",
      "\u001b[1;32m~\\anaconda3\\lib\\site-packages\\pandas\\core\\generic.py\u001b[0m in \u001b[0;36m_drop_axis\u001b[1;34m(self, labels, axis, level, errors, consolidate, only_slice)\u001b[0m\n\u001b[0;32m   4309\u001b[0m                 \u001b[0mnew_axis\u001b[0m \u001b[1;33m=\u001b[0m \u001b[0maxis\u001b[0m\u001b[1;33m.\u001b[0m\u001b[0mdrop\u001b[0m\u001b[1;33m(\u001b[0m\u001b[0mlabels\u001b[0m\u001b[1;33m,\u001b[0m \u001b[0mlevel\u001b[0m\u001b[1;33m=\u001b[0m\u001b[0mlevel\u001b[0m\u001b[1;33m,\u001b[0m \u001b[0merrors\u001b[0m\u001b[1;33m=\u001b[0m\u001b[0merrors\u001b[0m\u001b[1;33m)\u001b[0m\u001b[1;33m\u001b[0m\u001b[1;33m\u001b[0m\u001b[0m\n\u001b[0;32m   4310\u001b[0m             \u001b[1;32melse\u001b[0m\u001b[1;33m:\u001b[0m\u001b[1;33m\u001b[0m\u001b[1;33m\u001b[0m\u001b[0m\n\u001b[1;32m-> 4311\u001b[1;33m                 \u001b[0mnew_axis\u001b[0m \u001b[1;33m=\u001b[0m \u001b[0maxis\u001b[0m\u001b[1;33m.\u001b[0m\u001b[0mdrop\u001b[0m\u001b[1;33m(\u001b[0m\u001b[0mlabels\u001b[0m\u001b[1;33m,\u001b[0m \u001b[0merrors\u001b[0m\u001b[1;33m=\u001b[0m\u001b[0merrors\u001b[0m\u001b[1;33m)\u001b[0m\u001b[1;33m\u001b[0m\u001b[1;33m\u001b[0m\u001b[0m\n\u001b[0m\u001b[0;32m   4312\u001b[0m             \u001b[0mindexer\u001b[0m \u001b[1;33m=\u001b[0m \u001b[0maxis\u001b[0m\u001b[1;33m.\u001b[0m\u001b[0mget_indexer\u001b[0m\u001b[1;33m(\u001b[0m\u001b[0mnew_axis\u001b[0m\u001b[1;33m)\u001b[0m\u001b[1;33m\u001b[0m\u001b[1;33m\u001b[0m\u001b[0m\n\u001b[0;32m   4313\u001b[0m \u001b[1;33m\u001b[0m\u001b[0m\n",
      "\u001b[1;32m~\\anaconda3\\lib\\site-packages\\pandas\\core\\indexes\\base.py\u001b[0m in \u001b[0;36mdrop\u001b[1;34m(self, labels, errors)\u001b[0m\n\u001b[0;32m   6659\u001b[0m         \u001b[1;32mif\u001b[0m \u001b[0mmask\u001b[0m\u001b[1;33m.\u001b[0m\u001b[0many\u001b[0m\u001b[1;33m(\u001b[0m\u001b[1;33m)\u001b[0m\u001b[1;33m:\u001b[0m\u001b[1;33m\u001b[0m\u001b[1;33m\u001b[0m\u001b[0m\n\u001b[0;32m   6660\u001b[0m             \u001b[1;32mif\u001b[0m \u001b[0merrors\u001b[0m \u001b[1;33m!=\u001b[0m \u001b[1;34m\"ignore\"\u001b[0m\u001b[1;33m:\u001b[0m\u001b[1;33m\u001b[0m\u001b[1;33m\u001b[0m\u001b[0m\n\u001b[1;32m-> 6661\u001b[1;33m                 \u001b[1;32mraise\u001b[0m \u001b[0mKeyError\u001b[0m\u001b[1;33m(\u001b[0m\u001b[1;34mf\"{list(labels[mask])} not found in axis\"\u001b[0m\u001b[1;33m)\u001b[0m\u001b[1;33m\u001b[0m\u001b[1;33m\u001b[0m\u001b[0m\n\u001b[0m\u001b[0;32m   6662\u001b[0m             \u001b[0mindexer\u001b[0m \u001b[1;33m=\u001b[0m \u001b[0mindexer\u001b[0m\u001b[1;33m[\u001b[0m\u001b[1;33m~\u001b[0m\u001b[0mmask\u001b[0m\u001b[1;33m]\u001b[0m\u001b[1;33m\u001b[0m\u001b[1;33m\u001b[0m\u001b[0m\n\u001b[0;32m   6663\u001b[0m         \u001b[1;32mreturn\u001b[0m \u001b[0mself\u001b[0m\u001b[1;33m.\u001b[0m\u001b[0mdelete\u001b[0m\u001b[1;33m(\u001b[0m\u001b[0mindexer\u001b[0m\u001b[1;33m)\u001b[0m\u001b[1;33m\u001b[0m\u001b[1;33m\u001b[0m\u001b[0m\n",
      "\u001b[1;31mKeyError\u001b[0m: \"['2023-01-04'] not found in axis\""
     ]
    }
   ],
   "source": [
    "concat_df2.drop('2023-01-04', inplace = True)\n",
    "concat_df2"
   ]
  },
  {
   "cell_type": "code",
   "execution_count": 85,
   "id": "be2dabe0-edb9-4e38-b162-a74a532317ad",
   "metadata": {},
   "outputs": [
    {
     "data": {
      "text/html": [
       "<div>\n",
       "<style scoped>\n",
       "    .dataframe tbody tr th:only-of-type {\n",
       "        vertical-align: middle;\n",
       "    }\n",
       "\n",
       "    .dataframe tbody tr th {\n",
       "        vertical-align: top;\n",
       "    }\n",
       "\n",
       "    .dataframe thead th {\n",
       "        text-align: right;\n",
       "    }\n",
       "</style>\n",
       "<table border=\"1\" class=\"dataframe\">\n",
       "  <thead>\n",
       "    <tr style=\"text-align: right;\">\n",
       "      <th></th>\n",
       "      <th>A텔레콤</th>\n",
       "      <th>B전자</th>\n",
       "      <th>D철강</th>\n",
       "      <th>F화학</th>\n",
       "      <th>F화학_add_500</th>\n",
       "    </tr>\n",
       "  </thead>\n",
       "  <tbody>\n",
       "    <tr>\n",
       "      <th>2023-01-02</th>\n",
       "      <td>48000.0</td>\n",
       "      <td>60000.0</td>\n",
       "      <td>5000.0</td>\n",
       "      <td>3000.0</td>\n",
       "      <td>3500.0</td>\n",
       "    </tr>\n",
       "    <tr>\n",
       "      <th>2023-01-03</th>\n",
       "      <td>48500.0</td>\n",
       "      <td>61000.0</td>\n",
       "      <td>5100.0</td>\n",
       "      <td>3100.0</td>\n",
       "      <td>3600.0</td>\n",
       "    </tr>\n",
       "    <tr>\n",
       "      <th>2023-01-06</th>\n",
       "      <td>50000.0</td>\n",
       "      <td>63000.0</td>\n",
       "      <td>5300.0</td>\n",
       "      <td>3300.0</td>\n",
       "      <td>3800.0</td>\n",
       "    </tr>\n",
       "    <tr>\n",
       "      <th>2023-01-05</th>\n",
       "      <td>49950.0</td>\n",
       "      <td>62950.0</td>\n",
       "      <td>5250.0</td>\n",
       "      <td>3250.0</td>\n",
       "      <td>3750.0</td>\n",
       "    </tr>\n",
       "  </tbody>\n",
       "</table>\n",
       "</div>"
      ],
      "text/plain": [
       "               A텔레콤      B전자     D철강     F화학  F화학_add_500\n",
       "2023-01-02  48000.0  60000.0  5000.0  3000.0       3500.0\n",
       "2023-01-03  48500.0  61000.0  5100.0  3100.0       3600.0\n",
       "2023-01-06  50000.0  63000.0  5300.0  3300.0       3800.0\n",
       "2023-01-05  49950.0  62950.0  5250.0  3250.0       3750.0"
      ]
     },
     "execution_count": 85,
     "metadata": {},
     "output_type": "execute_result"
    }
   ],
   "source": [
    "concat_df2.drop('C은행', axis = 1) # 원래 기본은 axis = 0"
   ]
  },
  {
   "cell_type": "code",
   "execution_count": 86,
   "id": "29843ef0-17d2-452d-92db-1b389e871069",
   "metadata": {},
   "outputs": [
    {
     "data": {
      "text/html": [
       "<div>\n",
       "<style scoped>\n",
       "    .dataframe tbody tr th:only-of-type {\n",
       "        vertical-align: middle;\n",
       "    }\n",
       "\n",
       "    .dataframe tbody tr th {\n",
       "        vertical-align: top;\n",
       "    }\n",
       "\n",
       "    .dataframe thead th {\n",
       "        text-align: right;\n",
       "    }\n",
       "</style>\n",
       "<table border=\"1\" class=\"dataframe\">\n",
       "  <thead>\n",
       "    <tr style=\"text-align: right;\">\n",
       "      <th></th>\n",
       "      <th>A텔레콤</th>\n",
       "      <th>B전자</th>\n",
       "      <th>F화학</th>\n",
       "      <th>F화학_add_500</th>\n",
       "    </tr>\n",
       "  </thead>\n",
       "  <tbody>\n",
       "    <tr>\n",
       "      <th>2023-01-02</th>\n",
       "      <td>48000.0</td>\n",
       "      <td>60000.0</td>\n",
       "      <td>3000.0</td>\n",
       "      <td>3500.0</td>\n",
       "    </tr>\n",
       "    <tr>\n",
       "      <th>2023-01-03</th>\n",
       "      <td>48500.0</td>\n",
       "      <td>61000.0</td>\n",
       "      <td>3100.0</td>\n",
       "      <td>3600.0</td>\n",
       "    </tr>\n",
       "    <tr>\n",
       "      <th>2023-01-06</th>\n",
       "      <td>50000.0</td>\n",
       "      <td>63000.0</td>\n",
       "      <td>3300.0</td>\n",
       "      <td>3800.0</td>\n",
       "    </tr>\n",
       "    <tr>\n",
       "      <th>2023-01-05</th>\n",
       "      <td>49950.0</td>\n",
       "      <td>62950.0</td>\n",
       "      <td>3250.0</td>\n",
       "      <td>3750.0</td>\n",
       "    </tr>\n",
       "  </tbody>\n",
       "</table>\n",
       "</div>"
      ],
      "text/plain": [
       "               A텔레콤      B전자     F화학  F화학_add_500\n",
       "2023-01-02  48000.0  60000.0  3000.0       3500.0\n",
       "2023-01-03  48500.0  61000.0  3100.0       3600.0\n",
       "2023-01-06  50000.0  63000.0  3300.0       3800.0\n",
       "2023-01-05  49950.0  62950.0  3250.0       3750.0"
      ]
     },
     "execution_count": 86,
     "metadata": {},
     "output_type": "execute_result"
    }
   ],
   "source": [
    "concat_df2.drop(['C은행','D철강'], axis = 1) # 여러개는 리스트로 감싸주기"
   ]
  },
  {
   "cell_type": "markdown",
   "id": "635ab71a-fc44-440c-ac63-9191c038407b",
   "metadata": {},
   "source": [
    "## 데이터프레임 다루기"
   ]
  },
  {
   "cell_type": "code",
   "execution_count": 87,
   "id": "9ab2d6cd-1942-4d13-9cba-1db563215c07",
   "metadata": {},
   "outputs": [
    {
     "data": {
      "text/html": [
       "<div>\n",
       "<style scoped>\n",
       "    .dataframe tbody tr th:only-of-type {\n",
       "        vertical-align: middle;\n",
       "    }\n",
       "\n",
       "    .dataframe tbody tr th {\n",
       "        vertical-align: top;\n",
       "    }\n",
       "\n",
       "    .dataframe thead th {\n",
       "        text-align: right;\n",
       "    }\n",
       "</style>\n",
       "<table border=\"1\" class=\"dataframe\">\n",
       "  <thead>\n",
       "    <tr style=\"text-align: right;\">\n",
       "      <th></th>\n",
       "      <th>A텔레콤</th>\n",
       "      <th>B전자</th>\n",
       "      <th>C은행</th>\n",
       "      <th>D철강</th>\n",
       "      <th>F화학</th>\n",
       "      <th>F화학_add_500</th>\n",
       "      <th>A텔레콤_add_B전자</th>\n",
       "    </tr>\n",
       "  </thead>\n",
       "  <tbody>\n",
       "    <tr>\n",
       "      <th>2023-01-02</th>\n",
       "      <td>48000.0</td>\n",
       "      <td>60000.0</td>\n",
       "      <td>54000.0</td>\n",
       "      <td>5000.0</td>\n",
       "      <td>3000.0</td>\n",
       "      <td>3500.0</td>\n",
       "      <td>108000.0</td>\n",
       "    </tr>\n",
       "    <tr>\n",
       "      <th>2023-01-03</th>\n",
       "      <td>48500.0</td>\n",
       "      <td>61000.0</td>\n",
       "      <td>55000.0</td>\n",
       "      <td>5100.0</td>\n",
       "      <td>3100.0</td>\n",
       "      <td>3600.0</td>\n",
       "      <td>109500.0</td>\n",
       "    </tr>\n",
       "    <tr>\n",
       "      <th>2023-01-06</th>\n",
       "      <td>50000.0</td>\n",
       "      <td>63000.0</td>\n",
       "      <td>57000.0</td>\n",
       "      <td>5300.0</td>\n",
       "      <td>3300.0</td>\n",
       "      <td>3800.0</td>\n",
       "      <td>113000.0</td>\n",
       "    </tr>\n",
       "    <tr>\n",
       "      <th>2023-01-05</th>\n",
       "      <td>49950.0</td>\n",
       "      <td>62950.0</td>\n",
       "      <td>56950.0</td>\n",
       "      <td>5250.0</td>\n",
       "      <td>3250.0</td>\n",
       "      <td>3750.0</td>\n",
       "      <td>112900.0</td>\n",
       "    </tr>\n",
       "  </tbody>\n",
       "</table>\n",
       "</div>"
      ],
      "text/plain": [
       "               A텔레콤      B전자      C은행     D철강     F화학  F화학_add_500  \\\n",
       "2023-01-02  48000.0  60000.0  54000.0  5000.0  3000.0       3500.0   \n",
       "2023-01-03  48500.0  61000.0  55000.0  5100.0  3100.0       3600.0   \n",
       "2023-01-06  50000.0  63000.0  57000.0  5300.0  3300.0       3800.0   \n",
       "2023-01-05  49950.0  62950.0  56950.0  5250.0  3250.0       3750.0   \n",
       "\n",
       "            A텔레콤_add_B전자  \n",
       "2023-01-02      108000.0  \n",
       "2023-01-03      109500.0  \n",
       "2023-01-06      113000.0  \n",
       "2023-01-05      112900.0  "
      ]
     },
     "execution_count": 87,
     "metadata": {},
     "output_type": "execute_result"
    }
   ],
   "source": [
    "# 컬럼과 컬럼 연산\n",
    "concat_df2['A텔레콤_add_B전자'] = concat_df2['A텔레콤'] + concat_df2['B전자']\n",
    "concat_df2.head()"
   ]
  },
  {
   "cell_type": "code",
   "execution_count": 88,
   "id": "4d44a274-e435-480b-95f8-a27a9e95217b",
   "metadata": {},
   "outputs": [],
   "source": [
    "concat_df2['sum'] = concat_df2.sum(axis = 1)"
   ]
  },
  {
   "cell_type": "code",
   "execution_count": 89,
   "id": "f0c42431-654c-4fd7-8355-75876078a10d",
   "metadata": {},
   "outputs": [
    {
     "data": {
      "text/html": [
       "<div>\n",
       "<style scoped>\n",
       "    .dataframe tbody tr th:only-of-type {\n",
       "        vertical-align: middle;\n",
       "    }\n",
       "\n",
       "    .dataframe tbody tr th {\n",
       "        vertical-align: top;\n",
       "    }\n",
       "\n",
       "    .dataframe thead th {\n",
       "        text-align: right;\n",
       "    }\n",
       "</style>\n",
       "<table border=\"1\" class=\"dataframe\">\n",
       "  <thead>\n",
       "    <tr style=\"text-align: right;\">\n",
       "      <th></th>\n",
       "      <th>A텔레콤</th>\n",
       "      <th>B전자</th>\n",
       "      <th>C은행</th>\n",
       "      <th>D철강</th>\n",
       "      <th>F화학</th>\n",
       "      <th>F화학_add_500</th>\n",
       "      <th>A텔레콤_add_B전자</th>\n",
       "      <th>sum</th>\n",
       "    </tr>\n",
       "  </thead>\n",
       "  <tbody>\n",
       "    <tr>\n",
       "      <th>2023-01-02</th>\n",
       "      <td>48000.0</td>\n",
       "      <td>60000.0</td>\n",
       "      <td>54000.0</td>\n",
       "      <td>5000.0</td>\n",
       "      <td>3000.0</td>\n",
       "      <td>3500.0</td>\n",
       "      <td>108000.0</td>\n",
       "      <td>281500.0</td>\n",
       "    </tr>\n",
       "    <tr>\n",
       "      <th>2023-01-03</th>\n",
       "      <td>48500.0</td>\n",
       "      <td>61000.0</td>\n",
       "      <td>55000.0</td>\n",
       "      <td>5100.0</td>\n",
       "      <td>3100.0</td>\n",
       "      <td>3600.0</td>\n",
       "      <td>109500.0</td>\n",
       "      <td>285800.0</td>\n",
       "    </tr>\n",
       "    <tr>\n",
       "      <th>2023-01-06</th>\n",
       "      <td>50000.0</td>\n",
       "      <td>63000.0</td>\n",
       "      <td>57000.0</td>\n",
       "      <td>5300.0</td>\n",
       "      <td>3300.0</td>\n",
       "      <td>3800.0</td>\n",
       "      <td>113000.0</td>\n",
       "      <td>295400.0</td>\n",
       "    </tr>\n",
       "    <tr>\n",
       "      <th>2023-01-05</th>\n",
       "      <td>49950.0</td>\n",
       "      <td>62950.0</td>\n",
       "      <td>56950.0</td>\n",
       "      <td>5250.0</td>\n",
       "      <td>3250.0</td>\n",
       "      <td>3750.0</td>\n",
       "      <td>112900.0</td>\n",
       "      <td>295000.0</td>\n",
       "    </tr>\n",
       "  </tbody>\n",
       "</table>\n",
       "</div>"
      ],
      "text/plain": [
       "               A텔레콤      B전자      C은행     D철강     F화학  F화학_add_500  \\\n",
       "2023-01-02  48000.0  60000.0  54000.0  5000.0  3000.0       3500.0   \n",
       "2023-01-03  48500.0  61000.0  55000.0  5100.0  3100.0       3600.0   \n",
       "2023-01-06  50000.0  63000.0  57000.0  5300.0  3300.0       3800.0   \n",
       "2023-01-05  49950.0  62950.0  56950.0  5250.0  3250.0       3750.0   \n",
       "\n",
       "            A텔레콤_add_B전자       sum  \n",
       "2023-01-02      108000.0  281500.0  \n",
       "2023-01-03      109500.0  285800.0  \n",
       "2023-01-06      113000.0  295400.0  \n",
       "2023-01-05      112900.0  295000.0  "
      ]
     },
     "execution_count": 89,
     "metadata": {},
     "output_type": "execute_result"
    }
   ],
   "source": [
    "concat_df2"
   ]
  },
  {
   "cell_type": "code",
   "execution_count": 90,
   "id": "8f2ab676-00fc-4d81-859c-803656c4a425",
   "metadata": {},
   "outputs": [
    {
     "data": {
      "text/plain": [
       "A텔레콤             48000.0\n",
       "B전자              60000.0\n",
       "C은행              54000.0\n",
       "D철강               5000.0\n",
       "F화학               3000.0\n",
       "F화학_add_500       3500.0\n",
       "A텔레콤_add_B전자    108000.0\n",
       "sum             281500.0\n",
       "dtype: float64"
      ]
     },
     "execution_count": 90,
     "metadata": {},
     "output_type": "execute_result"
    }
   ],
   "source": [
    "concat_df2.min(axis = 0)"
   ]
  },
  {
   "cell_type": "code",
   "execution_count": 91,
   "id": "e6372e4a-173e-4540-9ca5-0bc6d04f6c17",
   "metadata": {},
   "outputs": [
    {
     "data": {
      "text/html": [
       "<div>\n",
       "<style scoped>\n",
       "    .dataframe tbody tr th:only-of-type {\n",
       "        vertical-align: middle;\n",
       "    }\n",
       "\n",
       "    .dataframe tbody tr th {\n",
       "        vertical-align: top;\n",
       "    }\n",
       "\n",
       "    .dataframe thead th {\n",
       "        text-align: right;\n",
       "    }\n",
       "</style>\n",
       "<table border=\"1\" class=\"dataframe\">\n",
       "  <thead>\n",
       "    <tr style=\"text-align: right;\">\n",
       "      <th></th>\n",
       "      <th>A텔레콤</th>\n",
       "      <th>B전자</th>\n",
       "      <th>C은행</th>\n",
       "      <th>D철강</th>\n",
       "      <th>F화학</th>\n",
       "      <th>F화학_add_500</th>\n",
       "      <th>A텔레콤_add_B전자</th>\n",
       "      <th>sum</th>\n",
       "    </tr>\n",
       "  </thead>\n",
       "  <tbody>\n",
       "    <tr>\n",
       "      <th>count</th>\n",
       "      <td>4.000000</td>\n",
       "      <td>4.000000</td>\n",
       "      <td>4.000000</td>\n",
       "      <td>4.000000</td>\n",
       "      <td>4.000000</td>\n",
       "      <td>4.000000</td>\n",
       "      <td>4.000000</td>\n",
       "      <td>4.00000</td>\n",
       "    </tr>\n",
       "    <tr>\n",
       "      <th>mean</th>\n",
       "      <td>49112.500000</td>\n",
       "      <td>61737.500000</td>\n",
       "      <td>55737.500000</td>\n",
       "      <td>5162.500000</td>\n",
       "      <td>3162.500000</td>\n",
       "      <td>3662.500000</td>\n",
       "      <td>110850.000000</td>\n",
       "      <td>289425.00000</td>\n",
       "    </tr>\n",
       "    <tr>\n",
       "      <th>std</th>\n",
       "      <td>1016.837417</td>\n",
       "      <td>1486.256483</td>\n",
       "      <td>1486.256483</td>\n",
       "      <td>137.689264</td>\n",
       "      <td>137.689264</td>\n",
       "      <td>137.689264</td>\n",
       "      <td>2501.332978</td>\n",
       "      <td>6897.52371</td>\n",
       "    </tr>\n",
       "    <tr>\n",
       "      <th>min</th>\n",
       "      <td>48000.000000</td>\n",
       "      <td>60000.000000</td>\n",
       "      <td>54000.000000</td>\n",
       "      <td>5000.000000</td>\n",
       "      <td>3000.000000</td>\n",
       "      <td>3500.000000</td>\n",
       "      <td>108000.000000</td>\n",
       "      <td>281500.00000</td>\n",
       "    </tr>\n",
       "    <tr>\n",
       "      <th>25%</th>\n",
       "      <td>48375.000000</td>\n",
       "      <td>60750.000000</td>\n",
       "      <td>54750.000000</td>\n",
       "      <td>5075.000000</td>\n",
       "      <td>3075.000000</td>\n",
       "      <td>3575.000000</td>\n",
       "      <td>109125.000000</td>\n",
       "      <td>284725.00000</td>\n",
       "    </tr>\n",
       "    <tr>\n",
       "      <th>50%</th>\n",
       "      <td>49225.000000</td>\n",
       "      <td>61975.000000</td>\n",
       "      <td>55975.000000</td>\n",
       "      <td>5175.000000</td>\n",
       "      <td>3175.000000</td>\n",
       "      <td>3675.000000</td>\n",
       "      <td>111200.000000</td>\n",
       "      <td>290400.00000</td>\n",
       "    </tr>\n",
       "    <tr>\n",
       "      <th>75%</th>\n",
       "      <td>49962.500000</td>\n",
       "      <td>62962.500000</td>\n",
       "      <td>56962.500000</td>\n",
       "      <td>5262.500000</td>\n",
       "      <td>3262.500000</td>\n",
       "      <td>3762.500000</td>\n",
       "      <td>112925.000000</td>\n",
       "      <td>295100.00000</td>\n",
       "    </tr>\n",
       "    <tr>\n",
       "      <th>max</th>\n",
       "      <td>50000.000000</td>\n",
       "      <td>63000.000000</td>\n",
       "      <td>57000.000000</td>\n",
       "      <td>5300.000000</td>\n",
       "      <td>3300.000000</td>\n",
       "      <td>3800.000000</td>\n",
       "      <td>113000.000000</td>\n",
       "      <td>295400.00000</td>\n",
       "    </tr>\n",
       "  </tbody>\n",
       "</table>\n",
       "</div>"
      ],
      "text/plain": [
       "               A텔레콤           B전자           C은행          D철강          F화학  \\\n",
       "count      4.000000      4.000000      4.000000     4.000000     4.000000   \n",
       "mean   49112.500000  61737.500000  55737.500000  5162.500000  3162.500000   \n",
       "std     1016.837417   1486.256483   1486.256483   137.689264   137.689264   \n",
       "min    48000.000000  60000.000000  54000.000000  5000.000000  3000.000000   \n",
       "25%    48375.000000  60750.000000  54750.000000  5075.000000  3075.000000   \n",
       "50%    49225.000000  61975.000000  55975.000000  5175.000000  3175.000000   \n",
       "75%    49962.500000  62962.500000  56962.500000  5262.500000  3262.500000   \n",
       "max    50000.000000  63000.000000  57000.000000  5300.000000  3300.000000   \n",
       "\n",
       "       F화학_add_500   A텔레콤_add_B전자           sum  \n",
       "count     4.000000       4.000000       4.00000  \n",
       "mean   3662.500000  110850.000000  289425.00000  \n",
       "std     137.689264    2501.332978    6897.52371  \n",
       "min    3500.000000  108000.000000  281500.00000  \n",
       "25%    3575.000000  109125.000000  284725.00000  \n",
       "50%    3675.000000  111200.000000  290400.00000  \n",
       "75%    3762.500000  112925.000000  295100.00000  \n",
       "max    3800.000000  113000.000000  295400.00000  "
      ]
     },
     "execution_count": 91,
     "metadata": {},
     "output_type": "execute_result"
    }
   ],
   "source": [
    "concat_df2.describe()"
   ]
  },
  {
   "cell_type": "markdown",
   "id": "79731535-bcb2-4f52-8d06-d774737a3507",
   "metadata": {},
   "source": [
    "## 결측치 처리\n",
    "- 제거: dropna\n",
    "- 대체: fillna (특정 값으로 대체 or 메소드 활용), interpolate"
   ]
  },
  {
   "cell_type": "code",
   "execution_count": 95,
   "id": "83dab8b7-ebfb-4b8f-83d6-a53f9acfbed2",
   "metadata": {},
   "outputs": [
    {
     "data": {
      "text/html": [
       "<div>\n",
       "<style scoped>\n",
       "    .dataframe tbody tr th:only-of-type {\n",
       "        vertical-align: middle;\n",
       "    }\n",
       "\n",
       "    .dataframe tbody tr th {\n",
       "        vertical-align: top;\n",
       "    }\n",
       "\n",
       "    .dataframe thead th {\n",
       "        text-align: right;\n",
       "    }\n",
       "</style>\n",
       "<table border=\"1\" class=\"dataframe\">\n",
       "  <thead>\n",
       "    <tr style=\"text-align: right;\">\n",
       "      <th></th>\n",
       "      <th>A텔레콤</th>\n",
       "      <th>B전자</th>\n",
       "      <th>C은행</th>\n",
       "      <th>D철강</th>\n",
       "      <th>F화학</th>\n",
       "      <th>F화학_add_500</th>\n",
       "      <th>A텔레콤_add_B전자</th>\n",
       "      <th>sum</th>\n",
       "    </tr>\n",
       "  </thead>\n",
       "  <tbody>\n",
       "    <tr>\n",
       "      <th>2023-01-02</th>\n",
       "      <td>48000.0</td>\n",
       "      <td>60000.0</td>\n",
       "      <td>54000.0</td>\n",
       "      <td>5000.0</td>\n",
       "      <td>3000.0</td>\n",
       "      <td>3500.0</td>\n",
       "      <td>108000.0</td>\n",
       "      <td>281500.0</td>\n",
       "    </tr>\n",
       "    <tr>\n",
       "      <th>2023-01-03</th>\n",
       "      <td>48500.0</td>\n",
       "      <td>61000.0</td>\n",
       "      <td>NaN</td>\n",
       "      <td>NaN</td>\n",
       "      <td>NaN</td>\n",
       "      <td>3600.0</td>\n",
       "      <td>109500.0</td>\n",
       "      <td>285800.0</td>\n",
       "    </tr>\n",
       "    <tr>\n",
       "      <th>2023-01-06</th>\n",
       "      <td>50000.0</td>\n",
       "      <td>63000.0</td>\n",
       "      <td>57000.0</td>\n",
       "      <td>5300.0</td>\n",
       "      <td>3300.0</td>\n",
       "      <td>3800.0</td>\n",
       "      <td>113000.0</td>\n",
       "      <td>295400.0</td>\n",
       "    </tr>\n",
       "    <tr>\n",
       "      <th>2023-01-05</th>\n",
       "      <td>49950.0</td>\n",
       "      <td>62950.0</td>\n",
       "      <td>56950.0</td>\n",
       "      <td>5250.0</td>\n",
       "      <td>3250.0</td>\n",
       "      <td>3750.0</td>\n",
       "      <td>112900.0</td>\n",
       "      <td>295000.0</td>\n",
       "    </tr>\n",
       "  </tbody>\n",
       "</table>\n",
       "</div>"
      ],
      "text/plain": [
       "               A텔레콤      B전자      C은행     D철강     F화학  F화학_add_500  \\\n",
       "2023-01-02  48000.0  60000.0  54000.0  5000.0  3000.0       3500.0   \n",
       "2023-01-03  48500.0  61000.0      NaN     NaN     NaN       3600.0   \n",
       "2023-01-06  50000.0  63000.0  57000.0  5300.0  3300.0       3800.0   \n",
       "2023-01-05  49950.0  62950.0  56950.0  5250.0  3250.0       3750.0   \n",
       "\n",
       "            A텔레콤_add_B전자       sum  \n",
       "2023-01-02      108000.0  281500.0  \n",
       "2023-01-03      109500.0  285800.0  \n",
       "2023-01-06      113000.0  295400.0  \n",
       "2023-01-05      112900.0  295000.0  "
      ]
     },
     "execution_count": 95,
     "metadata": {},
     "output_type": "execute_result"
    }
   ],
   "source": [
    "import numpy as np\n",
    "\n",
    "concat_df2.loc['2023-01-03', 'C은행':'F화학'] = np.NaN\n",
    "concat_df2"
   ]
  },
  {
   "cell_type": "markdown",
   "id": "b1ee7128-08fb-49bf-89fe-2e6b9b6a607d",
   "metadata": {},
   "source": [
    "### 결측치 제거"
   ]
  },
  {
   "cell_type": "code",
   "execution_count": 96,
   "id": "5561c75f-91a3-485e-9a19-754087b67236",
   "metadata": {},
   "outputs": [
    {
     "data": {
      "text/html": [
       "<div>\n",
       "<style scoped>\n",
       "    .dataframe tbody tr th:only-of-type {\n",
       "        vertical-align: middle;\n",
       "    }\n",
       "\n",
       "    .dataframe tbody tr th {\n",
       "        vertical-align: top;\n",
       "    }\n",
       "\n",
       "    .dataframe thead th {\n",
       "        text-align: right;\n",
       "    }\n",
       "</style>\n",
       "<table border=\"1\" class=\"dataframe\">\n",
       "  <thead>\n",
       "    <tr style=\"text-align: right;\">\n",
       "      <th></th>\n",
       "      <th>A텔레콤</th>\n",
       "      <th>B전자</th>\n",
       "      <th>C은행</th>\n",
       "      <th>D철강</th>\n",
       "      <th>F화학</th>\n",
       "      <th>F화학_add_500</th>\n",
       "      <th>A텔레콤_add_B전자</th>\n",
       "      <th>sum</th>\n",
       "    </tr>\n",
       "  </thead>\n",
       "  <tbody>\n",
       "    <tr>\n",
       "      <th>2023-01-02</th>\n",
       "      <td>48000.0</td>\n",
       "      <td>60000.0</td>\n",
       "      <td>54000.0</td>\n",
       "      <td>5000.0</td>\n",
       "      <td>3000.0</td>\n",
       "      <td>3500.0</td>\n",
       "      <td>108000.0</td>\n",
       "      <td>281500.0</td>\n",
       "    </tr>\n",
       "    <tr>\n",
       "      <th>2023-01-06</th>\n",
       "      <td>50000.0</td>\n",
       "      <td>63000.0</td>\n",
       "      <td>57000.0</td>\n",
       "      <td>5300.0</td>\n",
       "      <td>3300.0</td>\n",
       "      <td>3800.0</td>\n",
       "      <td>113000.0</td>\n",
       "      <td>295400.0</td>\n",
       "    </tr>\n",
       "    <tr>\n",
       "      <th>2023-01-05</th>\n",
       "      <td>49950.0</td>\n",
       "      <td>62950.0</td>\n",
       "      <td>56950.0</td>\n",
       "      <td>5250.0</td>\n",
       "      <td>3250.0</td>\n",
       "      <td>3750.0</td>\n",
       "      <td>112900.0</td>\n",
       "      <td>295000.0</td>\n",
       "    </tr>\n",
       "  </tbody>\n",
       "</table>\n",
       "</div>"
      ],
      "text/plain": [
       "               A텔레콤      B전자      C은행     D철강     F화학  F화학_add_500  \\\n",
       "2023-01-02  48000.0  60000.0  54000.0  5000.0  3000.0       3500.0   \n",
       "2023-01-06  50000.0  63000.0  57000.0  5300.0  3300.0       3800.0   \n",
       "2023-01-05  49950.0  62950.0  56950.0  5250.0  3250.0       3750.0   \n",
       "\n",
       "            A텔레콤_add_B전자       sum  \n",
       "2023-01-02      108000.0  281500.0  \n",
       "2023-01-06      113000.0  295400.0  \n",
       "2023-01-05      112900.0  295000.0  "
      ]
     },
     "execution_count": 96,
     "metadata": {},
     "output_type": "execute_result"
    }
   ],
   "source": [
    "concat_df2.dropna(axis = 0) # row 방향으로 NaN값이 있으면 제거"
   ]
  },
  {
   "cell_type": "code",
   "execution_count": 97,
   "id": "849d4041-a8fd-4095-8263-042e6ea3b85c",
   "metadata": {},
   "outputs": [
    {
     "data": {
      "text/html": [
       "<div>\n",
       "<style scoped>\n",
       "    .dataframe tbody tr th:only-of-type {\n",
       "        vertical-align: middle;\n",
       "    }\n",
       "\n",
       "    .dataframe tbody tr th {\n",
       "        vertical-align: top;\n",
       "    }\n",
       "\n",
       "    .dataframe thead th {\n",
       "        text-align: right;\n",
       "    }\n",
       "</style>\n",
       "<table border=\"1\" class=\"dataframe\">\n",
       "  <thead>\n",
       "    <tr style=\"text-align: right;\">\n",
       "      <th></th>\n",
       "      <th>A텔레콤</th>\n",
       "      <th>B전자</th>\n",
       "      <th>F화학_add_500</th>\n",
       "      <th>A텔레콤_add_B전자</th>\n",
       "      <th>sum</th>\n",
       "    </tr>\n",
       "  </thead>\n",
       "  <tbody>\n",
       "    <tr>\n",
       "      <th>2023-01-02</th>\n",
       "      <td>48000.0</td>\n",
       "      <td>60000.0</td>\n",
       "      <td>3500.0</td>\n",
       "      <td>108000.0</td>\n",
       "      <td>281500.0</td>\n",
       "    </tr>\n",
       "    <tr>\n",
       "      <th>2023-01-03</th>\n",
       "      <td>48500.0</td>\n",
       "      <td>61000.0</td>\n",
       "      <td>3600.0</td>\n",
       "      <td>109500.0</td>\n",
       "      <td>285800.0</td>\n",
       "    </tr>\n",
       "    <tr>\n",
       "      <th>2023-01-06</th>\n",
       "      <td>50000.0</td>\n",
       "      <td>63000.0</td>\n",
       "      <td>3800.0</td>\n",
       "      <td>113000.0</td>\n",
       "      <td>295400.0</td>\n",
       "    </tr>\n",
       "    <tr>\n",
       "      <th>2023-01-05</th>\n",
       "      <td>49950.0</td>\n",
       "      <td>62950.0</td>\n",
       "      <td>3750.0</td>\n",
       "      <td>112900.0</td>\n",
       "      <td>295000.0</td>\n",
       "    </tr>\n",
       "  </tbody>\n",
       "</table>\n",
       "</div>"
      ],
      "text/plain": [
       "               A텔레콤      B전자  F화학_add_500  A텔레콤_add_B전자       sum\n",
       "2023-01-02  48000.0  60000.0       3500.0      108000.0  281500.0\n",
       "2023-01-03  48500.0  61000.0       3600.0      109500.0  285800.0\n",
       "2023-01-06  50000.0  63000.0       3800.0      113000.0  295400.0\n",
       "2023-01-05  49950.0  62950.0       3750.0      112900.0  295000.0"
      ]
     },
     "execution_count": 97,
     "metadata": {},
     "output_type": "execute_result"
    }
   ],
   "source": [
    "concat_df2.dropna(axis = 1)"
   ]
  },
  {
   "cell_type": "markdown",
   "id": "78c0b392-4cd0-4f44-b3b0-d86bb0709119",
   "metadata": {},
   "source": [
    "### 결측치 대체"
   ]
  },
  {
   "cell_type": "code",
   "execution_count": 99,
   "id": "49da5b94-6ae9-4b20-b1c5-f0383522a4b3",
   "metadata": {},
   "outputs": [
    {
     "data": {
      "text/html": [
       "<div>\n",
       "<style scoped>\n",
       "    .dataframe tbody tr th:only-of-type {\n",
       "        vertical-align: middle;\n",
       "    }\n",
       "\n",
       "    .dataframe tbody tr th {\n",
       "        vertical-align: top;\n",
       "    }\n",
       "\n",
       "    .dataframe thead th {\n",
       "        text-align: right;\n",
       "    }\n",
       "</style>\n",
       "<table border=\"1\" class=\"dataframe\">\n",
       "  <thead>\n",
       "    <tr style=\"text-align: right;\">\n",
       "      <th></th>\n",
       "      <th>A텔레콤</th>\n",
       "      <th>B전자</th>\n",
       "      <th>C은행</th>\n",
       "      <th>D철강</th>\n",
       "      <th>F화학</th>\n",
       "      <th>F화학_add_500</th>\n",
       "      <th>A텔레콤_add_B전자</th>\n",
       "      <th>sum</th>\n",
       "    </tr>\n",
       "  </thead>\n",
       "  <tbody>\n",
       "    <tr>\n",
       "      <th>2023-01-02</th>\n",
       "      <td>48000.0</td>\n",
       "      <td>60000.0</td>\n",
       "      <td>54000.0</td>\n",
       "      <td>5000.0</td>\n",
       "      <td>3000.0</td>\n",
       "      <td>3500.0</td>\n",
       "      <td>108000.0</td>\n",
       "      <td>281500.0</td>\n",
       "    </tr>\n",
       "    <tr>\n",
       "      <th>2023-01-03</th>\n",
       "      <td>48500.0</td>\n",
       "      <td>61000.0</td>\n",
       "      <td>NaN</td>\n",
       "      <td>NaN</td>\n",
       "      <td>NaN</td>\n",
       "      <td>3600.0</td>\n",
       "      <td>109500.0</td>\n",
       "      <td>285800.0</td>\n",
       "    </tr>\n",
       "    <tr>\n",
       "      <th>2023-01-05</th>\n",
       "      <td>49950.0</td>\n",
       "      <td>62950.0</td>\n",
       "      <td>56950.0</td>\n",
       "      <td>5250.0</td>\n",
       "      <td>3250.0</td>\n",
       "      <td>3750.0</td>\n",
       "      <td>112900.0</td>\n",
       "      <td>295000.0</td>\n",
       "    </tr>\n",
       "    <tr>\n",
       "      <th>2023-01-06</th>\n",
       "      <td>50000.0</td>\n",
       "      <td>63000.0</td>\n",
       "      <td>57000.0</td>\n",
       "      <td>5300.0</td>\n",
       "      <td>3300.0</td>\n",
       "      <td>3800.0</td>\n",
       "      <td>113000.0</td>\n",
       "      <td>295400.0</td>\n",
       "    </tr>\n",
       "  </tbody>\n",
       "</table>\n",
       "</div>"
      ],
      "text/plain": [
       "               A텔레콤      B전자      C은행     D철강     F화학  F화학_add_500  \\\n",
       "2023-01-02  48000.0  60000.0  54000.0  5000.0  3000.0       3500.0   \n",
       "2023-01-03  48500.0  61000.0      NaN     NaN     NaN       3600.0   \n",
       "2023-01-05  49950.0  62950.0  56950.0  5250.0  3250.0       3750.0   \n",
       "2023-01-06  50000.0  63000.0  57000.0  5300.0  3300.0       3800.0   \n",
       "\n",
       "            A텔레콤_add_B전자       sum  \n",
       "2023-01-02      108000.0  281500.0  \n",
       "2023-01-03      109500.0  285800.0  \n",
       "2023-01-05      112900.0  295000.0  \n",
       "2023-01-06      113000.0  295400.0  "
      ]
     },
     "execution_count": 99,
     "metadata": {},
     "output_type": "execute_result"
    }
   ],
   "source": [
    "concat_df2 = concat_df2.sort_index()\n",
    "concat_df2"
   ]
  },
  {
   "cell_type": "code",
   "execution_count": 100,
   "id": "ba6ac022-31a1-4984-a089-74998bea0094",
   "metadata": {},
   "outputs": [],
   "source": [
    "concat_df2.loc[pd.to_datetime('2023-01-04')] = concat_df2.loc[pd.to_datetime('2023-01-02')] + 100\n",
    "concat_df2 = concat_df2.sort_index()"
   ]
  },
  {
   "cell_type": "code",
   "execution_count": 101,
   "id": "5cee7ba6-19f7-4fb2-a82f-23a8b538a658",
   "metadata": {},
   "outputs": [
    {
     "data": {
      "text/html": [
       "<div>\n",
       "<style scoped>\n",
       "    .dataframe tbody tr th:only-of-type {\n",
       "        vertical-align: middle;\n",
       "    }\n",
       "\n",
       "    .dataframe tbody tr th {\n",
       "        vertical-align: top;\n",
       "    }\n",
       "\n",
       "    .dataframe thead th {\n",
       "        text-align: right;\n",
       "    }\n",
       "</style>\n",
       "<table border=\"1\" class=\"dataframe\">\n",
       "  <thead>\n",
       "    <tr style=\"text-align: right;\">\n",
       "      <th></th>\n",
       "      <th>A텔레콤</th>\n",
       "      <th>B전자</th>\n",
       "      <th>C은행</th>\n",
       "      <th>D철강</th>\n",
       "      <th>F화학</th>\n",
       "      <th>F화학_add_500</th>\n",
       "      <th>A텔레콤_add_B전자</th>\n",
       "      <th>sum</th>\n",
       "    </tr>\n",
       "  </thead>\n",
       "  <tbody>\n",
       "    <tr>\n",
       "      <th>2023-01-02</th>\n",
       "      <td>48000.0</td>\n",
       "      <td>60000.0</td>\n",
       "      <td>54000.0</td>\n",
       "      <td>5000.0</td>\n",
       "      <td>3000.0</td>\n",
       "      <td>3500.0</td>\n",
       "      <td>108000.0</td>\n",
       "      <td>281500.0</td>\n",
       "    </tr>\n",
       "    <tr>\n",
       "      <th>2023-01-03</th>\n",
       "      <td>48500.0</td>\n",
       "      <td>61000.0</td>\n",
       "      <td>NaN</td>\n",
       "      <td>NaN</td>\n",
       "      <td>NaN</td>\n",
       "      <td>3600.0</td>\n",
       "      <td>109500.0</td>\n",
       "      <td>285800.0</td>\n",
       "    </tr>\n",
       "    <tr>\n",
       "      <th>2023-01-04</th>\n",
       "      <td>48100.0</td>\n",
       "      <td>60100.0</td>\n",
       "      <td>54100.0</td>\n",
       "      <td>5100.0</td>\n",
       "      <td>3100.0</td>\n",
       "      <td>3600.0</td>\n",
       "      <td>108100.0</td>\n",
       "      <td>281600.0</td>\n",
       "    </tr>\n",
       "    <tr>\n",
       "      <th>2023-01-05</th>\n",
       "      <td>49950.0</td>\n",
       "      <td>62950.0</td>\n",
       "      <td>56950.0</td>\n",
       "      <td>5250.0</td>\n",
       "      <td>3250.0</td>\n",
       "      <td>3750.0</td>\n",
       "      <td>112900.0</td>\n",
       "      <td>295000.0</td>\n",
       "    </tr>\n",
       "    <tr>\n",
       "      <th>2023-01-06</th>\n",
       "      <td>50000.0</td>\n",
       "      <td>63000.0</td>\n",
       "      <td>57000.0</td>\n",
       "      <td>5300.0</td>\n",
       "      <td>3300.0</td>\n",
       "      <td>3800.0</td>\n",
       "      <td>113000.0</td>\n",
       "      <td>295400.0</td>\n",
       "    </tr>\n",
       "  </tbody>\n",
       "</table>\n",
       "</div>"
      ],
      "text/plain": [
       "               A텔레콤      B전자      C은행     D철강     F화학  F화학_add_500  \\\n",
       "2023-01-02  48000.0  60000.0  54000.0  5000.0  3000.0       3500.0   \n",
       "2023-01-03  48500.0  61000.0      NaN     NaN     NaN       3600.0   \n",
       "2023-01-04  48100.0  60100.0  54100.0  5100.0  3100.0       3600.0   \n",
       "2023-01-05  49950.0  62950.0  56950.0  5250.0  3250.0       3750.0   \n",
       "2023-01-06  50000.0  63000.0  57000.0  5300.0  3300.0       3800.0   \n",
       "\n",
       "            A텔레콤_add_B전자       sum  \n",
       "2023-01-02      108000.0  281500.0  \n",
       "2023-01-03      109500.0  285800.0  \n",
       "2023-01-04      108100.0  281600.0  \n",
       "2023-01-05      112900.0  295000.0  \n",
       "2023-01-06      113000.0  295400.0  "
      ]
     },
     "execution_count": 101,
     "metadata": {},
     "output_type": "execute_result"
    }
   ],
   "source": [
    "concat_df2"
   ]
  },
  {
   "cell_type": "code",
   "execution_count": 102,
   "id": "4135dad1-bd94-4f37-8295-801ed876fc62",
   "metadata": {},
   "outputs": [
    {
     "data": {
      "text/html": [
       "<div>\n",
       "<style scoped>\n",
       "    .dataframe tbody tr th:only-of-type {\n",
       "        vertical-align: middle;\n",
       "    }\n",
       "\n",
       "    .dataframe tbody tr th {\n",
       "        vertical-align: top;\n",
       "    }\n",
       "\n",
       "    .dataframe thead th {\n",
       "        text-align: right;\n",
       "    }\n",
       "</style>\n",
       "<table border=\"1\" class=\"dataframe\">\n",
       "  <thead>\n",
       "    <tr style=\"text-align: right;\">\n",
       "      <th></th>\n",
       "      <th>A텔레콤</th>\n",
       "      <th>B전자</th>\n",
       "      <th>C은행</th>\n",
       "      <th>D철강</th>\n",
       "      <th>F화학</th>\n",
       "      <th>F화학_add_500</th>\n",
       "      <th>A텔레콤_add_B전자</th>\n",
       "      <th>sum</th>\n",
       "    </tr>\n",
       "  </thead>\n",
       "  <tbody>\n",
       "    <tr>\n",
       "      <th>2023-01-02</th>\n",
       "      <td>48000.0</td>\n",
       "      <td>60000.0</td>\n",
       "      <td>54000.0</td>\n",
       "      <td>5000.0</td>\n",
       "      <td>3000.0</td>\n",
       "      <td>3500.0</td>\n",
       "      <td>108000.0</td>\n",
       "      <td>281500.0</td>\n",
       "    </tr>\n",
       "    <tr>\n",
       "      <th>2023-01-03</th>\n",
       "      <td>48500.0</td>\n",
       "      <td>61000.0</td>\n",
       "      <td>0.0</td>\n",
       "      <td>0.0</td>\n",
       "      <td>0.0</td>\n",
       "      <td>3600.0</td>\n",
       "      <td>109500.0</td>\n",
       "      <td>285800.0</td>\n",
       "    </tr>\n",
       "    <tr>\n",
       "      <th>2023-01-04</th>\n",
       "      <td>48100.0</td>\n",
       "      <td>60100.0</td>\n",
       "      <td>54100.0</td>\n",
       "      <td>5100.0</td>\n",
       "      <td>3100.0</td>\n",
       "      <td>3600.0</td>\n",
       "      <td>108100.0</td>\n",
       "      <td>281600.0</td>\n",
       "    </tr>\n",
       "    <tr>\n",
       "      <th>2023-01-05</th>\n",
       "      <td>49950.0</td>\n",
       "      <td>62950.0</td>\n",
       "      <td>56950.0</td>\n",
       "      <td>5250.0</td>\n",
       "      <td>3250.0</td>\n",
       "      <td>3750.0</td>\n",
       "      <td>112900.0</td>\n",
       "      <td>295000.0</td>\n",
       "    </tr>\n",
       "    <tr>\n",
       "      <th>2023-01-06</th>\n",
       "      <td>50000.0</td>\n",
       "      <td>63000.0</td>\n",
       "      <td>57000.0</td>\n",
       "      <td>5300.0</td>\n",
       "      <td>3300.0</td>\n",
       "      <td>3800.0</td>\n",
       "      <td>113000.0</td>\n",
       "      <td>295400.0</td>\n",
       "    </tr>\n",
       "  </tbody>\n",
       "</table>\n",
       "</div>"
      ],
      "text/plain": [
       "               A텔레콤      B전자      C은행     D철강     F화학  F화학_add_500  \\\n",
       "2023-01-02  48000.0  60000.0  54000.0  5000.0  3000.0       3500.0   \n",
       "2023-01-03  48500.0  61000.0      0.0     0.0     0.0       3600.0   \n",
       "2023-01-04  48100.0  60100.0  54100.0  5100.0  3100.0       3600.0   \n",
       "2023-01-05  49950.0  62950.0  56950.0  5250.0  3250.0       3750.0   \n",
       "2023-01-06  50000.0  63000.0  57000.0  5300.0  3300.0       3800.0   \n",
       "\n",
       "            A텔레콤_add_B전자       sum  \n",
       "2023-01-02      108000.0  281500.0  \n",
       "2023-01-03      109500.0  285800.0  \n",
       "2023-01-04      108100.0  281600.0  \n",
       "2023-01-05      112900.0  295000.0  \n",
       "2023-01-06      113000.0  295400.0  "
      ]
     },
     "execution_count": 102,
     "metadata": {},
     "output_type": "execute_result"
    }
   ],
   "source": [
    "concat_df2.fillna(0) # 딱 봐도 0으로 넣으면 안될거 같음 > 시계열 데이터니까 무난하게 앞,뒤 데이터 활용하면 좋음"
   ]
  },
  {
   "cell_type": "code",
   "execution_count": 103,
   "id": "1535fad7-6b13-4eb1-a718-32c00b82e0c5",
   "metadata": {},
   "outputs": [
    {
     "data": {
      "text/html": [
       "<div>\n",
       "<style scoped>\n",
       "    .dataframe tbody tr th:only-of-type {\n",
       "        vertical-align: middle;\n",
       "    }\n",
       "\n",
       "    .dataframe tbody tr th {\n",
       "        vertical-align: top;\n",
       "    }\n",
       "\n",
       "    .dataframe thead th {\n",
       "        text-align: right;\n",
       "    }\n",
       "</style>\n",
       "<table border=\"1\" class=\"dataframe\">\n",
       "  <thead>\n",
       "    <tr style=\"text-align: right;\">\n",
       "      <th></th>\n",
       "      <th>A텔레콤</th>\n",
       "      <th>B전자</th>\n",
       "      <th>C은행</th>\n",
       "      <th>D철강</th>\n",
       "      <th>F화학</th>\n",
       "      <th>F화학_add_500</th>\n",
       "      <th>A텔레콤_add_B전자</th>\n",
       "      <th>sum</th>\n",
       "    </tr>\n",
       "  </thead>\n",
       "  <tbody>\n",
       "    <tr>\n",
       "      <th>2023-01-02</th>\n",
       "      <td>48000.0</td>\n",
       "      <td>60000.0</td>\n",
       "      <td>54000.0</td>\n",
       "      <td>5000.0</td>\n",
       "      <td>3000.0</td>\n",
       "      <td>3500.0</td>\n",
       "      <td>108000.0</td>\n",
       "      <td>281500.0</td>\n",
       "    </tr>\n",
       "    <tr>\n",
       "      <th>2023-01-03</th>\n",
       "      <td>48500.0</td>\n",
       "      <td>61000.0</td>\n",
       "      <td>54050.0</td>\n",
       "      <td>5050.0</td>\n",
       "      <td>3050.0</td>\n",
       "      <td>3600.0</td>\n",
       "      <td>109500.0</td>\n",
       "      <td>285800.0</td>\n",
       "    </tr>\n",
       "    <tr>\n",
       "      <th>2023-01-04</th>\n",
       "      <td>48100.0</td>\n",
       "      <td>60100.0</td>\n",
       "      <td>54100.0</td>\n",
       "      <td>5100.0</td>\n",
       "      <td>3100.0</td>\n",
       "      <td>3600.0</td>\n",
       "      <td>108100.0</td>\n",
       "      <td>281600.0</td>\n",
       "    </tr>\n",
       "    <tr>\n",
       "      <th>2023-01-05</th>\n",
       "      <td>49950.0</td>\n",
       "      <td>62950.0</td>\n",
       "      <td>56950.0</td>\n",
       "      <td>5250.0</td>\n",
       "      <td>3250.0</td>\n",
       "      <td>3750.0</td>\n",
       "      <td>112900.0</td>\n",
       "      <td>295000.0</td>\n",
       "    </tr>\n",
       "    <tr>\n",
       "      <th>2023-01-06</th>\n",
       "      <td>50000.0</td>\n",
       "      <td>63000.0</td>\n",
       "      <td>57000.0</td>\n",
       "      <td>5300.0</td>\n",
       "      <td>3300.0</td>\n",
       "      <td>3800.0</td>\n",
       "      <td>113000.0</td>\n",
       "      <td>295400.0</td>\n",
       "    </tr>\n",
       "  </tbody>\n",
       "</table>\n",
       "</div>"
      ],
      "text/plain": [
       "               A텔레콤      B전자      C은행     D철강     F화학  F화학_add_500  \\\n",
       "2023-01-02  48000.0  60000.0  54000.0  5000.0  3000.0       3500.0   \n",
       "2023-01-03  48500.0  61000.0  54050.0  5050.0  3050.0       3600.0   \n",
       "2023-01-04  48100.0  60100.0  54100.0  5100.0  3100.0       3600.0   \n",
       "2023-01-05  49950.0  62950.0  56950.0  5250.0  3250.0       3750.0   \n",
       "2023-01-06  50000.0  63000.0  57000.0  5300.0  3300.0       3800.0   \n",
       "\n",
       "            A텔레콤_add_B전자       sum  \n",
       "2023-01-02      108000.0  281500.0  \n",
       "2023-01-03      109500.0  285800.0  \n",
       "2023-01-04      108100.0  281600.0  \n",
       "2023-01-05      112900.0  295000.0  \n",
       "2023-01-06      113000.0  295400.0  "
      ]
     },
     "execution_count": 103,
     "metadata": {},
     "output_type": "execute_result"
    }
   ],
   "source": [
    "# 보간법\n",
    "concat_df2.interpolate()"
   ]
  },
  {
   "cell_type": "code",
   "execution_count": 104,
   "id": "5551d926-6d59-4d88-987c-d3de4b274734",
   "metadata": {},
   "outputs": [
    {
     "data": {
      "text/html": [
       "<div>\n",
       "<style scoped>\n",
       "    .dataframe tbody tr th:only-of-type {\n",
       "        vertical-align: middle;\n",
       "    }\n",
       "\n",
       "    .dataframe tbody tr th {\n",
       "        vertical-align: top;\n",
       "    }\n",
       "\n",
       "    .dataframe thead th {\n",
       "        text-align: right;\n",
       "    }\n",
       "</style>\n",
       "<table border=\"1\" class=\"dataframe\">\n",
       "  <thead>\n",
       "    <tr style=\"text-align: right;\">\n",
       "      <th></th>\n",
       "      <th>A텔레콤</th>\n",
       "      <th>B전자</th>\n",
       "      <th>C은행</th>\n",
       "      <th>D철강</th>\n",
       "      <th>F화학</th>\n",
       "      <th>F화학_add_500</th>\n",
       "      <th>A텔레콤_add_B전자</th>\n",
       "      <th>sum</th>\n",
       "    </tr>\n",
       "  </thead>\n",
       "  <tbody>\n",
       "    <tr>\n",
       "      <th>2023-01-02</th>\n",
       "      <td>48000.0</td>\n",
       "      <td>60000.0</td>\n",
       "      <td>54000.0</td>\n",
       "      <td>5000.0</td>\n",
       "      <td>3000.0</td>\n",
       "      <td>3500.0</td>\n",
       "      <td>108000.0</td>\n",
       "      <td>281500.0</td>\n",
       "    </tr>\n",
       "    <tr>\n",
       "      <th>2023-01-03</th>\n",
       "      <td>48500.0</td>\n",
       "      <td>61000.0</td>\n",
       "      <td>54000.0</td>\n",
       "      <td>5000.0</td>\n",
       "      <td>3000.0</td>\n",
       "      <td>3600.0</td>\n",
       "      <td>109500.0</td>\n",
       "      <td>285800.0</td>\n",
       "    </tr>\n",
       "    <tr>\n",
       "      <th>2023-01-04</th>\n",
       "      <td>48100.0</td>\n",
       "      <td>60100.0</td>\n",
       "      <td>54100.0</td>\n",
       "      <td>5100.0</td>\n",
       "      <td>3100.0</td>\n",
       "      <td>3600.0</td>\n",
       "      <td>108100.0</td>\n",
       "      <td>281600.0</td>\n",
       "    </tr>\n",
       "    <tr>\n",
       "      <th>2023-01-05</th>\n",
       "      <td>49950.0</td>\n",
       "      <td>62950.0</td>\n",
       "      <td>56950.0</td>\n",
       "      <td>5250.0</td>\n",
       "      <td>3250.0</td>\n",
       "      <td>3750.0</td>\n",
       "      <td>112900.0</td>\n",
       "      <td>295000.0</td>\n",
       "    </tr>\n",
       "    <tr>\n",
       "      <th>2023-01-06</th>\n",
       "      <td>50000.0</td>\n",
       "      <td>63000.0</td>\n",
       "      <td>57000.0</td>\n",
       "      <td>5300.0</td>\n",
       "      <td>3300.0</td>\n",
       "      <td>3800.0</td>\n",
       "      <td>113000.0</td>\n",
       "      <td>295400.0</td>\n",
       "    </tr>\n",
       "  </tbody>\n",
       "</table>\n",
       "</div>"
      ],
      "text/plain": [
       "               A텔레콤      B전자      C은행     D철강     F화학  F화학_add_500  \\\n",
       "2023-01-02  48000.0  60000.0  54000.0  5000.0  3000.0       3500.0   \n",
       "2023-01-03  48500.0  61000.0  54000.0  5000.0  3000.0       3600.0   \n",
       "2023-01-04  48100.0  60100.0  54100.0  5100.0  3100.0       3600.0   \n",
       "2023-01-05  49950.0  62950.0  56950.0  5250.0  3250.0       3750.0   \n",
       "2023-01-06  50000.0  63000.0  57000.0  5300.0  3300.0       3800.0   \n",
       "\n",
       "            A텔레콤_add_B전자       sum  \n",
       "2023-01-02      108000.0  281500.0  \n",
       "2023-01-03      109500.0  285800.0  \n",
       "2023-01-04      108100.0  281600.0  \n",
       "2023-01-05      112900.0  295000.0  \n",
       "2023-01-06      113000.0  295400.0  "
      ]
     },
     "execution_count": 104,
     "metadata": {},
     "output_type": "execute_result"
    }
   ],
   "source": [
    "concat_df2.fillna(method = 'ffill') # 앞에 있는 값으로 채움"
   ]
  },
  {
   "cell_type": "code",
   "execution_count": 106,
   "id": "d48bfe58-311c-4ccf-8f57-8c1a2565ed42",
   "metadata": {},
   "outputs": [
    {
     "data": {
      "text/html": [
       "<div>\n",
       "<style scoped>\n",
       "    .dataframe tbody tr th:only-of-type {\n",
       "        vertical-align: middle;\n",
       "    }\n",
       "\n",
       "    .dataframe tbody tr th {\n",
       "        vertical-align: top;\n",
       "    }\n",
       "\n",
       "    .dataframe thead th {\n",
       "        text-align: right;\n",
       "    }\n",
       "</style>\n",
       "<table border=\"1\" class=\"dataframe\">\n",
       "  <thead>\n",
       "    <tr style=\"text-align: right;\">\n",
       "      <th></th>\n",
       "      <th>A텔레콤</th>\n",
       "      <th>B전자</th>\n",
       "      <th>C은행</th>\n",
       "      <th>D철강</th>\n",
       "      <th>F화학</th>\n",
       "      <th>F화학_add_500</th>\n",
       "      <th>A텔레콤_add_B전자</th>\n",
       "      <th>sum</th>\n",
       "    </tr>\n",
       "  </thead>\n",
       "  <tbody>\n",
       "    <tr>\n",
       "      <th>2023-01-02</th>\n",
       "      <td>48000.0</td>\n",
       "      <td>60000.0</td>\n",
       "      <td>54000.0</td>\n",
       "      <td>5000.0</td>\n",
       "      <td>3000.0</td>\n",
       "      <td>3500.0</td>\n",
       "      <td>108000.0</td>\n",
       "      <td>281500.0</td>\n",
       "    </tr>\n",
       "    <tr>\n",
       "      <th>2023-01-03</th>\n",
       "      <td>48500.0</td>\n",
       "      <td>61000.0</td>\n",
       "      <td>54100.0</td>\n",
       "      <td>5100.0</td>\n",
       "      <td>3100.0</td>\n",
       "      <td>3600.0</td>\n",
       "      <td>109500.0</td>\n",
       "      <td>285800.0</td>\n",
       "    </tr>\n",
       "    <tr>\n",
       "      <th>2023-01-04</th>\n",
       "      <td>48100.0</td>\n",
       "      <td>60100.0</td>\n",
       "      <td>54100.0</td>\n",
       "      <td>5100.0</td>\n",
       "      <td>3100.0</td>\n",
       "      <td>3600.0</td>\n",
       "      <td>108100.0</td>\n",
       "      <td>281600.0</td>\n",
       "    </tr>\n",
       "    <tr>\n",
       "      <th>2023-01-05</th>\n",
       "      <td>49950.0</td>\n",
       "      <td>62950.0</td>\n",
       "      <td>56950.0</td>\n",
       "      <td>5250.0</td>\n",
       "      <td>3250.0</td>\n",
       "      <td>3750.0</td>\n",
       "      <td>112900.0</td>\n",
       "      <td>295000.0</td>\n",
       "    </tr>\n",
       "    <tr>\n",
       "      <th>2023-01-06</th>\n",
       "      <td>50000.0</td>\n",
       "      <td>63000.0</td>\n",
       "      <td>57000.0</td>\n",
       "      <td>5300.0</td>\n",
       "      <td>3300.0</td>\n",
       "      <td>3800.0</td>\n",
       "      <td>113000.0</td>\n",
       "      <td>295400.0</td>\n",
       "    </tr>\n",
       "  </tbody>\n",
       "</table>\n",
       "</div>"
      ],
      "text/plain": [
       "               A텔레콤      B전자      C은행     D철강     F화학  F화학_add_500  \\\n",
       "2023-01-02  48000.0  60000.0  54000.0  5000.0  3000.0       3500.0   \n",
       "2023-01-03  48500.0  61000.0  54100.0  5100.0  3100.0       3600.0   \n",
       "2023-01-04  48100.0  60100.0  54100.0  5100.0  3100.0       3600.0   \n",
       "2023-01-05  49950.0  62950.0  56950.0  5250.0  3250.0       3750.0   \n",
       "2023-01-06  50000.0  63000.0  57000.0  5300.0  3300.0       3800.0   \n",
       "\n",
       "            A텔레콤_add_B전자       sum  \n",
       "2023-01-02      108000.0  281500.0  \n",
       "2023-01-03      109500.0  285800.0  \n",
       "2023-01-04      108100.0  281600.0  \n",
       "2023-01-05      112900.0  295000.0  \n",
       "2023-01-06      113000.0  295400.0  "
      ]
     },
     "execution_count": 106,
     "metadata": {},
     "output_type": "execute_result"
    }
   ],
   "source": [
    "concat_df2.fillna(method = 'bfill') # 뒤에 있는 값으로 채움"
   ]
  },
  {
   "cell_type": "markdown",
   "id": "e509054e-6a7b-439d-a904-068489a911df",
   "metadata": {},
   "source": [
    "## 중복 제거\n",
    "- drop_duplicates()"
   ]
  },
  {
   "cell_type": "code",
   "execution_count": 108,
   "id": "d21209f0-8d36-4066-be32-e6e147bd8395",
   "metadata": {},
   "outputs": [
    {
     "data": {
      "text/html": [
       "<div>\n",
       "<style scoped>\n",
       "    .dataframe tbody tr th:only-of-type {\n",
       "        vertical-align: middle;\n",
       "    }\n",
       "\n",
       "    .dataframe tbody tr th {\n",
       "        vertical-align: top;\n",
       "    }\n",
       "\n",
       "    .dataframe thead th {\n",
       "        text-align: right;\n",
       "    }\n",
       "</style>\n",
       "<table border=\"1\" class=\"dataframe\">\n",
       "  <thead>\n",
       "    <tr style=\"text-align: right;\">\n",
       "      <th></th>\n",
       "      <th>A텔레콤</th>\n",
       "      <th>B전자</th>\n",
       "      <th>C은행</th>\n",
       "      <th>D철강</th>\n",
       "      <th>F화학</th>\n",
       "      <th>F화학_add_500</th>\n",
       "      <th>A텔레콤_add_B전자</th>\n",
       "      <th>sum</th>\n",
       "    </tr>\n",
       "  </thead>\n",
       "  <tbody>\n",
       "    <tr>\n",
       "      <th>2023-01-02</th>\n",
       "      <td>48000.0</td>\n",
       "      <td>60000.0</td>\n",
       "      <td>54000.0</td>\n",
       "      <td>5000.0</td>\n",
       "      <td>3000.0</td>\n",
       "      <td>3500.0</td>\n",
       "      <td>108000.0</td>\n",
       "      <td>281500.0</td>\n",
       "    </tr>\n",
       "    <tr>\n",
       "      <th>2023-01-03</th>\n",
       "      <td>48500.0</td>\n",
       "      <td>61000.0</td>\n",
       "      <td>NaN</td>\n",
       "      <td>NaN</td>\n",
       "      <td>NaN</td>\n",
       "      <td>3600.0</td>\n",
       "      <td>109500.0</td>\n",
       "      <td>285800.0</td>\n",
       "    </tr>\n",
       "    <tr>\n",
       "      <th>2023-01-04</th>\n",
       "      <td>48100.0</td>\n",
       "      <td>60100.0</td>\n",
       "      <td>54100.0</td>\n",
       "      <td>5100.0</td>\n",
       "      <td>3100.0</td>\n",
       "      <td>3600.0</td>\n",
       "      <td>108100.0</td>\n",
       "      <td>281600.0</td>\n",
       "    </tr>\n",
       "    <tr>\n",
       "      <th>2023-01-05</th>\n",
       "      <td>49950.0</td>\n",
       "      <td>62950.0</td>\n",
       "      <td>56950.0</td>\n",
       "      <td>5250.0</td>\n",
       "      <td>3250.0</td>\n",
       "      <td>3750.0</td>\n",
       "      <td>112900.0</td>\n",
       "      <td>295000.0</td>\n",
       "    </tr>\n",
       "    <tr>\n",
       "      <th>2023-01-06</th>\n",
       "      <td>50000.0</td>\n",
       "      <td>63000.0</td>\n",
       "      <td>57000.0</td>\n",
       "      <td>5300.0</td>\n",
       "      <td>3300.0</td>\n",
       "      <td>3800.0</td>\n",
       "      <td>113000.0</td>\n",
       "      <td>295400.0</td>\n",
       "    </tr>\n",
       "    <tr>\n",
       "      <th>2023-01-02</th>\n",
       "      <td>48000.0</td>\n",
       "      <td>60000.0</td>\n",
       "      <td>54000.0</td>\n",
       "      <td>5000.0</td>\n",
       "      <td>3000.0</td>\n",
       "      <td>3500.0</td>\n",
       "      <td>108000.0</td>\n",
       "      <td>281500.0</td>\n",
       "    </tr>\n",
       "    <tr>\n",
       "      <th>2023-01-03</th>\n",
       "      <td>48500.0</td>\n",
       "      <td>61000.0</td>\n",
       "      <td>NaN</td>\n",
       "      <td>NaN</td>\n",
       "      <td>NaN</td>\n",
       "      <td>3600.0</td>\n",
       "      <td>109500.0</td>\n",
       "      <td>285800.0</td>\n",
       "    </tr>\n",
       "    <tr>\n",
       "      <th>2023-01-04</th>\n",
       "      <td>48100.0</td>\n",
       "      <td>60100.0</td>\n",
       "      <td>54100.0</td>\n",
       "      <td>5100.0</td>\n",
       "      <td>3100.0</td>\n",
       "      <td>3600.0</td>\n",
       "      <td>108100.0</td>\n",
       "      <td>281600.0</td>\n",
       "    </tr>\n",
       "    <tr>\n",
       "      <th>2023-01-05</th>\n",
       "      <td>49950.0</td>\n",
       "      <td>62950.0</td>\n",
       "      <td>56950.0</td>\n",
       "      <td>5250.0</td>\n",
       "      <td>3250.0</td>\n",
       "      <td>3750.0</td>\n",
       "      <td>112900.0</td>\n",
       "      <td>295000.0</td>\n",
       "    </tr>\n",
       "    <tr>\n",
       "      <th>2023-01-06</th>\n",
       "      <td>50000.0</td>\n",
       "      <td>63000.0</td>\n",
       "      <td>57000.0</td>\n",
       "      <td>5300.0</td>\n",
       "      <td>3300.0</td>\n",
       "      <td>3800.0</td>\n",
       "      <td>113000.0</td>\n",
       "      <td>295400.0</td>\n",
       "    </tr>\n",
       "  </tbody>\n",
       "</table>\n",
       "</div>"
      ],
      "text/plain": [
       "               A텔레콤      B전자      C은행     D철강     F화학  F화학_add_500  \\\n",
       "2023-01-02  48000.0  60000.0  54000.0  5000.0  3000.0       3500.0   \n",
       "2023-01-03  48500.0  61000.0      NaN     NaN     NaN       3600.0   \n",
       "2023-01-04  48100.0  60100.0  54100.0  5100.0  3100.0       3600.0   \n",
       "2023-01-05  49950.0  62950.0  56950.0  5250.0  3250.0       3750.0   \n",
       "2023-01-06  50000.0  63000.0  57000.0  5300.0  3300.0       3800.0   \n",
       "2023-01-02  48000.0  60000.0  54000.0  5000.0  3000.0       3500.0   \n",
       "2023-01-03  48500.0  61000.0      NaN     NaN     NaN       3600.0   \n",
       "2023-01-04  48100.0  60100.0  54100.0  5100.0  3100.0       3600.0   \n",
       "2023-01-05  49950.0  62950.0  56950.0  5250.0  3250.0       3750.0   \n",
       "2023-01-06  50000.0  63000.0  57000.0  5300.0  3300.0       3800.0   \n",
       "\n",
       "            A텔레콤_add_B전자       sum  \n",
       "2023-01-02      108000.0  281500.0  \n",
       "2023-01-03      109500.0  285800.0  \n",
       "2023-01-04      108100.0  281600.0  \n",
       "2023-01-05      112900.0  295000.0  \n",
       "2023-01-06      113000.0  295400.0  \n",
       "2023-01-02      108000.0  281500.0  \n",
       "2023-01-03      109500.0  285800.0  \n",
       "2023-01-04      108100.0  281600.0  \n",
       "2023-01-05      112900.0  295000.0  \n",
       "2023-01-06      113000.0  295400.0  "
      ]
     },
     "execution_count": 108,
     "metadata": {},
     "output_type": "execute_result"
    }
   ],
   "source": [
    "# 의도적으로 중복 데이터를 생성\n",
    "concat_df3 = concat_df2.copy()\n",
    "concat4 = pd.concat([concat_df2, concat_df3])\n",
    "concat4"
   ]
  },
  {
   "cell_type": "code",
   "execution_count": 113,
   "id": "bf06cff4-55fc-48e7-9a9b-581c06222fe2",
   "metadata": {},
   "outputs": [
    {
     "data": {
      "text/html": [
       "<div>\n",
       "<style scoped>\n",
       "    .dataframe tbody tr th:only-of-type {\n",
       "        vertical-align: middle;\n",
       "    }\n",
       "\n",
       "    .dataframe tbody tr th {\n",
       "        vertical-align: top;\n",
       "    }\n",
       "\n",
       "    .dataframe thead th {\n",
       "        text-align: right;\n",
       "    }\n",
       "</style>\n",
       "<table border=\"1\" class=\"dataframe\">\n",
       "  <thead>\n",
       "    <tr style=\"text-align: right;\">\n",
       "      <th></th>\n",
       "      <th>A텔레콤</th>\n",
       "      <th>B전자</th>\n",
       "      <th>C은행</th>\n",
       "      <th>D철강</th>\n",
       "      <th>F화학</th>\n",
       "      <th>F화학_add_500</th>\n",
       "      <th>A텔레콤_add_B전자</th>\n",
       "      <th>sum</th>\n",
       "    </tr>\n",
       "  </thead>\n",
       "  <tbody>\n",
       "    <tr>\n",
       "      <th>2023-01-02</th>\n",
       "      <td>48000.0</td>\n",
       "      <td>60000.0</td>\n",
       "      <td>54000.0</td>\n",
       "      <td>5000.0</td>\n",
       "      <td>3000.0</td>\n",
       "      <td>3500.0</td>\n",
       "      <td>108000.0</td>\n",
       "      <td>281500.0</td>\n",
       "    </tr>\n",
       "    <tr>\n",
       "      <th>2023-01-03</th>\n",
       "      <td>48500.0</td>\n",
       "      <td>61000.0</td>\n",
       "      <td>NaN</td>\n",
       "      <td>NaN</td>\n",
       "      <td>NaN</td>\n",
       "      <td>3600.0</td>\n",
       "      <td>109500.0</td>\n",
       "      <td>285800.0</td>\n",
       "    </tr>\n",
       "    <tr>\n",
       "      <th>2023-01-04</th>\n",
       "      <td>48100.0</td>\n",
       "      <td>60100.0</td>\n",
       "      <td>54100.0</td>\n",
       "      <td>5100.0</td>\n",
       "      <td>3100.0</td>\n",
       "      <td>3600.0</td>\n",
       "      <td>108100.0</td>\n",
       "      <td>281600.0</td>\n",
       "    </tr>\n",
       "    <tr>\n",
       "      <th>2023-01-05</th>\n",
       "      <td>49950.0</td>\n",
       "      <td>62950.0</td>\n",
       "      <td>56950.0</td>\n",
       "      <td>5250.0</td>\n",
       "      <td>3250.0</td>\n",
       "      <td>3750.0</td>\n",
       "      <td>112900.0</td>\n",
       "      <td>295000.0</td>\n",
       "    </tr>\n",
       "    <tr>\n",
       "      <th>2023-01-06</th>\n",
       "      <td>50000.0</td>\n",
       "      <td>63000.0</td>\n",
       "      <td>57000.0</td>\n",
       "      <td>5300.0</td>\n",
       "      <td>3300.0</td>\n",
       "      <td>3800.0</td>\n",
       "      <td>113000.0</td>\n",
       "      <td>295400.0</td>\n",
       "    </tr>\n",
       "  </tbody>\n",
       "</table>\n",
       "</div>"
      ],
      "text/plain": [
       "               A텔레콤      B전자      C은행     D철강     F화학  F화학_add_500  \\\n",
       "2023-01-02  48000.0  60000.0  54000.0  5000.0  3000.0       3500.0   \n",
       "2023-01-03  48500.0  61000.0      NaN     NaN     NaN       3600.0   \n",
       "2023-01-04  48100.0  60100.0  54100.0  5100.0  3100.0       3600.0   \n",
       "2023-01-05  49950.0  62950.0  56950.0  5250.0  3250.0       3750.0   \n",
       "2023-01-06  50000.0  63000.0  57000.0  5300.0  3300.0       3800.0   \n",
       "\n",
       "            A텔레콤_add_B전자       sum  \n",
       "2023-01-02      108000.0  281500.0  \n",
       "2023-01-03      109500.0  285800.0  \n",
       "2023-01-04      108100.0  281600.0  \n",
       "2023-01-05      112900.0  295000.0  \n",
       "2023-01-06      113000.0  295400.0  "
      ]
     },
     "execution_count": 113,
     "metadata": {},
     "output_type": "execute_result"
    }
   ],
   "source": [
    "concat5 = concat4.drop_duplicates()\n",
    "concat5"
   ]
  },
  {
   "cell_type": "code",
   "execution_count": 114,
   "id": "5dd7839e-3966-4c04-9700-5c8078ad879c",
   "metadata": {},
   "outputs": [],
   "source": [
    "# 그냥 응용 한번\n",
    "idx = concat4['F화학_add_500'].drop_duplicates().index"
   ]
  },
  {
   "cell_type": "code",
   "execution_count": 115,
   "id": "812a0d83-6623-4d30-aa63-67ec89b49492",
   "metadata": {},
   "outputs": [
    {
     "data": {
      "text/html": [
       "<div>\n",
       "<style scoped>\n",
       "    .dataframe tbody tr th:only-of-type {\n",
       "        vertical-align: middle;\n",
       "    }\n",
       "\n",
       "    .dataframe tbody tr th {\n",
       "        vertical-align: top;\n",
       "    }\n",
       "\n",
       "    .dataframe thead th {\n",
       "        text-align: right;\n",
       "    }\n",
       "</style>\n",
       "<table border=\"1\" class=\"dataframe\">\n",
       "  <thead>\n",
       "    <tr style=\"text-align: right;\">\n",
       "      <th></th>\n",
       "      <th>A텔레콤</th>\n",
       "      <th>B전자</th>\n",
       "      <th>C은행</th>\n",
       "      <th>D철강</th>\n",
       "      <th>F화학</th>\n",
       "      <th>F화학_add_500</th>\n",
       "      <th>A텔레콤_add_B전자</th>\n",
       "      <th>sum</th>\n",
       "    </tr>\n",
       "  </thead>\n",
       "  <tbody>\n",
       "    <tr>\n",
       "      <th>2023-01-02</th>\n",
       "      <td>48000.0</td>\n",
       "      <td>60000.0</td>\n",
       "      <td>54000.0</td>\n",
       "      <td>5000.0</td>\n",
       "      <td>3000.0</td>\n",
       "      <td>3500.0</td>\n",
       "      <td>108000.0</td>\n",
       "      <td>281500.0</td>\n",
       "    </tr>\n",
       "    <tr>\n",
       "      <th>2023-01-03</th>\n",
       "      <td>48500.0</td>\n",
       "      <td>61000.0</td>\n",
       "      <td>NaN</td>\n",
       "      <td>NaN</td>\n",
       "      <td>NaN</td>\n",
       "      <td>3600.0</td>\n",
       "      <td>109500.0</td>\n",
       "      <td>285800.0</td>\n",
       "    </tr>\n",
       "    <tr>\n",
       "      <th>2023-01-05</th>\n",
       "      <td>49950.0</td>\n",
       "      <td>62950.0</td>\n",
       "      <td>56950.0</td>\n",
       "      <td>5250.0</td>\n",
       "      <td>3250.0</td>\n",
       "      <td>3750.0</td>\n",
       "      <td>112900.0</td>\n",
       "      <td>295000.0</td>\n",
       "    </tr>\n",
       "    <tr>\n",
       "      <th>2023-01-06</th>\n",
       "      <td>50000.0</td>\n",
       "      <td>63000.0</td>\n",
       "      <td>57000.0</td>\n",
       "      <td>5300.0</td>\n",
       "      <td>3300.0</td>\n",
       "      <td>3800.0</td>\n",
       "      <td>113000.0</td>\n",
       "      <td>295400.0</td>\n",
       "    </tr>\n",
       "  </tbody>\n",
       "</table>\n",
       "</div>"
      ],
      "text/plain": [
       "               A텔레콤      B전자      C은행     D철강     F화학  F화학_add_500  \\\n",
       "2023-01-02  48000.0  60000.0  54000.0  5000.0  3000.0       3500.0   \n",
       "2023-01-03  48500.0  61000.0      NaN     NaN     NaN       3600.0   \n",
       "2023-01-05  49950.0  62950.0  56950.0  5250.0  3250.0       3750.0   \n",
       "2023-01-06  50000.0  63000.0  57000.0  5300.0  3300.0       3800.0   \n",
       "\n",
       "            A텔레콤_add_B전자       sum  \n",
       "2023-01-02      108000.0  281500.0  \n",
       "2023-01-03      109500.0  285800.0  \n",
       "2023-01-05      112900.0  295000.0  \n",
       "2023-01-06      113000.0  295400.0  "
      ]
     },
     "execution_count": 115,
     "metadata": {},
     "output_type": "execute_result"
    }
   ],
   "source": [
    "concat5.loc[idx,:]"
   ]
  },
  {
   "cell_type": "markdown",
   "id": "6b30aabb-6025-4011-bacc-99718ca7cffa",
   "metadata": {},
   "source": [
    "### [실습]"
   ]
  },
  {
   "cell_type": "markdown",
   "id": "98d6fe18-8e44-46cd-b203-3a3c622da33a",
   "metadata": {},
   "source": [
    "**Q1. 2022-01-01 ~ 2022-12-01 월초 인덱스를 생성**"
   ]
  },
  {
   "cell_type": "code",
   "execution_count": 120,
   "id": "7e1e6814-f159-41f3-8ad4-d90ba39770ac",
   "metadata": {},
   "outputs": [
    {
     "data": {
      "text/plain": [
       "DatetimeIndex(['2022-01-01', '2022-02-01', '2022-03-01', '2022-04-01',\n",
       "               '2022-05-01', '2022-06-01', '2022-07-01', '2022-08-01',\n",
       "               '2022-09-01', '2022-10-01', '2022-11-01', '2022-12-01'],\n",
       "              dtype='datetime64[ns]', freq='MS')"
      ]
     },
     "execution_count": 120,
     "metadata": {},
     "output_type": "execute_result"
    }
   ],
   "source": [
    "dates = pd.date_range('2022-01-01', '2022-12-01', freq = 'MS') \n",
    "dates"
   ]
  },
  {
   "cell_type": "markdown",
   "id": "25309af6-1d62-4eb0-a396-a9eca314ebdd",
   "metadata": {},
   "source": [
    "**Q2. Q1에서 생성한 인덱스를 가지고 데이터프레임 생성(값은 자율, 이때 컬럼이름은 value)**"
   ]
  },
  {
   "cell_type": "code",
   "execution_count": 125,
   "id": "37ceaafe-f3e3-4a73-a243-cf05ba0f7866",
   "metadata": {},
   "outputs": [
    {
     "data": {
      "text/html": [
       "<div>\n",
       "<style scoped>\n",
       "    .dataframe tbody tr th:only-of-type {\n",
       "        vertical-align: middle;\n",
       "    }\n",
       "\n",
       "    .dataframe tbody tr th {\n",
       "        vertical-align: top;\n",
       "    }\n",
       "\n",
       "    .dataframe thead th {\n",
       "        text-align: right;\n",
       "    }\n",
       "</style>\n",
       "<table border=\"1\" class=\"dataframe\">\n",
       "  <thead>\n",
       "    <tr style=\"text-align: right;\">\n",
       "      <th></th>\n",
       "      <th>value</th>\n",
       "    </tr>\n",
       "  </thead>\n",
       "  <tbody>\n",
       "    <tr>\n",
       "      <th>2022-01-01</th>\n",
       "      <td>0.000000</td>\n",
       "    </tr>\n",
       "    <tr>\n",
       "      <th>2022-02-01</th>\n",
       "      <td>90.909091</td>\n",
       "    </tr>\n",
       "    <tr>\n",
       "      <th>2022-03-01</th>\n",
       "      <td>181.818182</td>\n",
       "    </tr>\n",
       "    <tr>\n",
       "      <th>2022-04-01</th>\n",
       "      <td>272.727273</td>\n",
       "    </tr>\n",
       "    <tr>\n",
       "      <th>2022-05-01</th>\n",
       "      <td>363.636364</td>\n",
       "    </tr>\n",
       "    <tr>\n",
       "      <th>2022-06-01</th>\n",
       "      <td>454.545455</td>\n",
       "    </tr>\n",
       "    <tr>\n",
       "      <th>2022-07-01</th>\n",
       "      <td>545.454545</td>\n",
       "    </tr>\n",
       "    <tr>\n",
       "      <th>2022-08-01</th>\n",
       "      <td>636.363636</td>\n",
       "    </tr>\n",
       "    <tr>\n",
       "      <th>2022-09-01</th>\n",
       "      <td>727.272727</td>\n",
       "    </tr>\n",
       "    <tr>\n",
       "      <th>2022-10-01</th>\n",
       "      <td>818.181818</td>\n",
       "    </tr>\n",
       "    <tr>\n",
       "      <th>2022-11-01</th>\n",
       "      <td>909.090909</td>\n",
       "    </tr>\n",
       "    <tr>\n",
       "      <th>2022-12-01</th>\n",
       "      <td>1000.000000</td>\n",
       "    </tr>\n",
       "  </tbody>\n",
       "</table>\n",
       "</div>"
      ],
      "text/plain": [
       "                  value\n",
       "2022-01-01     0.000000\n",
       "2022-02-01    90.909091\n",
       "2022-03-01   181.818182\n",
       "2022-04-01   272.727273\n",
       "2022-05-01   363.636364\n",
       "2022-06-01   454.545455\n",
       "2022-07-01   545.454545\n",
       "2022-08-01   636.363636\n",
       "2022-09-01   727.272727\n",
       "2022-10-01   818.181818\n",
       "2022-11-01   909.090909\n",
       "2022-12-01  1000.000000"
      ]
     },
     "execution_count": 125,
     "metadata": {},
     "output_type": "execute_result"
    }
   ],
   "source": [
    "values = np.linspace(0,1000,12)\n",
    "df = pd.DataFrame(values, index = dates)\n",
    "\n",
    "# 컬럼명 바꾸기 - 많은 컬럼 바꿀때는 columns가 유리, 몇개만 바꾸면 rename\n",
    "df.columns = ['value'] # df.rename(columns = {0:'value'}, inplace = True)\n",
    "df"
   ]
  },
  {
   "cell_type": "markdown",
   "id": "dd957a61-636f-4a57-818c-96aed15c7f72",
   "metadata": {},
   "source": [
    "**Q3. value 칼럼에서 100을 더한  value_add_100 칼럼을 생성해주세요.**"
   ]
  },
  {
   "cell_type": "code",
   "execution_count": 126,
   "id": "389948a9-0d8c-422c-8a59-dde10f151ea6",
   "metadata": {},
   "outputs": [
    {
     "data": {
      "text/html": [
       "<div>\n",
       "<style scoped>\n",
       "    .dataframe tbody tr th:only-of-type {\n",
       "        vertical-align: middle;\n",
       "    }\n",
       "\n",
       "    .dataframe tbody tr th {\n",
       "        vertical-align: top;\n",
       "    }\n",
       "\n",
       "    .dataframe thead th {\n",
       "        text-align: right;\n",
       "    }\n",
       "</style>\n",
       "<table border=\"1\" class=\"dataframe\">\n",
       "  <thead>\n",
       "    <tr style=\"text-align: right;\">\n",
       "      <th></th>\n",
       "      <th>value</th>\n",
       "      <th>value_add_100</th>\n",
       "    </tr>\n",
       "  </thead>\n",
       "  <tbody>\n",
       "    <tr>\n",
       "      <th>2022-01-01</th>\n",
       "      <td>0.000000</td>\n",
       "      <td>100.000000</td>\n",
       "    </tr>\n",
       "    <tr>\n",
       "      <th>2022-02-01</th>\n",
       "      <td>90.909091</td>\n",
       "      <td>190.909091</td>\n",
       "    </tr>\n",
       "    <tr>\n",
       "      <th>2022-03-01</th>\n",
       "      <td>181.818182</td>\n",
       "      <td>281.818182</td>\n",
       "    </tr>\n",
       "    <tr>\n",
       "      <th>2022-04-01</th>\n",
       "      <td>272.727273</td>\n",
       "      <td>372.727273</td>\n",
       "    </tr>\n",
       "    <tr>\n",
       "      <th>2022-05-01</th>\n",
       "      <td>363.636364</td>\n",
       "      <td>463.636364</td>\n",
       "    </tr>\n",
       "    <tr>\n",
       "      <th>2022-06-01</th>\n",
       "      <td>454.545455</td>\n",
       "      <td>554.545455</td>\n",
       "    </tr>\n",
       "    <tr>\n",
       "      <th>2022-07-01</th>\n",
       "      <td>545.454545</td>\n",
       "      <td>645.454545</td>\n",
       "    </tr>\n",
       "    <tr>\n",
       "      <th>2022-08-01</th>\n",
       "      <td>636.363636</td>\n",
       "      <td>736.363636</td>\n",
       "    </tr>\n",
       "    <tr>\n",
       "      <th>2022-09-01</th>\n",
       "      <td>727.272727</td>\n",
       "      <td>827.272727</td>\n",
       "    </tr>\n",
       "    <tr>\n",
       "      <th>2022-10-01</th>\n",
       "      <td>818.181818</td>\n",
       "      <td>918.181818</td>\n",
       "    </tr>\n",
       "    <tr>\n",
       "      <th>2022-11-01</th>\n",
       "      <td>909.090909</td>\n",
       "      <td>1009.090909</td>\n",
       "    </tr>\n",
       "    <tr>\n",
       "      <th>2022-12-01</th>\n",
       "      <td>1000.000000</td>\n",
       "      <td>1100.000000</td>\n",
       "    </tr>\n",
       "  </tbody>\n",
       "</table>\n",
       "</div>"
      ],
      "text/plain": [
       "                  value  value_add_100\n",
       "2022-01-01     0.000000     100.000000\n",
       "2022-02-01    90.909091     190.909091\n",
       "2022-03-01   181.818182     281.818182\n",
       "2022-04-01   272.727273     372.727273\n",
       "2022-05-01   363.636364     463.636364\n",
       "2022-06-01   454.545455     554.545455\n",
       "2022-07-01   545.454545     645.454545\n",
       "2022-08-01   636.363636     736.363636\n",
       "2022-09-01   727.272727     827.272727\n",
       "2022-10-01   818.181818     918.181818\n",
       "2022-11-01   909.090909    1009.090909\n",
       "2022-12-01  1000.000000    1100.000000"
      ]
     },
     "execution_count": 126,
     "metadata": {},
     "output_type": "execute_result"
    }
   ],
   "source": [
    "df['value_add_100'] = df['value'] + 100\n",
    "df"
   ]
  },
  {
   "cell_type": "markdown",
   "id": "1c358f79-e0f4-4b04-beb9-70e277f73c82",
   "metadata": {},
   "source": [
    "**Q4. value 칼럼과 value_add_100 칼럼을 평균한 mean 칼럼을 생성해주세요.**"
   ]
  },
  {
   "cell_type": "code",
   "execution_count": 127,
   "id": "ada432a8-841f-4d4b-8ec2-17942cb932f9",
   "metadata": {},
   "outputs": [
    {
     "data": {
      "text/html": [
       "<div>\n",
       "<style scoped>\n",
       "    .dataframe tbody tr th:only-of-type {\n",
       "        vertical-align: middle;\n",
       "    }\n",
       "\n",
       "    .dataframe tbody tr th {\n",
       "        vertical-align: top;\n",
       "    }\n",
       "\n",
       "    .dataframe thead th {\n",
       "        text-align: right;\n",
       "    }\n",
       "</style>\n",
       "<table border=\"1\" class=\"dataframe\">\n",
       "  <thead>\n",
       "    <tr style=\"text-align: right;\">\n",
       "      <th></th>\n",
       "      <th>value</th>\n",
       "      <th>value_add_100</th>\n",
       "      <th>mean</th>\n",
       "    </tr>\n",
       "  </thead>\n",
       "  <tbody>\n",
       "    <tr>\n",
       "      <th>2022-01-01</th>\n",
       "      <td>0.000000</td>\n",
       "      <td>100.000000</td>\n",
       "      <td>50.000000</td>\n",
       "    </tr>\n",
       "    <tr>\n",
       "      <th>2022-02-01</th>\n",
       "      <td>90.909091</td>\n",
       "      <td>190.909091</td>\n",
       "      <td>140.909091</td>\n",
       "    </tr>\n",
       "    <tr>\n",
       "      <th>2022-03-01</th>\n",
       "      <td>181.818182</td>\n",
       "      <td>281.818182</td>\n",
       "      <td>231.818182</td>\n",
       "    </tr>\n",
       "    <tr>\n",
       "      <th>2022-04-01</th>\n",
       "      <td>272.727273</td>\n",
       "      <td>372.727273</td>\n",
       "      <td>322.727273</td>\n",
       "    </tr>\n",
       "    <tr>\n",
       "      <th>2022-05-01</th>\n",
       "      <td>363.636364</td>\n",
       "      <td>463.636364</td>\n",
       "      <td>413.636364</td>\n",
       "    </tr>\n",
       "    <tr>\n",
       "      <th>2022-06-01</th>\n",
       "      <td>454.545455</td>\n",
       "      <td>554.545455</td>\n",
       "      <td>504.545455</td>\n",
       "    </tr>\n",
       "    <tr>\n",
       "      <th>2022-07-01</th>\n",
       "      <td>545.454545</td>\n",
       "      <td>645.454545</td>\n",
       "      <td>595.454545</td>\n",
       "    </tr>\n",
       "    <tr>\n",
       "      <th>2022-08-01</th>\n",
       "      <td>636.363636</td>\n",
       "      <td>736.363636</td>\n",
       "      <td>686.363636</td>\n",
       "    </tr>\n",
       "    <tr>\n",
       "      <th>2022-09-01</th>\n",
       "      <td>727.272727</td>\n",
       "      <td>827.272727</td>\n",
       "      <td>777.272727</td>\n",
       "    </tr>\n",
       "    <tr>\n",
       "      <th>2022-10-01</th>\n",
       "      <td>818.181818</td>\n",
       "      <td>918.181818</td>\n",
       "      <td>868.181818</td>\n",
       "    </tr>\n",
       "    <tr>\n",
       "      <th>2022-11-01</th>\n",
       "      <td>909.090909</td>\n",
       "      <td>1009.090909</td>\n",
       "      <td>959.090909</td>\n",
       "    </tr>\n",
       "    <tr>\n",
       "      <th>2022-12-01</th>\n",
       "      <td>1000.000000</td>\n",
       "      <td>1100.000000</td>\n",
       "      <td>1050.000000</td>\n",
       "    </tr>\n",
       "  </tbody>\n",
       "</table>\n",
       "</div>"
      ],
      "text/plain": [
       "                  value  value_add_100         mean\n",
       "2022-01-01     0.000000     100.000000    50.000000\n",
       "2022-02-01    90.909091     190.909091   140.909091\n",
       "2022-03-01   181.818182     281.818182   231.818182\n",
       "2022-04-01   272.727273     372.727273   322.727273\n",
       "2022-05-01   363.636364     463.636364   413.636364\n",
       "2022-06-01   454.545455     554.545455   504.545455\n",
       "2022-07-01   545.454545     645.454545   595.454545\n",
       "2022-08-01   636.363636     736.363636   686.363636\n",
       "2022-09-01   727.272727     827.272727   777.272727\n",
       "2022-10-01   818.181818     918.181818   868.181818\n",
       "2022-11-01   909.090909    1009.090909   959.090909\n",
       "2022-12-01  1000.000000    1100.000000  1050.000000"
      ]
     },
     "execution_count": 127,
     "metadata": {},
     "output_type": "execute_result"
    }
   ],
   "source": [
    "df['mean'] = df.mean(axis = 1)\n",
    "df"
   ]
  },
  {
   "cell_type": "markdown",
   "id": "5a0c8b7d-f6a2-4134-bd5a-781f32ddfa86",
   "metadata": {},
   "source": [
    "$log(n)$"
   ]
  },
  {
   "cell_type": "code",
   "execution_count": null,
   "id": "5a4f8f7f-15ac-4ff1-b6be-65b10fd171cd",
   "metadata": {},
   "outputs": [],
   "source": []
  },
  {
   "cell_type": "code",
   "execution_count": null,
   "id": "f37c710e-f4d4-4f83-910c-8547f8ed9374",
   "metadata": {},
   "outputs": [],
   "source": []
  }
 ],
 "metadata": {
  "kernelspec": {
   "display_name": "Python 3 (ipykernel)",
   "language": "python",
   "name": "python3"
  },
  "language_info": {
   "codemirror_mode": {
    "name": "ipython",
    "version": 3
   },
   "file_extension": ".py",
   "mimetype": "text/x-python",
   "name": "python",
   "nbconvert_exporter": "python",
   "pygments_lexer": "ipython3",
   "version": "3.9.13"
  }
 },
 "nbformat": 4,
 "nbformat_minor": 5
}
