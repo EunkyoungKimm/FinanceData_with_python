{
 "cells": [
  {
   "cell_type": "markdown",
   "id": "0428a83e-9094-40e1-b48e-37a21f4d2a21",
   "metadata": {},
   "source": [
    "# Numpy"
   ]
  },
  {
   "cell_type": "markdown",
   "id": "9913a540-334a-4ad4-9bca-083250cb6161",
   "metadata": {},
   "source": [
    "## import 하기"
   ]
  },
  {
   "cell_type": "code",
   "execution_count": 1,
   "id": "e01d7177-7650-431d-a5c3-1ecc631026e6",
   "metadata": {},
   "outputs": [],
   "source": [
    "import numpy as np"
   ]
  },
  {
   "cell_type": "markdown",
   "id": "6e014e1f-2ed9-468c-bfb9-d351777fda07",
   "metadata": {},
   "source": [
    "## array 생성하기\n",
    "- 중괄호 갯수 = 차원 수"
   ]
  },
  {
   "cell_type": "code",
   "execution_count": 3,
   "id": "12ca0fa9-6948-457c-aa35-23a138c7cd52",
   "metadata": {},
   "outputs": [
    {
     "name": "stdout",
     "output_type": "stream",
     "text": [
      "[1 2 3]\n",
      "(3,)\n"
     ]
    }
   ],
   "source": [
    "array_1D = np.array([1,2,3])\n",
    "print(array_1D)\n",
    "print(array_1D.shape)"
   ]
  },
  {
   "cell_type": "code",
   "execution_count": 4,
   "id": "adcae4ea-f5a1-4988-b06b-b30cfe9275c5",
   "metadata": {},
   "outputs": [
    {
     "name": "stdout",
     "output_type": "stream",
     "text": [
      "[[1 2 3]\n",
      " [4 5 6]]\n",
      "(2, 3)\n"
     ]
    }
   ],
   "source": [
    "array_2D = np.array([[1,2,3],\n",
    "                     [4,5,6]])\n",
    "print(array_2D)\n",
    "print(array_2D.shape)"
   ]
  },
  {
   "cell_type": "code",
   "execution_count": 5,
   "id": "8ad91c67-a6a9-490e-a828-e2b97c6118ec",
   "metadata": {},
   "outputs": [
    {
     "name": "stdout",
     "output_type": "stream",
     "text": [
      "[[[1 2 3]\n",
      "  [4 5 6]\n",
      "  [1 2 3]\n",
      "  [4 5 6]]]\n",
      "(1, 4, 3)\n"
     ]
    }
   ],
   "source": [
    "array_3D = np.array([[[1,2,3], \n",
    "                     [4,5,6],\n",
    "                     [1,2,3],\n",
    "                     [4,5,6]]])\n",
    "print(array_3D)\n",
    "print(array_3D.shape) # 1차원이 3개 들어간 3차원"
   ]
  },
  {
   "cell_type": "code",
   "execution_count": 6,
   "id": "78cb64bc-c339-4378-adbf-2c55ab2916ca",
   "metadata": {},
   "outputs": [
    {
     "name": "stdout",
     "output_type": "stream",
     "text": [
      "[[[1 2 3]\n",
      "  [4 5 6]]\n",
      "\n",
      " [[1 2 3]\n",
      "  [4 5 6]]]\n",
      "(2, 2, 3)\n"
     ]
    }
   ],
   "source": [
    "array_3D = np.array([[[1,2,3], \n",
    "                     [4,5,6]],\n",
    "                     [[1,2,3],\n",
    "                     [4,5,6]]])\n",
    "print(array_3D)\n",
    "print(array_3D.shape) # 2차원이 2개 들어간 3차원"
   ]
  },
  {
   "cell_type": "markdown",
   "id": "df112369-3c42-4f7e-93da-f8757a7d467d",
   "metadata": {},
   "source": [
    "## 인덱싱하기"
   ]
  },
  {
   "cell_type": "code",
   "execution_count": 7,
   "id": "b73b0a70-7604-45ec-a548-573c8e7c2061",
   "metadata": {},
   "outputs": [
    {
     "data": {
      "text/plain": [
       "array([1, 2, 3])"
      ]
     },
     "execution_count": 7,
     "metadata": {},
     "output_type": "execute_result"
    }
   ],
   "source": [
    "# array_2D : shape (2,3)\n",
    "array_2D[0]"
   ]
  },
  {
   "cell_type": "code",
   "execution_count": 8,
   "id": "6f5d7930-d9d7-4270-9291-5ae2525c0609",
   "metadata": {},
   "outputs": [
    {
     "data": {
      "text/plain": [
       "array([4, 5, 6])"
      ]
     },
     "execution_count": 8,
     "metadata": {},
     "output_type": "execute_result"
    }
   ],
   "source": [
    "array_2D[1]"
   ]
  },
  {
   "cell_type": "code",
   "execution_count": 9,
   "id": "6008c813-4837-43db-92c0-f4579e1f8a2a",
   "metadata": {},
   "outputs": [
    {
     "data": {
      "text/plain": [
       "5"
      ]
     },
     "execution_count": 9,
     "metadata": {},
     "output_type": "execute_result"
    }
   ],
   "source": [
    "array_2D[1][1]"
   ]
  },
  {
   "cell_type": "code",
   "execution_count": 10,
   "id": "095f5ff7-6a28-46db-a3f3-41660871972b",
   "metadata": {
    "tags": []
   },
   "outputs": [
    {
     "data": {
      "text/plain": [
       "array([4, 5, 6])"
      ]
     },
     "execution_count": 10,
     "metadata": {},
     "output_type": "execute_result"
    }
   ],
   "source": [
    "# array_3D : shape (2,2,3)\n",
    "array_3D[0][1]"
   ]
  },
  {
   "cell_type": "markdown",
   "id": "29020d86-0e97-4552-ab17-06f2ee1f9e91",
   "metadata": {},
   "source": [
    "## 기초 통계량 활용"
   ]
  },
  {
   "cell_type": "code",
   "execution_count": 11,
   "id": "a3370a52-a13b-445c-8d21-c513b8efafc1",
   "metadata": {},
   "outputs": [
    {
     "data": {
      "text/plain": [
       "6"
      ]
     },
     "execution_count": 11,
     "metadata": {},
     "output_type": "execute_result"
    }
   ],
   "source": [
    "array_1D.sum()"
   ]
  },
  {
   "cell_type": "code",
   "execution_count": 12,
   "id": "33bbdb51-c217-41d3-883b-4cd704fd4a91",
   "metadata": {},
   "outputs": [
    {
     "data": {
      "text/plain": [
       "array([[1, 2, 3],\n",
       "       [4, 5, 6]])"
      ]
     },
     "execution_count": 12,
     "metadata": {},
     "output_type": "execute_result"
    }
   ],
   "source": [
    "array_2D"
   ]
  },
  {
   "cell_type": "code",
   "execution_count": 13,
   "id": "8b38707d-1f21-430e-91aa-b7a7ddd77aba",
   "metadata": {},
   "outputs": [
    {
     "data": {
      "text/plain": [
       "6"
      ]
     },
     "execution_count": 13,
     "metadata": {},
     "output_type": "execute_result"
    }
   ],
   "source": [
    "array_2D.max()"
   ]
  },
  {
   "cell_type": "code",
   "execution_count": 14,
   "id": "ea284a65-a91b-4709-883b-4166eb0d192a",
   "metadata": {},
   "outputs": [
    {
     "data": {
      "text/plain": [
       "3.5"
      ]
     },
     "execution_count": 14,
     "metadata": {},
     "output_type": "execute_result"
    }
   ],
   "source": [
    "array_2D.mean()"
   ]
  },
  {
   "cell_type": "code",
   "execution_count": 15,
   "id": "21e7ae59-1131-4f35-8b6e-2e80ae118918",
   "metadata": {},
   "outputs": [
    {
     "data": {
      "text/plain": [
       "1"
      ]
     },
     "execution_count": 15,
     "metadata": {},
     "output_type": "execute_result"
    }
   ],
   "source": [
    "array_2D.min()"
   ]
  },
  {
   "cell_type": "code",
   "execution_count": 16,
   "id": "6f149d95-b9a1-4acb-b216-74fdbd94079d",
   "metadata": {},
   "outputs": [
    {
     "data": {
      "text/plain": [
       "21"
      ]
     },
     "execution_count": 16,
     "metadata": {},
     "output_type": "execute_result"
    }
   ],
   "source": [
    "array_2D.sum()"
   ]
  },
  {
   "cell_type": "markdown",
   "id": "92cdf7ab-6b08-49a3-a8fd-52e524bab152",
   "metadata": {},
   "source": [
    "## 모양 변경하기\n",
    "- 보통은 pandas에서 많이 함.\n",
    "- 딥러닝으로 넘어가고, tensorflow, PyTorch에 데이터를 넣어줄 때, 데이터 모양을 numpy로 reshape해서 넣어줘야 함."
   ]
  },
  {
   "cell_type": "code",
   "execution_count": 18,
   "id": "6361fd47-e65e-4661-88b3-a00955a319a7",
   "metadata": {},
   "outputs": [
    {
     "name": "stdout",
     "output_type": "stream",
     "text": [
      "[ 0  1  2  3  4  5  6  7  8  9 10 11 12 13 14]\n",
      "(15,)\n"
     ]
    }
   ],
   "source": [
    "array = np.arange(15)\n",
    "print(array)\n",
    "print(array.shape) # 15"
   ]
  },
  {
   "cell_type": "code",
   "execution_count": 24,
   "id": "815f1100-fe2f-4f4a-b0aa-5ebd94499c0d",
   "metadata": {},
   "outputs": [
    {
     "name": "stdout",
     "output_type": "stream",
     "text": [
      "[[ 0  1  2  3  4]\n",
      " [ 5  6  7  8  9]\n",
      " [10 11 12 13 14]]\n",
      "(3, 5)\n",
      "15\n"
     ]
    }
   ],
   "source": [
    "reshape_array = array.reshape(3, 5)\n",
    "print(reshape_array)\n",
    "print(reshape_array.shape)\n",
    "print(reshape_array.size)"
   ]
  },
  {
   "cell_type": "code",
   "execution_count": 22,
   "id": "f4e8cc57-0dd3-49b6-a72b-a0e59f6c163a",
   "metadata": {},
   "outputs": [
    {
     "data": {
      "text/plain": [
       "array([[ 0,  1,  2,  3,  4,  5,  6,  7,  8,  9, 10, 11, 12, 13, 14]])"
      ]
     },
     "execution_count": 22,
     "metadata": {},
     "output_type": "execute_result"
    }
   ],
   "source": [
    "array.reshape(1,15) # 2차원으로 변경됨!"
   ]
  },
  {
   "cell_type": "code",
   "execution_count": 23,
   "id": "fb2e1a03-02fd-4104-b636-32cd260cc4f7",
   "metadata": {},
   "outputs": [
    {
     "data": {
      "text/plain": [
       "2"
      ]
     },
     "execution_count": 23,
     "metadata": {},
     "output_type": "execute_result"
    }
   ],
   "source": [
    "array.reshape(1,15).ndim"
   ]
  },
  {
   "cell_type": "code",
   "execution_count": 25,
   "id": "ba9efdec-a82a-4e85-8698-49b6c3de30db",
   "metadata": {},
   "outputs": [
    {
     "data": {
      "text/plain": [
       "1"
      ]
     },
     "execution_count": 25,
     "metadata": {},
     "output_type": "execute_result"
    }
   ],
   "source": [
    "array.ndim"
   ]
  },
  {
   "cell_type": "code",
   "execution_count": null,
   "id": "479cad4a-09f2-47de-9de9-f0e616abf8dd",
   "metadata": {},
   "outputs": [],
   "source": []
  },
  {
   "cell_type": "code",
   "execution_count": 28,
   "id": "b4036d85-b10b-4d97-a308-4bb0de99d3c0",
   "metadata": {},
   "outputs": [
    {
     "name": "stdout",
     "output_type": "stream",
     "text": [
      "[ 0  5 10 15 20 25 30 35 40 45 50 55 60 65 70 75 80 85 90 95]\n",
      "20\n",
      "(20,)\n"
     ]
    }
   ],
   "source": [
    "array_1D = np.arange(0, 100, 5)\n",
    "print(array_1D)\n",
    "print(array_1D.size)\n",
    "print(array_1D.shape)"
   ]
  },
  {
   "cell_type": "code",
   "execution_count": 30,
   "id": "03667ad3-d003-499f-980b-69a894526626",
   "metadata": {},
   "outputs": [
    {
     "data": {
      "text/plain": [
       "array([[[ 0,  5, 10, 15, 20],\n",
       "        [25, 30, 35, 40, 45]],\n",
       "\n",
       "       [[50, 55, 60, 65, 70],\n",
       "        [75, 80, 85, 90, 95]]])"
      ]
     },
     "execution_count": 30,
     "metadata": {},
     "output_type": "execute_result"
    }
   ],
   "source": [
    "reshape_array_3D = array_1D.reshape(2,2,5)\n",
    "reshape_array_3D"
   ]
  },
  {
   "cell_type": "code",
   "execution_count": 31,
   "id": "d16135e1-34fc-4325-a2b5-3897a4710260",
   "metadata": {},
   "outputs": [
    {
     "name": "stdout",
     "output_type": "stream",
     "text": [
      "20\n",
      "(2, 2, 5)\n",
      "3\n"
     ]
    }
   ],
   "source": [
    "print(reshape_array_3D.size)\n",
    "print(reshape_array_3D.shape)\n",
    "print(reshape_array_3D.ndim)"
   ]
  },
  {
   "cell_type": "markdown",
   "id": "125d3fa6-1fd2-41f3-a6fd-b91c57f7ad62",
   "metadata": {},
   "source": [
    "## numpy array operation\n",
    "- for문 돌리지 않아도 연산을 한꺼번에 할 수 있다."
   ]
  },
  {
   "cell_type": "code",
   "execution_count": 32,
   "id": "9673498d-e0dc-41b2-894e-91aff0f4673b",
   "metadata": {},
   "outputs": [],
   "source": [
    "data = [1,2,3]"
   ]
  },
  {
   "cell_type": "code",
   "execution_count": 33,
   "id": "703a2ff1-312c-4d48-8aab-95e55f463d2f",
   "metadata": {},
   "outputs": [
    {
     "ename": "AttributeError",
     "evalue": "'list' object has no attribute 'sum'",
     "output_type": "error",
     "traceback": [
      "\u001b[1;31m---------------------------------------------------------------------------\u001b[0m",
      "\u001b[1;31mAttributeError\u001b[0m                            Traceback (most recent call last)",
      "\u001b[1;32m~\\AppData\\Local\\Temp\\ipykernel_7608\\1263598667.py\u001b[0m in \u001b[0;36m<module>\u001b[1;34m\u001b[0m\n\u001b[1;32m----> 1\u001b[1;33m \u001b[0mdata\u001b[0m\u001b[1;33m.\u001b[0m\u001b[0msum\u001b[0m\u001b[1;33m(\u001b[0m\u001b[1;33m)\u001b[0m\u001b[1;33m\u001b[0m\u001b[1;33m\u001b[0m\u001b[0m\n\u001b[0m",
      "\u001b[1;31mAttributeError\u001b[0m: 'list' object has no attribute 'sum'"
     ]
    }
   ],
   "source": [
    "data.sum()"
   ]
  },
  {
   "cell_type": "code",
   "execution_count": null,
   "id": "b06d2a57-a24b-4be5-85ec-63ed387beb64",
   "metadata": {},
   "outputs": [],
   "source": [
    "# numpy, scala 연산"
   ]
  },
  {
   "cell_type": "code",
   "execution_count": 34,
   "id": "7a024837-a257-4b0c-94f0-63a7b1b54cb9",
   "metadata": {},
   "outputs": [
    {
     "data": {
      "text/plain": [
       "array([10, 20, 30])"
      ]
     },
     "execution_count": 34,
     "metadata": {},
     "output_type": "execute_result"
    }
   ],
   "source": [
    "np.array(data) * 10 # numpy array로 바꿔주면 한꺼번에 계산 가능"
   ]
  },
  {
   "cell_type": "code",
   "execution_count": null,
   "id": "15879950-fbc1-4467-aac4-3c9f4b88e660",
   "metadata": {},
   "outputs": [],
   "source": []
  },
  {
   "cell_type": "code",
   "execution_count": null,
   "id": "006b7c57-834b-4523-a3ac-6ff4edbabcd2",
   "metadata": {},
   "outputs": [],
   "source": [
    "# numpy끼리 연산"
   ]
  },
  {
   "cell_type": "code",
   "execution_count": 35,
   "id": "97e502e9-0743-439d-82e0-ce2fa9b65874",
   "metadata": {},
   "outputs": [],
   "source": [
    "array1 = np.array([[1,0],\n",
    "                   [0,1]])\n",
    "array2 = np.array([[1,2],\n",
    "                   [3,4]])"
   ]
  },
  {
   "cell_type": "code",
   "execution_count": 36,
   "id": "3dea6fc2-8646-40d0-bb98-66cd835e66ae",
   "metadata": {},
   "outputs": [
    {
     "name": "stdout",
     "output_type": "stream",
     "text": [
      "[[2 2]\n",
      " [3 5]]\n",
      "[[ 0 -2]\n",
      " [-3 -3]]\n",
      "[[1 0]\n",
      " [0 4]]\n",
      "[[1.   0.  ]\n",
      " [0.   0.25]]\n"
     ]
    }
   ],
   "source": [
    "print(array1 + array2)\n",
    "print(array1 - array2)\n",
    "print(array1 * array2)\n",
    "print(array1 / array2)"
   ]
  },
  {
   "cell_type": "code",
   "execution_count": null,
   "id": "2113fb7b-db4c-483a-8ff7-df65521def61",
   "metadata": {},
   "outputs": [],
   "source": []
  },
  {
   "cell_type": "code",
   "execution_count": 37,
   "id": "ee47c150-2917-4db9-9e5f-12e36c927c92",
   "metadata": {},
   "outputs": [
    {
     "data": {
      "text/plain": [
       "array([[1, 2],\n",
       "       [3, 4]])"
      ]
     },
     "execution_count": 37,
     "metadata": {},
     "output_type": "execute_result"
    }
   ],
   "source": [
    "np.dot(array1, array2) # 행렬 곱 연산 > array1이 항등행렬이라서 값이 array2와 똑같이 나옴"
   ]
  },
  {
   "cell_type": "markdown",
   "id": "8b9b5f10-7ee3-4d27-85cf-006b950d25b9",
   "metadata": {},
   "source": [
    "## 다차원 연산"
   ]
  },
  {
   "cell_type": "code",
   "execution_count": 41,
   "id": "64768636-1c08-484a-b147-b0e29ac39209",
   "metadata": {},
   "outputs": [
    {
     "data": {
      "text/plain": [
       "array([[ 1,  2,  3,  4],\n",
       "       [ 5,  6,  7,  8],\n",
       "       [ 9, 10, 11, 12]])"
      ]
     },
     "execution_count": 41,
     "metadata": {},
     "output_type": "execute_result"
    }
   ],
   "source": [
    "n3 = np.arange(1,13).reshape(3,4)\n",
    "n3"
   ]
  },
  {
   "cell_type": "code",
   "execution_count": 42,
   "id": "c3771338-d581-42c4-81e8-2c3babac3f04",
   "metadata": {},
   "outputs": [
    {
     "name": "stdout",
     "output_type": "stream",
     "text": [
      "3.452052529534663\n",
      "11.916666666666666\n",
      "[ 1  3  6 10 15 21 28 36 45 55 66 78]\n",
      "[        1         2         6        24       120       720      5040\n",
      "     40320    362880   3628800  39916800 479001600]\n"
     ]
    }
   ],
   "source": [
    "print(n3.std()) # 표준편차\n",
    "print(n3.var()) # 분산\n",
    "print(n3.cumsum()) # 누적합\n",
    "print(n3.cumprod()) # 누적곱"
   ]
  },
  {
   "cell_type": "code",
   "execution_count": 43,
   "id": "b4668ea0-58ff-445f-bef9-8238de81c320",
   "metadata": {},
   "outputs": [
    {
     "data": {
      "text/plain": [
       "78"
      ]
     },
     "execution_count": 43,
     "metadata": {},
     "output_type": "execute_result"
    }
   ],
   "source": [
    "n3.sum()"
   ]
  },
  {
   "cell_type": "code",
   "execution_count": null,
   "id": "bafc9ba7-ef58-49f3-9e2e-e5bae08d5162",
   "metadata": {},
   "outputs": [],
   "source": [
    "# 축의 방향"
   ]
  },
  {
   "cell_type": "code",
   "execution_count": 44,
   "id": "c4b5006d-e043-4b21-81ab-c6399854499e",
   "metadata": {},
   "outputs": [
    {
     "data": {
      "text/plain": [
       "array([15, 18, 21, 24])"
      ]
     },
     "execution_count": 44,
     "metadata": {},
     "output_type": "execute_result"
    }
   ],
   "source": [
    "n3.sum(axis = 0) # column 방향으로 합 구함"
   ]
  },
  {
   "cell_type": "code",
   "execution_count": 45,
   "id": "b0554dd9-544a-4c05-805f-0a0ad709f014",
   "metadata": {},
   "outputs": [
    {
     "data": {
      "text/plain": [
       "array([10, 26, 42])"
      ]
     },
     "execution_count": 45,
     "metadata": {},
     "output_type": "execute_result"
    }
   ],
   "source": [
    "n3.sum(axis = 1) # row 방향 합"
   ]
  },
  {
   "cell_type": "code",
   "execution_count": 46,
   "id": "f31f8cff-d50c-478c-922c-d3f025cb417a",
   "metadata": {},
   "outputs": [
    {
     "data": {
      "text/plain": [
       "array([ 9, 10, 11, 12])"
      ]
     },
     "execution_count": 46,
     "metadata": {},
     "output_type": "execute_result"
    }
   ],
   "source": [
    "n3.max(axis = 0)"
   ]
  },
  {
   "cell_type": "code",
   "execution_count": 47,
   "id": "cdc6661a-20b3-4ea6-8238-5d5d41af4998",
   "metadata": {},
   "outputs": [
    {
     "data": {
      "text/plain": [
       "array([ 4,  8, 12])"
      ]
     },
     "execution_count": 47,
     "metadata": {},
     "output_type": "execute_result"
    }
   ],
   "source": [
    "n3.max(axis = 1)"
   ]
  },
  {
   "cell_type": "code",
   "execution_count": 48,
   "id": "525a653e-0677-4690-a204-d35cab2a0129",
   "metadata": {},
   "outputs": [
    {
     "data": {
      "text/plain": [
       "array([[ 1,  2,  3,  4],\n",
       "       [ 6,  8, 10, 12],\n",
       "       [15, 18, 21, 24]], dtype=int32)"
      ]
     },
     "execution_count": 48,
     "metadata": {},
     "output_type": "execute_result"
    }
   ],
   "source": [
    "n3.cumsum(axis = 0)"
   ]
  },
  {
   "cell_type": "code",
   "execution_count": 49,
   "id": "fdc5c431-431d-4b5f-9e3e-ebe3c4a8c754",
   "metadata": {},
   "outputs": [
    {
     "data": {
      "text/plain": [
       "array([[ 1,  3,  6, 10],\n",
       "       [ 5, 11, 18, 26],\n",
       "       [ 9, 19, 30, 42]], dtype=int32)"
      ]
     },
     "execution_count": 49,
     "metadata": {},
     "output_type": "execute_result"
    }
   ],
   "source": [
    "n3.cumsum(axis = 1)"
   ]
  },
  {
   "cell_type": "markdown",
   "id": "5c8aa668-704d-41f0-829a-21ba1e68ba7e",
   "metadata": {},
   "source": [
    "## Stack"
   ]
  },
  {
   "cell_type": "code",
   "execution_count": 50,
   "id": "3e8e907f-d18d-4a70-b8e5-5d8a9e92b281",
   "metadata": {},
   "outputs": [
    {
     "name": "stdout",
     "output_type": "stream",
     "text": [
      "[11 12 13 14 15]\n",
      "[41 42 43 44 45]\n"
     ]
    }
   ],
   "source": [
    "v1 = np.arange(11,16)\n",
    "print(v1)\n",
    "\n",
    "v2 = v1 + 10\n",
    "v3 = v2 + 10\n",
    "v4 = v3 + 10\n",
    "print(v4)"
   ]
  },
  {
   "cell_type": "code",
   "execution_count": 52,
   "id": "225be88a-9424-4c7a-8f01-56b2ee77f61c",
   "metadata": {},
   "outputs": [
    {
     "name": "stdout",
     "output_type": "stream",
     "text": [
      "[[11 12 13 14 15]\n",
      " [21 22 23 24 25]]\n",
      "--------------------\n",
      "[[31 32 33 34 35]\n",
      " [41 42 43 44 45]]\n",
      "--------------------\n",
      "[[11 12 13 14 15]\n",
      " [21 22 23 24 25]\n",
      " [31 32 33 34 35]\n",
      " [41 42 43 44 45]]\n"
     ]
    }
   ],
   "source": [
    "vstack1 = np.vstack((v1,v2))\n",
    "print(vstack1)\n",
    "print('-' * 20)\n",
    "vstack2 = np.vstack((v3,v4))\n",
    "print(vstack2)\n",
    "print('-' * 20)\n",
    "v = np.vstack((v1,v2,v3,v4))\n",
    "print(v)"
   ]
  },
  {
   "cell_type": "code",
   "execution_count": 53,
   "id": "f3798fc5-fd48-4df5-8a99-af86141673d9",
   "metadata": {},
   "outputs": [
    {
     "name": "stdout",
     "output_type": "stream",
     "text": [
      "(5,)\n",
      "(2, 5)\n",
      "(4, 5)\n"
     ]
    }
   ],
   "source": [
    "print(v1.shape) # 1차원 (5,)\n",
    "print(vstack1.shape) # 2차원 (2,5)\n",
    "print(v.shape) # 2차원 (4,5) > 리스트 4개인데 5개 원소"
   ]
  },
  {
   "cell_type": "code",
   "execution_count": 54,
   "id": "501a4530-6c3a-4ea8-b4c8-a7bfafc27700",
   "metadata": {},
   "outputs": [
    {
     "data": {
      "text/plain": [
       "23"
      ]
     },
     "execution_count": 54,
     "metadata": {},
     "output_type": "execute_result"
    }
   ],
   "source": [
    "# 23을 선택하려면\n",
    "v[1][2]"
   ]
  },
  {
   "cell_type": "code",
   "execution_count": 55,
   "id": "5e296dc8-9f86-45dc-8000-909089bcabff",
   "metadata": {},
   "outputs": [
    {
     "data": {
      "text/plain": [
       "23"
      ]
     },
     "execution_count": 55,
     "metadata": {},
     "output_type": "execute_result"
    }
   ],
   "source": [
    "v[1,2]"
   ]
  },
  {
   "cell_type": "code",
   "execution_count": 60,
   "id": "9221eef4-f466-435f-a2fb-9004d8160466",
   "metadata": {},
   "outputs": [],
   "source": [
    "# 슬라이싱"
   ]
  },
  {
   "cell_type": "code",
   "execution_count": 57,
   "id": "26162ad4-e445-4037-bb45-44866764c468",
   "metadata": {},
   "outputs": [
    {
     "data": {
      "text/plain": [
       "array([12, 22, 32, 42])"
      ]
     },
     "execution_count": 57,
     "metadata": {},
     "output_type": "execute_result"
    }
   ],
   "source": [
    "v[:,1]"
   ]
  },
  {
   "cell_type": "code",
   "execution_count": 58,
   "id": "39578544-d85a-40ee-a14f-aa2dddfd1f73",
   "metadata": {},
   "outputs": [
    {
     "data": {
      "text/plain": [
       "array([22, 32])"
      ]
     },
     "execution_count": 58,
     "metadata": {},
     "output_type": "execute_result"
    }
   ],
   "source": [
    "v[1:3, 1]"
   ]
  },
  {
   "cell_type": "code",
   "execution_count": 59,
   "id": "6252371e-4f7a-40b1-9a1b-56b6796d8eff",
   "metadata": {},
   "outputs": [
    {
     "data": {
      "text/plain": [
       "array([21, 22, 23, 24, 25])"
      ]
     },
     "execution_count": 59,
     "metadata": {},
     "output_type": "execute_result"
    }
   ],
   "source": [
    "v[1, :]"
   ]
  },
  {
   "cell_type": "markdown",
   "id": "78115d5b-ebf3-4797-a63c-fbbbf3e1e875",
   "metadata": {},
   "source": [
    "### [실습]"
   ]
  },
  {
   "cell_type": "code",
   "execution_count": 62,
   "id": "1da8c106-b1d6-48b3-9f36-7370bb4feed6",
   "metadata": {},
   "outputs": [],
   "source": [
    "v = np.array([[11, 12, 13, 14, 15],\n",
    "              [21, 22, 23, 24, 25],\n",
    "              [31, 32, 33, 34, 35],\n",
    "              [41, 42, 43, 44, 45]])"
   ]
  },
  {
   "cell_type": "code",
   "execution_count": 63,
   "id": "6c1ed912-efce-4fc4-ab21-489e085e26f4",
   "metadata": {},
   "outputs": [
    {
     "data": {
      "text/plain": [
       "array([33, 34])"
      ]
     },
     "execution_count": 63,
     "metadata": {},
     "output_type": "execute_result"
    }
   ],
   "source": [
    "# Q1. [33,34]\n",
    "\n",
    "v[2,2:4]"
   ]
  },
  {
   "cell_type": "code",
   "execution_count": 66,
   "id": "a67a911e-b87f-40f4-8239-2bb646f69836",
   "metadata": {},
   "outputs": [
    {
     "data": {
      "text/plain": [
       "array([33, 34])"
      ]
     },
     "execution_count": 66,
     "metadata": {},
     "output_type": "execute_result"
    }
   ],
   "source": [
    "v[2,[2,3]]"
   ]
  },
  {
   "cell_type": "code",
   "execution_count": 64,
   "id": "53cc2d7f-d7e8-40d1-aeb9-c02a1d59b5b4",
   "metadata": {},
   "outputs": [
    {
     "data": {
      "text/plain": [
       "array([14, 24, 34, 44])"
      ]
     },
     "execution_count": 64,
     "metadata": {},
     "output_type": "execute_result"
    }
   ],
   "source": [
    "# Q2. [14,24, 34,44]\n",
    "v[:,3]"
   ]
  },
  {
   "cell_type": "code",
   "execution_count": 65,
   "id": "fbb5ca80-d1db-4b17-94f9-8ce68b53a3d1",
   "metadata": {},
   "outputs": [
    {
     "data": {
      "text/plain": [
       "array([[23, 24],\n",
       "       [33, 34]])"
      ]
     },
     "execution_count": 65,
     "metadata": {},
     "output_type": "execute_result"
    }
   ],
   "source": [
    "# Q3. [[23,24],\n",
    "#      [33,34]]\n",
    "v[1:3,2:4]"
   ]
  },
  {
   "cell_type": "markdown",
   "id": "d2d97587-2992-4a0b-8103-ec7f191c03d7",
   "metadata": {},
   "source": [
    "## 조건연산\n",
    "- **`매우 중요하다.`**\n",
    "- 내가 원하는 데이터를 빠르게 가져올 수 있다."
   ]
  },
  {
   "cell_type": "code",
   "execution_count": 67,
   "id": "f22e03c5-a9c0-4eed-819f-353bb0922d5e",
   "metadata": {},
   "outputs": [],
   "source": [
    "# boolean 추출"
   ]
  },
  {
   "cell_type": "code",
   "execution_count": 68,
   "id": "c417a26c-18fb-4282-a4d8-47a4bb93235a",
   "metadata": {},
   "outputs": [
    {
     "data": {
      "text/plain": [
       "array([False,  True,  True])"
      ]
     },
     "execution_count": 68,
     "metadata": {},
     "output_type": "execute_result"
    }
   ],
   "source": [
    "arr = np.array([10, 20, 30])\n",
    "arr > 10"
   ]
  },
  {
   "cell_type": "code",
   "execution_count": 69,
   "id": "fba2f2ea-7286-4479-8dcf-4954e2608b89",
   "metadata": {},
   "outputs": [
    {
     "data": {
      "text/plain": [
       "array([20, 30])"
      ]
     },
     "execution_count": 69,
     "metadata": {},
     "output_type": "execute_result"
    }
   ],
   "source": [
    "# 조건에서 True인 데이터들만 가져오기\n",
    "arr[arr > 10]"
   ]
  },
  {
   "cell_type": "code",
   "execution_count": 70,
   "id": "563818aa-ed5b-4536-8b3d-76cff8caeee6",
   "metadata": {
    "collapsed": true,
    "jupyter": {
     "outputs_hidden": true
    },
    "tags": []
   },
   "outputs": [
    {
     "ename": "ValueError",
     "evalue": "The truth value of an array with more than one element is ambiguous. Use a.any() or a.all()",
     "output_type": "error",
     "traceback": [
      "\u001b[1;31m---------------------------------------------------------------------------\u001b[0m",
      "\u001b[1;31mValueError\u001b[0m                                Traceback (most recent call last)",
      "\u001b[1;32m~\\AppData\\Local\\Temp\\ipykernel_7608\\361067997.py\u001b[0m in \u001b[0;36m<module>\u001b[1;34m\u001b[0m\n\u001b[1;32m----> 1\u001b[1;33m \u001b[0marr\u001b[0m\u001b[1;33m[\u001b[0m\u001b[0marr\u001b[0m \u001b[1;33m>\u001b[0m \u001b[1;36m10\u001b[0m \u001b[1;33m&\u001b[0m \u001b[0marr\u001b[0m \u001b[1;33m<\u001b[0m \u001b[1;36m30\u001b[0m\u001b[1;33m]\u001b[0m\u001b[1;33m\u001b[0m\u001b[1;33m\u001b[0m\u001b[0m\n\u001b[0m",
      "\u001b[1;31mValueError\u001b[0m: The truth value of an array with more than one element is ambiguous. Use a.any() or a.all()"
     ]
    }
   ],
   "source": [
    "arr[arr > 10 & arr < 30] # error > 괄호!"
   ]
  },
  {
   "cell_type": "code",
   "execution_count": 71,
   "id": "e76cbb66-fedb-4355-957d-65fd201956eb",
   "metadata": {
    "tags": []
   },
   "outputs": [
    {
     "data": {
      "text/plain": [
       "array([20])"
      ]
     },
     "execution_count": 71,
     "metadata": {},
     "output_type": "execute_result"
    }
   ],
   "source": [
    "arr[(arr > 10) & (arr < 30)]"
   ]
  },
  {
   "cell_type": "code",
   "execution_count": 72,
   "id": "923be5ad-74c6-489f-8dc1-7b0c0c132976",
   "metadata": {
    "collapsed": true,
    "jupyter": {
     "outputs_hidden": true
    },
    "tags": []
   },
   "outputs": [
    {
     "ename": "ValueError",
     "evalue": "The truth value of an array with more than one element is ambiguous. Use a.any() or a.all()",
     "output_type": "error",
     "traceback": [
      "\u001b[1;31m---------------------------------------------------------------------------\u001b[0m",
      "\u001b[1;31mValueError\u001b[0m                                Traceback (most recent call last)",
      "\u001b[1;32m~\\AppData\\Local\\Temp\\ipykernel_7608\\4124610980.py\u001b[0m in \u001b[0;36m<module>\u001b[1;34m\u001b[0m\n\u001b[1;32m----> 1\u001b[1;33m \u001b[0marr\u001b[0m\u001b[1;33m[\u001b[0m\u001b[1;33m(\u001b[0m\u001b[0marr\u001b[0m \u001b[1;33m>\u001b[0m \u001b[1;36m10\u001b[0m\u001b[1;33m)\u001b[0m \u001b[1;32mand\u001b[0m \u001b[1;33m(\u001b[0m\u001b[0marr\u001b[0m \u001b[1;33m<\u001b[0m \u001b[1;36m30\u001b[0m\u001b[1;33m)\u001b[0m\u001b[1;33m]\u001b[0m\u001b[1;33m\u001b[0m\u001b[1;33m\u001b[0m\u001b[0m\n\u001b[0m",
      "\u001b[1;31mValueError\u001b[0m: The truth value of an array with more than one element is ambiguous. Use a.any() or a.all()"
     ]
    }
   ],
   "source": [
    "arr[(arr > 10) and (arr < 30)] # error"
   ]
  },
  {
   "cell_type": "code",
   "execution_count": null,
   "id": "f43a7e7c-367d-4639-a26e-c685ec0cbea0",
   "metadata": {},
   "outputs": [],
   "source": []
  },
  {
   "cell_type": "code",
   "execution_count": 73,
   "id": "235adb65-a05c-4cad-af5f-aa7d12e0cdd2",
   "metadata": {},
   "outputs": [
    {
     "data": {
      "text/plain": [
       "array([20, 30])"
      ]
     },
     "execution_count": 73,
     "metadata": {},
     "output_type": "execute_result"
    }
   ],
   "source": [
    "condition = arr > 10\n",
    "arr[condition]"
   ]
  },
  {
   "cell_type": "code",
   "execution_count": 74,
   "id": "d38d3ddc-2c6a-498e-a503-03692370fda9",
   "metadata": {},
   "outputs": [
    {
     "data": {
      "text/plain": [
       "array([10])"
      ]
     },
     "execution_count": 74,
     "metadata": {},
     "output_type": "execute_result"
    }
   ],
   "source": [
    "# '~'은 반대\n",
    "arr[~condition]"
   ]
  },
  {
   "cell_type": "code",
   "execution_count": null,
   "id": "fa508e24-a622-4213-b4c0-276692a4da79",
   "metadata": {},
   "outputs": [],
   "source": []
  },
  {
   "cell_type": "code",
   "execution_count": 75,
   "id": "ef95c39a-8386-4fd3-b4ff-34f524cd9ed9",
   "metadata": {},
   "outputs": [
    {
     "data": {
      "text/plain": [
       "array([0, 1, 1])"
      ]
     },
     "execution_count": 75,
     "metadata": {},
     "output_type": "execute_result"
    }
   ],
   "source": [
    "# numpy의 where함수 > ex. 남녀 데이터 넣어주려면 숫자로 바꿔서 넣어줘야 함(0,1) 이때, where함수 or scikit-learn의 라벨 사용\n",
    "arr2 = np.where(arr > 10, 1, 0) # True이면 1로, False이면 0으로 바꿔라\n",
    "arr2"
   ]
  },
  {
   "cell_type": "code",
   "execution_count": 76,
   "id": "ab188206-561c-4529-b014-b261f3d4c6e7",
   "metadata": {},
   "outputs": [
    {
     "data": {
      "text/plain": [
       "array([ 0, 30, 40])"
      ]
     },
     "execution_count": 76,
     "metadata": {},
     "output_type": "execute_result"
    }
   ],
   "source": [
    "arr3 = np.where(arr > 10, arr + 10, arr - 10) # True이면 +10, False이면 -10\n",
    "arr3"
   ]
  }
 ],
 "metadata": {
  "kernelspec": {
   "display_name": "Python 3 (ipykernel)",
   "language": "python",
   "name": "python3"
  },
  "language_info": {
   "codemirror_mode": {
    "name": "ipython",
    "version": 3
   },
   "file_extension": ".py",
   "mimetype": "text/x-python",
   "name": "python",
   "nbconvert_exporter": "python",
   "pygments_lexer": "ipython3",
   "version": "3.9.13"
  }
 },
 "nbformat": 4,
 "nbformat_minor": 5
}
