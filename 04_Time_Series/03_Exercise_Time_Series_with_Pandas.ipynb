{
 "cells": [
  {
   "cell_type": "code",
   "execution_count": 3,
   "id": "8ece53de-5f2b-4c7b-a927-0dcca7ed0af8",
   "metadata": {
    "collapsed": true,
    "jupyter": {
     "outputs_hidden": true
    },
    "tags": []
   },
   "outputs": [
    {
     "name": "stdout",
     "output_type": "stream",
     "text": [
      "Requirement already satisfied: finance-datareader in c:\\users\\sbauser\\.venv\\second_day\\lib\\site-packages (0.9.50)\n",
      "Requirement already satisfied: pandas>=0.19.2 in c:\\users\\sbauser\\.venv\\second_day\\lib\\site-packages (from finance-datareader) (1.5.3)\n",
      "Requirement already satisfied: lxml in c:\\users\\sbauser\\.venv\\second_day\\lib\\site-packages (from finance-datareader) (4.9.2)\n",
      "Requirement already satisfied: requests>=2.3.0 in c:\\users\\sbauser\\.venv\\second_day\\lib\\site-packages (from finance-datareader) (2.28.2)\n",
      "Requirement already satisfied: requests-file in c:\\users\\sbauser\\.venv\\second_day\\lib\\site-packages (from finance-datareader) (1.5.1)\n",
      "Requirement already satisfied: tqdm in c:\\users\\sbauser\\.venv\\second_day\\lib\\site-packages (from finance-datareader) (4.64.1)\n",
      "Requirement already satisfied: python-dateutil>=2.8.1 in c:\\users\\sbauser\\.venv\\second_day\\lib\\site-packages (from pandas>=0.19.2->finance-datareader) (2.8.2)\n",
      "Requirement already satisfied: numpy>=1.20.3 in c:\\users\\sbauser\\.venv\\second_day\\lib\\site-packages (from pandas>=0.19.2->finance-datareader) (1.24.2)\n",
      "Requirement already satisfied: pytz>=2020.1 in c:\\users\\sbauser\\.venv\\second_day\\lib\\site-packages (from pandas>=0.19.2->finance-datareader) (2022.7.1)\n",
      "Requirement already satisfied: urllib3<1.27,>=1.21.1 in c:\\users\\sbauser\\.venv\\second_day\\lib\\site-packages (from requests>=2.3.0->finance-datareader) (1.26.14)\n",
      "Requirement already satisfied: certifi>=2017.4.17 in c:\\users\\sbauser\\.venv\\second_day\\lib\\site-packages (from requests>=2.3.0->finance-datareader) (2022.12.7)\n",
      "Requirement already satisfied: charset-normalizer<4,>=2 in c:\\users\\sbauser\\.venv\\second_day\\lib\\site-packages (from requests>=2.3.0->finance-datareader) (3.0.1)\n",
      "Requirement already satisfied: idna<4,>=2.5 in c:\\users\\sbauser\\.venv\\second_day\\lib\\site-packages (from requests>=2.3.0->finance-datareader) (3.4)\n",
      "Requirement already satisfied: six in c:\\users\\sbauser\\.venv\\second_day\\lib\\site-packages (from requests-file->finance-datareader) (1.16.0)\n",
      "Requirement already satisfied: colorama in c:\\users\\sbauser\\.venv\\second_day\\lib\\site-packages (from tqdm->finance-datareader) (0.4.6)\n"
     ]
    }
   ],
   "source": [
    "!pip install -U finance-datareader"
   ]
  },
  {
   "cell_type": "code",
   "execution_count": 4,
   "id": "e8e670db-3df9-4e27-8e9d-331dd47f6f6f",
   "metadata": {
    "tags": []
   },
   "outputs": [
    {
     "name": "stdout",
     "output_type": "stream",
     "text": [
      "Collecting matplotlib\n",
      "  Downloading matplotlib-3.6.3-cp39-cp39-win_amd64.whl (7.2 MB)\n",
      "     ---------------------------------------- 0.0/7.2 MB ? eta -:--:--\n",
      "     ----- ---------------------------------- 1.0/7.2 MB 33.4 MB/s eta 0:00:01\n",
      "     ----------------------------- ---------- 5.2/7.2 MB 55.7 MB/s eta 0:00:01\n",
      "     ---------------------------------------- 7.2/7.2 MB 57.7 MB/s eta 0:00:00\n",
      "Collecting kiwisolver>=1.0.1\n",
      "  Using cached kiwisolver-1.4.4-cp39-cp39-win_amd64.whl (55 kB)\n",
      "Requirement already satisfied: numpy>=1.19 in c:\\users\\sbauser\\.venv\\second_day\\lib\\site-packages (from matplotlib) (1.24.2)\n",
      "Collecting contourpy>=1.0.1\n",
      "  Downloading contourpy-1.0.7-cp39-cp39-win_amd64.whl (160 kB)\n",
      "     ---------------------------------------- 0.0/160.2 kB ? eta -:--:--\n",
      "     ---------------------------------------- 160.2/160.2 kB ? eta 0:00:00\n",
      "Requirement already satisfied: python-dateutil>=2.7 in c:\\users\\sbauser\\.venv\\second_day\\lib\\site-packages (from matplotlib) (2.8.2)\n",
      "Collecting pyparsing>=2.2.1\n",
      "  Using cached pyparsing-3.0.9-py3-none-any.whl (98 kB)\n",
      "Requirement already satisfied: packaging>=20.0 in c:\\users\\sbauser\\.venv\\second_day\\lib\\site-packages (from matplotlib) (23.0)\n",
      "Collecting pillow>=6.2.0\n",
      "  Downloading Pillow-9.4.0-cp39-cp39-win_amd64.whl (2.5 MB)\n",
      "     ---------------------------------------- 0.0/2.5 MB ? eta -:--:--\n",
      "     ---------------------------------------- 2.5/2.5 MB 166.0 MB/s eta 0:00:00\n",
      "Collecting fonttools>=4.22.0\n",
      "  Using cached fonttools-4.38.0-py3-none-any.whl (965 kB)\n",
      "Collecting cycler>=0.10\n",
      "  Using cached cycler-0.11.0-py3-none-any.whl (6.4 kB)\n",
      "Requirement already satisfied: six>=1.5 in c:\\users\\sbauser\\.venv\\second_day\\lib\\site-packages (from python-dateutil>=2.7->matplotlib) (1.16.0)\n",
      "Installing collected packages: pyparsing, pillow, kiwisolver, fonttools, cycler, contourpy, matplotlib\n",
      "Successfully installed contourpy-1.0.7 cycler-0.11.0 fonttools-4.38.0 kiwisolver-1.4.4 matplotlib-3.6.3 pillow-9.4.0 pyparsing-3.0.9\n"
     ]
    }
   ],
   "source": [
    "!pip install matplotlib"
   ]
  },
  {
   "cell_type": "code",
   "execution_count": 5,
   "id": "3a0a90ac-26cf-40a4-988f-493c5b8c3548",
   "metadata": {
    "tags": []
   },
   "outputs": [
    {
     "data": {
      "text/html": [
       "<div>\n",
       "<style scoped>\n",
       "    .dataframe tbody tr th:only-of-type {\n",
       "        vertical-align: middle;\n",
       "    }\n",
       "\n",
       "    .dataframe tbody tr th {\n",
       "        vertical-align: top;\n",
       "    }\n",
       "\n",
       "    .dataframe thead th {\n",
       "        text-align: right;\n",
       "    }\n",
       "</style>\n",
       "<table border=\"1\" class=\"dataframe\">\n",
       "  <thead>\n",
       "    <tr style=\"text-align: right;\">\n",
       "      <th></th>\n",
       "      <th>Open</th>\n",
       "      <th>High</th>\n",
       "      <th>Low</th>\n",
       "      <th>Close</th>\n",
       "      <th>Adj Close</th>\n",
       "      <th>Volume</th>\n",
       "    </tr>\n",
       "    <tr>\n",
       "      <th>Date</th>\n",
       "      <th></th>\n",
       "      <th></th>\n",
       "      <th></th>\n",
       "      <th></th>\n",
       "      <th></th>\n",
       "      <th></th>\n",
       "    </tr>\n",
       "  </thead>\n",
       "  <tbody>\n",
       "    <tr>\n",
       "      <th>2018-01-02</th>\n",
       "      <td>42.540001</td>\n",
       "      <td>43.075001</td>\n",
       "      <td>42.314999</td>\n",
       "      <td>43.064999</td>\n",
       "      <td>40.950500</td>\n",
       "      <td>102223600</td>\n",
       "    </tr>\n",
       "    <tr>\n",
       "      <th>2018-01-03</th>\n",
       "      <td>43.132500</td>\n",
       "      <td>43.637501</td>\n",
       "      <td>42.990002</td>\n",
       "      <td>43.057499</td>\n",
       "      <td>40.943359</td>\n",
       "      <td>118071600</td>\n",
       "    </tr>\n",
       "    <tr>\n",
       "      <th>2018-01-04</th>\n",
       "      <td>43.134998</td>\n",
       "      <td>43.367500</td>\n",
       "      <td>43.020000</td>\n",
       "      <td>43.257500</td>\n",
       "      <td>41.133533</td>\n",
       "      <td>89738400</td>\n",
       "    </tr>\n",
       "    <tr>\n",
       "      <th>2018-01-05</th>\n",
       "      <td>43.360001</td>\n",
       "      <td>43.842499</td>\n",
       "      <td>43.262501</td>\n",
       "      <td>43.750000</td>\n",
       "      <td>41.601856</td>\n",
       "      <td>94640000</td>\n",
       "    </tr>\n",
       "    <tr>\n",
       "      <th>2018-01-08</th>\n",
       "      <td>43.587502</td>\n",
       "      <td>43.902500</td>\n",
       "      <td>43.482498</td>\n",
       "      <td>43.587502</td>\n",
       "      <td>41.447350</td>\n",
       "      <td>82271200</td>\n",
       "    </tr>\n",
       "    <tr>\n",
       "      <th>2018-01-09</th>\n",
       "      <td>43.637501</td>\n",
       "      <td>43.764999</td>\n",
       "      <td>43.352501</td>\n",
       "      <td>43.582500</td>\n",
       "      <td>41.442581</td>\n",
       "      <td>86336000</td>\n",
       "    </tr>\n",
       "    <tr>\n",
       "      <th>2018-01-10</th>\n",
       "      <td>43.290001</td>\n",
       "      <td>43.575001</td>\n",
       "      <td>43.250000</td>\n",
       "      <td>43.572498</td>\n",
       "      <td>41.433075</td>\n",
       "      <td>95839600</td>\n",
       "    </tr>\n",
       "    <tr>\n",
       "      <th>2018-01-11</th>\n",
       "      <td>43.647499</td>\n",
       "      <td>43.872501</td>\n",
       "      <td>43.622501</td>\n",
       "      <td>43.820000</td>\n",
       "      <td>41.668427</td>\n",
       "      <td>74670800</td>\n",
       "    </tr>\n",
       "    <tr>\n",
       "      <th>2018-01-12</th>\n",
       "      <td>44.044998</td>\n",
       "      <td>44.340000</td>\n",
       "      <td>43.912498</td>\n",
       "      <td>44.272499</td>\n",
       "      <td>42.098709</td>\n",
       "      <td>101672400</td>\n",
       "    </tr>\n",
       "    <tr>\n",
       "      <th>2018-01-16</th>\n",
       "      <td>44.474998</td>\n",
       "      <td>44.847500</td>\n",
       "      <td>44.035000</td>\n",
       "      <td>44.047501</td>\n",
       "      <td>41.884766</td>\n",
       "      <td>118263600</td>\n",
       "    </tr>\n",
       "  </tbody>\n",
       "</table>\n",
       "</div>"
      ],
      "text/plain": [
       "                 Open       High        Low      Close  Adj Close     Volume\n",
       "Date                                                                        \n",
       "2018-01-02  42.540001  43.075001  42.314999  43.064999  40.950500  102223600\n",
       "2018-01-03  43.132500  43.637501  42.990002  43.057499  40.943359  118071600\n",
       "2018-01-04  43.134998  43.367500  43.020000  43.257500  41.133533   89738400\n",
       "2018-01-05  43.360001  43.842499  43.262501  43.750000  41.601856   94640000\n",
       "2018-01-08  43.587502  43.902500  43.482498  43.587502  41.447350   82271200\n",
       "2018-01-09  43.637501  43.764999  43.352501  43.582500  41.442581   86336000\n",
       "2018-01-10  43.290001  43.575001  43.250000  43.572498  41.433075   95839600\n",
       "2018-01-11  43.647499  43.872501  43.622501  43.820000  41.668427   74670800\n",
       "2018-01-12  44.044998  44.340000  43.912498  44.272499  42.098709  101672400\n",
       "2018-01-16  44.474998  44.847500  44.035000  44.047501  41.884766  118263600"
      ]
     },
     "execution_count": 5,
     "metadata": {},
     "output_type": "execute_result"
    }
   ],
   "source": [
    "import FinanceDataReader as fdr\n",
    "import pandas as pd\n",
    "%matplotlib inline\n",
    "df = fdr.DataReader('AAPL', '2018')\n",
    "df.head(10)"
   ]
  },
  {
   "cell_type": "code",
   "execution_count": 6,
   "id": "3dd640ad-b6d7-4dfc-a14b-860c5d410a75",
   "metadata": {
    "tags": []
   },
   "outputs": [
    {
     "data": {
      "text/html": [
       "<div>\n",
       "<style scoped>\n",
       "    .dataframe tbody tr th:only-of-type {\n",
       "        vertical-align: middle;\n",
       "    }\n",
       "\n",
       "    .dataframe tbody tr th {\n",
       "        vertical-align: top;\n",
       "    }\n",
       "\n",
       "    .dataframe thead th {\n",
       "        text-align: right;\n",
       "    }\n",
       "</style>\n",
       "<table border=\"1\" class=\"dataframe\">\n",
       "  <thead>\n",
       "    <tr style=\"text-align: right;\">\n",
       "      <th></th>\n",
       "      <th>Open</th>\n",
       "      <th>High</th>\n",
       "      <th>Low</th>\n",
       "      <th>Close</th>\n",
       "      <th>Adj Close</th>\n",
       "      <th>Volume</th>\n",
       "    </tr>\n",
       "    <tr>\n",
       "      <th>Date</th>\n",
       "      <th></th>\n",
       "      <th></th>\n",
       "      <th></th>\n",
       "      <th></th>\n",
       "      <th></th>\n",
       "      <th></th>\n",
       "    </tr>\n",
       "  </thead>\n",
       "  <tbody>\n",
       "    <tr>\n",
       "      <th>2023-02-02</th>\n",
       "      <td>148.899994</td>\n",
       "      <td>151.179993</td>\n",
       "      <td>148.169998</td>\n",
       "      <td>150.820007</td>\n",
       "      <td>150.820007</td>\n",
       "      <td>118339000</td>\n",
       "    </tr>\n",
       "    <tr>\n",
       "      <th>2023-02-03</th>\n",
       "      <td>148.029999</td>\n",
       "      <td>157.380005</td>\n",
       "      <td>147.830002</td>\n",
       "      <td>154.500000</td>\n",
       "      <td>154.500000</td>\n",
       "      <td>154279900</td>\n",
       "    </tr>\n",
       "    <tr>\n",
       "      <th>2023-02-06</th>\n",
       "      <td>152.570007</td>\n",
       "      <td>153.100006</td>\n",
       "      <td>150.779999</td>\n",
       "      <td>151.729996</td>\n",
       "      <td>151.729996</td>\n",
       "      <td>69858300</td>\n",
       "    </tr>\n",
       "    <tr>\n",
       "      <th>2023-02-07</th>\n",
       "      <td>150.639999</td>\n",
       "      <td>155.229996</td>\n",
       "      <td>150.639999</td>\n",
       "      <td>154.649994</td>\n",
       "      <td>154.649994</td>\n",
       "      <td>83322600</td>\n",
       "    </tr>\n",
       "    <tr>\n",
       "      <th>2023-02-08</th>\n",
       "      <td>153.880005</td>\n",
       "      <td>154.580002</td>\n",
       "      <td>151.169998</td>\n",
       "      <td>151.919998</td>\n",
       "      <td>151.919998</td>\n",
       "      <td>64038100</td>\n",
       "    </tr>\n",
       "  </tbody>\n",
       "</table>\n",
       "</div>"
      ],
      "text/plain": [
       "                  Open        High         Low       Close   Adj Close  \\\n",
       "Date                                                                     \n",
       "2023-02-02  148.899994  151.179993  148.169998  150.820007  150.820007   \n",
       "2023-02-03  148.029999  157.380005  147.830002  154.500000  154.500000   \n",
       "2023-02-06  152.570007  153.100006  150.779999  151.729996  151.729996   \n",
       "2023-02-07  150.639999  155.229996  150.639999  154.649994  154.649994   \n",
       "2023-02-08  153.880005  154.580002  151.169998  151.919998  151.919998   \n",
       "\n",
       "               Volume  \n",
       "Date                   \n",
       "2023-02-02  118339000  \n",
       "2023-02-03  154279900  \n",
       "2023-02-06   69858300  \n",
       "2023-02-07   83322600  \n",
       "2023-02-08   64038100  "
      ]
     },
     "execution_count": 6,
     "metadata": {},
     "output_type": "execute_result"
    }
   ],
   "source": [
    "df.tail()"
   ]
  },
  {
   "cell_type": "markdown",
   "id": "fb156e79-b738-4f82-8529-bd9743c8d540",
   "metadata": {},
   "source": [
    "## 2018년 부터 2022년 말 까지 몇 퍼센트 상승했는가?"
   ]
  },
  {
   "cell_type": "markdown",
   "id": "32fbb208-8d26-4b05-b7b1-91c883d75f8e",
   "metadata": {},
   "source": [
    "- diff: 변화량\n",
    "- pct_change: 변화율"
   ]
  },
  {
   "cell_type": "code",
   "execution_count": 17,
   "id": "d9e6b94c-a320-43bd-bc21-cb99a934e8fe",
   "metadata": {
    "tags": []
   },
   "outputs": [
    {
     "name": "stdout",
     "output_type": "stream",
     "text": [
      "43.064999 129.929993 201.7067131477235\n"
     ]
    }
   ],
   "source": [
    "start_close = df['Close'].loc['2018-01-02']\n",
    "end_close = df['Close'].loc['2022-12-30'] # 31은 값이 없음(주말인듯)\n",
    "\n",
    "rise_rate = (end_close - start_close) / start_close * 100\n",
    "print(start_close, end_close, rise_rate)"
   ]
  },
  {
   "cell_type": "markdown",
   "id": "778318ed-9a80-4ce3-b47b-2210f2cb3aaf",
   "metadata": {},
   "source": [
    "## 2022년 최저점은 언제인가?"
   ]
  },
  {
   "cell_type": "code",
   "execution_count": 18,
   "id": "5f9ea9b8-fd83-4135-9fa0-c18c87628226",
   "metadata": {
    "tags": []
   },
   "outputs": [
    {
     "data": {
      "text/plain": [
       "Date\n",
       "2022-01-03    182.009995\n",
       "2022-01-04    179.699997\n",
       "2022-01-05    174.919998\n",
       "2022-01-06    172.000000\n",
       "2022-01-07    172.169998\n",
       "                 ...    \n",
       "2022-12-23    131.860001\n",
       "2022-12-27    130.029999\n",
       "2022-12-28    126.040001\n",
       "2022-12-29    129.610001\n",
       "2022-12-30    129.929993\n",
       "Name: Close, Length: 251, dtype: float64"
      ]
     },
     "execution_count": 18,
     "metadata": {},
     "output_type": "execute_result"
    }
   ],
   "source": [
    "df['Close'].loc['2022-01-01':'2022-12-31']"
   ]
  },
  {
   "cell_type": "code",
   "execution_count": 19,
   "id": "0b06d6e6-f24e-4484-a60a-a8a10c73236c",
   "metadata": {
    "tags": []
   },
   "outputs": [
    {
     "data": {
      "text/plain": [
       "Timestamp('2022-12-28 00:00:00')"
      ]
     },
     "execution_count": 19,
     "metadata": {},
     "output_type": "execute_result"
    }
   ],
   "source": [
    "df['Close'].loc['2022-01-01':'2022-12-31'].idxmin()"
   ]
  },
  {
   "cell_type": "markdown",
   "id": "ed0c9847-e26c-4788-960b-d9fb15e6a52f",
   "metadata": {},
   "source": [
    "## 주어진 데이터의 주식 종가가 가장 높았던 날짜는 언제인가?(총 10일)"
   ]
  },
  {
   "cell_type": "code",
   "execution_count": 20,
   "id": "428535ae-a03e-4f80-a564-c8689d7ca6e5",
   "metadata": {
    "tags": []
   },
   "outputs": [
    {
     "data": {
      "text/plain": [
       "Date\n",
       "2022-01-03    182.009995\n",
       "2021-12-27    180.330002\n",
       "2022-01-04    179.699997\n",
       "2021-12-10    179.449997\n",
       "2021-12-29    179.380005\n",
       "2021-12-15    179.300003\n",
       "2021-12-28    179.289993\n",
       "2022-03-29    178.960007\n",
       "2022-04-04    178.440002\n",
       "2021-12-30    178.199997\n",
       "Name: Close, dtype: float64"
      ]
     },
     "execution_count": 20,
     "metadata": {},
     "output_type": "execute_result"
    }
   ],
   "source": [
    "df['Close'].sort_values(ascending = False).head(10)"
   ]
  },
  {
   "cell_type": "markdown",
   "id": "9c6f78d5-7a7a-4177-93d3-3ef59d3e4973",
   "metadata": {},
   "source": [
    "## 연도별 평균 주가 막대그래프로 시각화하기"
   ]
  },
  {
   "cell_type": "code",
   "execution_count": 21,
   "id": "feb41cfd-0580-4878-a7f5-6863c22eade3",
   "metadata": {
    "tags": []
   },
   "outputs": [
    {
     "data": {
      "text/plain": [
       "<AxesSubplot: xlabel='Date'>"
      ]
     },
     "execution_count": 21,
     "metadata": {},
     "output_type": "execute_result"
    },
    {
     "data": {
      "image/png": "[encoded data removed]",
      "text/plain": [
       "<Figure size 640x480 with 1 Axes>"
      ]
     },
     "metadata": {},
     "output_type": "display_data"
    }
   ],
   "source": [
    "df['Close'].resample('Y').mean().plot.bar()"
   ]
  },
  {
   "cell_type": "markdown",
   "id": "2d777318-0bea-46fb-954f-3d15cfb7e3e7",
   "metadata": {},
   "source": [
    "## 평균 주가 상승률이 가장 컸던 해는 언제입니까?"
   ]
  },
  {
   "cell_type": "code",
   "execution_count": 22,
   "id": "cf573f7b-758c-4b31-863c-723bae41fd27",
   "metadata": {
    "tags": []
   },
   "outputs": [
    {
     "data": {
      "text/plain": [
       "Date\n",
       "2018-12-31         NaN\n",
       "2019-12-31    0.101572\n",
       "2020-12-31    0.831344\n",
       "2021-12-31    0.478696\n",
       "2022-12-31    0.098204\n",
       "2023-12-31   -0.099630\n",
       "Freq: A-DEC, Name: Close, dtype: float64"
      ]
     },
     "execution_count": 22,
     "metadata": {},
     "output_type": "execute_result"
    }
   ],
   "source": [
    "df['Close'].resample('Y').mean().pct_change()"
   ]
  },
  {
   "cell_type": "code",
   "execution_count": 23,
   "id": "8be36f6c-daf0-41a0-94b4-340564ade170",
   "metadata": {
    "tags": []
   },
   "outputs": [
    {
     "data": {
      "text/plain": [
       "Date\n",
       "2020-12-31    0.831344\n",
       "2021-12-31    0.478696\n",
       "2019-12-31    0.101572\n",
       "2022-12-31    0.098204\n",
       "2023-12-31   -0.099630\n",
       "2018-12-31         NaN\n",
       "Name: Close, dtype: float64"
      ]
     },
     "execution_count": 23,
     "metadata": {},
     "output_type": "execute_result"
    }
   ],
   "source": [
    "df['Close'].resample('Y').mean().pct_change().sort_values(ascending = False)"
   ]
  },
  {
   "cell_type": "markdown",
   "id": "7a483877-9856-487a-addc-14fd6ca767e0",
   "metadata": {},
   "source": [
    "## 50일 이동평균, 200일 이동평균, 종가를 하나의 그래프에 lineplot으로 그리세요."
   ]
  },
  {
   "cell_type": "code",
   "execution_count": 24,
   "id": "bc6e5b64-5b64-435a-b930-92baddfbed74",
   "metadata": {
    "tags": []
   },
   "outputs": [
    {
     "data": {
      "text/plain": [
       "<AxesSubplot: xlabel='Date'>"
      ]
     },
     "execution_count": 24,
     "metadata": {},
     "output_type": "execute_result"
    },
    {
     "data": {
      "image/png": "[encoded data removed]",
      "text/plain": [
       "<Figure size 1600x600 with 1 Axes>"
      ]
     },
     "metadata": {},
     "output_type": "display_data"
    }
   ],
   "source": [
    "df['MA50'] = df['Close'].rolling(window = 50).mean() # MA = moving average\n",
    "df['MA200'] = df['Close'].rolling(window = 200).mean()\n",
    "df[['Close', 'MA200', 'MA50']].plot(figsize=(16,6)) # 그릴 것만 데이터프레임으로 가져와서 plot"
   ]
  },
  {
   "cell_type": "markdown",
   "id": "6143cd15-1496-4d1e-bc5b-1613ba985feb",
   "metadata": {},
   "source": [
    "## 2018년 고점을 2019년 이후 언제 최초로 돌파했는가?"
   ]
  },
  {
   "cell_type": "code",
   "execution_count": 26,
   "id": "c376454f-1aa5-47fb-b09a-9ade3eda5e3a",
   "metadata": {
    "tags": []
   },
   "outputs": [
    {
     "data": {
      "text/plain": [
       "Timestamp('2018-10-03 00:00:00')"
      ]
     },
     "execution_count": 26,
     "metadata": {},
     "output_type": "execute_result"
    }
   ],
   "source": [
    "df2018 = df.loc['2018-01-01':'2019-01-01']\n",
    "df2018['Close'].idxmax() # 언제가 고점인지"
   ]
  },
  {
   "cell_type": "code",
   "execution_count": 29,
   "id": "238ad845-c249-4e77-8f5d-b4d117c2db02",
   "metadata": {
    "tags": []
   },
   "outputs": [
    {
     "data": {
      "text/plain": [
       "58.017502"
      ]
     },
     "execution_count": 29,
     "metadata": {},
     "output_type": "execute_result"
    }
   ],
   "source": [
    "high_price_2018 = df2018['Close'].max() # 고점이 얼마인지\n",
    "high_price_2018"
   ]
  },
  {
   "cell_type": "code",
   "execution_count": 28,
   "id": "6f92687f-0835-4ce5-a6db-fa1247d1b1b1",
   "metadata": {
    "tags": []
   },
   "outputs": [
    {
     "data": {
      "text/html": [
       "<div>\n",
       "<style scoped>\n",
       "    .dataframe tbody tr th:only-of-type {\n",
       "        vertical-align: middle;\n",
       "    }\n",
       "\n",
       "    .dataframe tbody tr th {\n",
       "        vertical-align: top;\n",
       "    }\n",
       "\n",
       "    .dataframe thead th {\n",
       "        text-align: right;\n",
       "    }\n",
       "</style>\n",
       "<table border=\"1\" class=\"dataframe\">\n",
       "  <thead>\n",
       "    <tr style=\"text-align: right;\">\n",
       "      <th></th>\n",
       "      <th>Open</th>\n",
       "      <th>High</th>\n",
       "      <th>Low</th>\n",
       "      <th>Close</th>\n",
       "      <th>Adj Close</th>\n",
       "      <th>Volume</th>\n",
       "      <th>MA50</th>\n",
       "      <th>MA200</th>\n",
       "    </tr>\n",
       "    <tr>\n",
       "      <th>Date</th>\n",
       "      <th></th>\n",
       "      <th></th>\n",
       "      <th></th>\n",
       "      <th></th>\n",
       "      <th></th>\n",
       "      <th></th>\n",
       "      <th></th>\n",
       "      <th></th>\n",
       "    </tr>\n",
       "  </thead>\n",
       "  <tbody>\n",
       "    <tr>\n",
       "      <th>2019-01-02</th>\n",
       "      <td>38.722500</td>\n",
       "      <td>39.712502</td>\n",
       "      <td>38.557499</td>\n",
       "      <td>39.480000</td>\n",
       "      <td>38.105137</td>\n",
       "      <td>148158800</td>\n",
       "      <td>46.26605</td>\n",
       "      <td>48.297038</td>\n",
       "    </tr>\n",
       "    <tr>\n",
       "      <th>2019-01-03</th>\n",
       "      <td>35.994999</td>\n",
       "      <td>36.430000</td>\n",
       "      <td>35.500000</td>\n",
       "      <td>35.547501</td>\n",
       "      <td>34.309589</td>\n",
       "      <td>365248800</td>\n",
       "      <td>45.88045</td>\n",
       "      <td>48.255650</td>\n",
       "    </tr>\n",
       "    <tr>\n",
       "      <th>2019-01-04</th>\n",
       "      <td>36.132500</td>\n",
       "      <td>37.137501</td>\n",
       "      <td>35.950001</td>\n",
       "      <td>37.064999</td>\n",
       "      <td>35.774231</td>\n",
       "      <td>234428400</td>\n",
       "      <td>45.51850</td>\n",
       "      <td>48.221925</td>\n",
       "    </tr>\n",
       "    <tr>\n",
       "      <th>2019-01-07</th>\n",
       "      <td>37.174999</td>\n",
       "      <td>37.207500</td>\n",
       "      <td>36.474998</td>\n",
       "      <td>36.982498</td>\n",
       "      <td>35.694611</td>\n",
       "      <td>219111200</td>\n",
       "      <td>45.14450</td>\n",
       "      <td>48.192750</td>\n",
       "    </tr>\n",
       "    <tr>\n",
       "      <th>2019-01-08</th>\n",
       "      <td>37.389999</td>\n",
       "      <td>37.955002</td>\n",
       "      <td>37.130001</td>\n",
       "      <td>37.687500</td>\n",
       "      <td>36.375057</td>\n",
       "      <td>164101200</td>\n",
       "      <td>44.82280</td>\n",
       "      <td>48.170125</td>\n",
       "    </tr>\n",
       "  </tbody>\n",
       "</table>\n",
       "</div>"
      ],
      "text/plain": [
       "                 Open       High        Low      Close  Adj Close     Volume  \\\n",
       "Date                                                                           \n",
       "2019-01-02  38.722500  39.712502  38.557499  39.480000  38.105137  148158800   \n",
       "2019-01-03  35.994999  36.430000  35.500000  35.547501  34.309589  365248800   \n",
       "2019-01-04  36.132500  37.137501  35.950001  37.064999  35.774231  234428400   \n",
       "2019-01-07  37.174999  37.207500  36.474998  36.982498  35.694611  219111200   \n",
       "2019-01-08  37.389999  37.955002  37.130001  37.687500  36.375057  164101200   \n",
       "\n",
       "                MA50      MA200  \n",
       "Date                             \n",
       "2019-01-02  46.26605  48.297038  \n",
       "2019-01-03  45.88045  48.255650  \n",
       "2019-01-04  45.51850  48.221925  \n",
       "2019-01-07  45.14450  48.192750  \n",
       "2019-01-08  44.82280  48.170125  "
      ]
     },
     "execution_count": 28,
     "metadata": {},
     "output_type": "execute_result"
    }
   ],
   "source": [
    "after2019 = df.loc['2019-01-01':]\n",
    "after2019.head()"
   ]
  },
  {
   "cell_type": "code",
   "execution_count": 30,
   "id": "60c99e72-7827-40c1-bda1-2880435c44fb",
   "metadata": {
    "tags": []
   },
   "outputs": [
    {
     "data": {
      "text/plain": [
       "Date\n",
       "2019-01-02    False\n",
       "2019-01-03    False\n",
       "2019-01-04    False\n",
       "2019-01-07    False\n",
       "2019-01-08    False\n",
       "              ...  \n",
       "2023-02-02     True\n",
       "2023-02-03     True\n",
       "2023-02-06     True\n",
       "2023-02-07     True\n",
       "2023-02-08     True\n",
       "Name: Close, Length: 1034, dtype: bool"
      ]
     },
     "execution_count": 30,
     "metadata": {},
     "output_type": "execute_result"
    }
   ],
   "source": [
    "after2019['Close'] > high_price_2018 # 불린 추출로 가져옴"
   ]
  },
  {
   "cell_type": "code",
   "execution_count": 31,
   "id": "e7dd3e05-0552-422d-b60e-6a984dc19b88",
   "metadata": {
    "tags": []
   },
   "outputs": [
    {
     "data": {
      "text/html": [
       "<div>\n",
       "<style scoped>\n",
       "    .dataframe tbody tr th:only-of-type {\n",
       "        vertical-align: middle;\n",
       "    }\n",
       "\n",
       "    .dataframe tbody tr th {\n",
       "        vertical-align: top;\n",
       "    }\n",
       "\n",
       "    .dataframe thead th {\n",
       "        text-align: right;\n",
       "    }\n",
       "</style>\n",
       "<table border=\"1\" class=\"dataframe\">\n",
       "  <thead>\n",
       "    <tr style=\"text-align: right;\">\n",
       "      <th></th>\n",
       "      <th>Open</th>\n",
       "      <th>High</th>\n",
       "      <th>Low</th>\n",
       "      <th>Close</th>\n",
       "      <th>Adj Close</th>\n",
       "      <th>Volume</th>\n",
       "      <th>MA50</th>\n",
       "      <th>MA200</th>\n",
       "    </tr>\n",
       "    <tr>\n",
       "      <th>Date</th>\n",
       "      <th></th>\n",
       "      <th></th>\n",
       "      <th></th>\n",
       "      <th></th>\n",
       "      <th></th>\n",
       "      <th></th>\n",
       "      <th></th>\n",
       "      <th></th>\n",
       "    </tr>\n",
       "  </thead>\n",
       "  <tbody>\n",
       "    <tr>\n",
       "      <th>2019-10-11</th>\n",
       "      <td>58.237499</td>\n",
       "      <td>59.410000</td>\n",
       "      <td>58.077499</td>\n",
       "      <td>59.052502</td>\n",
       "      <td>57.679241</td>\n",
       "      <td>166795600</td>\n",
       "      <td>53.483550</td>\n",
       "      <td>48.147187</td>\n",
       "    </tr>\n",
       "    <tr>\n",
       "      <th>2019-10-14</th>\n",
       "      <td>58.724998</td>\n",
       "      <td>59.532501</td>\n",
       "      <td>58.667500</td>\n",
       "      <td>58.967499</td>\n",
       "      <td>57.596214</td>\n",
       "      <td>96427600</td>\n",
       "      <td>53.642800</td>\n",
       "      <td>48.246837</td>\n",
       "    </tr>\n",
       "    <tr>\n",
       "      <th>2019-10-15</th>\n",
       "      <td>59.097500</td>\n",
       "      <td>59.412498</td>\n",
       "      <td>58.720001</td>\n",
       "      <td>58.830002</td>\n",
       "      <td>57.461922</td>\n",
       "      <td>87360000</td>\n",
       "      <td>53.852700</td>\n",
       "      <td>48.345700</td>\n",
       "    </tr>\n",
       "    <tr>\n",
       "      <th>2019-10-16</th>\n",
       "      <td>58.342499</td>\n",
       "      <td>58.810001</td>\n",
       "      <td>58.299999</td>\n",
       "      <td>58.592499</td>\n",
       "      <td>57.229931</td>\n",
       "      <td>73903200</td>\n",
       "      <td>54.039550</td>\n",
       "      <td>48.441487</td>\n",
       "    </tr>\n",
       "    <tr>\n",
       "      <th>2019-10-17</th>\n",
       "      <td>58.772499</td>\n",
       "      <td>59.037498</td>\n",
       "      <td>58.380001</td>\n",
       "      <td>58.820000</td>\n",
       "      <td>57.452137</td>\n",
       "      <td>67585200</td>\n",
       "      <td>54.220750</td>\n",
       "      <td>48.538187</td>\n",
       "    </tr>\n",
       "    <tr>\n",
       "      <th>...</th>\n",
       "      <td>...</td>\n",
       "      <td>...</td>\n",
       "      <td>...</td>\n",
       "      <td>...</td>\n",
       "      <td>...</td>\n",
       "      <td>...</td>\n",
       "      <td>...</td>\n",
       "      <td>...</td>\n",
       "    </tr>\n",
       "    <tr>\n",
       "      <th>2023-02-02</th>\n",
       "      <td>148.899994</td>\n",
       "      <td>151.179993</td>\n",
       "      <td>148.169998</td>\n",
       "      <td>150.820007</td>\n",
       "      <td>150.820007</td>\n",
       "      <td>118339000</td>\n",
       "      <td>138.760600</td>\n",
       "      <td>147.866250</td>\n",
       "    </tr>\n",
       "    <tr>\n",
       "      <th>2023-02-03</th>\n",
       "      <td>148.029999</td>\n",
       "      <td>157.380005</td>\n",
       "      <td>147.830002</td>\n",
       "      <td>154.500000</td>\n",
       "      <td>154.500000</td>\n",
       "      <td>154279900</td>\n",
       "      <td>138.890400</td>\n",
       "      <td>147.801750</td>\n",
       "    </tr>\n",
       "    <tr>\n",
       "      <th>2023-02-06</th>\n",
       "      <td>152.570007</td>\n",
       "      <td>153.100006</td>\n",
       "      <td>150.779999</td>\n",
       "      <td>151.729996</td>\n",
       "      <td>151.729996</td>\n",
       "      <td>69858300</td>\n",
       "      <td>138.921400</td>\n",
       "      <td>147.724250</td>\n",
       "    </tr>\n",
       "    <tr>\n",
       "      <th>2023-02-07</th>\n",
       "      <td>150.639999</td>\n",
       "      <td>155.229996</td>\n",
       "      <td>150.639999</td>\n",
       "      <td>154.649994</td>\n",
       "      <td>154.649994</td>\n",
       "      <td>83322600</td>\n",
       "      <td>138.993000</td>\n",
       "      <td>147.665400</td>\n",
       "    </tr>\n",
       "    <tr>\n",
       "      <th>2023-02-08</th>\n",
       "      <td>153.880005</td>\n",
       "      <td>154.580002</td>\n",
       "      <td>151.169998</td>\n",
       "      <td>151.919998</td>\n",
       "      <td>151.919998</td>\n",
       "      <td>64038100</td>\n",
       "      <td>139.069199</td>\n",
       "      <td>147.616050</td>\n",
       "    </tr>\n",
       "  </tbody>\n",
       "</table>\n",
       "<p>836 rows × 8 columns</p>\n",
       "</div>"
      ],
      "text/plain": [
       "                  Open        High         Low       Close   Adj Close  \\\n",
       "Date                                                                     \n",
       "2019-10-11   58.237499   59.410000   58.077499   59.052502   57.679241   \n",
       "2019-10-14   58.724998   59.532501   58.667500   58.967499   57.596214   \n",
       "2019-10-15   59.097500   59.412498   58.720001   58.830002   57.461922   \n",
       "2019-10-16   58.342499   58.810001   58.299999   58.592499   57.229931   \n",
       "2019-10-17   58.772499   59.037498   58.380001   58.820000   57.452137   \n",
       "...                ...         ...         ...         ...         ...   \n",
       "2023-02-02  148.899994  151.179993  148.169998  150.820007  150.820007   \n",
       "2023-02-03  148.029999  157.380005  147.830002  154.500000  154.500000   \n",
       "2023-02-06  152.570007  153.100006  150.779999  151.729996  151.729996   \n",
       "2023-02-07  150.639999  155.229996  150.639999  154.649994  154.649994   \n",
       "2023-02-08  153.880005  154.580002  151.169998  151.919998  151.919998   \n",
       "\n",
       "               Volume        MA50       MA200  \n",
       "Date                                           \n",
       "2019-10-11  166795600   53.483550   48.147187  \n",
       "2019-10-14   96427600   53.642800   48.246837  \n",
       "2019-10-15   87360000   53.852700   48.345700  \n",
       "2019-10-16   73903200   54.039550   48.441487  \n",
       "2019-10-17   67585200   54.220750   48.538187  \n",
       "...               ...         ...         ...  \n",
       "2023-02-02  118339000  138.760600  147.866250  \n",
       "2023-02-03  154279900  138.890400  147.801750  \n",
       "2023-02-06   69858300  138.921400  147.724250  \n",
       "2023-02-07   83322600  138.993000  147.665400  \n",
       "2023-02-08   64038100  139.069199  147.616050  \n",
       "\n",
       "[836 rows x 8 columns]"
      ]
     },
     "execution_count": 31,
     "metadata": {},
     "output_type": "execute_result"
    }
   ],
   "source": [
    "after2019[after2019['Close'] > high_price_2018].sort_index()"
   ]
  }
 ],
 "metadata": {
  "kernelspec": {
   "display_name": "Python 3 (ipykernel)",
   "language": "python",
   "name": "python3"
  },
  "language_info": {
   "codemirror_mode": {
    "name": "ipython",
    "version": 3
   },
   "file_extension": ".py",
   "mimetype": "text/x-python",
   "name": "python",
   "nbconvert_exporter": "python",
   "pygments_lexer": "ipython3",
   "version": "3.9.13"
  }
 },
 "nbformat": 4,
 "nbformat_minor": 5
}
