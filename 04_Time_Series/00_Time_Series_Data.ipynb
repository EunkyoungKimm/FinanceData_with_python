{
 "cells": [
  {
   "cell_type": "markdown",
   "id": "25e9aa3d-119e-4949-a012-12f3816760c2",
   "metadata": {},
   "source": [
    "- 앞서 배운 라이브러리..pandas..데이터 분석할때 속도를 올려주기 위해서 사용하는 라이브러리\n",
    "- 시계열 데이터 > (금융)주식 등, (이커머스)시간 단위로 데이터 찍힘(언제 제일 많이 구매?) 등 여러곳에 시계열 데이터"
   ]
  },
  {
   "cell_type": "markdown",
   "id": "649cb03f-5391-4441-a1c9-a98703d3ad40",
   "metadata": {},
   "source": [
    "# Time Series Data"
   ]
  },
  {
   "cell_type": "markdown",
   "id": "3ea195e9-7afd-46aa-bfe6-a1209c038f01",
   "metadata": {},
   "source": [
    "- 시계열 데이터\n",
    "- 정상성: 평균과 분산이 일정한 것 > 금융데이터는 정상성하지 않음!\n",
    "- 우리는 정상성을 전제로 한 시계열 데이터를 다룸..?!\n",
    "- 금융데이터는 딥러닝이 제대로 학습하기 위해서 필요한 충분한 데이터는 없다. 데이터가 많지 않다.(딥러닝은 non-stationary한 것도 학습할 수 있는데 그만큼의 데이터가 없음.. 금융데이터는!)\n",
    "- 시계열을 제대로 분석하기 위한 전제조건??(stationary 4가지)\n",
    "- 자기 상관이 있다(=스스로와 관계가 있다.) \n",
    "- non-stationary --> stationary : '차분'으로 해결!(현재-과거)\n",
    "- 가장 위에 있는게 차분이 안된 데이터임 > trend..등이 좀 사라짐"
   ]
  },
  {
   "cell_type": "markdown",
   "id": "fa5fd32c-b491-47e3-8a7b-c592d894f86d",
   "metadata": {},
   "source": [
    "- regression: 예측 / classification: 분류 >> 시계열 데이터는 이걸 왜 씀?! ex. 공장에서 생산할 때.. 시계열 데이터..갑자기 이상해지면 그 상황에 맞게 후속조치를 할 수 있도록 이상치 예측 모델을 만들면 good(쇼핑, 제조, 금융에서 시계열 데이터)"
   ]
  },
  {
   "cell_type": "code",
   "execution_count": null,
   "id": "777ca5df-742a-4a17-b7de-45dfb3a0fd0b",
   "metadata": {},
   "outputs": [],
   "source": []
  },
  {
   "cell_type": "markdown",
   "id": "ebbd79a6-b497-4420-959c-5566cf972a1b",
   "metadata": {},
   "source": [
    "- time series regression, time series forecasting > 시간과 관련된거!! ex. 시간이 지날수록 키가 큰다 > time series regressionn\n",
    "- 일반적인 regressin과 time series regression의 차이 알기!\n",
    "- 평균과 분산이 일정하지 않은 데이터는 ..학습 어려움? 모델 학습 어려움?\n",
    "- 시계열에서도 예측, 분류(regression,classification)도 가능하고, 시계열 특화해서는 이벤트 감지, 이상치 탐지를 할 수 있"
   ]
  },
  {
   "cell_type": "markdown",
   "id": "38ff4e71-d4c7-4277-b95f-71b882fa5d68",
   "metadata": {},
   "source": [
    "- 시계열 데이터는 정상성을 전제로 해야 한다!"
   ]
  }
 ],
 "metadata": {
  "kernelspec": {
   "display_name": "Python 3 (ipykernel)",
   "language": "python",
   "name": "python3"
  },
  "language_info": {
   "codemirror_mode": {
    "name": "ipython",
    "version": 3
   },
   "file_extension": ".py",
   "mimetype": "text/x-python",
   "name": "python",
   "nbconvert_exporter": "python",
   "pygments_lexer": "ipython3",
   "version": "3.9.13"
  }
 },
 "nbformat": 4,
 "nbformat_minor": 5
}
